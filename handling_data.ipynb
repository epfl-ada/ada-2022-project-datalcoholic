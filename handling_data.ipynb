{
 "cells": [
  {
   "cell_type": "code",
   "execution_count": 1,
   "metadata": {},
   "outputs": [],
   "source": [
    "import tarfile\n",
    "import gzip\n",
    "import shutil\n",
    "\n",
    "import pandas as pd\n",
    "import os\n",
    "import numpy as np"
   ]
  },
  {
   "cell_type": "code",
   "execution_count": 2,
   "metadata": {},
   "outputs": [],
   "source": [
    "def ungzip_folder(FOLDER_NAME):\n",
    "    \"\"\"\n",
    "    This function allows to extract datas from gzip folder into a new accessible folder\n",
    "    - FOLDER_NAME: name of the folder to create from the gzip folder\n",
    "    The function returns nothing, it only creates the new folder\n",
    "    \"\"\"\n",
    "    FOLDER_PATH = '../Data/' + FOLDER_NAME\n",
    "    \n",
    "    #check if folder is already unzipped\n",
    "    if os.path.exists(FOLDER_PATH) == False:\n",
    "    \n",
    "        # open folder handling the tarfile type and the compression\n",
    "        folder = tarfile.open(FOLDER_PATH + '.tar.gz',\"r:gz\")\n",
    "        # extracting folder\n",
    "        folder.extractall(FOLDER_PATH)\n",
    "        # closing folder\n",
    "        folder.close()"
   ]
  },
  {
   "cell_type": "code",
   "execution_count": 3,
   "metadata": {},
   "outputs": [],
   "source": [
    "def ungzip_txt_file(FOLDER_NAME, FILE_NAME):\n",
    "    \"\"\"\n",
    "    This function allows to extract datas from gzip file into a new accessible file\n",
    "    - FOLDER_NAME: name of the folder in which the gzip file is\n",
    "    - FILE_NAME: name of the file to create from the gzip file\n",
    "    The function returns nothing, it only creates the new file\n",
    "    \"\"\"\n",
    "    FILE_PATH = '../Data/' + FOLDER_NAME + '/' + FILE_NAME\n",
    "    \n",
    "    #check if file is already unzipped\n",
    "    if os.path.exists(FILE_PATH) == False:\n",
    "    \n",
    "        # open files handling the compression\n",
    "        with gzip.open(FILE_PATH + '.gz', 'r') as f_in:\n",
    "            with open(FILE_PATH, 'wb') as f_out:\n",
    "                shutil.copyfileobj(f_in, f_out)"
   ]
  },
  {
   "cell_type": "code",
   "execution_count": 4,
   "metadata": {},
   "outputs": [],
   "source": [
    "def txt_to_dataframe(FOLDER_NAME,TXT_FILE_NAME,keys_list):\n",
    "    \"\"\"\n",
    "    This function allows to pass the txt file to a dataframe\n",
    "    - FOLDER_NAME: name of the folder in which the txt file is\n",
    "    - TXT_FILE_NAME: text file with a dictionary format\n",
    "    - keys_list: list of keys for the columns as the first line is not a header\n",
    "    The function returns a dataframe file\n",
    "    \"\"\"\n",
    "    dict_list = []\n",
    "    newDict = {key: None for key in keys_list}\n",
    "    \n",
    "    FILE_PATH = '../Data/' + FOLDER_NAME + '/' + TXT_FILE_NAME\n",
    "\n",
    "    with open(FILE_PATH, 'r', encoding=\"utf8\") as f:\n",
    "    \n",
    "        for line in f:\n",
    "            line = line.replace(u'\\xa0','')\n",
    "            listedline = line.split(':',1) # split around the \":\" sign\n",
    "        \n",
    "            # take non-empty lines\n",
    "            if len(listedline) > 1:\n",
    "                newDict[listedline[0]] = listedline[1].strip()\n",
    "        \n",
    "            # finish the dictionary for the line\n",
    "            if listedline[0] == keys_list[-1]:\n",
    "                dict_list.append(newDict)\n",
    "            \n",
    "                # reinitialize the dictionary for the next line\n",
    "                newDict = {key: None for key in keys_list}\n",
    "    \n",
    "        # transform list of dictionaries to dataframe\n",
    "        df = pd.DataFrame(dict_list,columns=keys_list)    \n",
    "    \n",
    "    return df"
   ]
  },
  {
   "cell_type": "code",
   "execution_count": 5,
   "metadata": {},
   "outputs": [],
   "source": [
    "def gunzip_folder(FOLDER_NAME):\n",
    "    \"\"\"\n",
    "    This function allows to extract datas from gzip folder into a new accessible folder\n",
    "    - FOLDER_NAME: name of the folder to create from the gzip folder\n",
    "    The function returns nothing, it only creates the new folder and delete the folder with all extracted files\n",
    "    \"\"\"\n",
    "    # define the path of the new folder\n",
    "    SOURCE = '../Data/' + FOLDER_NAME\n",
    "    DESTINATION = SOURCE + '_CSV'\n",
    "    # this is the extension you want to detect\n",
    "    extension = '.csv'\n",
    "    \n",
    "    #check if folder is already\n",
    "    #if os.path.exists(DESTINATION) == False:\n",
    "     #   os.mkdir(DESTINATION)\n",
    "        \n",
    "    # find and list all csv files path \n",
    "    all_files = os.listdir(SOURCE)    \n",
    "    csv_files = list(filter(lambda f: f.endswith(extension), all_files)) \n",
    "    \n",
    "    folder = tarfile.open(DESTINATION + \".tar.gz\", \"w:gz\")\n",
    "    for name in csv_files :\n",
    "        folder.add(SOURCE + '/' + name)\n",
    "        print('copied and compressed', SOURCE + '/' + name)\n",
    "    shutil.rmtree(SOURCE)  \n",
    "    folder.close()    "
   ]
  },
  {
   "cell_type": "code",
   "execution_count": 6,
   "metadata": {},
   "outputs": [
    {
     "name": "stdout",
     "output_type": "stream",
     "text": [
      "copied and compressed ../Data/RateBeer/beers.csv\n",
      "copied and compressed ../Data/RateBeer/breweries.csv\n",
      "copied and compressed ../Data/RateBeer/reviews.csv\n",
      "copied and compressed ../Data/RateBeer/users.csv\n",
      "copied and compressed ../Data/RateBeer/ratings.csv\n"
     ]
    }
   ],
   "source": [
    "\"\"\"\n",
    "RateBeer pre-processing\n",
    "    - Unzip the folder\n",
    "    - Unzip the txt files\n",
    "    - Convert the txt files into csv files\n",
    "    - Zip all the csv files into RateBeer_CSV.tar.gz\n",
    "\"\"\"\n",
    "\n",
    "ungzip_folder(\"RateBeer\")\n",
    "ungzip_txt_file(\"RateBeer\",\"ratings.txt\")\n",
    "ungzip_txt_file(\"RateBeer\",\"reviews.txt\")\n",
    "\n",
    "\n",
    "reviews_header = (['beer_name','beer_id','brewery_name','brewery_id','style','abv','date','user_name','user_id',\\\n",
    "                          'appearance','aroma','palate','taste','overall','rating','text'])\n",
    "ratings_header = (['beer_name','beer_id','brewery_name','brewery_id','style','abv','date','user_name','user_id',\\\n",
    "                          'appearance','aroma','palate','taste','overall','rating','text'])\n",
    "\n",
    "df_reviews_RB = txt_to_dataframe(\"RateBeer\",\"reviews.txt\", reviews_header)\n",
    "df_ratings_RB = txt_to_dataframe(\"RateBeer\",\"ratings.txt\", ratings_header)\n",
    "\n",
    "df_reviews_RB.to_csv (r'../Data/RateBeer/reviews.csv', index=None)\n",
    "df_ratings_RB.to_csv (r'../Data/RateBeer/ratings.csv', index=None)\n",
    "\n",
    "gunzip_folder('RateBeer') "
   ]
  },
  {
   "cell_type": "code",
   "execution_count": 7,
   "metadata": {},
   "outputs": [
    {
     "name": "stdout",
     "output_type": "stream",
     "text": [
      "copied and compressed ../Data/BeerAdvocate/beers.csv\n",
      "copied and compressed ../Data/BeerAdvocate/breweries.csv\n",
      "copied and compressed ../Data/BeerAdvocate/reviews.csv\n",
      "copied and compressed ../Data/BeerAdvocate/users.csv\n",
      "copied and compressed ../Data/BeerAdvocate/ratings.csv\n"
     ]
    }
   ],
   "source": [
    "\"\"\"\n",
    "BeerAdvocate pre-processing\n",
    "    - Unzip the folder\n",
    "    - Unzip the txt files\n",
    "    - Convert the txt files into csv files\n",
    "    - Zip all the csv files into BeerAdvocate_CSV.tar.gz\n",
    "\"\"\"\n",
    "\n",
    "ungzip_folder(\"BeerAdvocate\")\n",
    "ungzip_txt_file(\"BeerAdvocate\",\"ratings.txt\")\n",
    "ungzip_txt_file(\"BeerAdvocate\",\"reviews.txt\")\n",
    "\n",
    "df_reviews_BA = txt_to_dataframe(\"BeerAdvocate\",\"reviews.txt\", reviews_header)\n",
    "df_ratings_BA = txt_to_dataframe(\"BeerAdvocate\",\"ratings.txt\", ratings_header)\n",
    "\n",
    "df_reviews_BA.to_csv (r'../Data/BeerAdvocate/reviews.csv', index=None)\n",
    "df_ratings_BA.to_csv (r'../Data/BeerAdvocate/ratings.csv', index=None)\n",
    "\n",
    "gunzip_folder('BeerAdvocate') "
   ]
  },
  {
   "cell_type": "code",
   "execution_count": null,
   "metadata": {},
   "outputs": [],
   "source": []
  }
 ],
 "metadata": {
  "kernelspec": {
   "display_name": "Python 3.9.12",
   "language": "python",
   "name": "python3"
  },
  "language_info": {
   "codemirror_mode": {
    "name": "ipython",
    "version": 3
   },
   "file_extension": ".py",
   "mimetype": "text/x-python",
   "name": "python",
   "nbconvert_exporter": "python",
   "pygments_lexer": "ipython3",
   "version": "3.9.12"
  },
  "vscode": {
   "interpreter": {
    "hash": "3067ead486e059ec00ffe7555bdb889e6e264a24dc711bf108106cc7baee8d5d"
   }
  }
 },
 "nbformat": 4,
 "nbformat_minor": 4
}
