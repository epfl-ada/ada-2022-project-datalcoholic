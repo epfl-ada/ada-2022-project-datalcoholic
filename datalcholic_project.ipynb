{
 "cells": [
  {
   "attachments": {},
   "cell_type": "markdown",
   "metadata": {},
   "source": [
    "# Preparation of the analysis\n",
    "## Importing the libraries"
   ]
  },
  {
   "cell_type": "code",
   "execution_count": 15,
   "metadata": {},
   "outputs": [],
   "source": [
    "import pandas as pd\n",
    "import os\n",
    "import tarfile\n",
    "import gzip\n",
    "import datetime\n",
    "import plotly.express as px \n",
    "import plotly.graph_objects as go\n",
    "import matplotlib.pyplot as plt\n",
    "import numpy as np\n",
    "import seaborn as sns\n",
    "from sklearn.decomposition import PCA\n",
    "from sklearn.preprocessing import scale\n",
    "import statsmodels.api as sm\n",
    "from sklearn.linear_model import LinearRegression\n",
    "from sklearn.model_selection import train_test_split\n"
   ]
  },
  {
   "attachments": {},
   "cell_type": "markdown",
   "metadata": {},
   "source": [
    "## Importing the dataset\n",
    "\n",
    "We first define the path to the dataset."
   ]
  },
  {
   "cell_type": "code",
   "execution_count": 16,
   "metadata": {},
   "outputs": [],
   "source": [
    "PATH_BA = '../Data/BeerAdvocate_CSV.tar.gz'\n",
    "PATH_RB = '../Data/RateBeer_CSV.tar.gz'\n",
    "folder_BA = tarfile.open(PATH_BA)\n",
    "folder_RB = tarfile.open(PATH_RB)"
   ]
  },
  {
   "attachments": {},
   "cell_type": "markdown",
   "metadata": {},
   "source": [
    "We now import the dataset and convert the different .csv files to pandas dataframes. This is done on both BeerAdvocate and RateBeer datasets. For each dataset we obtain four dataframes: one for the reviews, one for the beers, one for the breweries and one for the users."
   ]
  },
  {
   "cell_type": "code",
   "execution_count": 17,
   "metadata": {},
   "outputs": [],
   "source": [
    "# Extracting the files for BeerAdvocate\n",
    "df_beers_BA = pd.read_csv(folder_BA.extractfile(folder_BA.getmember('../Data/BeerAdvocate/beers.csv')))\n",
    "df_users_BA = pd.read_csv(folder_BA.extractfile(folder_BA.getmember('../Data/BeerAdvocate/users.csv')))\n",
    "df_reviews_BA = pd.read_csv(folder_BA.extractfile(folder_BA.getmember('../Data/BeerAdvocate/reviews.csv')))\n",
    "df_breweries_BA = pd.read_csv(folder_BA.extractfile(folder_BA.getmember('../Data/BeerAdvocate/breweries.csv')))\n",
    "\n",
    "# Extracting the files for RateBeer\n",
    "df_beers_RB = pd.read_csv(folder_RB.extractfile(folder_RB.getmember('../Data/RateBeer/beers.csv')))\n",
    "df_users_RB = pd.read_csv(folder_RB.extractfile(folder_RB.getmember('../Data/RateBeer/users.csv')))\n",
    "df_reviews_RB = pd.read_csv(folder_RB.extractfile(folder_RB.getmember('../Data/RateBeer/reviews.csv')))\n",
    "df_breweries_RB = pd.read_csv(folder_RB.extractfile(folder_RB.getmember('../Data/RateBeer/breweries.csv')))"
   ]
  },
  {
   "attachments": {},
   "cell_type": "markdown",
   "metadata": {},
   "source": [
    "## Preprocessing the dataframes\n",
    "\n",
    "### Adding location information to the dataframes\n",
    "\n",
    "For the review dataframes of both datasets, we want to add two columns that corresponds to the country of the user and the country of the brewery. We do this by extracting the information from the user and brewery dataframes and merging them with the review dataframe. In the end, we obtain `df_RB` and `df_BA` which have the reviews of RateBeer and BeerAdvocate respectively."
   ]
  },
  {
   "cell_type": "code",
   "execution_count": 18,
   "metadata": {},
   "outputs": [],
   "source": [
    "#RateBeer\n",
    "user_nat_RB=pd.DataFrame()\n",
    "user_nat_RB['user_name']=df_users_RB['user_name']\n",
    "user_nat_RB['location_user']=df_users_RB['location']\n",
    "new_reviews_RB=pd.merge(df_reviews_RB, user_nat_RB,  how='inner', on='user_name')\n",
    "\n",
    "beers_nat_RB=pd.DataFrame()\n",
    "beers_nat_RB['beer_id']=df_breweries_RB['id']\n",
    "beers_nat_RB['beers_location']=df_breweries_RB['location']\n",
    "new_reviews_RB['beer_id']=new_reviews_RB['beer_id'].apply(lambda x: int(x))\n",
    "df_RB= pd.merge(new_reviews_RB, beers_nat_RB, how='inner', on='beer_id')\n",
    "\n",
    "#BeerAdvocate\n",
    "user_nat_BA=pd.DataFrame()\n",
    "user_nat_BA['user_name']=df_users_BA['user_name']\n",
    "user_nat_BA['location_user']=df_users_BA['location']\n",
    "new_reviews_BA=pd.merge(df_reviews_BA, user_nat_BA,  how='inner', on='user_name')\n",
    "\n",
    "beers_nat_BA=pd.DataFrame()\n",
    "beers_nat_BA['beer_id']=df_breweries_BA['id']\n",
    "beers_nat_BA['beers_location']=df_breweries_BA['location']\n",
    "new_reviews_BA['beer_id']=new_reviews_BA['beer_id'].apply(lambda x: int(x))\n",
    "df_BA = pd.merge(new_reviews_BA, beers_nat_BA, how='inner', on='beer_id')"
   ]
  },
  {
   "cell_type": "code",
   "execution_count": 19,
   "metadata": {},
   "outputs": [
    {
     "data": {
      "text/html": [
       "<div>\n",
       "<style scoped>\n",
       "    .dataframe tbody tr th:only-of-type {\n",
       "        vertical-align: middle;\n",
       "    }\n",
       "\n",
       "    .dataframe tbody tr th {\n",
       "        vertical-align: top;\n",
       "    }\n",
       "\n",
       "    .dataframe thead th {\n",
       "        text-align: right;\n",
       "    }\n",
       "</style>\n",
       "<table border=\"1\" class=\"dataframe\">\n",
       "  <thead>\n",
       "    <tr style=\"text-align: right;\">\n",
       "      <th></th>\n",
       "      <th>beer_name</th>\n",
       "      <th>beer_id</th>\n",
       "      <th>brewery_name</th>\n",
       "      <th>brewery_id</th>\n",
       "      <th>style</th>\n",
       "      <th>abv</th>\n",
       "      <th>date</th>\n",
       "      <th>user_name</th>\n",
       "      <th>user_id</th>\n",
       "      <th>appearance</th>\n",
       "      <th>aroma</th>\n",
       "      <th>palate</th>\n",
       "      <th>taste</th>\n",
       "      <th>overall</th>\n",
       "      <th>rating</th>\n",
       "      <th>text</th>\n",
       "      <th>location_user</th>\n",
       "      <th>beers_location</th>\n",
       "    </tr>\n",
       "  </thead>\n",
       "  <tbody>\n",
       "    <tr>\n",
       "      <th>0</th>\n",
       "      <td>London Porter</td>\n",
       "      <td>35868</td>\n",
       "      <td>Paddock Wood Brewing Co.</td>\n",
       "      <td>8203</td>\n",
       "      <td>English Porter</td>\n",
       "      <td>5.3</td>\n",
       "      <td>1415962800</td>\n",
       "      <td>nmann08</td>\n",
       "      <td>nmann08.184925</td>\n",
       "      <td>3.75</td>\n",
       "      <td>3.50</td>\n",
       "      <td>3.5</td>\n",
       "      <td>3.75</td>\n",
       "      <td>3.5</td>\n",
       "      <td>3.62</td>\n",
       "      <td>From a bottle, pours a cola brown color with a...</td>\n",
       "      <td>United States, Washington</td>\n",
       "      <td>United States, Nebraska</td>\n",
       "    </tr>\n",
       "    <tr>\n",
       "      <th>1</th>\n",
       "      <td>London Porter</td>\n",
       "      <td>35868</td>\n",
       "      <td>Paddock Wood Brewing Co.</td>\n",
       "      <td>8203</td>\n",
       "      <td>English Porter</td>\n",
       "      <td>5.3</td>\n",
       "      <td>1195124400</td>\n",
       "      <td>IronDjinn</td>\n",
       "      <td>irondjinn.2090</td>\n",
       "      <td>4.00</td>\n",
       "      <td>4.00</td>\n",
       "      <td>3.0</td>\n",
       "      <td>3.50</td>\n",
       "      <td>3.5</td>\n",
       "      <td>3.60</td>\n",
       "      <td>Picked this up originally in Paddock Wood's &amp;q...</td>\n",
       "      <td>Canada</td>\n",
       "      <td>United States, Nebraska</td>\n",
       "    </tr>\n",
       "    <tr>\n",
       "      <th>2</th>\n",
       "      <td>London Porter</td>\n",
       "      <td>35868</td>\n",
       "      <td>Paddock Wood Brewing Co.</td>\n",
       "      <td>8203</td>\n",
       "      <td>English Porter</td>\n",
       "      <td>5.3</td>\n",
       "      <td>1368266400</td>\n",
       "      <td>LampertLand</td>\n",
       "      <td>lampertland.635201</td>\n",
       "      <td>4.00</td>\n",
       "      <td>3.75</td>\n",
       "      <td>4.0</td>\n",
       "      <td>4.00</td>\n",
       "      <td>4.0</td>\n",
       "      <td>3.94</td>\n",
       "      <td>Paddock Wood Brewing 'London Porter' @ 5.2% , ...</td>\n",
       "      <td>Canada</td>\n",
       "      <td>United States, Nebraska</td>\n",
       "    </tr>\n",
       "    <tr>\n",
       "      <th>3</th>\n",
       "      <td>London Porter</td>\n",
       "      <td>35868</td>\n",
       "      <td>Paddock Wood Brewing Co.</td>\n",
       "      <td>8203</td>\n",
       "      <td>English Porter</td>\n",
       "      <td>5.3</td>\n",
       "      <td>1290596400</td>\n",
       "      <td>biboergosum</td>\n",
       "      <td>biboergosum.168458</td>\n",
       "      <td>3.00</td>\n",
       "      <td>3.50</td>\n",
       "      <td>4.0</td>\n",
       "      <td>4.00</td>\n",
       "      <td>3.5</td>\n",
       "      <td>3.72</td>\n",
       "      <td>This beer pours a very dark brown colour, with...</td>\n",
       "      <td>Canada</td>\n",
       "      <td>United States, Nebraska</td>\n",
       "    </tr>\n",
       "    <tr>\n",
       "      <th>4</th>\n",
       "      <td>London Porter</td>\n",
       "      <td>35868</td>\n",
       "      <td>Paddock Wood Brewing Co.</td>\n",
       "      <td>8203</td>\n",
       "      <td>English Porter</td>\n",
       "      <td>5.3</td>\n",
       "      <td>1305453600</td>\n",
       "      <td>andrenaline</td>\n",
       "      <td>andrenaline.393082</td>\n",
       "      <td>3.50</td>\n",
       "      <td>3.50</td>\n",
       "      <td>4.0</td>\n",
       "      <td>4.00</td>\n",
       "      <td>4.0</td>\n",
       "      <td>3.85</td>\n",
       "      <td>A - Pours a dark ruby red colour, finger of mo...</td>\n",
       "      <td>Canada</td>\n",
       "      <td>United States, Nebraska</td>\n",
       "    </tr>\n",
       "    <tr>\n",
       "      <th>...</th>\n",
       "      <td>...</td>\n",
       "      <td>...</td>\n",
       "      <td>...</td>\n",
       "      <td>...</td>\n",
       "      <td>...</td>\n",
       "      <td>...</td>\n",
       "      <td>...</td>\n",
       "      <td>...</td>\n",
       "      <td>...</td>\n",
       "      <td>...</td>\n",
       "      <td>...</td>\n",
       "      <td>...</td>\n",
       "      <td>...</td>\n",
       "      <td>...</td>\n",
       "      <td>...</td>\n",
       "      <td>...</td>\n",
       "      <td>...</td>\n",
       "      <td>...</td>\n",
       "    </tr>\n",
       "    <tr>\n",
       "      <th>752759</th>\n",
       "      <td>\"M\"-perial Stout</td>\n",
       "      <td>48694</td>\n",
       "      <td>Mash House Restaurant &amp; Brewery, The</td>\n",
       "      <td>1502</td>\n",
       "      <td>Russian Imperial Stout</td>\n",
       "      <td>7.5</td>\n",
       "      <td>1268478000</td>\n",
       "      <td>kcustom11</td>\n",
       "      <td>kcustom11.264828</td>\n",
       "      <td>3.00</td>\n",
       "      <td>3.50</td>\n",
       "      <td>3.0</td>\n",
       "      <td>4.00</td>\n",
       "      <td>3.0</td>\n",
       "      <td>3.52</td>\n",
       "      <td>A- dark brown like watered down coffeeS- sweet...</td>\n",
       "      <td>United States, North Carolina</td>\n",
       "      <td>Italy</td>\n",
       "    </tr>\n",
       "    <tr>\n",
       "      <th>752760</th>\n",
       "      <td>Fistful-O-Hop India Pale Ale</td>\n",
       "      <td>47760</td>\n",
       "      <td>Lawson's Finest Liquids</td>\n",
       "      <td>17980</td>\n",
       "      <td>American IPA</td>\n",
       "      <td>6.1</td>\n",
       "      <td>1333101600</td>\n",
       "      <td>Bluesquirrel</td>\n",
       "      <td>bluesquirrel.670390</td>\n",
       "      <td>4.50</td>\n",
       "      <td>5.00</td>\n",
       "      <td>4.0</td>\n",
       "      <td>4.50</td>\n",
       "      <td>4.5</td>\n",
       "      <td>4.57</td>\n",
       "      <td>My brother and I got the last 2 bottles at War...</td>\n",
       "      <td>United States, Vermont</td>\n",
       "      <td>Canada</td>\n",
       "    </tr>\n",
       "    <tr>\n",
       "      <th>752761</th>\n",
       "      <td>Joe's \"How I Got Fired\" High Octane Ale</td>\n",
       "      <td>31492</td>\n",
       "      <td>Mohegan Cafe and Brewery</td>\n",
       "      <td>1163</td>\n",
       "      <td>Scotch Ale / Wee Heavy</td>\n",
       "      <td>8.0</td>\n",
       "      <td>1432461600</td>\n",
       "      <td>adjunct</td>\n",
       "      <td>adjunct.990263</td>\n",
       "      <td>2.00</td>\n",
       "      <td>2.00</td>\n",
       "      <td>1.5</td>\n",
       "      <td>1.00</td>\n",
       "      <td>1.5</td>\n",
       "      <td>1.45</td>\n",
       "      <td>It looked like beer, and it kind of tasted lik...</td>\n",
       "      <td>NaN</td>\n",
       "      <td>United States, Connecticut</td>\n",
       "    </tr>\n",
       "    <tr>\n",
       "      <th>752762</th>\n",
       "      <td>Schwindel Alt</td>\n",
       "      <td>47170</td>\n",
       "      <td>Vertigo Brewing</td>\n",
       "      <td>18816</td>\n",
       "      <td>Altbier</td>\n",
       "      <td>5.1</td>\n",
       "      <td>1267786800</td>\n",
       "      <td>jlosel</td>\n",
       "      <td>jlosel.209653</td>\n",
       "      <td>4.50</td>\n",
       "      <td>4.50</td>\n",
       "      <td>4.5</td>\n",
       "      <td>5.00</td>\n",
       "      <td>5.0</td>\n",
       "      <td>4.80</td>\n",
       "      <td>This a wonderfully delicious brew, especially ...</td>\n",
       "      <td>United States, Oregon</td>\n",
       "      <td>United States, Washington</td>\n",
       "    </tr>\n",
       "    <tr>\n",
       "      <th>752763</th>\n",
       "      <td>Susitna Hefeweizen</td>\n",
       "      <td>29427</td>\n",
       "      <td>Snowgoose Restaurant &amp; Pub / Sleeping Lady Bre...</td>\n",
       "      <td>381</td>\n",
       "      <td>Hefeweizen</td>\n",
       "      <td>5.0</td>\n",
       "      <td>1183629600</td>\n",
       "      <td>richcap</td>\n",
       "      <td>richcap.146485</td>\n",
       "      <td>4.00</td>\n",
       "      <td>4.00</td>\n",
       "      <td>4.0</td>\n",
       "      <td>4.00</td>\n",
       "      <td>4.5</td>\n",
       "      <td>4.10</td>\n",
       "      <td>As of 07/05/07 - I believe they stopped offeri...</td>\n",
       "      <td>United States, Alaska</td>\n",
       "      <td>United States, Wisconsin</td>\n",
       "    </tr>\n",
       "  </tbody>\n",
       "</table>\n",
       "<p>752764 rows × 18 columns</p>\n",
       "</div>"
      ],
      "text/plain": [
       "                                      beer_name  beer_id  \\\n",
       "0                                 London Porter    35868   \n",
       "1                                 London Porter    35868   \n",
       "2                                 London Porter    35868   \n",
       "3                                 London Porter    35868   \n",
       "4                                 London Porter    35868   \n",
       "...                                         ...      ...   \n",
       "752759                         \"M\"-perial Stout    48694   \n",
       "752760             Fistful-O-Hop India Pale Ale    47760   \n",
       "752761  Joe's \"How I Got Fired\" High Octane Ale    31492   \n",
       "752762                            Schwindel Alt    47170   \n",
       "752763                       Susitna Hefeweizen    29427   \n",
       "\n",
       "                                             brewery_name  brewery_id  \\\n",
       "0                                Paddock Wood Brewing Co.        8203   \n",
       "1                                Paddock Wood Brewing Co.        8203   \n",
       "2                                Paddock Wood Brewing Co.        8203   \n",
       "3                                Paddock Wood Brewing Co.        8203   \n",
       "4                                Paddock Wood Brewing Co.        8203   \n",
       "...                                                   ...         ...   \n",
       "752759               Mash House Restaurant & Brewery, The        1502   \n",
       "752760                            Lawson's Finest Liquids       17980   \n",
       "752761                           Mohegan Cafe and Brewery        1163   \n",
       "752762                                    Vertigo Brewing       18816   \n",
       "752763  Snowgoose Restaurant & Pub / Sleeping Lady Bre...         381   \n",
       "\n",
       "                         style  abv        date     user_name  \\\n",
       "0               English Porter  5.3  1415962800       nmann08   \n",
       "1               English Porter  5.3  1195124400     IronDjinn   \n",
       "2               English Porter  5.3  1368266400   LampertLand   \n",
       "3               English Porter  5.3  1290596400   biboergosum   \n",
       "4               English Porter  5.3  1305453600   andrenaline   \n",
       "...                        ...  ...         ...           ...   \n",
       "752759  Russian Imperial Stout  7.5  1268478000     kcustom11   \n",
       "752760            American IPA  6.1  1333101600  Bluesquirrel   \n",
       "752761  Scotch Ale / Wee Heavy  8.0  1432461600       adjunct   \n",
       "752762                 Altbier  5.1  1267786800        jlosel   \n",
       "752763              Hefeweizen  5.0  1183629600       richcap   \n",
       "\n",
       "                    user_id  appearance  aroma  palate  taste  overall  \\\n",
       "0            nmann08.184925        3.75   3.50     3.5   3.75      3.5   \n",
       "1            irondjinn.2090        4.00   4.00     3.0   3.50      3.5   \n",
       "2        lampertland.635201        4.00   3.75     4.0   4.00      4.0   \n",
       "3        biboergosum.168458        3.00   3.50     4.0   4.00      3.5   \n",
       "4        andrenaline.393082        3.50   3.50     4.0   4.00      4.0   \n",
       "...                     ...         ...    ...     ...    ...      ...   \n",
       "752759     kcustom11.264828        3.00   3.50     3.0   4.00      3.0   \n",
       "752760  bluesquirrel.670390        4.50   5.00     4.0   4.50      4.5   \n",
       "752761       adjunct.990263        2.00   2.00     1.5   1.00      1.5   \n",
       "752762        jlosel.209653        4.50   4.50     4.5   5.00      5.0   \n",
       "752763       richcap.146485        4.00   4.00     4.0   4.00      4.5   \n",
       "\n",
       "        rating                                               text  \\\n",
       "0         3.62  From a bottle, pours a cola brown color with a...   \n",
       "1         3.60  Picked this up originally in Paddock Wood's &q...   \n",
       "2         3.94  Paddock Wood Brewing 'London Porter' @ 5.2% , ...   \n",
       "3         3.72  This beer pours a very dark brown colour, with...   \n",
       "4         3.85  A - Pours a dark ruby red colour, finger of mo...   \n",
       "...        ...                                                ...   \n",
       "752759    3.52  A- dark brown like watered down coffeeS- sweet...   \n",
       "752760    4.57  My brother and I got the last 2 bottles at War...   \n",
       "752761    1.45  It looked like beer, and it kind of tasted lik...   \n",
       "752762    4.80  This a wonderfully delicious brew, especially ...   \n",
       "752763    4.10  As of 07/05/07 - I believe they stopped offeri...   \n",
       "\n",
       "                        location_user              beers_location  \n",
       "0           United States, Washington     United States, Nebraska  \n",
       "1                              Canada     United States, Nebraska  \n",
       "2                              Canada     United States, Nebraska  \n",
       "3                              Canada     United States, Nebraska  \n",
       "4                              Canada     United States, Nebraska  \n",
       "...                               ...                         ...  \n",
       "752759  United States, North Carolina                       Italy  \n",
       "752760         United States, Vermont                      Canada  \n",
       "752761                            NaN  United States, Connecticut  \n",
       "752762          United States, Oregon   United States, Washington  \n",
       "752763          United States, Alaska    United States, Wisconsin  \n",
       "\n",
       "[752764 rows x 18 columns]"
      ]
     },
     "execution_count": 19,
     "metadata": {},
     "output_type": "execute_result"
    }
   ],
   "source": [
    "df_BA"
   ]
  },
  {
   "attachments": {},
   "cell_type": "markdown",
   "metadata": {},
   "source": [
    "#### Adding states for the US based locations"
   ]
  },
  {
   "attachments": {},
   "cell_type": "markdown",
   "metadata": {},
   "source": [
    "The geographical information contain the name of the country for users and breweries. However, for the US based locations, we also have the name of the state. We want to extract this information and add it to the dataframe. To do so we create will create an extra column for both breweries and users that will contain the US postal abbreviations for each state.\n",
    "\n",
    "We first extract the postal abbreviations for each state from wikipedia using `pd.read_html`. \n",
    "\n",
    "We then process the dataframe into one (`US_states`) containing a column for the postal abbreviations and another one for the corresponding state names. We create from `US_states` two dataframes: `US_states_user` and `US_states_beer`. \n",
    "\n",
    "We add the corresponding postal abbreviation to the user and brewery dataframes. We do this by merging the `df_BA` and `df_RB` dataframes with `US_states_user` and `US_states_beer` respectively. \n",
    "\n",
    "We then finish processing the locations by dropping the state name in the location column.\n"
   ]
  },
  {
   "cell_type": "code",
   "execution_count": 20,
   "metadata": {},
   "outputs": [],
   "source": [
    "# Creating the US_states dataframe\n",
    "US_states = pd.read_html('https://en.wikipedia.org/wiki/ISO_3166-2:US')[0] \n",
    "US_states['Subdivision name (en)'] = US_states['Subdivision name (en)'].apply(lambda x: 'United States, ' + x) \n",
    "US_states['Code'] = US_states['Code'].apply(lambda x: x[3:]) \n",
    "US_states.drop(columns=['Subdivision category'], inplace=True) \n",
    "\n",
    "# Creating the two dataframes from the US_states dataframe\n",
    "US_states_user=US_states.rename(columns={'Subdivision name (en)':'location_user', 'Code':'US_Code_User'}) \n",
    "US_states_beer=US_states.rename(columns={'Subdivision name (en)':'beers_location', 'Code':'US_Code_Beer'}) \n",
    "\n",
    "# Merging to add the postal abbreviations to the RateBeer and BeerAdvocate dataframes\n",
    "df_BA=pd.merge(US_states_beer, df_BA, how='outer', on='beers_location') \n",
    "df_BA=pd.merge(US_states_user, df_BA, how='outer', on='location_user') \n",
    "\n",
    "\n",
    "df_RB=pd.merge(US_states_beer, df_RB, how='outer', on='beers_location')\n",
    "df_RB=pd.merge(US_states_user, df_RB, how='outer', on='location_user')\n",
    "\n",
    "def keep_United_States_if_in_the_string(x): \n",
    "    if 'United States' in x: \n",
    "        return 'United States' \n",
    "    else: \n",
    "        return x \n",
    "\n",
    "# for the location and nationalities we kept only 'United States' and removed the State name after the comma for ploting.\n",
    "\n",
    "df_BA['beers_location']=df_BA['beers_location'].apply(lambda x: str(x)) \n",
    "df_BA['beers_location']=df_BA['beers_location'].apply(lambda x: keep_United_States_if_in_the_string(x)) \n",
    "df_BA['location_user']=df_BA['location_user'].apply(lambda x: str(x)) \n",
    "df_BA['location_user']=df_BA['location_user'].apply(lambda x: keep_United_States_if_in_the_string(x)) \n",
    "\n",
    "df_RB['beers_location']=df_RB['beers_location'].apply(lambda x: str(x))\n",
    "df_RB['beers_location']=df_RB['beers_location'].apply(lambda x: keep_United_States_if_in_the_string(x))\n",
    "df_RB['location_user']=df_RB['location_user'].apply(lambda x: str(x))\n",
    "df_RB['location_user']=df_RB['location_user'].apply(lambda x: keep_United_States_if_in_the_string(x))\n"
   ]
  },
  {
   "attachments": {},
   "cell_type": "markdown",
   "metadata": {},
   "source": [
    "### Exploring where users come from\n",
    "\n",
    "In order to better define our analysis, we will first explore the geographical distribution of the users. To do so, we will first create a dataframe containing the number of users per country. We will then plot the distribution of the users on a world map. We do this for both dataframes `df_BA` and `df_RB`."
   ]
  },
  {
   "cell_type": "code",
   "execution_count": 21,
   "metadata": {},
   "outputs": [
    {
     "data": {
      "application/vnd.plotly.v1+json": {
       "config": {
        "plotlyServerURL": "https://plot.ly"
       },
       "data": [
        {
         "coloraxis": "coloraxis",
         "geo": "geo",
         "hovertemplate": "location_user=%{location}<br>count_users=%{z}<extra></extra>",
         "locationmode": "country names",
         "locations": [
          "Abkhazia",
          "Afghanistan",
          "Albania",
          "Algeria",
          "American Samoa",
          "Andorra",
          "Argentina",
          "Ascension Island",
          "Australia",
          "Austria",
          "Azerbaijan",
          "Bahamas",
          "Bangladesh",
          "Barbados",
          "Belarus",
          "Belgium",
          "Belize",
          "Bermuda",
          "Bolivia",
          "Bosnia and Herzegovina",
          "Botswana",
          "Brazil",
          "Bulgaria",
          "Burkina Faso",
          "Burundi",
          "Cambodia",
          "Canada",
          "Cayman Islands",
          "Chile",
          "China",
          "Colombia",
          "Costa Rica",
          "Croatia",
          "Cyprus",
          "Czech Republic",
          "Denmark",
          "Dominican Republic",
          "East Timor",
          "Ecuador",
          "Egypt",
          "El Salvador",
          "England",
          "Estonia",
          "Faroe Islands",
          "Finland",
          "France",
          "Germany",
          "Ghana",
          "Greece",
          "Greenland",
          "Guam",
          "Guatemala",
          "Haiti",
          "Honduras",
          "Hong Kong",
          "Hungary",
          "Iceland",
          "India",
          "Indonesia",
          "Iraq",
          "Ireland",
          "Isle of Man",
          "Israel",
          "Italy",
          "Japan",
          "Jersey",
          "Jordan",
          "Kazakhstan",
          "Kenya",
          "Kosovo",
          "Laos",
          "Latvia",
          "Lebanon",
          "Liechtenstein",
          "Lithuania",
          "Luxembourg",
          "Macau",
          "Macedonia",
          "Malaysia",
          "Malta",
          "Marshall Islands",
          "Mauritius",
          "Mexico",
          "Moldova",
          "Monaco",
          "Montenegro",
          "Montserrat",
          "Mozambique",
          "Namibia",
          "Nepal",
          "Netherlands",
          "New Zealand",
          "Nicaragua",
          "Nigeria",
          "Norfolk Island",
          "North Korea",
          "Northern Ireland",
          "Norway",
          "Oman",
          "Pakistan",
          "Palestine",
          "Panama",
          "Paraguay",
          "Peru",
          "Philippines",
          "Poland",
          "Portugal",
          "Puerto Rico",
          "Romania",
          "Russia",
          "Saint Helena",
          "Saint Vincent and The Grenadines",
          "San Marino",
          "Saudi Arabia",
          "Scotland",
          "Serbia",
          "Singapore",
          "Sint Maarten",
          "Slovak Republic",
          "Slovakia",
          "Slovenia",
          "South Africa",
          "South Korea",
          "Spain",
          "Sudan",
          "Sweden",
          "Switzerland",
          "Syria",
          "Taiwan",
          "Tanzania",
          "Thailand",
          "Tibet",
          "Tunisia",
          "Turkey",
          "Uganda",
          "Ukraine",
          "United Arab Emirates",
          "United States",
          "Uruguay",
          "Uzbekistan",
          "Vanuatu",
          "Vatican City",
          "Venezuela",
          "Vietnam",
          "Virgin Islands (British)",
          "Virgin Islands (U.S.)",
          "Wales",
          "Zambia",
          "nan"
         ],
         "name": "",
         "type": "choropleth",
         "z": [
          2,
          8,
          2,
          16,
          1,
          84,
          205,
          202,
          29377,
          2407,
          2,
          4,
          6,
          1,
          978,
          25249,
          2,
          349,
          525,
          50,
          4,
          4593,
          122,
          2,
          1,
          582,
          120387,
          18,
          1271,
          437,
          138,
          17,
          7414,
          689,
          5899,
          103847,
          518,
          2,
          124,
          2,
          1446,
          80513,
          7641,
          2112,
          34911,
          8092,
          44950,
          2,
          2095,
          43,
          181,
          39,
          1,
          9,
          738,
          6538,
          1054,
          624,
          177,
          4,
          3163,
          24,
          4953,
          12815,
          4846,
          36,
          1,
          12,
          5,
          1,
          6,
          1246,
          14,
          4,
          658,
          921,
          1,
          17,
          802,
          5,
          346,
          10,
          2740,
          1315,
          2,
          8,
          4,
          569,
          12,
          6,
          45931,
          5774,
          2,
          3,
          4,
          217,
          456,
          35593,
          4,
          17,
          5,
          221,
          25,
          94,
          193,
          16078,
          2225,
          88,
          796,
          1468,
          30,
          1,
          3,
          16,
          12936,
          725,
          225,
          1,
          3769,
          25,
          2525,
          1142,
          273,
          11496,
          3,
          48720,
          7434,
          3,
          956,
          14,
          1729,
          1,
          4,
          879,
          2,
          756,
          3,
          869971,
          80,
          2,
          2,
          2,
          761,
          6,
          1,
          19,
          359,
          1,
          55871
         ]
        }
       ],
       "layout": {
        "coloraxis": {
         "colorbar": {
          "title": {
           "text": "count_users"
          }
         },
         "colorscale": [
          [
           0,
           "#0d0887"
          ],
          [
           0.1111111111111111,
           "#46039f"
          ],
          [
           0.2222222222222222,
           "#7201a8"
          ],
          [
           0.3333333333333333,
           "#9c179e"
          ],
          [
           0.4444444444444444,
           "#bd3786"
          ],
          [
           0.5555555555555556,
           "#d8576b"
          ],
          [
           0.6666666666666666,
           "#ed7953"
          ],
          [
           0.7777777777777778,
           "#fb9f3a"
          ],
          [
           0.8888888888888888,
           "#fdca26"
          ],
          [
           1,
           "#f0f921"
          ]
         ]
        },
        "geo": {
         "center": {},
         "domain": {
          "x": [
           0,
           1
          ],
          "y": [
           0,
           1
          ]
         },
         "scope": "world"
        },
        "legend": {
         "tracegroupgap": 0
        },
        "margin": {
         "t": 60
        },
        "template": {
         "data": {
          "bar": [
           {
            "error_x": {
             "color": "#2a3f5f"
            },
            "error_y": {
             "color": "#2a3f5f"
            },
            "marker": {
             "line": {
              "color": "#E5ECF6",
              "width": 0.5
             },
             "pattern": {
              "fillmode": "overlay",
              "size": 10,
              "solidity": 0.2
             }
            },
            "type": "bar"
           }
          ],
          "barpolar": [
           {
            "marker": {
             "line": {
              "color": "#E5ECF6",
              "width": 0.5
             },
             "pattern": {
              "fillmode": "overlay",
              "size": 10,
              "solidity": 0.2
             }
            },
            "type": "barpolar"
           }
          ],
          "carpet": [
           {
            "aaxis": {
             "endlinecolor": "#2a3f5f",
             "gridcolor": "white",
             "linecolor": "white",
             "minorgridcolor": "white",
             "startlinecolor": "#2a3f5f"
            },
            "baxis": {
             "endlinecolor": "#2a3f5f",
             "gridcolor": "white",
             "linecolor": "white",
             "minorgridcolor": "white",
             "startlinecolor": "#2a3f5f"
            },
            "type": "carpet"
           }
          ],
          "choropleth": [
           {
            "colorbar": {
             "outlinewidth": 0,
             "ticks": ""
            },
            "type": "choropleth"
           }
          ],
          "contour": [
           {
            "colorbar": {
             "outlinewidth": 0,
             "ticks": ""
            },
            "colorscale": [
             [
              0,
              "#0d0887"
             ],
             [
              0.1111111111111111,
              "#46039f"
             ],
             [
              0.2222222222222222,
              "#7201a8"
             ],
             [
              0.3333333333333333,
              "#9c179e"
             ],
             [
              0.4444444444444444,
              "#bd3786"
             ],
             [
              0.5555555555555556,
              "#d8576b"
             ],
             [
              0.6666666666666666,
              "#ed7953"
             ],
             [
              0.7777777777777778,
              "#fb9f3a"
             ],
             [
              0.8888888888888888,
              "#fdca26"
             ],
             [
              1,
              "#f0f921"
             ]
            ],
            "type": "contour"
           }
          ],
          "contourcarpet": [
           {
            "colorbar": {
             "outlinewidth": 0,
             "ticks": ""
            },
            "type": "contourcarpet"
           }
          ],
          "heatmap": [
           {
            "colorbar": {
             "outlinewidth": 0,
             "ticks": ""
            },
            "colorscale": [
             [
              0,
              "#0d0887"
             ],
             [
              0.1111111111111111,
              "#46039f"
             ],
             [
              0.2222222222222222,
              "#7201a8"
             ],
             [
              0.3333333333333333,
              "#9c179e"
             ],
             [
              0.4444444444444444,
              "#bd3786"
             ],
             [
              0.5555555555555556,
              "#d8576b"
             ],
             [
              0.6666666666666666,
              "#ed7953"
             ],
             [
              0.7777777777777778,
              "#fb9f3a"
             ],
             [
              0.8888888888888888,
              "#fdca26"
             ],
             [
              1,
              "#f0f921"
             ]
            ],
            "type": "heatmap"
           }
          ],
          "heatmapgl": [
           {
            "colorbar": {
             "outlinewidth": 0,
             "ticks": ""
            },
            "colorscale": [
             [
              0,
              "#0d0887"
             ],
             [
              0.1111111111111111,
              "#46039f"
             ],
             [
              0.2222222222222222,
              "#7201a8"
             ],
             [
              0.3333333333333333,
              "#9c179e"
             ],
             [
              0.4444444444444444,
              "#bd3786"
             ],
             [
              0.5555555555555556,
              "#d8576b"
             ],
             [
              0.6666666666666666,
              "#ed7953"
             ],
             [
              0.7777777777777778,
              "#fb9f3a"
             ],
             [
              0.8888888888888888,
              "#fdca26"
             ],
             [
              1,
              "#f0f921"
             ]
            ],
            "type": "heatmapgl"
           }
          ],
          "histogram": [
           {
            "marker": {
             "pattern": {
              "fillmode": "overlay",
              "size": 10,
              "solidity": 0.2
             }
            },
            "type": "histogram"
           }
          ],
          "histogram2d": [
           {
            "colorbar": {
             "outlinewidth": 0,
             "ticks": ""
            },
            "colorscale": [
             [
              0,
              "#0d0887"
             ],
             [
              0.1111111111111111,
              "#46039f"
             ],
             [
              0.2222222222222222,
              "#7201a8"
             ],
             [
              0.3333333333333333,
              "#9c179e"
             ],
             [
              0.4444444444444444,
              "#bd3786"
             ],
             [
              0.5555555555555556,
              "#d8576b"
             ],
             [
              0.6666666666666666,
              "#ed7953"
             ],
             [
              0.7777777777777778,
              "#fb9f3a"
             ],
             [
              0.8888888888888888,
              "#fdca26"
             ],
             [
              1,
              "#f0f921"
             ]
            ],
            "type": "histogram2d"
           }
          ],
          "histogram2dcontour": [
           {
            "colorbar": {
             "outlinewidth": 0,
             "ticks": ""
            },
            "colorscale": [
             [
              0,
              "#0d0887"
             ],
             [
              0.1111111111111111,
              "#46039f"
             ],
             [
              0.2222222222222222,
              "#7201a8"
             ],
             [
              0.3333333333333333,
              "#9c179e"
             ],
             [
              0.4444444444444444,
              "#bd3786"
             ],
             [
              0.5555555555555556,
              "#d8576b"
             ],
             [
              0.6666666666666666,
              "#ed7953"
             ],
             [
              0.7777777777777778,
              "#fb9f3a"
             ],
             [
              0.8888888888888888,
              "#fdca26"
             ],
             [
              1,
              "#f0f921"
             ]
            ],
            "type": "histogram2dcontour"
           }
          ],
          "mesh3d": [
           {
            "colorbar": {
             "outlinewidth": 0,
             "ticks": ""
            },
            "type": "mesh3d"
           }
          ],
          "parcoords": [
           {
            "line": {
             "colorbar": {
              "outlinewidth": 0,
              "ticks": ""
             }
            },
            "type": "parcoords"
           }
          ],
          "pie": [
           {
            "automargin": true,
            "type": "pie"
           }
          ],
          "scatter": [
           {
            "fillpattern": {
             "fillmode": "overlay",
             "size": 10,
             "solidity": 0.2
            },
            "type": "scatter"
           }
          ],
          "scatter3d": [
           {
            "line": {
             "colorbar": {
              "outlinewidth": 0,
              "ticks": ""
             }
            },
            "marker": {
             "colorbar": {
              "outlinewidth": 0,
              "ticks": ""
             }
            },
            "type": "scatter3d"
           }
          ],
          "scattercarpet": [
           {
            "marker": {
             "colorbar": {
              "outlinewidth": 0,
              "ticks": ""
             }
            },
            "type": "scattercarpet"
           }
          ],
          "scattergeo": [
           {
            "marker": {
             "colorbar": {
              "outlinewidth": 0,
              "ticks": ""
             }
            },
            "type": "scattergeo"
           }
          ],
          "scattergl": [
           {
            "marker": {
             "colorbar": {
              "outlinewidth": 0,
              "ticks": ""
             }
            },
            "type": "scattergl"
           }
          ],
          "scattermapbox": [
           {
            "marker": {
             "colorbar": {
              "outlinewidth": 0,
              "ticks": ""
             }
            },
            "type": "scattermapbox"
           }
          ],
          "scatterpolar": [
           {
            "marker": {
             "colorbar": {
              "outlinewidth": 0,
              "ticks": ""
             }
            },
            "type": "scatterpolar"
           }
          ],
          "scatterpolargl": [
           {
            "marker": {
             "colorbar": {
              "outlinewidth": 0,
              "ticks": ""
             }
            },
            "type": "scatterpolargl"
           }
          ],
          "scatterternary": [
           {
            "marker": {
             "colorbar": {
              "outlinewidth": 0,
              "ticks": ""
             }
            },
            "type": "scatterternary"
           }
          ],
          "surface": [
           {
            "colorbar": {
             "outlinewidth": 0,
             "ticks": ""
            },
            "colorscale": [
             [
              0,
              "#0d0887"
             ],
             [
              0.1111111111111111,
              "#46039f"
             ],
             [
              0.2222222222222222,
              "#7201a8"
             ],
             [
              0.3333333333333333,
              "#9c179e"
             ],
             [
              0.4444444444444444,
              "#bd3786"
             ],
             [
              0.5555555555555556,
              "#d8576b"
             ],
             [
              0.6666666666666666,
              "#ed7953"
             ],
             [
              0.7777777777777778,
              "#fb9f3a"
             ],
             [
              0.8888888888888888,
              "#fdca26"
             ],
             [
              1,
              "#f0f921"
             ]
            ],
            "type": "surface"
           }
          ],
          "table": [
           {
            "cells": {
             "fill": {
              "color": "#EBF0F8"
             },
             "line": {
              "color": "white"
             }
            },
            "header": {
             "fill": {
              "color": "#C8D4E3"
             },
             "line": {
              "color": "white"
             }
            },
            "type": "table"
           }
          ]
         },
         "layout": {
          "annotationdefaults": {
           "arrowcolor": "#2a3f5f",
           "arrowhead": 0,
           "arrowwidth": 1
          },
          "autotypenumbers": "strict",
          "coloraxis": {
           "colorbar": {
            "outlinewidth": 0,
            "ticks": ""
           }
          },
          "colorscale": {
           "diverging": [
            [
             0,
             "#8e0152"
            ],
            [
             0.1,
             "#c51b7d"
            ],
            [
             0.2,
             "#de77ae"
            ],
            [
             0.3,
             "#f1b6da"
            ],
            [
             0.4,
             "#fde0ef"
            ],
            [
             0.5,
             "#f7f7f7"
            ],
            [
             0.6,
             "#e6f5d0"
            ],
            [
             0.7,
             "#b8e186"
            ],
            [
             0.8,
             "#7fbc41"
            ],
            [
             0.9,
             "#4d9221"
            ],
            [
             1,
             "#276419"
            ]
           ],
           "sequential": [
            [
             0,
             "#0d0887"
            ],
            [
             0.1111111111111111,
             "#46039f"
            ],
            [
             0.2222222222222222,
             "#7201a8"
            ],
            [
             0.3333333333333333,
             "#9c179e"
            ],
            [
             0.4444444444444444,
             "#bd3786"
            ],
            [
             0.5555555555555556,
             "#d8576b"
            ],
            [
             0.6666666666666666,
             "#ed7953"
            ],
            [
             0.7777777777777778,
             "#fb9f3a"
            ],
            [
             0.8888888888888888,
             "#fdca26"
            ],
            [
             1,
             "#f0f921"
            ]
           ],
           "sequentialminus": [
            [
             0,
             "#0d0887"
            ],
            [
             0.1111111111111111,
             "#46039f"
            ],
            [
             0.2222222222222222,
             "#7201a8"
            ],
            [
             0.3333333333333333,
             "#9c179e"
            ],
            [
             0.4444444444444444,
             "#bd3786"
            ],
            [
             0.5555555555555556,
             "#d8576b"
            ],
            [
             0.6666666666666666,
             "#ed7953"
            ],
            [
             0.7777777777777778,
             "#fb9f3a"
            ],
            [
             0.8888888888888888,
             "#fdca26"
            ],
            [
             1,
             "#f0f921"
            ]
           ]
          },
          "colorway": [
           "#636efa",
           "#EF553B",
           "#00cc96",
           "#ab63fa",
           "#FFA15A",
           "#19d3f3",
           "#FF6692",
           "#B6E880",
           "#FF97FF",
           "#FECB52"
          ],
          "font": {
           "color": "#2a3f5f"
          },
          "geo": {
           "bgcolor": "white",
           "lakecolor": "white",
           "landcolor": "#E5ECF6",
           "showlakes": true,
           "showland": true,
           "subunitcolor": "white"
          },
          "hoverlabel": {
           "align": "left"
          },
          "hovermode": "closest",
          "mapbox": {
           "style": "light"
          },
          "paper_bgcolor": "white",
          "plot_bgcolor": "#E5ECF6",
          "polar": {
           "angularaxis": {
            "gridcolor": "white",
            "linecolor": "white",
            "ticks": ""
           },
           "bgcolor": "#E5ECF6",
           "radialaxis": {
            "gridcolor": "white",
            "linecolor": "white",
            "ticks": ""
           }
          },
          "scene": {
           "xaxis": {
            "backgroundcolor": "#E5ECF6",
            "gridcolor": "white",
            "gridwidth": 2,
            "linecolor": "white",
            "showbackground": true,
            "ticks": "",
            "zerolinecolor": "white"
           },
           "yaxis": {
            "backgroundcolor": "#E5ECF6",
            "gridcolor": "white",
            "gridwidth": 2,
            "linecolor": "white",
            "showbackground": true,
            "ticks": "",
            "zerolinecolor": "white"
           },
           "zaxis": {
            "backgroundcolor": "#E5ECF6",
            "gridcolor": "white",
            "gridwidth": 2,
            "linecolor": "white",
            "showbackground": true,
            "ticks": "",
            "zerolinecolor": "white"
           }
          },
          "shapedefaults": {
           "line": {
            "color": "#2a3f5f"
           }
          },
          "ternary": {
           "aaxis": {
            "gridcolor": "white",
            "linecolor": "white",
            "ticks": ""
           },
           "baxis": {
            "gridcolor": "white",
            "linecolor": "white",
            "ticks": ""
           },
           "bgcolor": "#E5ECF6",
           "caxis": {
            "gridcolor": "white",
            "linecolor": "white",
            "ticks": ""
           }
          },
          "title": {
           "x": 0.05
          },
          "xaxis": {
           "automargin": true,
           "gridcolor": "white",
           "linecolor": "white",
           "ticks": "",
           "title": {
            "standoff": 15
           },
           "zerolinecolor": "white",
           "zerolinewidth": 2
          },
          "yaxis": {
           "automargin": true,
           "gridcolor": "white",
           "linecolor": "white",
           "ticks": "",
           "title": {
            "standoff": 15
           },
           "zerolinecolor": "white",
           "zerolinewidth": 2
          }
         }
        },
        "title": {
         "text": "RateBeer - Number of users per country"
        }
       }
      }
     },
     "metadata": {},
     "output_type": "display_data"
    }
   ],
   "source": [
    "count_country_users_RB=df_RB.groupby('location_user').count()['user_name'].to_frame().reset_index()\n",
    "count_country_users_RB=count_country_users_RB.rename(columns={'user_name':'count_users'})\n",
    "\n",
    "fig = px.choropleth(count_country_users_RB, \n",
    "                    locations='location_user',  \n",
    "                    locationmode='country names',  \n",
    "                    scope=\"world\", \n",
    "                    color='count_users', \n",
    "                    )\n",
    "fig.update_layout(title_text='RateBeer - Number of users per country') \n",
    "fig.show()"
   ]
  },
  {
   "cell_type": "code",
   "execution_count": 22,
   "metadata": {},
   "outputs": [
    {
     "data": {
      "application/vnd.plotly.v1+json": {
       "config": {
        "plotlyServerURL": "https://plot.ly"
       },
       "data": [
        {
         "coloraxis": "coloraxis",
         "geo": "geo",
         "hovertemplate": "location_user=%{location}<br>count_users=%{z}<extra></extra>",
         "locationmode": "country names",
         "locations": [
          "Afghanistan",
          "American Samoa",
          "Andorra",
          "Angola",
          "Antarctica",
          "Aotearoa",
          "Argentina",
          "Aruba",
          "Australia",
          "Austria",
          "Bahamas",
          "Barbados",
          "Belarus",
          "Belgium",
          "Bermuda",
          "Bhutan",
          "Bolivia",
          "Bosnia and Herzegovina",
          "Bouvet Island",
          "Brazil",
          "Bulgaria",
          "Burkina Faso",
          "Cambodia",
          "Canada",
          "Chile",
          "China",
          "Colombia",
          "Costa Rica",
          "Croatia",
          "Cyprus",
          "Czech Republic",
          "Denmark",
          "Dominican Republic",
          "El Salvador",
          "England",
          "Estonia",
          "Faroe Islands",
          "Fiji Islands",
          "Finland",
          "France",
          "Germany",
          "Gibraltar",
          "Greece",
          "Guam",
          "Guatemala",
          "Guernsey",
          "Hong Kong",
          "Hungary",
          "Iceland",
          "India",
          "Ireland",
          "Isle of Man",
          "Israel",
          "Italy",
          "Japan",
          "Jersey",
          "Jordan",
          "Kenya",
          "Latvia",
          "Lebanon",
          "Lesotho",
          "Lithuania",
          "Luxembourg",
          "Macedonia",
          "Malaysia",
          "Malta",
          "Mexico",
          "Moldova",
          "Netherlands",
          "Nicaragua",
          "Nigeria",
          "Northern Ireland",
          "Northern Mariana Islands",
          "Norway",
          "Panama",
          "Papua New Guinea",
          "Peru",
          "Philippines",
          "Poland",
          "Portugal",
          "Puerto Rico",
          "Romania",
          "Russia",
          "Scotland",
          "Serbia",
          "Singapore",
          "Slovak Republic",
          "Slovenia",
          "South Africa",
          "South Georgia and South Sandwich Islands",
          "Spain",
          "Svalbard and Jan Mayen Islands",
          "Sweden",
          "Switzerland",
          "Taiwan",
          "Tajikistan",
          "Tanzania",
          "Thailand",
          "Tokelau",
          "Trinidad and Tobago",
          "Turkey",
          "Ukraine",
          "United Arab Emirates",
          "United States",
          "Uruguay",
          "Venezuela",
          "Vietnam",
          "Wales",
          "nan"
         ],
         "name": "",
         "type": "choropleth",
         "z": [
          1,
          10,
          2,
          1,
          61,
          91,
          55,
          1,
          7093,
          241,
          77,
          3,
          2,
          1269,
          1,
          4,
          13,
          7,
          2,
          356,
          7,
          17,
          27,
          34059,
          11,
          315,
          2,
          30,
          80,
          113,
          61,
          144,
          5,
          2,
          5317,
          1,
          1,
          33,
          102,
          1148,
          2607,
          1,
          86,
          2,
          2,
          1,
          130,
          39,
          25,
          84,
          330,
          13,
          44,
          841,
          984,
          33,
          76,
          1,
          2,
          21,
          257,
          9,
          15,
          7,
          8,
          2,
          1424,
          1,
          2455,
          3,
          1,
          806,
          1,
          416,
          111,
          2,
          2,
          21,
          357,
          297,
          63,
          344,
          462,
          1097,
          102,
          67,
          10,
          183,
          171,
          11,
          923,
          43,
          2408,
          501,
          62,
          42,
          6,
          401,
          3,
          11,
          24,
          44,
          89,
          656717,
          4,
          1,
          14,
          68,
          26610
         ]
        }
       ],
       "layout": {
        "coloraxis": {
         "colorbar": {
          "title": {
           "text": "count_users"
          }
         },
         "colorscale": [
          [
           0,
           "#0d0887"
          ],
          [
           0.1111111111111111,
           "#46039f"
          ],
          [
           0.2222222222222222,
           "#7201a8"
          ],
          [
           0.3333333333333333,
           "#9c179e"
          ],
          [
           0.4444444444444444,
           "#bd3786"
          ],
          [
           0.5555555555555556,
           "#d8576b"
          ],
          [
           0.6666666666666666,
           "#ed7953"
          ],
          [
           0.7777777777777778,
           "#fb9f3a"
          ],
          [
           0.8888888888888888,
           "#fdca26"
          ],
          [
           1,
           "#f0f921"
          ]
         ]
        },
        "geo": {
         "center": {},
         "domain": {
          "x": [
           0,
           1
          ],
          "y": [
           0,
           1
          ]
         },
         "scope": "world"
        },
        "legend": {
         "tracegroupgap": 0
        },
        "margin": {
         "t": 60
        },
        "template": {
         "data": {
          "bar": [
           {
            "error_x": {
             "color": "#2a3f5f"
            },
            "error_y": {
             "color": "#2a3f5f"
            },
            "marker": {
             "line": {
              "color": "#E5ECF6",
              "width": 0.5
             },
             "pattern": {
              "fillmode": "overlay",
              "size": 10,
              "solidity": 0.2
             }
            },
            "type": "bar"
           }
          ],
          "barpolar": [
           {
            "marker": {
             "line": {
              "color": "#E5ECF6",
              "width": 0.5
             },
             "pattern": {
              "fillmode": "overlay",
              "size": 10,
              "solidity": 0.2
             }
            },
            "type": "barpolar"
           }
          ],
          "carpet": [
           {
            "aaxis": {
             "endlinecolor": "#2a3f5f",
             "gridcolor": "white",
             "linecolor": "white",
             "minorgridcolor": "white",
             "startlinecolor": "#2a3f5f"
            },
            "baxis": {
             "endlinecolor": "#2a3f5f",
             "gridcolor": "white",
             "linecolor": "white",
             "minorgridcolor": "white",
             "startlinecolor": "#2a3f5f"
            },
            "type": "carpet"
           }
          ],
          "choropleth": [
           {
            "colorbar": {
             "outlinewidth": 0,
             "ticks": ""
            },
            "type": "choropleth"
           }
          ],
          "contour": [
           {
            "colorbar": {
             "outlinewidth": 0,
             "ticks": ""
            },
            "colorscale": [
             [
              0,
              "#0d0887"
             ],
             [
              0.1111111111111111,
              "#46039f"
             ],
             [
              0.2222222222222222,
              "#7201a8"
             ],
             [
              0.3333333333333333,
              "#9c179e"
             ],
             [
              0.4444444444444444,
              "#bd3786"
             ],
             [
              0.5555555555555556,
              "#d8576b"
             ],
             [
              0.6666666666666666,
              "#ed7953"
             ],
             [
              0.7777777777777778,
              "#fb9f3a"
             ],
             [
              0.8888888888888888,
              "#fdca26"
             ],
             [
              1,
              "#f0f921"
             ]
            ],
            "type": "contour"
           }
          ],
          "contourcarpet": [
           {
            "colorbar": {
             "outlinewidth": 0,
             "ticks": ""
            },
            "type": "contourcarpet"
           }
          ],
          "heatmap": [
           {
            "colorbar": {
             "outlinewidth": 0,
             "ticks": ""
            },
            "colorscale": [
             [
              0,
              "#0d0887"
             ],
             [
              0.1111111111111111,
              "#46039f"
             ],
             [
              0.2222222222222222,
              "#7201a8"
             ],
             [
              0.3333333333333333,
              "#9c179e"
             ],
             [
              0.4444444444444444,
              "#bd3786"
             ],
             [
              0.5555555555555556,
              "#d8576b"
             ],
             [
              0.6666666666666666,
              "#ed7953"
             ],
             [
              0.7777777777777778,
              "#fb9f3a"
             ],
             [
              0.8888888888888888,
              "#fdca26"
             ],
             [
              1,
              "#f0f921"
             ]
            ],
            "type": "heatmap"
           }
          ],
          "heatmapgl": [
           {
            "colorbar": {
             "outlinewidth": 0,
             "ticks": ""
            },
            "colorscale": [
             [
              0,
              "#0d0887"
             ],
             [
              0.1111111111111111,
              "#46039f"
             ],
             [
              0.2222222222222222,
              "#7201a8"
             ],
             [
              0.3333333333333333,
              "#9c179e"
             ],
             [
              0.4444444444444444,
              "#bd3786"
             ],
             [
              0.5555555555555556,
              "#d8576b"
             ],
             [
              0.6666666666666666,
              "#ed7953"
             ],
             [
              0.7777777777777778,
              "#fb9f3a"
             ],
             [
              0.8888888888888888,
              "#fdca26"
             ],
             [
              1,
              "#f0f921"
             ]
            ],
            "type": "heatmapgl"
           }
          ],
          "histogram": [
           {
            "marker": {
             "pattern": {
              "fillmode": "overlay",
              "size": 10,
              "solidity": 0.2
             }
            },
            "type": "histogram"
           }
          ],
          "histogram2d": [
           {
            "colorbar": {
             "outlinewidth": 0,
             "ticks": ""
            },
            "colorscale": [
             [
              0,
              "#0d0887"
             ],
             [
              0.1111111111111111,
              "#46039f"
             ],
             [
              0.2222222222222222,
              "#7201a8"
             ],
             [
              0.3333333333333333,
              "#9c179e"
             ],
             [
              0.4444444444444444,
              "#bd3786"
             ],
             [
              0.5555555555555556,
              "#d8576b"
             ],
             [
              0.6666666666666666,
              "#ed7953"
             ],
             [
              0.7777777777777778,
              "#fb9f3a"
             ],
             [
              0.8888888888888888,
              "#fdca26"
             ],
             [
              1,
              "#f0f921"
             ]
            ],
            "type": "histogram2d"
           }
          ],
          "histogram2dcontour": [
           {
            "colorbar": {
             "outlinewidth": 0,
             "ticks": ""
            },
            "colorscale": [
             [
              0,
              "#0d0887"
             ],
             [
              0.1111111111111111,
              "#46039f"
             ],
             [
              0.2222222222222222,
              "#7201a8"
             ],
             [
              0.3333333333333333,
              "#9c179e"
             ],
             [
              0.4444444444444444,
              "#bd3786"
             ],
             [
              0.5555555555555556,
              "#d8576b"
             ],
             [
              0.6666666666666666,
              "#ed7953"
             ],
             [
              0.7777777777777778,
              "#fb9f3a"
             ],
             [
              0.8888888888888888,
              "#fdca26"
             ],
             [
              1,
              "#f0f921"
             ]
            ],
            "type": "histogram2dcontour"
           }
          ],
          "mesh3d": [
           {
            "colorbar": {
             "outlinewidth": 0,
             "ticks": ""
            },
            "type": "mesh3d"
           }
          ],
          "parcoords": [
           {
            "line": {
             "colorbar": {
              "outlinewidth": 0,
              "ticks": ""
             }
            },
            "type": "parcoords"
           }
          ],
          "pie": [
           {
            "automargin": true,
            "type": "pie"
           }
          ],
          "scatter": [
           {
            "fillpattern": {
             "fillmode": "overlay",
             "size": 10,
             "solidity": 0.2
            },
            "type": "scatter"
           }
          ],
          "scatter3d": [
           {
            "line": {
             "colorbar": {
              "outlinewidth": 0,
              "ticks": ""
             }
            },
            "marker": {
             "colorbar": {
              "outlinewidth": 0,
              "ticks": ""
             }
            },
            "type": "scatter3d"
           }
          ],
          "scattercarpet": [
           {
            "marker": {
             "colorbar": {
              "outlinewidth": 0,
              "ticks": ""
             }
            },
            "type": "scattercarpet"
           }
          ],
          "scattergeo": [
           {
            "marker": {
             "colorbar": {
              "outlinewidth": 0,
              "ticks": ""
             }
            },
            "type": "scattergeo"
           }
          ],
          "scattergl": [
           {
            "marker": {
             "colorbar": {
              "outlinewidth": 0,
              "ticks": ""
             }
            },
            "type": "scattergl"
           }
          ],
          "scattermapbox": [
           {
            "marker": {
             "colorbar": {
              "outlinewidth": 0,
              "ticks": ""
             }
            },
            "type": "scattermapbox"
           }
          ],
          "scatterpolar": [
           {
            "marker": {
             "colorbar": {
              "outlinewidth": 0,
              "ticks": ""
             }
            },
            "type": "scatterpolar"
           }
          ],
          "scatterpolargl": [
           {
            "marker": {
             "colorbar": {
              "outlinewidth": 0,
              "ticks": ""
             }
            },
            "type": "scatterpolargl"
           }
          ],
          "scatterternary": [
           {
            "marker": {
             "colorbar": {
              "outlinewidth": 0,
              "ticks": ""
             }
            },
            "type": "scatterternary"
           }
          ],
          "surface": [
           {
            "colorbar": {
             "outlinewidth": 0,
             "ticks": ""
            },
            "colorscale": [
             [
              0,
              "#0d0887"
             ],
             [
              0.1111111111111111,
              "#46039f"
             ],
             [
              0.2222222222222222,
              "#7201a8"
             ],
             [
              0.3333333333333333,
              "#9c179e"
             ],
             [
              0.4444444444444444,
              "#bd3786"
             ],
             [
              0.5555555555555556,
              "#d8576b"
             ],
             [
              0.6666666666666666,
              "#ed7953"
             ],
             [
              0.7777777777777778,
              "#fb9f3a"
             ],
             [
              0.8888888888888888,
              "#fdca26"
             ],
             [
              1,
              "#f0f921"
             ]
            ],
            "type": "surface"
           }
          ],
          "table": [
           {
            "cells": {
             "fill": {
              "color": "#EBF0F8"
             },
             "line": {
              "color": "white"
             }
            },
            "header": {
             "fill": {
              "color": "#C8D4E3"
             },
             "line": {
              "color": "white"
             }
            },
            "type": "table"
           }
          ]
         },
         "layout": {
          "annotationdefaults": {
           "arrowcolor": "#2a3f5f",
           "arrowhead": 0,
           "arrowwidth": 1
          },
          "autotypenumbers": "strict",
          "coloraxis": {
           "colorbar": {
            "outlinewidth": 0,
            "ticks": ""
           }
          },
          "colorscale": {
           "diverging": [
            [
             0,
             "#8e0152"
            ],
            [
             0.1,
             "#c51b7d"
            ],
            [
             0.2,
             "#de77ae"
            ],
            [
             0.3,
             "#f1b6da"
            ],
            [
             0.4,
             "#fde0ef"
            ],
            [
             0.5,
             "#f7f7f7"
            ],
            [
             0.6,
             "#e6f5d0"
            ],
            [
             0.7,
             "#b8e186"
            ],
            [
             0.8,
             "#7fbc41"
            ],
            [
             0.9,
             "#4d9221"
            ],
            [
             1,
             "#276419"
            ]
           ],
           "sequential": [
            [
             0,
             "#0d0887"
            ],
            [
             0.1111111111111111,
             "#46039f"
            ],
            [
             0.2222222222222222,
             "#7201a8"
            ],
            [
             0.3333333333333333,
             "#9c179e"
            ],
            [
             0.4444444444444444,
             "#bd3786"
            ],
            [
             0.5555555555555556,
             "#d8576b"
            ],
            [
             0.6666666666666666,
             "#ed7953"
            ],
            [
             0.7777777777777778,
             "#fb9f3a"
            ],
            [
             0.8888888888888888,
             "#fdca26"
            ],
            [
             1,
             "#f0f921"
            ]
           ],
           "sequentialminus": [
            [
             0,
             "#0d0887"
            ],
            [
             0.1111111111111111,
             "#46039f"
            ],
            [
             0.2222222222222222,
             "#7201a8"
            ],
            [
             0.3333333333333333,
             "#9c179e"
            ],
            [
             0.4444444444444444,
             "#bd3786"
            ],
            [
             0.5555555555555556,
             "#d8576b"
            ],
            [
             0.6666666666666666,
             "#ed7953"
            ],
            [
             0.7777777777777778,
             "#fb9f3a"
            ],
            [
             0.8888888888888888,
             "#fdca26"
            ],
            [
             1,
             "#f0f921"
            ]
           ]
          },
          "colorway": [
           "#636efa",
           "#EF553B",
           "#00cc96",
           "#ab63fa",
           "#FFA15A",
           "#19d3f3",
           "#FF6692",
           "#B6E880",
           "#FF97FF",
           "#FECB52"
          ],
          "font": {
           "color": "#2a3f5f"
          },
          "geo": {
           "bgcolor": "white",
           "lakecolor": "white",
           "landcolor": "#E5ECF6",
           "showlakes": true,
           "showland": true,
           "subunitcolor": "white"
          },
          "hoverlabel": {
           "align": "left"
          },
          "hovermode": "closest",
          "mapbox": {
           "style": "light"
          },
          "paper_bgcolor": "white",
          "plot_bgcolor": "#E5ECF6",
          "polar": {
           "angularaxis": {
            "gridcolor": "white",
            "linecolor": "white",
            "ticks": ""
           },
           "bgcolor": "#E5ECF6",
           "radialaxis": {
            "gridcolor": "white",
            "linecolor": "white",
            "ticks": ""
           }
          },
          "scene": {
           "xaxis": {
            "backgroundcolor": "#E5ECF6",
            "gridcolor": "white",
            "gridwidth": 2,
            "linecolor": "white",
            "showbackground": true,
            "ticks": "",
            "zerolinecolor": "white"
           },
           "yaxis": {
            "backgroundcolor": "#E5ECF6",
            "gridcolor": "white",
            "gridwidth": 2,
            "linecolor": "white",
            "showbackground": true,
            "ticks": "",
            "zerolinecolor": "white"
           },
           "zaxis": {
            "backgroundcolor": "#E5ECF6",
            "gridcolor": "white",
            "gridwidth": 2,
            "linecolor": "white",
            "showbackground": true,
            "ticks": "",
            "zerolinecolor": "white"
           }
          },
          "shapedefaults": {
           "line": {
            "color": "#2a3f5f"
           }
          },
          "ternary": {
           "aaxis": {
            "gridcolor": "white",
            "linecolor": "white",
            "ticks": ""
           },
           "baxis": {
            "gridcolor": "white",
            "linecolor": "white",
            "ticks": ""
           },
           "bgcolor": "#E5ECF6",
           "caxis": {
            "gridcolor": "white",
            "linecolor": "white",
            "ticks": ""
           }
          },
          "title": {
           "x": 0.05
          },
          "xaxis": {
           "automargin": true,
           "gridcolor": "white",
           "linecolor": "white",
           "ticks": "",
           "title": {
            "standoff": 15
           },
           "zerolinecolor": "white",
           "zerolinewidth": 2
          },
          "yaxis": {
           "automargin": true,
           "gridcolor": "white",
           "linecolor": "white",
           "ticks": "",
           "title": {
            "standoff": 15
           },
           "zerolinecolor": "white",
           "zerolinewidth": 2
          }
         }
        },
        "title": {
         "text": "BeerAdvocate - Number of users per country"
        }
       }
      }
     },
     "metadata": {},
     "output_type": "display_data"
    }
   ],
   "source": [
    "count_country_users_BA=df_BA.groupby('location_user').count()['user_name'].to_frame().reset_index()\n",
    "count_country_users_BA=count_country_users_BA.rename(columns={'user_name':'count_users'})\n",
    "\n",
    "fig = px.choropleth(count_country_users_BA, \n",
    "                    locations='location_user',  \n",
    "                    locationmode='country names',  \n",
    "                    scope=\"world\", \n",
    "                    color='count_users',  \n",
    "                    )\n",
    "fig.update_layout(title_text='BeerAdvocate - Number of users per country') \n",
    "fig.show()"
   ]
  },
  {
   "attachments": {},
   "cell_type": "markdown",
   "metadata": {},
   "source": [
    "### Focus on the US\n",
    "\n",
    "We want to focus on the US for our analysis. We therefore create two new dataframes `BA_US` and `RB_US` that contain only the reviews of the US based users."
   ]
  },
  {
   "cell_type": "code",
   "execution_count": 23,
   "metadata": {},
   "outputs": [],
   "source": [
    "RB_US = df_RB[df_RB['location_user'] == 'United States']\n",
    "BA_US = df_BA[df_BA['location_user'] == 'United States']"
   ]
  },
  {
   "attachments": {},
   "cell_type": "markdown",
   "metadata": {},
   "source": [
    "Let's quickly check if some states have very few reviews."
   ]
  },
  {
   "cell_type": "code",
   "execution_count": 24,
   "metadata": {},
   "outputs": [
    {
     "data": {
      "text/plain": [
       "HI    831\n",
       "SD    787\n",
       "WY    736\n",
       "DC      1\n",
       "AS      1\n",
       "GU      1\n",
       "MP      1\n",
       "PR      1\n",
       "UM      1\n",
       "VI      1\n",
       "Name: US_Code_User, dtype: int64"
      ]
     },
     "execution_count": 24,
     "metadata": {},
     "output_type": "execute_result"
    }
   ],
   "source": [
    "RB_US['US_Code_User'].value_counts()[RB_US['US_Code_User'].value_counts() < 1000]"
   ]
  },
  {
   "cell_type": "code",
   "execution_count": 25,
   "metadata": {},
   "outputs": [
    {
     "data": {
      "text/plain": [
       "MT    896\n",
       "UT    570\n",
       "ND    456\n",
       "SD    261\n",
       "DC      1\n",
       "AS      1\n",
       "GU      1\n",
       "MP      1\n",
       "PR      1\n",
       "UM      1\n",
       "VI      1\n",
       "Name: US_Code_User, dtype: int64"
      ]
     },
     "execution_count": 25,
     "metadata": {},
     "output_type": "execute_result"
    }
   ],
   "source": [
    "BA_US['US_Code_User'].value_counts()[BA_US['US_Code_User'].value_counts() < 1000]"
   ]
  },
  {
   "attachments": {},
   "cell_type": "markdown",
   "metadata": {},
   "source": [
    "As we can see the US territories have 1 review each. We will therefore remove them from the dataframe since they will not be useful for our analysis."
   ]
  },
  {
   "cell_type": "code",
   "execution_count": 26,
   "metadata": {},
   "outputs": [],
   "source": [
    "RB_US = RB_US[~RB_US['US_Code_User'].isin(['DC', 'AS', 'GU', 'MP', 'PR', 'VI', 'UM'])]\n",
    "BA_US = BA_US[~BA_US['US_Code_User'].isin(['DC', 'AS', 'GU', 'MP', 'PR', 'VI', 'UM'])]"
   ]
  },
  {
   "attachments": {},
   "cell_type": "markdown",
   "metadata": {},
   "source": [
    "Let's now explore the distribution of the users in the US. We will plot the distribution of the users on a map of the US."
   ]
  },
  {
   "cell_type": "code",
   "execution_count": 27,
   "metadata": {},
   "outputs": [
    {
     "data": {
      "application/vnd.plotly.v1+json": {
       "config": {
        "plotlyServerURL": "https://plot.ly"
       },
       "data": [
        {
         "coloraxis": "coloraxis",
         "geo": "geo",
         "hovertemplate": "US_Code_User=%{location}<br>count_users=%{z}<extra></extra>",
         "locationmode": "USA-states",
         "locations": [
          "AK",
          "AL",
          "AR",
          "AZ",
          "CA",
          "CO",
          "CT",
          "DE",
          "FL",
          "GA",
          "HI",
          "IA",
          "ID",
          "IL",
          "IN",
          "KS",
          "KY",
          "LA",
          "MA",
          "MD",
          "ME",
          "MI",
          "MN",
          "MO",
          "MS",
          "MT",
          "NC",
          "ND",
          "NE",
          "NH",
          "NJ",
          "NM",
          "NV",
          "NY",
          "OH",
          "OK",
          "OR",
          "PA",
          "RI",
          "SC",
          "SD",
          "TN",
          "TX",
          "UT",
          "VA",
          "VT",
          "WA",
          "WI",
          "WV",
          "WY"
         ],
         "name": "",
         "type": "choropleth",
         "z": [
          2779,
          8668,
          2228,
          18416,
          86476,
          26009,
          8803,
          4050,
          42987,
          23031,
          831,
          11023,
          8840,
          47356,
          22506,
          6966,
          7163,
          3347,
          15515,
          22247,
          2975,
          24860,
          29867,
          15645,
          2050,
          2003,
          22352,
          1032,
          5030,
          8575,
          35894,
          2240,
          6660,
          40498,
          40399,
          4317,
          17167,
          65264,
          1515,
          4477,
          787,
          16070,
          43264,
          2651,
          29467,
          3442,
          40033,
          29601,
          1859,
          736
         ]
        }
       ],
       "layout": {
        "coloraxis": {
         "colorbar": {
          "title": {
           "text": "count_users"
          }
         },
         "colorscale": [
          [
           0,
           "#0d0887"
          ],
          [
           0.1111111111111111,
           "#46039f"
          ],
          [
           0.2222222222222222,
           "#7201a8"
          ],
          [
           0.3333333333333333,
           "#9c179e"
          ],
          [
           0.4444444444444444,
           "#bd3786"
          ],
          [
           0.5555555555555556,
           "#d8576b"
          ],
          [
           0.6666666666666666,
           "#ed7953"
          ],
          [
           0.7777777777777778,
           "#fb9f3a"
          ],
          [
           0.8888888888888888,
           "#fdca26"
          ],
          [
           1,
           "#f0f921"
          ]
         ]
        },
        "geo": {
         "center": {},
         "domain": {
          "x": [
           0,
           1
          ],
          "y": [
           0,
           1
          ]
         },
         "scope": "usa"
        },
        "legend": {
         "tracegroupgap": 0
        },
        "margin": {
         "t": 60
        },
        "template": {
         "data": {
          "bar": [
           {
            "error_x": {
             "color": "#2a3f5f"
            },
            "error_y": {
             "color": "#2a3f5f"
            },
            "marker": {
             "line": {
              "color": "#E5ECF6",
              "width": 0.5
             },
             "pattern": {
              "fillmode": "overlay",
              "size": 10,
              "solidity": 0.2
             }
            },
            "type": "bar"
           }
          ],
          "barpolar": [
           {
            "marker": {
             "line": {
              "color": "#E5ECF6",
              "width": 0.5
             },
             "pattern": {
              "fillmode": "overlay",
              "size": 10,
              "solidity": 0.2
             }
            },
            "type": "barpolar"
           }
          ],
          "carpet": [
           {
            "aaxis": {
             "endlinecolor": "#2a3f5f",
             "gridcolor": "white",
             "linecolor": "white",
             "minorgridcolor": "white",
             "startlinecolor": "#2a3f5f"
            },
            "baxis": {
             "endlinecolor": "#2a3f5f",
             "gridcolor": "white",
             "linecolor": "white",
             "minorgridcolor": "white",
             "startlinecolor": "#2a3f5f"
            },
            "type": "carpet"
           }
          ],
          "choropleth": [
           {
            "colorbar": {
             "outlinewidth": 0,
             "ticks": ""
            },
            "type": "choropleth"
           }
          ],
          "contour": [
           {
            "colorbar": {
             "outlinewidth": 0,
             "ticks": ""
            },
            "colorscale": [
             [
              0,
              "#0d0887"
             ],
             [
              0.1111111111111111,
              "#46039f"
             ],
             [
              0.2222222222222222,
              "#7201a8"
             ],
             [
              0.3333333333333333,
              "#9c179e"
             ],
             [
              0.4444444444444444,
              "#bd3786"
             ],
             [
              0.5555555555555556,
              "#d8576b"
             ],
             [
              0.6666666666666666,
              "#ed7953"
             ],
             [
              0.7777777777777778,
              "#fb9f3a"
             ],
             [
              0.8888888888888888,
              "#fdca26"
             ],
             [
              1,
              "#f0f921"
             ]
            ],
            "type": "contour"
           }
          ],
          "contourcarpet": [
           {
            "colorbar": {
             "outlinewidth": 0,
             "ticks": ""
            },
            "type": "contourcarpet"
           }
          ],
          "heatmap": [
           {
            "colorbar": {
             "outlinewidth": 0,
             "ticks": ""
            },
            "colorscale": [
             [
              0,
              "#0d0887"
             ],
             [
              0.1111111111111111,
              "#46039f"
             ],
             [
              0.2222222222222222,
              "#7201a8"
             ],
             [
              0.3333333333333333,
              "#9c179e"
             ],
             [
              0.4444444444444444,
              "#bd3786"
             ],
             [
              0.5555555555555556,
              "#d8576b"
             ],
             [
              0.6666666666666666,
              "#ed7953"
             ],
             [
              0.7777777777777778,
              "#fb9f3a"
             ],
             [
              0.8888888888888888,
              "#fdca26"
             ],
             [
              1,
              "#f0f921"
             ]
            ],
            "type": "heatmap"
           }
          ],
          "heatmapgl": [
           {
            "colorbar": {
             "outlinewidth": 0,
             "ticks": ""
            },
            "colorscale": [
             [
              0,
              "#0d0887"
             ],
             [
              0.1111111111111111,
              "#46039f"
             ],
             [
              0.2222222222222222,
              "#7201a8"
             ],
             [
              0.3333333333333333,
              "#9c179e"
             ],
             [
              0.4444444444444444,
              "#bd3786"
             ],
             [
              0.5555555555555556,
              "#d8576b"
             ],
             [
              0.6666666666666666,
              "#ed7953"
             ],
             [
              0.7777777777777778,
              "#fb9f3a"
             ],
             [
              0.8888888888888888,
              "#fdca26"
             ],
             [
              1,
              "#f0f921"
             ]
            ],
            "type": "heatmapgl"
           }
          ],
          "histogram": [
           {
            "marker": {
             "pattern": {
              "fillmode": "overlay",
              "size": 10,
              "solidity": 0.2
             }
            },
            "type": "histogram"
           }
          ],
          "histogram2d": [
           {
            "colorbar": {
             "outlinewidth": 0,
             "ticks": ""
            },
            "colorscale": [
             [
              0,
              "#0d0887"
             ],
             [
              0.1111111111111111,
              "#46039f"
             ],
             [
              0.2222222222222222,
              "#7201a8"
             ],
             [
              0.3333333333333333,
              "#9c179e"
             ],
             [
              0.4444444444444444,
              "#bd3786"
             ],
             [
              0.5555555555555556,
              "#d8576b"
             ],
             [
              0.6666666666666666,
              "#ed7953"
             ],
             [
              0.7777777777777778,
              "#fb9f3a"
             ],
             [
              0.8888888888888888,
              "#fdca26"
             ],
             [
              1,
              "#f0f921"
             ]
            ],
            "type": "histogram2d"
           }
          ],
          "histogram2dcontour": [
           {
            "colorbar": {
             "outlinewidth": 0,
             "ticks": ""
            },
            "colorscale": [
             [
              0,
              "#0d0887"
             ],
             [
              0.1111111111111111,
              "#46039f"
             ],
             [
              0.2222222222222222,
              "#7201a8"
             ],
             [
              0.3333333333333333,
              "#9c179e"
             ],
             [
              0.4444444444444444,
              "#bd3786"
             ],
             [
              0.5555555555555556,
              "#d8576b"
             ],
             [
              0.6666666666666666,
              "#ed7953"
             ],
             [
              0.7777777777777778,
              "#fb9f3a"
             ],
             [
              0.8888888888888888,
              "#fdca26"
             ],
             [
              1,
              "#f0f921"
             ]
            ],
            "type": "histogram2dcontour"
           }
          ],
          "mesh3d": [
           {
            "colorbar": {
             "outlinewidth": 0,
             "ticks": ""
            },
            "type": "mesh3d"
           }
          ],
          "parcoords": [
           {
            "line": {
             "colorbar": {
              "outlinewidth": 0,
              "ticks": ""
             }
            },
            "type": "parcoords"
           }
          ],
          "pie": [
           {
            "automargin": true,
            "type": "pie"
           }
          ],
          "scatter": [
           {
            "fillpattern": {
             "fillmode": "overlay",
             "size": 10,
             "solidity": 0.2
            },
            "type": "scatter"
           }
          ],
          "scatter3d": [
           {
            "line": {
             "colorbar": {
              "outlinewidth": 0,
              "ticks": ""
             }
            },
            "marker": {
             "colorbar": {
              "outlinewidth": 0,
              "ticks": ""
             }
            },
            "type": "scatter3d"
           }
          ],
          "scattercarpet": [
           {
            "marker": {
             "colorbar": {
              "outlinewidth": 0,
              "ticks": ""
             }
            },
            "type": "scattercarpet"
           }
          ],
          "scattergeo": [
           {
            "marker": {
             "colorbar": {
              "outlinewidth": 0,
              "ticks": ""
             }
            },
            "type": "scattergeo"
           }
          ],
          "scattergl": [
           {
            "marker": {
             "colorbar": {
              "outlinewidth": 0,
              "ticks": ""
             }
            },
            "type": "scattergl"
           }
          ],
          "scattermapbox": [
           {
            "marker": {
             "colorbar": {
              "outlinewidth": 0,
              "ticks": ""
             }
            },
            "type": "scattermapbox"
           }
          ],
          "scatterpolar": [
           {
            "marker": {
             "colorbar": {
              "outlinewidth": 0,
              "ticks": ""
             }
            },
            "type": "scatterpolar"
           }
          ],
          "scatterpolargl": [
           {
            "marker": {
             "colorbar": {
              "outlinewidth": 0,
              "ticks": ""
             }
            },
            "type": "scatterpolargl"
           }
          ],
          "scatterternary": [
           {
            "marker": {
             "colorbar": {
              "outlinewidth": 0,
              "ticks": ""
             }
            },
            "type": "scatterternary"
           }
          ],
          "surface": [
           {
            "colorbar": {
             "outlinewidth": 0,
             "ticks": ""
            },
            "colorscale": [
             [
              0,
              "#0d0887"
             ],
             [
              0.1111111111111111,
              "#46039f"
             ],
             [
              0.2222222222222222,
              "#7201a8"
             ],
             [
              0.3333333333333333,
              "#9c179e"
             ],
             [
              0.4444444444444444,
              "#bd3786"
             ],
             [
              0.5555555555555556,
              "#d8576b"
             ],
             [
              0.6666666666666666,
              "#ed7953"
             ],
             [
              0.7777777777777778,
              "#fb9f3a"
             ],
             [
              0.8888888888888888,
              "#fdca26"
             ],
             [
              1,
              "#f0f921"
             ]
            ],
            "type": "surface"
           }
          ],
          "table": [
           {
            "cells": {
             "fill": {
              "color": "#EBF0F8"
             },
             "line": {
              "color": "white"
             }
            },
            "header": {
             "fill": {
              "color": "#C8D4E3"
             },
             "line": {
              "color": "white"
             }
            },
            "type": "table"
           }
          ]
         },
         "layout": {
          "annotationdefaults": {
           "arrowcolor": "#2a3f5f",
           "arrowhead": 0,
           "arrowwidth": 1
          },
          "autotypenumbers": "strict",
          "coloraxis": {
           "colorbar": {
            "outlinewidth": 0,
            "ticks": ""
           }
          },
          "colorscale": {
           "diverging": [
            [
             0,
             "#8e0152"
            ],
            [
             0.1,
             "#c51b7d"
            ],
            [
             0.2,
             "#de77ae"
            ],
            [
             0.3,
             "#f1b6da"
            ],
            [
             0.4,
             "#fde0ef"
            ],
            [
             0.5,
             "#f7f7f7"
            ],
            [
             0.6,
             "#e6f5d0"
            ],
            [
             0.7,
             "#b8e186"
            ],
            [
             0.8,
             "#7fbc41"
            ],
            [
             0.9,
             "#4d9221"
            ],
            [
             1,
             "#276419"
            ]
           ],
           "sequential": [
            [
             0,
             "#0d0887"
            ],
            [
             0.1111111111111111,
             "#46039f"
            ],
            [
             0.2222222222222222,
             "#7201a8"
            ],
            [
             0.3333333333333333,
             "#9c179e"
            ],
            [
             0.4444444444444444,
             "#bd3786"
            ],
            [
             0.5555555555555556,
             "#d8576b"
            ],
            [
             0.6666666666666666,
             "#ed7953"
            ],
            [
             0.7777777777777778,
             "#fb9f3a"
            ],
            [
             0.8888888888888888,
             "#fdca26"
            ],
            [
             1,
             "#f0f921"
            ]
           ],
           "sequentialminus": [
            [
             0,
             "#0d0887"
            ],
            [
             0.1111111111111111,
             "#46039f"
            ],
            [
             0.2222222222222222,
             "#7201a8"
            ],
            [
             0.3333333333333333,
             "#9c179e"
            ],
            [
             0.4444444444444444,
             "#bd3786"
            ],
            [
             0.5555555555555556,
             "#d8576b"
            ],
            [
             0.6666666666666666,
             "#ed7953"
            ],
            [
             0.7777777777777778,
             "#fb9f3a"
            ],
            [
             0.8888888888888888,
             "#fdca26"
            ],
            [
             1,
             "#f0f921"
            ]
           ]
          },
          "colorway": [
           "#636efa",
           "#EF553B",
           "#00cc96",
           "#ab63fa",
           "#FFA15A",
           "#19d3f3",
           "#FF6692",
           "#B6E880",
           "#FF97FF",
           "#FECB52"
          ],
          "font": {
           "color": "#2a3f5f"
          },
          "geo": {
           "bgcolor": "white",
           "lakecolor": "white",
           "landcolor": "#E5ECF6",
           "showlakes": true,
           "showland": true,
           "subunitcolor": "white"
          },
          "hoverlabel": {
           "align": "left"
          },
          "hovermode": "closest",
          "mapbox": {
           "style": "light"
          },
          "paper_bgcolor": "white",
          "plot_bgcolor": "#E5ECF6",
          "polar": {
           "angularaxis": {
            "gridcolor": "white",
            "linecolor": "white",
            "ticks": ""
           },
           "bgcolor": "#E5ECF6",
           "radialaxis": {
            "gridcolor": "white",
            "linecolor": "white",
            "ticks": ""
           }
          },
          "scene": {
           "xaxis": {
            "backgroundcolor": "#E5ECF6",
            "gridcolor": "white",
            "gridwidth": 2,
            "linecolor": "white",
            "showbackground": true,
            "ticks": "",
            "zerolinecolor": "white"
           },
           "yaxis": {
            "backgroundcolor": "#E5ECF6",
            "gridcolor": "white",
            "gridwidth": 2,
            "linecolor": "white",
            "showbackground": true,
            "ticks": "",
            "zerolinecolor": "white"
           },
           "zaxis": {
            "backgroundcolor": "#E5ECF6",
            "gridcolor": "white",
            "gridwidth": 2,
            "linecolor": "white",
            "showbackground": true,
            "ticks": "",
            "zerolinecolor": "white"
           }
          },
          "shapedefaults": {
           "line": {
            "color": "#2a3f5f"
           }
          },
          "ternary": {
           "aaxis": {
            "gridcolor": "white",
            "linecolor": "white",
            "ticks": ""
           },
           "baxis": {
            "gridcolor": "white",
            "linecolor": "white",
            "ticks": ""
           },
           "bgcolor": "#E5ECF6",
           "caxis": {
            "gridcolor": "white",
            "linecolor": "white",
            "ticks": ""
           }
          },
          "title": {
           "x": 0.05
          },
          "xaxis": {
           "automargin": true,
           "gridcolor": "white",
           "linecolor": "white",
           "ticks": "",
           "title": {
            "standoff": 15
           },
           "zerolinecolor": "white",
           "zerolinewidth": 2
          },
          "yaxis": {
           "automargin": true,
           "gridcolor": "white",
           "linecolor": "white",
           "ticks": "",
           "title": {
            "standoff": 15
           },
           "zerolinecolor": "white",
           "zerolinewidth": 2
          }
         }
        },
        "title": {
         "text": "RateBeer - Number of users per country"
        }
       }
      }
     },
     "metadata": {},
     "output_type": "display_data"
    }
   ],
   "source": [
    "count_state_users_RB=RB_US.groupby('US_Code_User').count()['user_name'].to_frame().reset_index()\n",
    "count_state_users_RB=count_state_users_RB.rename(columns={'user_name':'count_users'})\n",
    "\n",
    "fig = px.choropleth(count_state_users_RB, \n",
    "                    locations='US_Code_User',  \n",
    "                    locationmode='USA-states',  \n",
    "                    scope=\"usa\", \n",
    "                    color='count_users',  \n",
    "                    )\n",
    "fig.update_layout(title_text='RateBeer - Number of users per country') \n",
    "fig.show()"
   ]
  },
  {
   "cell_type": "code",
   "execution_count": 28,
   "metadata": {},
   "outputs": [
    {
     "data": {
      "application/vnd.plotly.v1+json": {
       "config": {
        "plotlyServerURL": "https://plot.ly"
       },
       "data": [
        {
         "coloraxis": "coloraxis",
         "geo": "geo",
         "hovertemplate": "US_Code_User=%{location}<br>count_users=%{z}<extra></extra>",
         "locationmode": "USA-states",
         "locations": [
          "AK",
          "AL",
          "AR",
          "AZ",
          "CA",
          "CO",
          "CT",
          "DE",
          "FL",
          "GA",
          "HI",
          "IA",
          "ID",
          "IL",
          "IN",
          "KS",
          "KY",
          "LA",
          "MA",
          "MD",
          "ME",
          "MI",
          "MN",
          "MO",
          "MS",
          "MT",
          "NC",
          "ND",
          "NE",
          "NH",
          "NJ",
          "NM",
          "NV",
          "NY",
          "OH",
          "OK",
          "OR",
          "PA",
          "RI",
          "SC",
          "SD",
          "TN",
          "TX",
          "UT",
          "VA",
          "VT",
          "WA",
          "WI",
          "WV",
          "WY"
         ],
         "name": "",
         "type": "choropleth",
         "z": [
          1794,
          3539,
          2175,
          8536,
          54819,
          17044,
          13634,
          1497,
          19618,
          15888,
          1124,
          7023,
          2204,
          35639,
          11089,
          2937,
          9415,
          4450,
          37775,
          15391,
          6214,
          20090,
          22760,
          12108,
          1977,
          896,
          20307,
          456,
          3200,
          7995,
          24695,
          1816,
          2781,
          45059,
          33429,
          3348,
          13131,
          61180,
          4955,
          7195,
          261,
          5643,
          26346,
          570,
          22341,
          4015,
          19453,
          14815,
          3056,
          1034
         ]
        }
       ],
       "layout": {
        "coloraxis": {
         "colorbar": {
          "title": {
           "text": "count_users"
          }
         },
         "colorscale": [
          [
           0,
           "#0d0887"
          ],
          [
           0.1111111111111111,
           "#46039f"
          ],
          [
           0.2222222222222222,
           "#7201a8"
          ],
          [
           0.3333333333333333,
           "#9c179e"
          ],
          [
           0.4444444444444444,
           "#bd3786"
          ],
          [
           0.5555555555555556,
           "#d8576b"
          ],
          [
           0.6666666666666666,
           "#ed7953"
          ],
          [
           0.7777777777777778,
           "#fb9f3a"
          ],
          [
           0.8888888888888888,
           "#fdca26"
          ],
          [
           1,
           "#f0f921"
          ]
         ]
        },
        "geo": {
         "center": {},
         "domain": {
          "x": [
           0,
           1
          ],
          "y": [
           0,
           1
          ]
         },
         "scope": "usa"
        },
        "legend": {
         "tracegroupgap": 0
        },
        "margin": {
         "t": 60
        },
        "template": {
         "data": {
          "bar": [
           {
            "error_x": {
             "color": "#2a3f5f"
            },
            "error_y": {
             "color": "#2a3f5f"
            },
            "marker": {
             "line": {
              "color": "#E5ECF6",
              "width": 0.5
             },
             "pattern": {
              "fillmode": "overlay",
              "size": 10,
              "solidity": 0.2
             }
            },
            "type": "bar"
           }
          ],
          "barpolar": [
           {
            "marker": {
             "line": {
              "color": "#E5ECF6",
              "width": 0.5
             },
             "pattern": {
              "fillmode": "overlay",
              "size": 10,
              "solidity": 0.2
             }
            },
            "type": "barpolar"
           }
          ],
          "carpet": [
           {
            "aaxis": {
             "endlinecolor": "#2a3f5f",
             "gridcolor": "white",
             "linecolor": "white",
             "minorgridcolor": "white",
             "startlinecolor": "#2a3f5f"
            },
            "baxis": {
             "endlinecolor": "#2a3f5f",
             "gridcolor": "white",
             "linecolor": "white",
             "minorgridcolor": "white",
             "startlinecolor": "#2a3f5f"
            },
            "type": "carpet"
           }
          ],
          "choropleth": [
           {
            "colorbar": {
             "outlinewidth": 0,
             "ticks": ""
            },
            "type": "choropleth"
           }
          ],
          "contour": [
           {
            "colorbar": {
             "outlinewidth": 0,
             "ticks": ""
            },
            "colorscale": [
             [
              0,
              "#0d0887"
             ],
             [
              0.1111111111111111,
              "#46039f"
             ],
             [
              0.2222222222222222,
              "#7201a8"
             ],
             [
              0.3333333333333333,
              "#9c179e"
             ],
             [
              0.4444444444444444,
              "#bd3786"
             ],
             [
              0.5555555555555556,
              "#d8576b"
             ],
             [
              0.6666666666666666,
              "#ed7953"
             ],
             [
              0.7777777777777778,
              "#fb9f3a"
             ],
             [
              0.8888888888888888,
              "#fdca26"
             ],
             [
              1,
              "#f0f921"
             ]
            ],
            "type": "contour"
           }
          ],
          "contourcarpet": [
           {
            "colorbar": {
             "outlinewidth": 0,
             "ticks": ""
            },
            "type": "contourcarpet"
           }
          ],
          "heatmap": [
           {
            "colorbar": {
             "outlinewidth": 0,
             "ticks": ""
            },
            "colorscale": [
             [
              0,
              "#0d0887"
             ],
             [
              0.1111111111111111,
              "#46039f"
             ],
             [
              0.2222222222222222,
              "#7201a8"
             ],
             [
              0.3333333333333333,
              "#9c179e"
             ],
             [
              0.4444444444444444,
              "#bd3786"
             ],
             [
              0.5555555555555556,
              "#d8576b"
             ],
             [
              0.6666666666666666,
              "#ed7953"
             ],
             [
              0.7777777777777778,
              "#fb9f3a"
             ],
             [
              0.8888888888888888,
              "#fdca26"
             ],
             [
              1,
              "#f0f921"
             ]
            ],
            "type": "heatmap"
           }
          ],
          "heatmapgl": [
           {
            "colorbar": {
             "outlinewidth": 0,
             "ticks": ""
            },
            "colorscale": [
             [
              0,
              "#0d0887"
             ],
             [
              0.1111111111111111,
              "#46039f"
             ],
             [
              0.2222222222222222,
              "#7201a8"
             ],
             [
              0.3333333333333333,
              "#9c179e"
             ],
             [
              0.4444444444444444,
              "#bd3786"
             ],
             [
              0.5555555555555556,
              "#d8576b"
             ],
             [
              0.6666666666666666,
              "#ed7953"
             ],
             [
              0.7777777777777778,
              "#fb9f3a"
             ],
             [
              0.8888888888888888,
              "#fdca26"
             ],
             [
              1,
              "#f0f921"
             ]
            ],
            "type": "heatmapgl"
           }
          ],
          "histogram": [
           {
            "marker": {
             "pattern": {
              "fillmode": "overlay",
              "size": 10,
              "solidity": 0.2
             }
            },
            "type": "histogram"
           }
          ],
          "histogram2d": [
           {
            "colorbar": {
             "outlinewidth": 0,
             "ticks": ""
            },
            "colorscale": [
             [
              0,
              "#0d0887"
             ],
             [
              0.1111111111111111,
              "#46039f"
             ],
             [
              0.2222222222222222,
              "#7201a8"
             ],
             [
              0.3333333333333333,
              "#9c179e"
             ],
             [
              0.4444444444444444,
              "#bd3786"
             ],
             [
              0.5555555555555556,
              "#d8576b"
             ],
             [
              0.6666666666666666,
              "#ed7953"
             ],
             [
              0.7777777777777778,
              "#fb9f3a"
             ],
             [
              0.8888888888888888,
              "#fdca26"
             ],
             [
              1,
              "#f0f921"
             ]
            ],
            "type": "histogram2d"
           }
          ],
          "histogram2dcontour": [
           {
            "colorbar": {
             "outlinewidth": 0,
             "ticks": ""
            },
            "colorscale": [
             [
              0,
              "#0d0887"
             ],
             [
              0.1111111111111111,
              "#46039f"
             ],
             [
              0.2222222222222222,
              "#7201a8"
             ],
             [
              0.3333333333333333,
              "#9c179e"
             ],
             [
              0.4444444444444444,
              "#bd3786"
             ],
             [
              0.5555555555555556,
              "#d8576b"
             ],
             [
              0.6666666666666666,
              "#ed7953"
             ],
             [
              0.7777777777777778,
              "#fb9f3a"
             ],
             [
              0.8888888888888888,
              "#fdca26"
             ],
             [
              1,
              "#f0f921"
             ]
            ],
            "type": "histogram2dcontour"
           }
          ],
          "mesh3d": [
           {
            "colorbar": {
             "outlinewidth": 0,
             "ticks": ""
            },
            "type": "mesh3d"
           }
          ],
          "parcoords": [
           {
            "line": {
             "colorbar": {
              "outlinewidth": 0,
              "ticks": ""
             }
            },
            "type": "parcoords"
           }
          ],
          "pie": [
           {
            "automargin": true,
            "type": "pie"
           }
          ],
          "scatter": [
           {
            "fillpattern": {
             "fillmode": "overlay",
             "size": 10,
             "solidity": 0.2
            },
            "type": "scatter"
           }
          ],
          "scatter3d": [
           {
            "line": {
             "colorbar": {
              "outlinewidth": 0,
              "ticks": ""
             }
            },
            "marker": {
             "colorbar": {
              "outlinewidth": 0,
              "ticks": ""
             }
            },
            "type": "scatter3d"
           }
          ],
          "scattercarpet": [
           {
            "marker": {
             "colorbar": {
              "outlinewidth": 0,
              "ticks": ""
             }
            },
            "type": "scattercarpet"
           }
          ],
          "scattergeo": [
           {
            "marker": {
             "colorbar": {
              "outlinewidth": 0,
              "ticks": ""
             }
            },
            "type": "scattergeo"
           }
          ],
          "scattergl": [
           {
            "marker": {
             "colorbar": {
              "outlinewidth": 0,
              "ticks": ""
             }
            },
            "type": "scattergl"
           }
          ],
          "scattermapbox": [
           {
            "marker": {
             "colorbar": {
              "outlinewidth": 0,
              "ticks": ""
             }
            },
            "type": "scattermapbox"
           }
          ],
          "scatterpolar": [
           {
            "marker": {
             "colorbar": {
              "outlinewidth": 0,
              "ticks": ""
             }
            },
            "type": "scatterpolar"
           }
          ],
          "scatterpolargl": [
           {
            "marker": {
             "colorbar": {
              "outlinewidth": 0,
              "ticks": ""
             }
            },
            "type": "scatterpolargl"
           }
          ],
          "scatterternary": [
           {
            "marker": {
             "colorbar": {
              "outlinewidth": 0,
              "ticks": ""
             }
            },
            "type": "scatterternary"
           }
          ],
          "surface": [
           {
            "colorbar": {
             "outlinewidth": 0,
             "ticks": ""
            },
            "colorscale": [
             [
              0,
              "#0d0887"
             ],
             [
              0.1111111111111111,
              "#46039f"
             ],
             [
              0.2222222222222222,
              "#7201a8"
             ],
             [
              0.3333333333333333,
              "#9c179e"
             ],
             [
              0.4444444444444444,
              "#bd3786"
             ],
             [
              0.5555555555555556,
              "#d8576b"
             ],
             [
              0.6666666666666666,
              "#ed7953"
             ],
             [
              0.7777777777777778,
              "#fb9f3a"
             ],
             [
              0.8888888888888888,
              "#fdca26"
             ],
             [
              1,
              "#f0f921"
             ]
            ],
            "type": "surface"
           }
          ],
          "table": [
           {
            "cells": {
             "fill": {
              "color": "#EBF0F8"
             },
             "line": {
              "color": "white"
             }
            },
            "header": {
             "fill": {
              "color": "#C8D4E3"
             },
             "line": {
              "color": "white"
             }
            },
            "type": "table"
           }
          ]
         },
         "layout": {
          "annotationdefaults": {
           "arrowcolor": "#2a3f5f",
           "arrowhead": 0,
           "arrowwidth": 1
          },
          "autotypenumbers": "strict",
          "coloraxis": {
           "colorbar": {
            "outlinewidth": 0,
            "ticks": ""
           }
          },
          "colorscale": {
           "diverging": [
            [
             0,
             "#8e0152"
            ],
            [
             0.1,
             "#c51b7d"
            ],
            [
             0.2,
             "#de77ae"
            ],
            [
             0.3,
             "#f1b6da"
            ],
            [
             0.4,
             "#fde0ef"
            ],
            [
             0.5,
             "#f7f7f7"
            ],
            [
             0.6,
             "#e6f5d0"
            ],
            [
             0.7,
             "#b8e186"
            ],
            [
             0.8,
             "#7fbc41"
            ],
            [
             0.9,
             "#4d9221"
            ],
            [
             1,
             "#276419"
            ]
           ],
           "sequential": [
            [
             0,
             "#0d0887"
            ],
            [
             0.1111111111111111,
             "#46039f"
            ],
            [
             0.2222222222222222,
             "#7201a8"
            ],
            [
             0.3333333333333333,
             "#9c179e"
            ],
            [
             0.4444444444444444,
             "#bd3786"
            ],
            [
             0.5555555555555556,
             "#d8576b"
            ],
            [
             0.6666666666666666,
             "#ed7953"
            ],
            [
             0.7777777777777778,
             "#fb9f3a"
            ],
            [
             0.8888888888888888,
             "#fdca26"
            ],
            [
             1,
             "#f0f921"
            ]
           ],
           "sequentialminus": [
            [
             0,
             "#0d0887"
            ],
            [
             0.1111111111111111,
             "#46039f"
            ],
            [
             0.2222222222222222,
             "#7201a8"
            ],
            [
             0.3333333333333333,
             "#9c179e"
            ],
            [
             0.4444444444444444,
             "#bd3786"
            ],
            [
             0.5555555555555556,
             "#d8576b"
            ],
            [
             0.6666666666666666,
             "#ed7953"
            ],
            [
             0.7777777777777778,
             "#fb9f3a"
            ],
            [
             0.8888888888888888,
             "#fdca26"
            ],
            [
             1,
             "#f0f921"
            ]
           ]
          },
          "colorway": [
           "#636efa",
           "#EF553B",
           "#00cc96",
           "#ab63fa",
           "#FFA15A",
           "#19d3f3",
           "#FF6692",
           "#B6E880",
           "#FF97FF",
           "#FECB52"
          ],
          "font": {
           "color": "#2a3f5f"
          },
          "geo": {
           "bgcolor": "white",
           "lakecolor": "white",
           "landcolor": "#E5ECF6",
           "showlakes": true,
           "showland": true,
           "subunitcolor": "white"
          },
          "hoverlabel": {
           "align": "left"
          },
          "hovermode": "closest",
          "mapbox": {
           "style": "light"
          },
          "paper_bgcolor": "white",
          "plot_bgcolor": "#E5ECF6",
          "polar": {
           "angularaxis": {
            "gridcolor": "white",
            "linecolor": "white",
            "ticks": ""
           },
           "bgcolor": "#E5ECF6",
           "radialaxis": {
            "gridcolor": "white",
            "linecolor": "white",
            "ticks": ""
           }
          },
          "scene": {
           "xaxis": {
            "backgroundcolor": "#E5ECF6",
            "gridcolor": "white",
            "gridwidth": 2,
            "linecolor": "white",
            "showbackground": true,
            "ticks": "",
            "zerolinecolor": "white"
           },
           "yaxis": {
            "backgroundcolor": "#E5ECF6",
            "gridcolor": "white",
            "gridwidth": 2,
            "linecolor": "white",
            "showbackground": true,
            "ticks": "",
            "zerolinecolor": "white"
           },
           "zaxis": {
            "backgroundcolor": "#E5ECF6",
            "gridcolor": "white",
            "gridwidth": 2,
            "linecolor": "white",
            "showbackground": true,
            "ticks": "",
            "zerolinecolor": "white"
           }
          },
          "shapedefaults": {
           "line": {
            "color": "#2a3f5f"
           }
          },
          "ternary": {
           "aaxis": {
            "gridcolor": "white",
            "linecolor": "white",
            "ticks": ""
           },
           "baxis": {
            "gridcolor": "white",
            "linecolor": "white",
            "ticks": ""
           },
           "bgcolor": "#E5ECF6",
           "caxis": {
            "gridcolor": "white",
            "linecolor": "white",
            "ticks": ""
           }
          },
          "title": {
           "x": 0.05
          },
          "xaxis": {
           "automargin": true,
           "gridcolor": "white",
           "linecolor": "white",
           "ticks": "",
           "title": {
            "standoff": 15
           },
           "zerolinecolor": "white",
           "zerolinewidth": 2
          },
          "yaxis": {
           "automargin": true,
           "gridcolor": "white",
           "linecolor": "white",
           "ticks": "",
           "title": {
            "standoff": 15
           },
           "zerolinecolor": "white",
           "zerolinewidth": 2
          }
         }
        },
        "title": {
         "text": "BeerAdvocate - Number of users per country"
        }
       }
      }
     },
     "metadata": {},
     "output_type": "display_data"
    }
   ],
   "source": [
    "count_state_users_BA=BA_US.groupby('US_Code_User').count()['user_name'].to_frame().reset_index()\n",
    "count_state_users_BA=count_state_users_BA.rename(columns={'user_name':'count_users'})\n",
    "\n",
    "fig = px.choropleth(count_state_users_BA, \n",
    "                    locations='US_Code_User',  \n",
    "                    locationmode='USA-states',  \n",
    "                    scope=\"usa\", \n",
    "                    color='count_users',  \n",
    "                    )\n",
    "fig.update_layout(title_text='BeerAdvocate - Number of users per country') \n",
    "fig.show()"
   ]
  },
  {
   "attachments": {},
   "cell_type": "markdown",
   "metadata": {},
   "source": [
    "### Dealing with missing values"
   ]
  },
  {
   "attachments": {},
   "cell_type": "markdown",
   "metadata": {},
   "source": [
    "We start by checking the number of missing values in each column of the dataframes. "
   ]
  },
  {
   "cell_type": "code",
   "execution_count": 29,
   "metadata": {},
   "outputs": [
    {
     "name": "stdout",
     "output_type": "stream",
     "text": [
      "US_Code_User           0\n",
      "location_user          0\n",
      "US_Code_Beer      604710\n",
      "beers_location         0\n",
      "beer_name              0\n",
      "beer_id                0\n",
      "brewery_name           0\n",
      "brewery_id             0\n",
      "style                  0\n",
      "abv                25828\n",
      "date                   0\n",
      "user_name              0\n",
      "user_id                0\n",
      "appearance             0\n",
      "aroma                  0\n",
      "palate                 0\n",
      "taste                  0\n",
      "overall                0\n",
      "rating                 0\n",
      "text                  44\n",
      "dtype: int64\n",
      "Percentage of NaN values in RB_US:  0.005057639852362895 %\n"
     ]
    }
   ],
   "source": [
    "print(RB_US.isnull().sum())\n",
    "print(\"Percentage of NaN values in RB_US: \", (RB_US['text'].isnull().sum()/len(RB_US))*100, \"%\")"
   ]
  },
  {
   "cell_type": "code",
   "execution_count": 30,
   "metadata": {},
   "outputs": [
    {
     "name": "stdout",
     "output_type": "stream",
     "text": [
      "US_Code_User           0\n",
      "location_user          0\n",
      "US_Code_Beer      331716\n",
      "beers_location         0\n",
      "beer_name              0\n",
      "beer_id                0\n",
      "brewery_name           0\n",
      "brewery_id             0\n",
      "style                  0\n",
      "abv                12984\n",
      "date                   0\n",
      "user_name              1\n",
      "user_id                0\n",
      "appearance          4148\n",
      "aroma               4148\n",
      "palate              4148\n",
      "taste               4148\n",
      "overall             4148\n",
      "rating                 0\n",
      "text                   0\n",
      "dtype: int64\n",
      "Percentage of NaN values in BA_US:  0.6316257510834178 %\n"
     ]
    }
   ],
   "source": [
    "print(BA_US.isnull().sum())\n",
    "print(\"Percentage of NaN values in BA_US: \", (BA_US['appearance'].isnull().sum()/len(BA_US))*100, \"%\")"
   ]
  },
  {
   "attachments": {},
   "cell_type": "markdown",
   "metadata": {},
   "source": [
    "After our processing, we can see that for `RB_US` we have no NaN values for the rating columns and NaN values for the text column. For `BA_US` we have no NaN values for the text column and NaN values for the rating columns.\n",
    "If we look at how much these NaN values represent in the dataframes, we can see that for `RB_US` the NaN values represent 0.005% of the data and for `BA_US` the NaN values represent 0.6% of the data. Thus we can drop these rows without losing too much information."
   ]
  },
  {
   "cell_type": "code",
   "execution_count": 31,
   "metadata": {},
   "outputs": [],
   "source": [
    "RB_US = RB_US.dropna(subset=['text'], how='all')\n",
    "BA_US = BA_US.dropna(subset=['appearance','aroma','palate','taste','overall'], how='all')"
   ]
  },
  {
   "attachments": {},
   "cell_type": "markdown",
   "metadata": {},
   "source": [
    "### Checking data types"
   ]
  },
  {
   "cell_type": "code",
   "execution_count": 32,
   "metadata": {},
   "outputs": [
    {
     "data": {
      "text/plain": [
       "US_Code_User       object\n",
       "location_user      object\n",
       "US_Code_Beer       object\n",
       "beers_location     object\n",
       "beer_name          object\n",
       "beer_id           float64\n",
       "brewery_name       object\n",
       "brewery_id        float64\n",
       "style              object\n",
       "abv               float64\n",
       "date              float64\n",
       "user_name          object\n",
       "user_id           float64\n",
       "appearance        float64\n",
       "aroma             float64\n",
       "palate            float64\n",
       "taste             float64\n",
       "overall           float64\n",
       "rating            float64\n",
       "text               object\n",
       "dtype: object"
      ]
     },
     "execution_count": 32,
     "metadata": {},
     "output_type": "execute_result"
    }
   ],
   "source": [
    "RB_US.dtypes"
   ]
  },
  {
   "cell_type": "code",
   "execution_count": 33,
   "metadata": {},
   "outputs": [
    {
     "data": {
      "text/plain": [
       "US_Code_User       object\n",
       "location_user      object\n",
       "US_Code_Beer       object\n",
       "beers_location     object\n",
       "beer_name          object\n",
       "beer_id           float64\n",
       "brewery_name       object\n",
       "brewery_id        float64\n",
       "style              object\n",
       "abv               float64\n",
       "date              float64\n",
       "user_name          object\n",
       "user_id            object\n",
       "appearance        float64\n",
       "aroma             float64\n",
       "palate            float64\n",
       "taste             float64\n",
       "overall           float64\n",
       "rating            float64\n",
       "text               object\n",
       "dtype: object"
      ]
     },
     "execution_count": 33,
     "metadata": {},
     "output_type": "execute_result"
    }
   ],
   "source": [
    "BA_US.dtypes"
   ]
  },
  {
   "attachments": {},
   "cell_type": "markdown",
   "metadata": {},
   "source": [
    "We first have to convert the `date` column to a datetime object. We do this for both `RB_US` and `BA_US`.\n"
   ]
  },
  {
   "cell_type": "code",
   "execution_count": 34,
   "metadata": {},
   "outputs": [],
   "source": [
    "RB_US['date'] = RB_US['date'].apply(datetime.datetime.fromtimestamp)\n",
    "BA_US['date'] = BA_US['date'].apply(datetime.datetime.fromtimestamp)"
   ]
  },
  {
   "cell_type": "markdown",
   "metadata": {},
   "source": [
    "We finally have our two dataframes `RB_US` and `BA_US` that we will use for the analysis."
   ]
  },
  {
   "attachments": {},
   "cell_type": "markdown",
   "metadata": {},
   "source": [
    "## Merging the dataframes"
   ]
  },
  {
   "attachments": {},
   "cell_type": "markdown",
   "metadata": {},
   "source": [
    "We want to have as much data as possible for our analysis. We therefore need to merge ratings data from both BeerAdvocate and RateBeer. We need to normalize the data because the distributions are different between the two sites. We follow the same procedure as in Lederrey-West paper ([Lederrey-West_WWW-18](https://dlab.epfl.ch/people/west/pub/Lederrey-West_WWW-18.pdf)):\n",
    "We observe that the mean of the ratings is higher for BeerAdvocate than for Ratebeer. Moreover, when we observe the mean and std of rating over the course of time, *the mean increases, while the standard deviation decreases, from year to year. Assuming that the inherent quality of beers being rated stays roughly constant, the rising mean may be interpreted as score inflation, while the sinking standard deviation could indicate a consolidating consensus about what should constitute the score of an average beer.* (Lederrey-West_WWW-18)\n",
    "\n",
    "Thus we perform a z-score normalization of the ratings : *for each site and each year, we compute the mean and standard deviation over all ratings.We then subtract the mean of year t from all ratings submitted in year t and divide them by the standard deviation of year t , such that each year’s set of ratings has mean 0 and standard deviation 1.* (Lederrey-West_WWW-18)\n",
    "\n",
    "Finally we simply merge the two dataframes into one containings all the raitings from both BeerAdvocate and RateBeer with normalized scores for each feature."
   ]
  },
  {
   "cell_type": "code",
   "execution_count": 35,
   "metadata": {},
   "outputs": [],
   "source": [
    "def normalize_data(df):\n",
    "    \"\"\"\n",
    "    Normalize the data : compute z scores for each feature (look, smell/aroma, taste, feel/palate, overall & rating)\n",
    "    we do it for each diffrent year to take the temporal drift of the mean and variance into account\n",
    "    \"\"\"\n",
    "    df['year'] = df['date'].apply(lambda x: x.year)\n",
    "    for year in df['year'].unique():\n",
    "        df_year_ = df[df['year'] == year]\n",
    "        df_year = df_year_.copy()\n",
    "        for feature in ['appearance','aroma','taste','palate','overall','rating']:\n",
    "            df_year[feature] = (df_year[feature] - df_year[feature].mean())/df_year[feature].std()\n",
    "        df.loc[df['year'] == year] = df_year\n",
    "    return df"
   ]
  },
  {
   "cell_type": "code",
   "execution_count": 36,
   "metadata": {},
   "outputs": [],
   "source": [
    "def normalize_data(df):\n",
    "    \"\"\"\n",
    "    Normalize the data : compute z scores for each feature (look, smell/aroma, taste, feel/palate, overall & rating)\n",
    "    we do it for each diffrent year to take the temporal drift of the mean and variance into account\n",
    "    \"\"\"\n",
    "    df['year'] = df['date'].apply(lambda x: x.year)\n",
    "    for year in df['year'].unique():\n",
    "        df_year_ = df[df['year'] == year]\n",
    "        df_year = df_year_.copy()\n",
    "        for feature in ['appearance','aroma','taste','palate','overall','rating']:\n",
    "            df_year[feature] = scale(df_year[feature])\n",
    "        df.loc[df['year'] == year] = df_year\n",
    "    return df"
   ]
  },
  {
   "cell_type": "code",
   "execution_count": 115,
   "metadata": {},
   "outputs": [
    {
     "data": {
      "text/html": [
       "<div>\n",
       "<style scoped>\n",
       "    .dataframe tbody tr th:only-of-type {\n",
       "        vertical-align: middle;\n",
       "    }\n",
       "\n",
       "    .dataframe tbody tr th {\n",
       "        vertical-align: top;\n",
       "    }\n",
       "\n",
       "    .dataframe thead th {\n",
       "        text-align: right;\n",
       "    }\n",
       "</style>\n",
       "<table border=\"1\" class=\"dataframe\">\n",
       "  <thead>\n",
       "    <tr style=\"text-align: right;\">\n",
       "      <th></th>\n",
       "      <th>US_Code_User</th>\n",
       "      <th>location_user</th>\n",
       "      <th>US_Code_Beer</th>\n",
       "      <th>beers_location</th>\n",
       "      <th>beer_name</th>\n",
       "      <th>beer_id</th>\n",
       "      <th>brewery_name</th>\n",
       "      <th>brewery_id</th>\n",
       "      <th>style</th>\n",
       "      <th>abv</th>\n",
       "      <th>...</th>\n",
       "      <th>user_name</th>\n",
       "      <th>user_id</th>\n",
       "      <th>appearance</th>\n",
       "      <th>aroma</th>\n",
       "      <th>palate</th>\n",
       "      <th>taste</th>\n",
       "      <th>overall</th>\n",
       "      <th>rating</th>\n",
       "      <th>text</th>\n",
       "      <th>year</th>\n",
       "    </tr>\n",
       "  </thead>\n",
       "  <tbody>\n",
       "    <tr>\n",
       "      <th>0</th>\n",
       "      <td>AL</td>\n",
       "      <td>United States</td>\n",
       "      <td>AL</td>\n",
       "      <td>United States</td>\n",
       "      <td>Tiger Beer</td>\n",
       "      <td>3126.0</td>\n",
       "      <td>Singapore Brewery (Asia Pacific Breweries-Hein...</td>\n",
       "      <td>547.0</td>\n",
       "      <td>Pale Lager</td>\n",
       "      <td>5.0</td>\n",
       "      <td>...</td>\n",
       "      <td>Jeppe</td>\n",
       "      <td>9058.0</td>\n",
       "      <td>-1.559341</td>\n",
       "      <td>-2.235325</td>\n",
       "      <td>-1.333284</td>\n",
       "      <td>-1.840803</td>\n",
       "      <td>-2.340502</td>\n",
       "      <td>-2.245245</td>\n",
       "      <td>Foamy though disappearing white head on a piss...</td>\n",
       "      <td>2004</td>\n",
       "    </tr>\n",
       "    <tr>\n",
       "      <th>1</th>\n",
       "      <td>AL</td>\n",
       "      <td>United States</td>\n",
       "      <td>AL</td>\n",
       "      <td>United States</td>\n",
       "      <td>Tiger Beer</td>\n",
       "      <td>3126.0</td>\n",
       "      <td>Singapore Brewery (Asia Pacific Breweries-Hein...</td>\n",
       "      <td>547.0</td>\n",
       "      <td>Pale Lager</td>\n",
       "      <td>5.0</td>\n",
       "      <td>...</td>\n",
       "      <td>tangentrider</td>\n",
       "      <td>54911.0</td>\n",
       "      <td>-0.484984</td>\n",
       "      <td>-2.377618</td>\n",
       "      <td>0.907404</td>\n",
       "      <td>-0.201415</td>\n",
       "      <td>-0.867184</td>\n",
       "      <td>-0.927946</td>\n",
       "      <td>Pale beer with a one inch disappearing head.  ...</td>\n",
       "      <td>2008</td>\n",
       "    </tr>\n",
       "    <tr>\n",
       "      <th>2</th>\n",
       "      <td>AL</td>\n",
       "      <td>United States</td>\n",
       "      <td>AL</td>\n",
       "      <td>United States</td>\n",
       "      <td>Tiger Beer</td>\n",
       "      <td>3126.0</td>\n",
       "      <td>Singapore Brewery (Asia Pacific Breweries-Hein...</td>\n",
       "      <td>547.0</td>\n",
       "      <td>Pale Lager</td>\n",
       "      <td>5.0</td>\n",
       "      <td>...</td>\n",
       "      <td>posikyle</td>\n",
       "      <td>52600.0</td>\n",
       "      <td>-0.484984</td>\n",
       "      <td>-2.377618</td>\n",
       "      <td>-0.269863</td>\n",
       "      <td>0.389338</td>\n",
       "      <td>-0.296299</td>\n",
       "      <td>-0.669736</td>\n",
       "      <td>Typical pale lager, but one of the best out th...</td>\n",
       "      <td>2008</td>\n",
       "    </tr>\n",
       "    <tr>\n",
       "      <th>3</th>\n",
       "      <td>AL</td>\n",
       "      <td>United States</td>\n",
       "      <td>AL</td>\n",
       "      <td>United States</td>\n",
       "      <td>Tiger Beer</td>\n",
       "      <td>3126.0</td>\n",
       "      <td>Singapore Brewery (Asia Pacific Breweries-Hein...</td>\n",
       "      <td>547.0</td>\n",
       "      <td>Pale Lager</td>\n",
       "      <td>5.0</td>\n",
       "      <td>...</td>\n",
       "      <td>Rictus</td>\n",
       "      <td>43333.0</td>\n",
       "      <td>-0.459524</td>\n",
       "      <td>-1.195765</td>\n",
       "      <td>-1.416326</td>\n",
       "      <td>-0.177260</td>\n",
       "      <td>-0.283165</td>\n",
       "      <td>-0.641413</td>\n",
       "      <td>The aroma is alittle too light for my taste. U...</td>\n",
       "      <td>2007</td>\n",
       "    </tr>\n",
       "    <tr>\n",
       "      <th>4</th>\n",
       "      <td>AL</td>\n",
       "      <td>United States</td>\n",
       "      <td>AL</td>\n",
       "      <td>United States</td>\n",
       "      <td>Tiger Beer</td>\n",
       "      <td>3126.0</td>\n",
       "      <td>Singapore Brewery (Asia Pacific Breweries-Hein...</td>\n",
       "      <td>547.0</td>\n",
       "      <td>Pale Lager</td>\n",
       "      <td>5.0</td>\n",
       "      <td>...</td>\n",
       "      <td>JonnyC22</td>\n",
       "      <td>42655.0</td>\n",
       "      <td>-1.631093</td>\n",
       "      <td>-1.770414</td>\n",
       "      <td>-0.242687</td>\n",
       "      <td>-0.754075</td>\n",
       "      <td>-0.824391</td>\n",
       "      <td>-1.139337</td>\n",
       "      <td>Bottle (6âer) bought at halftime of Fla. St....</td>\n",
       "      <td>2006</td>\n",
       "    </tr>\n",
       "    <tr>\n",
       "      <th>...</th>\n",
       "      <td>...</td>\n",
       "      <td>...</td>\n",
       "      <td>...</td>\n",
       "      <td>...</td>\n",
       "      <td>...</td>\n",
       "      <td>...</td>\n",
       "      <td>...</td>\n",
       "      <td>...</td>\n",
       "      <td>...</td>\n",
       "      <td>...</td>\n",
       "      <td>...</td>\n",
       "      <td>...</td>\n",
       "      <td>...</td>\n",
       "      <td>...</td>\n",
       "      <td>...</td>\n",
       "      <td>...</td>\n",
       "      <td>...</td>\n",
       "      <td>...</td>\n",
       "      <td>...</td>\n",
       "      <td>...</td>\n",
       "      <td>...</td>\n",
       "    </tr>\n",
       "    <tr>\n",
       "      <th>1522492</th>\n",
       "      <td>WY</td>\n",
       "      <td>United States</td>\n",
       "      <td>NaN</td>\n",
       "      <td>United States</td>\n",
       "      <td>Shiner Hefeweizen</td>\n",
       "      <td>1552.0</td>\n",
       "      <td>Spoetzl Brewery / Shiner</td>\n",
       "      <td>143.0</td>\n",
       "      <td>Hefeweizen</td>\n",
       "      <td>5.4</td>\n",
       "      <td>...</td>\n",
       "      <td>Bitterbill</td>\n",
       "      <td>bitterbill.708</td>\n",
       "      <td>0.207195</td>\n",
       "      <td>-1.118293</td>\n",
       "      <td>-0.431926</td>\n",
       "      <td>-1.886762</td>\n",
       "      <td>-1.991098</td>\n",
       "      <td>-1.705623</td>\n",
       "      <td>This one pours a hazy, almost cloudy straw gol...</td>\n",
       "      <td>2009</td>\n",
       "    </tr>\n",
       "    <tr>\n",
       "      <th>1522493</th>\n",
       "      <td>WY</td>\n",
       "      <td>United States</td>\n",
       "      <td>NaN</td>\n",
       "      <td>Bangladesh</td>\n",
       "      <td>Dark O' The Moon</td>\n",
       "      <td>39497.0</td>\n",
       "      <td>Elysian Brewing Company</td>\n",
       "      <td>700.0</td>\n",
       "      <td>Pumpkin Ale</td>\n",
       "      <td>6.5</td>\n",
       "      <td>...</td>\n",
       "      <td>Bitterbill</td>\n",
       "      <td>bitterbill.708</td>\n",
       "      <td>0.080718</td>\n",
       "      <td>-0.094244</td>\n",
       "      <td>0.556130</td>\n",
       "      <td>0.151505</td>\n",
       "      <td>0.548954</td>\n",
       "      <td>0.222611</td>\n",
       "      <td>On draught at the Keg &amp;amp; Cork. Pours a hazy...</td>\n",
       "      <td>2016</td>\n",
       "    </tr>\n",
       "    <tr>\n",
       "      <th>1522494</th>\n",
       "      <td>WY</td>\n",
       "      <td>United States</td>\n",
       "      <td>NaN</td>\n",
       "      <td>Laos</td>\n",
       "      <td>Taj Mahal Premium Lager</td>\n",
       "      <td>2970.0</td>\n",
       "      <td>United Breweries - UB Group</td>\n",
       "      <td>91.0</td>\n",
       "      <td>American Adjunct Lager</td>\n",
       "      <td>4.5</td>\n",
       "      <td>...</td>\n",
       "      <td>Bitterbill</td>\n",
       "      <td>bitterbill.708</td>\n",
       "      <td>-2.280039</td>\n",
       "      <td>-1.847700</td>\n",
       "      <td>-1.202883</td>\n",
       "      <td>-1.867017</td>\n",
       "      <td>-1.243819</td>\n",
       "      <td>-1.956139</td>\n",
       "      <td>$3.95 for the 650ml bottle, batch 1277, mfd 09...</td>\n",
       "      <td>2010</td>\n",
       "    </tr>\n",
       "    <tr>\n",
       "      <th>1522495</th>\n",
       "      <td>WY</td>\n",
       "      <td>United States</td>\n",
       "      <td>NaN</td>\n",
       "      <td>Venezuela</td>\n",
       "      <td>Michelob Light</td>\n",
       "      <td>1253.0</td>\n",
       "      <td>Anheuser-Busch</td>\n",
       "      <td>29.0</td>\n",
       "      <td>Light Lager</td>\n",
       "      <td>4.3</td>\n",
       "      <td>...</td>\n",
       "      <td>Bitterbill</td>\n",
       "      <td>bitterbill.708</td>\n",
       "      <td>-1.464135</td>\n",
       "      <td>-1.118293</td>\n",
       "      <td>-0.431926</td>\n",
       "      <td>0.235378</td>\n",
       "      <td>-0.542276</td>\n",
       "      <td>-0.457071</td>\n",
       "      <td>It pours a yellow gold with a small head of fo...</td>\n",
       "      <td>2009</td>\n",
       "    </tr>\n",
       "    <tr>\n",
       "      <th>1522496</th>\n",
       "      <td>WY</td>\n",
       "      <td>United States</td>\n",
       "      <td>NaN</td>\n",
       "      <td>Venezuela</td>\n",
       "      <td>Michelob Light</td>\n",
       "      <td>1253.0</td>\n",
       "      <td>Anheuser-Busch</td>\n",
       "      <td>29.0</td>\n",
       "      <td>Light Lager</td>\n",
       "      <td>4.3</td>\n",
       "      <td>...</td>\n",
       "      <td>TAMU99</td>\n",
       "      <td>tamu99.795</td>\n",
       "      <td>-3.619504</td>\n",
       "      <td>-3.028665</td>\n",
       "      <td>-2.426077</td>\n",
       "      <td>-3.012006</td>\n",
       "      <td>-1.107218</td>\n",
       "      <td>-2.924979</td>\n",
       "      <td>1. start with a good beer2. leave in the sun f...</td>\n",
       "      <td>2004</td>\n",
       "    </tr>\n",
       "  </tbody>\n",
       "</table>\n",
       "<p>1522497 rows × 21 columns</p>\n",
       "</div>"
      ],
      "text/plain": [
       "        US_Code_User  location_user US_Code_Beer beers_location  \\\n",
       "0                 AL  United States           AL  United States   \n",
       "1                 AL  United States           AL  United States   \n",
       "2                 AL  United States           AL  United States   \n",
       "3                 AL  United States           AL  United States   \n",
       "4                 AL  United States           AL  United States   \n",
       "...              ...            ...          ...            ...   \n",
       "1522492           WY  United States          NaN  United States   \n",
       "1522493           WY  United States          NaN     Bangladesh   \n",
       "1522494           WY  United States          NaN           Laos   \n",
       "1522495           WY  United States          NaN      Venezuela   \n",
       "1522496           WY  United States          NaN      Venezuela   \n",
       "\n",
       "                       beer_name  beer_id  \\\n",
       "0                     Tiger Beer   3126.0   \n",
       "1                     Tiger Beer   3126.0   \n",
       "2                     Tiger Beer   3126.0   \n",
       "3                     Tiger Beer   3126.0   \n",
       "4                     Tiger Beer   3126.0   \n",
       "...                          ...      ...   \n",
       "1522492        Shiner Hefeweizen   1552.0   \n",
       "1522493         Dark O' The Moon  39497.0   \n",
       "1522494  Taj Mahal Premium Lager   2970.0   \n",
       "1522495           Michelob Light   1253.0   \n",
       "1522496           Michelob Light   1253.0   \n",
       "\n",
       "                                              brewery_name  brewery_id  \\\n",
       "0        Singapore Brewery (Asia Pacific Breweries-Hein...       547.0   \n",
       "1        Singapore Brewery (Asia Pacific Breweries-Hein...       547.0   \n",
       "2        Singapore Brewery (Asia Pacific Breweries-Hein...       547.0   \n",
       "3        Singapore Brewery (Asia Pacific Breweries-Hein...       547.0   \n",
       "4        Singapore Brewery (Asia Pacific Breweries-Hein...       547.0   \n",
       "...                                                    ...         ...   \n",
       "1522492                           Spoetzl Brewery / Shiner       143.0   \n",
       "1522493                            Elysian Brewing Company       700.0   \n",
       "1522494                        United Breweries - UB Group        91.0   \n",
       "1522495                                     Anheuser-Busch        29.0   \n",
       "1522496                                     Anheuser-Busch        29.0   \n",
       "\n",
       "                          style  abv  ...     user_name         user_id  \\\n",
       "0                    Pale Lager  5.0  ...         Jeppe          9058.0   \n",
       "1                    Pale Lager  5.0  ...  tangentrider         54911.0   \n",
       "2                    Pale Lager  5.0  ...      posikyle         52600.0   \n",
       "3                    Pale Lager  5.0  ...        Rictus         43333.0   \n",
       "4                    Pale Lager  5.0  ...      JonnyC22         42655.0   \n",
       "...                         ...  ...  ...           ...             ...   \n",
       "1522492              Hefeweizen  5.4  ...    Bitterbill  bitterbill.708   \n",
       "1522493             Pumpkin Ale  6.5  ...    Bitterbill  bitterbill.708   \n",
       "1522494  American Adjunct Lager  4.5  ...    Bitterbill  bitterbill.708   \n",
       "1522495             Light Lager  4.3  ...    Bitterbill  bitterbill.708   \n",
       "1522496             Light Lager  4.3  ...        TAMU99      tamu99.795   \n",
       "\n",
       "        appearance     aroma    palate     taste   overall    rating  \\\n",
       "0        -1.559341 -2.235325 -1.333284 -1.840803 -2.340502 -2.245245   \n",
       "1        -0.484984 -2.377618  0.907404 -0.201415 -0.867184 -0.927946   \n",
       "2        -0.484984 -2.377618 -0.269863  0.389338 -0.296299 -0.669736   \n",
       "3        -0.459524 -1.195765 -1.416326 -0.177260 -0.283165 -0.641413   \n",
       "4        -1.631093 -1.770414 -0.242687 -0.754075 -0.824391 -1.139337   \n",
       "...            ...       ...       ...       ...       ...       ...   \n",
       "1522492   0.207195 -1.118293 -0.431926 -1.886762 -1.991098 -1.705623   \n",
       "1522493   0.080718 -0.094244  0.556130  0.151505  0.548954  0.222611   \n",
       "1522494  -2.280039 -1.847700 -1.202883 -1.867017 -1.243819 -1.956139   \n",
       "1522495  -1.464135 -1.118293 -0.431926  0.235378 -0.542276 -0.457071   \n",
       "1522496  -3.619504 -3.028665 -2.426077 -3.012006 -1.107218 -2.924979   \n",
       "\n",
       "                                                      text  year  \n",
       "0        Foamy though disappearing white head on a piss...  2004  \n",
       "1        Pale beer with a one inch disappearing head.  ...  2008  \n",
       "2        Typical pale lager, but one of the best out th...  2008  \n",
       "3        The aroma is alittle too light for my taste. U...  2007  \n",
       "4        Bottle (6âer) bought at halftime of Fla. St....  2006  \n",
       "...                                                    ...   ...  \n",
       "1522492  This one pours a hazy, almost cloudy straw gol...  2009  \n",
       "1522493  On draught at the Keg &amp; Cork. Pours a hazy...  2016  \n",
       "1522494  $3.95 for the 650ml bottle, batch 1277, mfd 09...  2010  \n",
       "1522495  It pours a yellow gold with a small head of fo...  2009  \n",
       "1522496  1. start with a good beer2. leave in the sun f...  2004  \n",
       "\n",
       "[1522497 rows x 21 columns]"
      ]
     },
     "execution_count": 115,
     "metadata": {},
     "output_type": "execute_result"
    }
   ],
   "source": [
    "# normalize the data\n",
    "RB_US_norm = normalize_data(RB_US)\n",
    "BA_US_norm = normalize_data(BA_US)\n",
    "\n",
    "# merge the two dataframes\n",
    "df_ratings = pd.concat([RB_US_norm, BA_US_norm], ignore_index=True)\n",
    "df_ratings"
   ]
  },
  {
   "attachments": {},
   "cell_type": "markdown",
   "metadata": {},
   "source": [
    "We can observe the distribution of the scores for the different features for normalized BeerAdvocate (blue), RateBeer (red) and merged (white) ratings."
   ]
  },
  {
   "cell_type": "code",
   "execution_count": 38,
   "metadata": {},
   "outputs": [
    {
     "data": {
      "image/png": "[encoded data removed]",
      "text/plain": [
       "<Figure size 1500x700 with 6 Axes>"
      ]
     },
     "metadata": {},
     "output_type": "display_data"
    }
   ],
   "source": [
    "fig, ax = plt.subplots(2, 3, figsize=(15, 7))\n",
    "sns.histplot(RB_US_norm['appearance'], bins=np.arange(-5, 3, 0.25), ax=ax[0,0], color='red')\n",
    "sns.histplot(BA_US_norm['appearance'], bins=np.arange(-5, 3, 0.25), ax=ax[0,0], color='blue')\n",
    "sns.histplot(df_ratings['appearance'], bins=np.arange(-5, 3, 0.25), ax=ax[0,0], color='white')\n",
    "sns.histplot(RB_US_norm['aroma'], bins=np.arange(-5, 3, 0.25), ax=ax[0,1], color='red')\n",
    "sns.histplot(BA_US_norm['aroma'], bins=np.arange(-5, 3, 0.25), ax=ax[0,1], color='blue')\n",
    "sns.histplot(df_ratings['aroma'], bins=np.arange(-5, 3, 0.25), ax=ax[0,1], color='white')\n",
    "sns.histplot(RB_US_norm['taste'], bins=np.arange(-5, 3, 0.25), ax=ax[0,2], color='red')\n",
    "sns.histplot(BA_US_norm['taste'], bins=np.arange(-5, 3, 0.25), ax=ax[0,2], color='blue')\n",
    "sns.histplot(df_ratings['taste'], bins=np.arange(-5, 3, 0.25), ax=ax[0,2], color='white')\n",
    "sns.histplot(RB_US_norm['palate'], bins=np.arange(-5, 3, 0.25), ax=ax[1,0], color='red')\n",
    "sns.histplot(BA_US_norm['palate'], bins=np.arange(-5, 3, 0.25), ax=ax[1,0], color='blue')\n",
    "sns.histplot(df_ratings['palate'], bins=np.arange(-5, 3, 0.25), ax=ax[1,0], color='white')\n",
    "sns.histplot(RB_US_norm['overall'], bins=np.arange(-5, 3, 0.25), ax=ax[1,1], color='red')\n",
    "sns.histplot(BA_US_norm['overall'], bins=np.arange(-5, 3, 0.25), ax=ax[1,1], color='blue')\n",
    "sns.histplot(df_ratings['overall'], bins=np.arange(-5, 3, 0.25), ax=ax[1,1], color='white')\n",
    "sns.histplot(RB_US_norm['rating'], bins=np.arange(-5, 3, 0.25), ax=ax[1,2], color='red')\n",
    "sns.histplot(BA_US_norm['rating'], bins=np.arange(-5, 3, 0.25), ax=ax[1,2], color='blue')\n",
    "sns.histplot(df_ratings['rating'], bins=np.arange(-5, 3, 0.25), ax=ax[1,2], color='white')\n",
    "plt.show()"
   ]
  },
  {
   "attachments": {},
   "cell_type": "markdown",
   "metadata": {},
   "source": [
    "# Analysis"
   ]
  },
  {
   "attachments": {},
   "cell_type": "markdown",
   "metadata": {},
   "source": [
    "## Quick statistics from the data\n",
    "\n",
    "### Number of reviews per state\n",
    "blip-blap-bloop\n",
    "\n",
    "### Number of reviews per beer\n",
    "bli-blap-bloop\n",
    "\n",
    "### Number of reviews per brewery\n",
    "blip-blop-bloop"
   ]
  },
  {
   "attachments": {},
   "cell_type": "markdown",
   "metadata": {},
   "source": [
    "## 2 - Digging deeper, fine-tuning our analysis\n",
    "### 2.1 - PCA on the rating aspects\n",
    "\n",
    "First we load the necessary dataframes for the analysis. We use the `RB_US` and `BA_US` dataframes that we created in the preprocessing part. We will merge them into one dataframe `data_4_PCA` that we will use for the PCA analysis. We also scale the dataframe to have a mean of 0 and a standard deviation of 1 which is necessary for the PCA analysis."
   ]
  },
  {
   "cell_type": "code",
   "execution_count": 118,
   "metadata": {},
   "outputs": [],
   "source": [
    "features = ['appearance','aroma','taste','palate']\n",
    "target = 'overall'"
   ]
  },
  {
   "cell_type": "code",
   "execution_count": 129,
   "metadata": {},
   "outputs": [],
   "source": [
    "data_4_PCA = df_ratings\n",
    "features_PCA = data_4_PCA[features]\n",
    "target_PCA = data_4_PCA[target]"
   ]
  },
  {
   "attachments": {},
   "cell_type": "markdown",
   "metadata": {},
   "source": [
    "We then start our PCA analysis."
   ]
  },
  {
   "cell_type": "code",
   "execution_count": 40,
   "metadata": {},
   "outputs": [
    {
     "data": {
      "text/plain": [
       "array([0.73276579, 0.12129502])"
      ]
     },
     "execution_count": 40,
     "metadata": {},
     "output_type": "execute_result"
    }
   ],
   "source": [
    "pca = PCA(n_components=2)\n",
    "pca.fit(features_PCA)\n",
    "explained_variance = pca.explained_variance_ratio_\n",
    "explained_variance"
   ]
  },
  {
   "attachments": {},
   "cell_type": "markdown",
   "metadata": {},
   "source": [
    "The first component explains 73.2 % of the variance and the second 12.1 % of the variance. "
   ]
  },
  {
   "cell_type": "code",
   "execution_count": 128,
   "metadata": {},
   "outputs": [
    {
     "name": "stdout",
     "output_type": "stream",
     "text": [
      "              PC1       PC2\n",
      "0        3.493510 -0.182266\n",
      "1        1.082807 -0.430493\n",
      "2        1.361585 -0.278288\n",
      "3        1.622807 -0.162092\n",
      "4        2.171104  0.500372\n",
      "...           ...       ...\n",
      "1522492  1.683228 -1.283530\n",
      "1522493 -0.347992 -0.015796\n",
      "1522494  3.577703  0.570320\n",
      "1522495  1.336223  0.935942\n",
      "1522496  6.012310  0.826056\n",
      "\n",
      "[1522497 rows x 2 columns]\n"
     ]
    },
    {
     "data": {
      "text/html": [
       "<div>\n",
       "<style scoped>\n",
       "    .dataframe tbody tr th:only-of-type {\n",
       "        vertical-align: middle;\n",
       "    }\n",
       "\n",
       "    .dataframe tbody tr th {\n",
       "        vertical-align: top;\n",
       "    }\n",
       "\n",
       "    .dataframe thead th {\n",
       "        text-align: right;\n",
       "    }\n",
       "</style>\n",
       "<table border=\"1\" class=\"dataframe\">\n",
       "  <thead>\n",
       "    <tr style=\"text-align: right;\">\n",
       "      <th></th>\n",
       "      <th>PC1</th>\n",
       "      <th>PC2</th>\n",
       "    </tr>\n",
       "  </thead>\n",
       "  <tbody>\n",
       "    <tr>\n",
       "      <th>appearance</th>\n",
       "      <td>0.461536</td>\n",
       "      <td>0.861190</td>\n",
       "    </tr>\n",
       "    <tr>\n",
       "      <th>aroma</th>\n",
       "      <td>0.507929</td>\n",
       "      <td>0.346644</td>\n",
       "    </tr>\n",
       "    <tr>\n",
       "      <th>taste</th>\n",
       "      <td>0.527008</td>\n",
       "      <td>0.367619</td>\n",
       "    </tr>\n",
       "    <tr>\n",
       "      <th>palate</th>\n",
       "      <td>0.501254</td>\n",
       "      <td>0.055185</td>\n",
       "    </tr>\n",
       "  </tbody>\n",
       "</table>\n",
       "</div>"
      ],
      "text/plain": [
       "                 PC1       PC2\n",
       "appearance  0.461536  0.861190\n",
       "aroma       0.507929  0.346644\n",
       "taste       0.527008  0.367619\n",
       "palate      0.501254  0.055185"
      ]
     },
     "execution_count": 128,
     "metadata": {},
     "output_type": "execute_result"
    }
   ],
   "source": [
    "scores = pca.transform(features_PCA)\n",
    "scores_df = pd.DataFrame(scores, columns=['PC1', 'PC2'])\n",
    "print(scores_df)\n",
    "loadings = pca.components_.T\n",
    "df_loadings = pd.DataFrame(loadings, columns=['PC1', 'PC2'], index=features)\n",
    "df_loadings.abs()"
   ]
  },
  {
   "attachments": {},
   "cell_type": "markdown",
   "metadata": {},
   "source": [
    "As we can see for the first component, which explains 73.2 % of the variance, the most important feature is taste. "
   ]
  },
  {
   "attachments": {},
   "cell_type": "markdown",
   "metadata": {},
   "source": [
    "### 2.2 - Multiple regression analysis on the rating aspects\n",
    "\n",
    "To perform the multiple regression analysis, we will use the scikit-learn library. We will use the data we prepared in 2.1 : `features_PCA` and `target_PCA`. We use a the LinearRegression model from scikit-learn to fit the model on the data."
   ]
  },
  {
   "cell_type": "code",
   "execution_count": 120,
   "metadata": {},
   "outputs": [],
   "source": [
    "X_train, X_test, y_train, y_test = train_test_split(features_PCA, target_PCA, test_size=0.2, random_state=42)\n",
    "regressor = LinearRegression()\n",
    "regressor.fit(X_train, y_train)\n",
    "y_pred = regressor.predict(X_test)"
   ]
  },
  {
   "attachments": {},
   "cell_type": "markdown",
   "metadata": {},
   "source": [
    "We also also want to determine the coefficient of determination $R^2$ of the prediction which will tell us if our model is good or not. "
   ]
  },
  {
   "cell_type": "code",
   "execution_count": 121,
   "metadata": {},
   "outputs": [
    {
     "name": "stdout",
     "output_type": "stream",
     "text": [
      "Coefficient of determination: 0.75\n"
     ]
    }
   ],
   "source": [
    "r2 = regressor.score(X_test, y_test)\n",
    "print(f\"Coefficient of determination: {r2:.2f}\")"
   ]
  },
  {
   "attachments": {},
   "cell_type": "markdown",
   "metadata": {},
   "source": [
    "We can see that the coefficient of determination is 0.75 which is a good value. The data was centered in 2.1 and LinearRegression automatically adds an intercept. Thus the coefficient of determination R^2 is the centered R^2."
   ]
  },
  {
   "cell_type": "code",
   "execution_count": 122,
   "metadata": {},
   "outputs": [
    {
     "name": "stdout",
     "output_type": "stream",
     "text": [
      "[0.04819957 0.14019966 0.58786571 0.17108195]\n"
     ]
    }
   ],
   "source": [
    "weights = regressor.coef_\n",
    "print(weights)"
   ]
  },
  {
   "attachments": {},
   "cell_type": "markdown",
   "metadata": {},
   "source": [
    "Finally as expected we see that the most important feature is taste. The next most important features are palate and aroma, it seems palate is a bit more important than aroma."
   ]
  },
  {
   "attachments": {},
   "cell_type": "markdown",
   "metadata": {},
   "source": [
    "### Correlation between the rating aspects\n",
    "\n",
    "We will explore the correlation between the rating aspects by simply plotting a heatmap of the correlation matrix.\n"
   ]
  },
  {
   "cell_type": "code",
   "execution_count": 323,
   "metadata": {},
   "outputs": [],
   "source": [
    "multi_reg_df = pd.concat([pd.DataFrame(features_PCA), pd.DataFrame(target_PCA)], axis=1)\n",
    "multi_reg_df.columns = [features + [target]]"
   ]
  },
  {
   "cell_type": "code",
   "execution_count": 324,
   "metadata": {},
   "outputs": [
    {
     "data": {
      "text/html": [
       "<style type=\"text/css\">\n",
       "#T_93520_row0_col0, #T_93520_row1_col1, #T_93520_row2_col2, #T_93520_row3_col3, #T_93520_row4_col4 {\n",
       "  background-color: #08306b;\n",
       "  color: #f1f1f1;\n",
       "}\n",
       "#T_93520_row0_col1, #T_93520_row0_col2, #T_93520_row0_col3, #T_93520_row0_col4, #T_93520_row4_col0 {\n",
       "  background-color: #f7fbff;\n",
       "  color: #000000;\n",
       "}\n",
       "#T_93520_row1_col0, #T_93520_row2_col0 {\n",
       "  background-color: #f4f9fe;\n",
       "  color: #000000;\n",
       "}\n",
       "#T_93520_row1_col2, #T_93520_row2_col1 {\n",
       "  background-color: #7db8da;\n",
       "  color: #000000;\n",
       "}\n",
       "#T_93520_row1_col3 {\n",
       "  background-color: #e9f2fa;\n",
       "  color: #000000;\n",
       "}\n",
       "#T_93520_row1_col4 {\n",
       "  background-color: #a1cbe2;\n",
       "  color: #000000;\n",
       "}\n",
       "#T_93520_row2_col3 {\n",
       "  background-color: #afd1e7;\n",
       "  color: #000000;\n",
       "}\n",
       "#T_93520_row2_col4 {\n",
       "  background-color: #3c8cc3;\n",
       "  color: #f1f1f1;\n",
       "}\n",
       "#T_93520_row3_col0 {\n",
       "  background-color: #edf4fc;\n",
       "  color: #000000;\n",
       "}\n",
       "#T_93520_row3_col1 {\n",
       "  background-color: #e2edf8;\n",
       "  color: #000000;\n",
       "}\n",
       "#T_93520_row3_col2 {\n",
       "  background-color: #a8cee4;\n",
       "  color: #000000;\n",
       "}\n",
       "#T_93520_row3_col4 {\n",
       "  background-color: #add0e6;\n",
       "  color: #000000;\n",
       "}\n",
       "#T_93520_row4_col1 {\n",
       "  background-color: #a5cde3;\n",
       "  color: #000000;\n",
       "}\n",
       "#T_93520_row4_col2 {\n",
       "  background-color: #3e8ec4;\n",
       "  color: #f1f1f1;\n",
       "}\n",
       "#T_93520_row4_col3 {\n",
       "  background-color: #b9d6ea;\n",
       "  color: #000000;\n",
       "}\n",
       "</style>\n",
       "<table id=\"T_93520\">\n",
       "  <thead>\n",
       "    <tr>\n",
       "      <th class=\"blank level0\" >&nbsp;</th>\n",
       "      <th id=\"T_93520_level0_col0\" class=\"col_heading level0 col0\" >('appearance',)</th>\n",
       "      <th id=\"T_93520_level0_col1\" class=\"col_heading level0 col1\" >('aroma',)</th>\n",
       "      <th id=\"T_93520_level0_col2\" class=\"col_heading level0 col2\" >('taste',)</th>\n",
       "      <th id=\"T_93520_level0_col3\" class=\"col_heading level0 col3\" >('palate',)</th>\n",
       "      <th id=\"T_93520_level0_col4\" class=\"col_heading level0 col4\" >('overall',)</th>\n",
       "    </tr>\n",
       "  </thead>\n",
       "  <tbody>\n",
       "    <tr>\n",
       "      <th id=\"T_93520_level0_row0\" class=\"row_heading level0 row0\" >appearance</th>\n",
       "      <td id=\"T_93520_row0_col0\" class=\"data row0 col0\" >1.000000</td>\n",
       "      <td id=\"T_93520_row0_col1\" class=\"data row0 col1\" >0.574883</td>\n",
       "      <td id=\"T_93520_row0_col2\" class=\"data row0 col2\" >0.575271</td>\n",
       "      <td id=\"T_93520_row0_col3\" class=\"data row0 col3\" >0.590686</td>\n",
       "      <td id=\"T_93520_row0_col4\" class=\"data row0 col4\" >0.567657</td>\n",
       "    </tr>\n",
       "    <tr>\n",
       "      <th id=\"T_93520_level0_row1\" class=\"row_heading level0 row1\" >aroma</th>\n",
       "      <td id=\"T_93520_row1_col0\" class=\"data row1 col0\" >0.574883</td>\n",
       "      <td id=\"T_93520_row1_col1\" class=\"data row1 col1\" >1.000000</td>\n",
       "      <td id=\"T_93520_row1_col2\" class=\"data row1 col2\" >0.768254</td>\n",
       "      <td id=\"T_93520_row1_col3\" class=\"data row1 col3\" >0.619722</td>\n",
       "      <td id=\"T_93520_row1_col4\" class=\"data row1 col4\" >0.725403</td>\n",
       "    </tr>\n",
       "    <tr>\n",
       "      <th id=\"T_93520_level0_row2\" class=\"row_heading level0 row2\" >taste</th>\n",
       "      <td id=\"T_93520_row2_col0\" class=\"data row2 col0\" >0.575271</td>\n",
       "      <td id=\"T_93520_row2_col1\" class=\"data row2 col1\" >0.768254</td>\n",
       "      <td id=\"T_93520_row2_col2\" class=\"data row2 col2\" >1.000000</td>\n",
       "      <td id=\"T_93520_row2_col3\" class=\"data row2 col3\" >0.722105</td>\n",
       "      <td id=\"T_93520_row2_col4\" class=\"data row2 col4\" >0.846563</td>\n",
       "    </tr>\n",
       "    <tr>\n",
       "      <th id=\"T_93520_level0_row3\" class=\"row_heading level0 row3\" >palate</th>\n",
       "      <td id=\"T_93520_row3_col0\" class=\"data row3 col0\" >0.590686</td>\n",
       "      <td id=\"T_93520_row3_col1\" class=\"data row3 col1\" >0.619722</td>\n",
       "      <td id=\"T_93520_row3_col2\" class=\"data row3 col2\" >0.722105</td>\n",
       "      <td id=\"T_93520_row3_col3\" class=\"data row3 col3\" >1.000000</td>\n",
       "      <td id=\"T_93520_row3_col4\" class=\"data row3 col4\" >0.710442</td>\n",
       "    </tr>\n",
       "    <tr>\n",
       "      <th id=\"T_93520_level0_row4\" class=\"row_heading level0 row4\" >overall</th>\n",
       "      <td id=\"T_93520_row4_col0\" class=\"data row4 col0\" >0.567657</td>\n",
       "      <td id=\"T_93520_row4_col1\" class=\"data row4 col1\" >0.725403</td>\n",
       "      <td id=\"T_93520_row4_col2\" class=\"data row4 col2\" >0.846563</td>\n",
       "      <td id=\"T_93520_row4_col3\" class=\"data row4 col3\" >0.710442</td>\n",
       "      <td id=\"T_93520_row4_col4\" class=\"data row4 col4\" >1.000000</td>\n",
       "    </tr>\n",
       "  </tbody>\n",
       "</table>\n"
      ],
      "text/plain": [
       "<pandas.io.formats.style.Styler at 0x7fd462d19940>"
      ]
     },
     "execution_count": 324,
     "metadata": {},
     "output_type": "execute_result"
    }
   ],
   "source": [
    "# Create a correlation matrix \n",
    "corr_metrics = multi_reg_df.corr()\n",
    "corr_metrics.style.background_gradient(cmap='Blues')"
   ]
  },
  {
   "attachments": {},
   "cell_type": "markdown",
   "metadata": {},
   "source": [
    "### Let's dig deeper \n",
    "\n",
    "We take a look at 2 beers with low and high scores for taste. We will look at the distribution of the scores for the different features for these two beers.\n",
    "\n",
    "#### Mild taste beers\n",
    "\n",
    "We choose two known beer types for their mild taste : American Adjunct Lager (example Budweiser) and Pale Lager. "
   ]
  },
  {
   "cell_type": "code",
   "execution_count": 194,
   "metadata": {},
   "outputs": [
    {
     "name": "stdout",
     "output_type": "stream",
     "text": [
      "                mean\n",
      "appearance -1.655133\n",
      "aroma      -1.762767\n",
      "taste      -1.492675\n",
      "palate     -1.443979\n",
      "overall    -1.203801\n"
     ]
    },
    {
     "data": {
      "text/html": [
       "<style type=\"text/css\">\n",
       "#T_41ef5_row0_col0, #T_41ef5_row1_col1, #T_41ef5_row2_col2, #T_41ef5_row3_col3, #T_41ef5_row4_col4 {\n",
       "  background-color: #08306b;\n",
       "  color: #f1f1f1;\n",
       "}\n",
       "#T_41ef5_row0_col1, #T_41ef5_row0_col2, #T_41ef5_row0_col3, #T_41ef5_row0_col4, #T_41ef5_row4_col0 {\n",
       "  background-color: #f7fbff;\n",
       "  color: #000000;\n",
       "}\n",
       "#T_41ef5_row1_col0 {\n",
       "  background-color: #c9ddf0;\n",
       "  color: #000000;\n",
       "}\n",
       "#T_41ef5_row1_col2 {\n",
       "  background-color: #9dcae1;\n",
       "  color: #000000;\n",
       "}\n",
       "#T_41ef5_row1_col3 {\n",
       "  background-color: #d5e5f4;\n",
       "  color: #000000;\n",
       "}\n",
       "#T_41ef5_row1_col4 {\n",
       "  background-color: #c1d9ed;\n",
       "  color: #000000;\n",
       "}\n",
       "#T_41ef5_row2_col0 {\n",
       "  background-color: #dceaf6;\n",
       "  color: #000000;\n",
       "}\n",
       "#T_41ef5_row2_col1 {\n",
       "  background-color: #b9d6ea;\n",
       "  color: #000000;\n",
       "}\n",
       "#T_41ef5_row2_col3 {\n",
       "  background-color: #92c4de;\n",
       "  color: #000000;\n",
       "}\n",
       "#T_41ef5_row2_col4 {\n",
       "  background-color: #4e9acb;\n",
       "  color: #f1f1f1;\n",
       "}\n",
       "#T_41ef5_row3_col0 {\n",
       "  background-color: #d7e6f5;\n",
       "  color: #000000;\n",
       "}\n",
       "#T_41ef5_row3_col1 {\n",
       "  background-color: #e5eff9;\n",
       "  color: #000000;\n",
       "}\n",
       "#T_41ef5_row3_col2 {\n",
       "  background-color: #8abfdd;\n",
       "  color: #000000;\n",
       "}\n",
       "#T_41ef5_row3_col4 {\n",
       "  background-color: #97c6df;\n",
       "  color: #000000;\n",
       "}\n",
       "#T_41ef5_row4_col1 {\n",
       "  background-color: #f0f6fd;\n",
       "  color: #000000;\n",
       "}\n",
       "#T_41ef5_row4_col2 {\n",
       "  background-color: #64a9d3;\n",
       "  color: #f1f1f1;\n",
       "}\n",
       "#T_41ef5_row4_col3 {\n",
       "  background-color: #bed8ec;\n",
       "  color: #000000;\n",
       "}\n",
       "</style>\n",
       "<table id=\"T_41ef5\">\n",
       "  <thead>\n",
       "    <tr>\n",
       "      <th class=\"blank level0\" >&nbsp;</th>\n",
       "      <th id=\"T_41ef5_level0_col0\" class=\"col_heading level0 col0\" >appearance</th>\n",
       "      <th id=\"T_41ef5_level0_col1\" class=\"col_heading level0 col1\" >aroma</th>\n",
       "      <th id=\"T_41ef5_level0_col2\" class=\"col_heading level0 col2\" >taste</th>\n",
       "      <th id=\"T_41ef5_level0_col3\" class=\"col_heading level0 col3\" >palate</th>\n",
       "      <th id=\"T_41ef5_level0_col4\" class=\"col_heading level0 col4\" >overall</th>\n",
       "    </tr>\n",
       "  </thead>\n",
       "  <tbody>\n",
       "    <tr>\n",
       "      <th id=\"T_41ef5_level0_row0\" class=\"row_heading level0 row0\" >appearance</th>\n",
       "      <td id=\"T_41ef5_row0_col0\" class=\"data row0 col0\" >1.000000</td>\n",
       "      <td id=\"T_41ef5_row0_col1\" class=\"data row0 col1\" >0.606098</td>\n",
       "      <td id=\"T_41ef5_row0_col2\" class=\"data row0 col2\" >0.552732</td>\n",
       "      <td id=\"T_41ef5_row0_col3\" class=\"data row0 col3\" >0.567048</td>\n",
       "      <td id=\"T_41ef5_row0_col4\" class=\"data row0 col4\" >0.484039</td>\n",
       "    </tr>\n",
       "    <tr>\n",
       "      <th id=\"T_41ef5_level0_row1\" class=\"row_heading level0 row1\" >aroma</th>\n",
       "      <td id=\"T_41ef5_row1_col0\" class=\"data row1 col0\" >0.606098</td>\n",
       "      <td id=\"T_41ef5_row1_col1\" class=\"data row1 col1\" >1.000000</td>\n",
       "      <td id=\"T_41ef5_row1_col2\" class=\"data row1 col2\" >0.720952</td>\n",
       "      <td id=\"T_41ef5_row1_col3\" class=\"data row1 col3\" >0.642395</td>\n",
       "      <td id=\"T_41ef5_row1_col4\" class=\"data row1 col4\" >0.621099</td>\n",
       "    </tr>\n",
       "    <tr>\n",
       "      <th id=\"T_41ef5_level0_row2\" class=\"row_heading level0 row2\" >taste</th>\n",
       "      <td id=\"T_41ef5_row2_col0\" class=\"data row2 col0\" >0.552732</td>\n",
       "      <td id=\"T_41ef5_row2_col1\" class=\"data row2 col1\" >0.720952</td>\n",
       "      <td id=\"T_41ef5_row2_col2\" class=\"data row2 col2\" >1.000000</td>\n",
       "      <td id=\"T_41ef5_row2_col3\" class=\"data row2 col3\" >0.741753</td>\n",
       "      <td id=\"T_41ef5_row2_col4\" class=\"data row2 col4\" >0.786518</td>\n",
       "    </tr>\n",
       "    <tr>\n",
       "      <th id=\"T_41ef5_level0_row3\" class=\"row_heading level0 row3\" >palate</th>\n",
       "      <td id=\"T_41ef5_row3_col0\" class=\"data row3 col0\" >0.567048</td>\n",
       "      <td id=\"T_41ef5_row3_col1\" class=\"data row3 col1\" >0.642395</td>\n",
       "      <td id=\"T_41ef5_row3_col2\" class=\"data row3 col2\" >0.741753</td>\n",
       "      <td id=\"T_41ef5_row3_col3\" class=\"data row3 col3\" >1.000000</td>\n",
       "      <td id=\"T_41ef5_row3_col4\" class=\"data row3 col4\" >0.686194</td>\n",
       "    </tr>\n",
       "    <tr>\n",
       "      <th id=\"T_41ef5_level0_row4\" class=\"row_heading level0 row4\" >overall</th>\n",
       "      <td id=\"T_41ef5_row4_col0\" class=\"data row4 col0\" >0.484039</td>\n",
       "      <td id=\"T_41ef5_row4_col1\" class=\"data row4 col1\" >0.621099</td>\n",
       "      <td id=\"T_41ef5_row4_col2\" class=\"data row4 col2\" >0.786518</td>\n",
       "      <td id=\"T_41ef5_row4_col3\" class=\"data row4 col3\" >0.686194</td>\n",
       "      <td id=\"T_41ef5_row4_col4\" class=\"data row4 col4\" >1.000000</td>\n",
       "    </tr>\n",
       "  </tbody>\n",
       "</table>\n"
      ],
      "text/plain": [
       "<pandas.io.formats.style.Styler at 0x7fd4640efaf0>"
      ]
     },
     "execution_count": 194,
     "metadata": {},
     "output_type": "execute_result"
    }
   ],
   "source": [
    "AALager = df_ratings[features + [target]][df_ratings['style'] =='American Adjunct Lager']\n",
    "AALager_mean = AALager[features + [target]].mean().to_frame()\n",
    "AALager_mean.columns = ['mean']\n",
    "print(AALager_mean)\n",
    "\n",
    "corr_metrics = AALager.corr()\n",
    "corr_metrics.style.background_gradient(cmap='Blues')"
   ]
  },
  {
   "cell_type": "code",
   "execution_count": 195,
   "metadata": {},
   "outputs": [
    {
     "name": "stdout",
     "output_type": "stream",
     "text": [
      "                mean\n",
      "appearance -1.203661\n",
      "aroma      -1.525418\n",
      "taste      -1.413151\n",
      "palate     -1.114865\n",
      "overall    -1.493772\n"
     ]
    },
    {
     "data": {
      "text/html": [
       "<style type=\"text/css\">\n",
       "#T_e3b26_row0_col0, #T_e3b26_row1_col1, #T_e3b26_row2_col2, #T_e3b26_row3_col3, #T_e3b26_row4_col4 {\n",
       "  background-color: #08306b;\n",
       "  color: #f1f1f1;\n",
       "}\n",
       "#T_e3b26_row0_col1, #T_e3b26_row0_col2, #T_e3b26_row0_col3, #T_e3b26_row0_col4, #T_e3b26_row4_col0 {\n",
       "  background-color: #f7fbff;\n",
       "  color: #000000;\n",
       "}\n",
       "#T_e3b26_row1_col0 {\n",
       "  background-color: #f6faff;\n",
       "  color: #000000;\n",
       "}\n",
       "#T_e3b26_row1_col2 {\n",
       "  background-color: #71b1d7;\n",
       "  color: #f1f1f1;\n",
       "}\n",
       "#T_e3b26_row1_col3 {\n",
       "  background-color: #eef5fc;\n",
       "  color: #000000;\n",
       "}\n",
       "#T_e3b26_row1_col4 {\n",
       "  background-color: #91c3de;\n",
       "  color: #000000;\n",
       "}\n",
       "#T_e3b26_row2_col0 {\n",
       "  background-color: #f3f8fe;\n",
       "  color: #000000;\n",
       "}\n",
       "#T_e3b26_row2_col1 {\n",
       "  background-color: #6dafd7;\n",
       "  color: #f1f1f1;\n",
       "}\n",
       "#T_e3b26_row2_col3 {\n",
       "  background-color: #cadef0;\n",
       "  color: #000000;\n",
       "}\n",
       "#T_e3b26_row2_col4 {\n",
       "  background-color: #3d8dc4;\n",
       "  color: #f1f1f1;\n",
       "}\n",
       "#T_e3b26_row3_col0 {\n",
       "  background-color: #e9f2fa;\n",
       "  color: #000000;\n",
       "}\n",
       "#T_e3b26_row3_col1 {\n",
       "  background-color: #e2edf8;\n",
       "  color: #000000;\n",
       "}\n",
       "#T_e3b26_row3_col2 {\n",
       "  background-color: #bfd8ed;\n",
       "  color: #000000;\n",
       "}\n",
       "#T_e3b26_row3_col4 {\n",
       "  background-color: #c7dcef;\n",
       "  color: #000000;\n",
       "}\n",
       "#T_e3b26_row4_col1 {\n",
       "  background-color: #92c4de;\n",
       "  color: #000000;\n",
       "}\n",
       "#T_e3b26_row4_col2 {\n",
       "  background-color: #3f8fc5;\n",
       "  color: #f1f1f1;\n",
       "}\n",
       "#T_e3b26_row4_col3 {\n",
       "  background-color: #d2e3f3;\n",
       "  color: #000000;\n",
       "}\n",
       "</style>\n",
       "<table id=\"T_e3b26\">\n",
       "  <thead>\n",
       "    <tr>\n",
       "      <th class=\"blank level0\" >&nbsp;</th>\n",
       "      <th id=\"T_e3b26_level0_col0\" class=\"col_heading level0 col0\" >appearance</th>\n",
       "      <th id=\"T_e3b26_level0_col1\" class=\"col_heading level0 col1\" >aroma</th>\n",
       "      <th id=\"T_e3b26_level0_col2\" class=\"col_heading level0 col2\" >taste</th>\n",
       "      <th id=\"T_e3b26_level0_col3\" class=\"col_heading level0 col3\" >palate</th>\n",
       "      <th id=\"T_e3b26_level0_col4\" class=\"col_heading level0 col4\" >overall</th>\n",
       "    </tr>\n",
       "  </thead>\n",
       "  <tbody>\n",
       "    <tr>\n",
       "      <th id=\"T_e3b26_level0_row0\" class=\"row_heading level0 row0\" >appearance</th>\n",
       "      <td id=\"T_e3b26_row0_col0\" class=\"data row0 col0\" >1.000000</td>\n",
       "      <td id=\"T_e3b26_row0_col1\" class=\"data row0 col1\" >0.584957</td>\n",
       "      <td id=\"T_e3b26_row0_col2\" class=\"data row0 col2\" >0.591192</td>\n",
       "      <td id=\"T_e3b26_row0_col3\" class=\"data row0 col3\" >0.612008</td>\n",
       "      <td id=\"T_e3b26_row0_col4\" class=\"data row0 col4\" >0.582359</td>\n",
       "    </tr>\n",
       "    <tr>\n",
       "      <th id=\"T_e3b26_level0_row1\" class=\"row_heading level0 row1\" >aroma</th>\n",
       "      <td id=\"T_e3b26_row1_col0\" class=\"data row1 col0\" >0.584957</td>\n",
       "      <td id=\"T_e3b26_row1_col1\" class=\"data row1 col1\" >1.000000</td>\n",
       "      <td id=\"T_e3b26_row1_col2\" class=\"data row1 col2\" >0.790397</td>\n",
       "      <td id=\"T_e3b26_row1_col3\" class=\"data row1 col3\" >0.629869</td>\n",
       "      <td id=\"T_e3b26_row1_col4\" class=\"data row1 col4\" >0.752618</td>\n",
       "    </tr>\n",
       "    <tr>\n",
       "      <th id=\"T_e3b26_level0_row2\" class=\"row_heading level0 row2\" >taste</th>\n",
       "      <td id=\"T_e3b26_row2_col0\" class=\"data row2 col0\" >0.591192</td>\n",
       "      <td id=\"T_e3b26_row2_col1\" class=\"data row2 col1\" >0.790397</td>\n",
       "      <td id=\"T_e3b26_row2_col2\" class=\"data row2 col2\" >1.000000</td>\n",
       "      <td id=\"T_e3b26_row2_col3\" class=\"data row2 col3\" >0.701407</td>\n",
       "      <td id=\"T_e3b26_row2_col4\" class=\"data row2 col4\" >0.850653</td>\n",
       "    </tr>\n",
       "    <tr>\n",
       "      <th id=\"T_e3b26_level0_row3\" class=\"row_heading level0 row3\" >palate</th>\n",
       "      <td id=\"T_e3b26_row3_col0\" class=\"data row3 col0\" >0.612008</td>\n",
       "      <td id=\"T_e3b26_row3_col1\" class=\"data row3 col1\" >0.629869</td>\n",
       "      <td id=\"T_e3b26_row3_col2\" class=\"data row3 col2\" >0.701407</td>\n",
       "      <td id=\"T_e3b26_row3_col3\" class=\"data row3 col3\" >1.000000</td>\n",
       "      <td id=\"T_e3b26_row3_col4\" class=\"data row3 col4\" >0.684951</td>\n",
       "    </tr>\n",
       "    <tr>\n",
       "      <th id=\"T_e3b26_level0_row4\" class=\"row_heading level0 row4\" >overall</th>\n",
       "      <td id=\"T_e3b26_row4_col0\" class=\"data row4 col0\" >0.582359</td>\n",
       "      <td id=\"T_e3b26_row4_col1\" class=\"data row4 col1\" >0.752618</td>\n",
       "      <td id=\"T_e3b26_row4_col2\" class=\"data row4 col2\" >0.850653</td>\n",
       "      <td id=\"T_e3b26_row4_col3\" class=\"data row4 col3\" >0.684951</td>\n",
       "      <td id=\"T_e3b26_row4_col4\" class=\"data row4 col4\" >1.000000</td>\n",
       "    </tr>\n",
       "  </tbody>\n",
       "</table>\n"
      ],
      "text/plain": [
       "<pandas.io.formats.style.Styler at 0x7fd43b72faf0>"
      ]
     },
     "execution_count": 195,
     "metadata": {},
     "output_type": "execute_result"
    }
   ],
   "source": [
    "Pale_lager = df_ratings[features + [target]][df_ratings['style'] =='Pale Lager']\n",
    "Pale_lager_mean = Pale_lager[features + [target]].mean().to_frame()\n",
    "Pale_lager_mean.columns = ['mean']\n",
    "print(Pale_lager_mean)\n",
    "\n",
    "corr_metrics = Pale_lager.corr()\n",
    "corr_metrics.style.background_gradient(cmap='Blues')"
   ]
  },
  {
   "attachments": {},
   "cell_type": "markdown",
   "metadata": {},
   "source": [
    "#### Strong taste beers\n",
    "\n",
    "We choose two known beer types for their strong taste : IPA and Stout."
   ]
  },
  {
   "cell_type": "code",
   "execution_count": 196,
   "metadata": {},
   "outputs": [
    {
     "name": "stdout",
     "output_type": "stream",
     "text": [
      "                mean\n",
      "appearance  0.138157\n",
      "aroma       0.310792\n",
      "taste       0.261404\n",
      "palate      0.190069\n",
      "overall     0.288252\n"
     ]
    },
    {
     "data": {
      "text/html": [
       "<style type=\"text/css\">\n",
       "#T_c6719_row0_col0, #T_c6719_row1_col1, #T_c6719_row2_col2, #T_c6719_row3_col3, #T_c6719_row4_col4 {\n",
       "  background-color: #08306b;\n",
       "  color: #f1f1f1;\n",
       "}\n",
       "#T_c6719_row0_col1, #T_c6719_row0_col2, #T_c6719_row0_col4, #T_c6719_row1_col0, #T_c6719_row1_col3 {\n",
       "  background-color: #f7fbff;\n",
       "  color: #000000;\n",
       "}\n",
       "#T_c6719_row0_col3 {\n",
       "  background-color: #ebf3fb;\n",
       "  color: #000000;\n",
       "}\n",
       "#T_c6719_row1_col2 {\n",
       "  background-color: #7cb7da;\n",
       "  color: #000000;\n",
       "}\n",
       "#T_c6719_row1_col4 {\n",
       "  background-color: #91c3de;\n",
       "  color: #000000;\n",
       "}\n",
       "#T_c6719_row2_col0 {\n",
       "  background-color: #f2f7fd;\n",
       "  color: #000000;\n",
       "}\n",
       "#T_c6719_row2_col1 {\n",
       "  background-color: #75b4d8;\n",
       "  color: #000000;\n",
       "}\n",
       "#T_c6719_row2_col3 {\n",
       "  background-color: #c4daee;\n",
       "  color: #000000;\n",
       "}\n",
       "#T_c6719_row2_col4 {\n",
       "  background-color: #3c8cc3;\n",
       "  color: #f1f1f1;\n",
       "}\n",
       "#T_c6719_row3_col0 {\n",
       "  background-color: #d6e5f4;\n",
       "  color: #000000;\n",
       "}\n",
       "#T_c6719_row3_col1 {\n",
       "  background-color: #e0ecf8;\n",
       "  color: #000000;\n",
       "}\n",
       "#T_c6719_row3_col2 {\n",
       "  background-color: #afd1e7;\n",
       "  color: #000000;\n",
       "}\n",
       "#T_c6719_row3_col4 {\n",
       "  background-color: #b5d4e9;\n",
       "  color: #000000;\n",
       "}\n",
       "#T_c6719_row4_col0 {\n",
       "  background-color: #f4f9fe;\n",
       "  color: #000000;\n",
       "}\n",
       "#T_c6719_row4_col1 {\n",
       "  background-color: #8cc0dd;\n",
       "  color: #000000;\n",
       "}\n",
       "#T_c6719_row4_col2 {\n",
       "  background-color: #3d8dc4;\n",
       "  color: #f1f1f1;\n",
       "}\n",
       "#T_c6719_row4_col3 {\n",
       "  background-color: #cadef0;\n",
       "  color: #000000;\n",
       "}\n",
       "</style>\n",
       "<table id=\"T_c6719\">\n",
       "  <thead>\n",
       "    <tr>\n",
       "      <th class=\"blank level0\" >&nbsp;</th>\n",
       "      <th id=\"T_c6719_level0_col0\" class=\"col_heading level0 col0\" >appearance</th>\n",
       "      <th id=\"T_c6719_level0_col1\" class=\"col_heading level0 col1\" >aroma</th>\n",
       "      <th id=\"T_c6719_level0_col2\" class=\"col_heading level0 col2\" >taste</th>\n",
       "      <th id=\"T_c6719_level0_col3\" class=\"col_heading level0 col3\" >palate</th>\n",
       "      <th id=\"T_c6719_level0_col4\" class=\"col_heading level0 col4\" >overall</th>\n",
       "    </tr>\n",
       "  </thead>\n",
       "  <tbody>\n",
       "    <tr>\n",
       "      <th id=\"T_c6719_level0_row0\" class=\"row_heading level0 row0\" >appearance</th>\n",
       "      <td id=\"T_c6719_row0_col0\" class=\"data row0 col0\" >1.000000</td>\n",
       "      <td id=\"T_c6719_row0_col1\" class=\"data row0 col1\" >0.310514</td>\n",
       "      <td id=\"T_c6719_row0_col2\" class=\"data row0 col2\" >0.330532</td>\n",
       "      <td id=\"T_c6719_row0_col3\" class=\"data row0 col3\" >0.426723</td>\n",
       "      <td id=\"T_c6719_row0_col4\" class=\"data row0 col4\" >0.323251</td>\n",
       "    </tr>\n",
       "    <tr>\n",
       "      <th id=\"T_c6719_level0_row1\" class=\"row_heading level0 row1\" >aroma</th>\n",
       "      <td id=\"T_c6719_row1_col0\" class=\"data row1 col0\" >0.310514</td>\n",
       "      <td id=\"T_c6719_row1_col1\" class=\"data row1 col1\" >1.000000</td>\n",
       "      <td id=\"T_c6719_row1_col2\" class=\"data row1 col2\" >0.638385</td>\n",
       "      <td id=\"T_c6719_row1_col3\" class=\"data row1 col3\" >0.389967</td>\n",
       "      <td id=\"T_c6719_row1_col4\" class=\"data row1 col4\" >0.600414</td>\n",
       "    </tr>\n",
       "    <tr>\n",
       "      <th id=\"T_c6719_level0_row2\" class=\"row_heading level0 row2\" >taste</th>\n",
       "      <td id=\"T_c6719_row2_col0\" class=\"data row2 col0\" >0.330532</td>\n",
       "      <td id=\"T_c6719_row2_col1\" class=\"data row2 col1\" >0.638385</td>\n",
       "      <td id=\"T_c6719_row2_col2\" class=\"data row2 col2\" >1.000000</td>\n",
       "      <td id=\"T_c6719_row2_col3\" class=\"data row2 col3\" >0.545122</td>\n",
       "      <td id=\"T_c6719_row2_col4\" class=\"data row2 col4\" >0.761574</td>\n",
       "    </tr>\n",
       "    <tr>\n",
       "      <th id=\"T_c6719_level0_row3\" class=\"row_heading level0 row3\" >palate</th>\n",
       "      <td id=\"T_c6719_row3_col0\" class=\"data row3 col0\" >0.426723</td>\n",
       "      <td id=\"T_c6719_row3_col1\" class=\"data row3 col1\" >0.389967</td>\n",
       "      <td id=\"T_c6719_row3_col2\" class=\"data row3 col2\" >0.545122</td>\n",
       "      <td id=\"T_c6719_row3_col3\" class=\"data row3 col3\" >1.000000</td>\n",
       "      <td id=\"T_c6719_row3_col4\" class=\"data row3 col4\" >0.529104</td>\n",
       "    </tr>\n",
       "    <tr>\n",
       "      <th id=\"T_c6719_level0_row4\" class=\"row_heading level0 row4\" >overall</th>\n",
       "      <td id=\"T_c6719_row4_col0\" class=\"data row4 col0\" >0.323251</td>\n",
       "      <td id=\"T_c6719_row4_col1\" class=\"data row4 col1\" >0.600414</td>\n",
       "      <td id=\"T_c6719_row4_col2\" class=\"data row4 col2\" >0.761574</td>\n",
       "      <td id=\"T_c6719_row4_col3\" class=\"data row4 col3\" >0.529104</td>\n",
       "      <td id=\"T_c6719_row4_col4\" class=\"data row4 col4\" >1.000000</td>\n",
       "    </tr>\n",
       "  </tbody>\n",
       "</table>\n"
      ],
      "text/plain": [
       "<pandas.io.formats.style.Styler at 0x7fd4720d3310>"
      ]
     },
     "execution_count": 196,
     "metadata": {},
     "output_type": "execute_result"
    }
   ],
   "source": [
    "ipa = df_ratings[features + [target]][df_ratings['style'] =='India Pale Ale (IPA)']\n",
    "ipa_mean = ipa[features + [target]].mean().to_frame()\n",
    "ipa_mean.columns = ['mean']\n",
    "print(ipa_mean)\n",
    "\n",
    "corr_metrics = ipa.corr()\n",
    "corr_metrics.style.background_gradient(cmap='Blues')"
   ]
  },
  {
   "cell_type": "code",
   "execution_count": 198,
   "metadata": {},
   "outputs": [
    {
     "name": "stdout",
     "output_type": "stream",
     "text": [
      "                mean\n",
      "appearance  0.539280\n",
      "aroma       0.419297\n",
      "taste       0.382295\n",
      "palate      0.296053\n",
      "overall     0.404042\n"
     ]
    },
    {
     "data": {
      "text/html": [
       "<style type=\"text/css\">\n",
       "#T_34e11_row0_col0, #T_34e11_row1_col1, #T_34e11_row2_col2, #T_34e11_row3_col3, #T_34e11_row4_col4 {\n",
       "  background-color: #08306b;\n",
       "  color: #f1f1f1;\n",
       "}\n",
       "#T_34e11_row0_col1, #T_34e11_row0_col2, #T_34e11_row0_col4, #T_34e11_row1_col0, #T_34e11_row1_col3 {\n",
       "  background-color: #f7fbff;\n",
       "  color: #000000;\n",
       "}\n",
       "#T_34e11_row0_col3 {\n",
       "  background-color: #ecf4fb;\n",
       "  color: #000000;\n",
       "}\n",
       "#T_34e11_row1_col2, #T_34e11_row4_col1 {\n",
       "  background-color: #95c5df;\n",
       "  color: #000000;\n",
       "}\n",
       "#T_34e11_row1_col4 {\n",
       "  background-color: #a6cee4;\n",
       "  color: #000000;\n",
       "}\n",
       "#T_34e11_row2_col0 {\n",
       "  background-color: #eaf3fb;\n",
       "  color: #000000;\n",
       "}\n",
       "#T_34e11_row2_col1 {\n",
       "  background-color: #85bcdc;\n",
       "  color: #000000;\n",
       "}\n",
       "#T_34e11_row2_col3 {\n",
       "  background-color: #bad6eb;\n",
       "  color: #000000;\n",
       "}\n",
       "#T_34e11_row2_col4 {\n",
       "  background-color: #3b8bc2;\n",
       "  color: #f1f1f1;\n",
       "}\n",
       "#T_34e11_row3_col0 {\n",
       "  background-color: #d8e7f5;\n",
       "  color: #000000;\n",
       "}\n",
       "#T_34e11_row3_col1 {\n",
       "  background-color: #e2edf8;\n",
       "  color: #000000;\n",
       "}\n",
       "#T_34e11_row3_col2 {\n",
       "  background-color: #afd1e7;\n",
       "  color: #000000;\n",
       "}\n",
       "#T_34e11_row3_col4 {\n",
       "  background-color: #b2d2e8;\n",
       "  color: #000000;\n",
       "}\n",
       "#T_34e11_row4_col0 {\n",
       "  background-color: #e9f2fa;\n",
       "  color: #000000;\n",
       "}\n",
       "#T_34e11_row4_col2 {\n",
       "  background-color: #3a8ac2;\n",
       "  color: #f1f1f1;\n",
       "}\n",
       "#T_34e11_row4_col3 {\n",
       "  background-color: #bcd7eb;\n",
       "  color: #000000;\n",
       "}\n",
       "</style>\n",
       "<table id=\"T_34e11\">\n",
       "  <thead>\n",
       "    <tr>\n",
       "      <th class=\"blank level0\" >&nbsp;</th>\n",
       "      <th id=\"T_34e11_level0_col0\" class=\"col_heading level0 col0\" >appearance</th>\n",
       "      <th id=\"T_34e11_level0_col1\" class=\"col_heading level0 col1\" >aroma</th>\n",
       "      <th id=\"T_34e11_level0_col2\" class=\"col_heading level0 col2\" >taste</th>\n",
       "      <th id=\"T_34e11_level0_col3\" class=\"col_heading level0 col3\" >palate</th>\n",
       "      <th id=\"T_34e11_level0_col4\" class=\"col_heading level0 col4\" >overall</th>\n",
       "    </tr>\n",
       "  </thead>\n",
       "  <tbody>\n",
       "    <tr>\n",
       "      <th id=\"T_34e11_level0_row0\" class=\"row_heading level0 row0\" >appearance</th>\n",
       "      <td id=\"T_34e11_row0_col0\" class=\"data row0 col0\" >1.000000</td>\n",
       "      <td id=\"T_34e11_row0_col1\" class=\"data row0 col1\" >0.311131</td>\n",
       "      <td id=\"T_34e11_row0_col2\" class=\"data row0 col2\" >0.355730</td>\n",
       "      <td id=\"T_34e11_row0_col3\" class=\"data row0 col3\" >0.421298</td>\n",
       "      <td id=\"T_34e11_row0_col4\" class=\"data row0 col4\" >0.360406</td>\n",
       "    </tr>\n",
       "    <tr>\n",
       "      <th id=\"T_34e11_level0_row1\" class=\"row_heading level0 row1\" >aroma</th>\n",
       "      <td id=\"T_34e11_row1_col0\" class=\"data row1 col0\" >0.311131</td>\n",
       "      <td id=\"T_34e11_row1_col1\" class=\"data row1 col1\" >1.000000</td>\n",
       "      <td id=\"T_34e11_row1_col2\" class=\"data row1 col2\" >0.610456</td>\n",
       "      <td id=\"T_34e11_row1_col3\" class=\"data row1 col3\" >0.386428</td>\n",
       "      <td id=\"T_34e11_row1_col4\" class=\"data row1 col4\" >0.585246</td>\n",
       "    </tr>\n",
       "    <tr>\n",
       "      <th id=\"T_34e11_level0_row2\" class=\"row_heading level0 row2\" >taste</th>\n",
       "      <td id=\"T_34e11_row2_col0\" class=\"data row2 col0\" >0.355730</td>\n",
       "      <td id=\"T_34e11_row2_col1\" class=\"data row2 col1\" >0.610456</td>\n",
       "      <td id=\"T_34e11_row2_col2\" class=\"data row2 col2\" >1.000000</td>\n",
       "      <td id=\"T_34e11_row2_col3\" class=\"data row2 col3\" >0.562320</td>\n",
       "      <td id=\"T_34e11_row2_col4\" class=\"data row2 col4\" >0.777420</td>\n",
       "    </tr>\n",
       "    <tr>\n",
       "      <th id=\"T_34e11_level0_row3\" class=\"row_heading level0 row3\" >palate</th>\n",
       "      <td id=\"T_34e11_row3_col0\" class=\"data row3 col0\" >0.421298</td>\n",
       "      <td id=\"T_34e11_row3_col1\" class=\"data row3 col1\" >0.386428</td>\n",
       "      <td id=\"T_34e11_row3_col2\" class=\"data row3 col2\" >0.562320</td>\n",
       "      <td id=\"T_34e11_row3_col3\" class=\"data row3 col3\" >1.000000</td>\n",
       "      <td id=\"T_34e11_row3_col4\" class=\"data row3 col4\" >0.560987</td>\n",
       "    </tr>\n",
       "    <tr>\n",
       "      <th id=\"T_34e11_level0_row4\" class=\"row_heading level0 row4\" >overall</th>\n",
       "      <td id=\"T_34e11_row4_col0\" class=\"data row4 col0\" >0.360406</td>\n",
       "      <td id=\"T_34e11_row4_col1\" class=\"data row4 col1\" >0.585246</td>\n",
       "      <td id=\"T_34e11_row4_col2\" class=\"data row4 col2\" >0.777420</td>\n",
       "      <td id=\"T_34e11_row4_col3\" class=\"data row4 col3\" >0.560987</td>\n",
       "      <td id=\"T_34e11_row4_col4\" class=\"data row4 col4\" >1.000000</td>\n",
       "    </tr>\n",
       "  </tbody>\n",
       "</table>\n"
      ],
      "text/plain": [
       "<pandas.io.formats.style.Styler at 0x7fd43b71f370>"
      ]
     },
     "execution_count": 198,
     "metadata": {},
     "output_type": "execute_result"
    }
   ],
   "source": [
    "stout = df_ratings[features + [target]][df_ratings['style'] == 'Stout'] \n",
    "stout[features + [target]].mean().to_frame()\n",
    "\n",
    "stout = df_ratings[features + [target]][df_ratings['style'] =='Stout']\n",
    "stout_mean = stout[features + [target]].mean().to_frame()\n",
    "stout_mean.columns = ['mean']\n",
    "print(stout_mean)\n",
    "\n",
    "corr_metrics = stout.corr()\n",
    "corr_metrics.style.background_gradient(cmap='Blues')"
   ]
  },
  {
   "cell_type": "code",
   "execution_count": 344,
   "metadata": {},
   "outputs": [],
   "source": [
    "beerselection = ['India Pale Ale (IPA)', 'Stout', 'Pale Lager', 'American Adjunct Lager']\n",
    "\n",
    "beerstyle_taste = df_ratings[df_ratings['style'].isin(beerselection)].groupby(['style', 'US_Code_User']).size().reset_index(name='count_users')\n",
    "beerstyle_taste.index = beerstyle_taste['US_Code_User']\n",
    "beerstyle_taste = beerstyle_taste.pivot(columns='style', values='count_users')\n",
    "beerstyle_taste['total'] = beerstyle_taste.sum(axis=1)\n",
    "beerstyle_taste.reset_index(inplace=True)\n",
    "\n",
    "beerstyle_taste['American Adjunct Lager'] = beerstyle_taste['American Adjunct Lager']/beerstyle_taste['total']\n",
    "beerstyle_taste['India Pale Ale (IPA)'] = beerstyle_taste['India Pale Ale (IPA)']/beerstyle_taste['total']\n",
    "beerstyle_taste['Pale Lager'] = beerstyle_taste['Pale Lager']/beerstyle_taste['total']\n",
    "beerstyle_taste['Stout'] = beerstyle_taste['Stout']/beerstyle_taste['total']"
   ]
  },
  {
   "cell_type": "code",
   "execution_count": 345,
   "metadata": {},
   "outputs": [
    {
     "data": {
      "text/html": [
       "<div>\n",
       "<style scoped>\n",
       "    .dataframe tbody tr th:only-of-type {\n",
       "        vertical-align: middle;\n",
       "    }\n",
       "\n",
       "    .dataframe tbody tr th {\n",
       "        vertical-align: top;\n",
       "    }\n",
       "\n",
       "    .dataframe thead th {\n",
       "        text-align: right;\n",
       "    }\n",
       "</style>\n",
       "<table border=\"1\" class=\"dataframe\">\n",
       "  <thead>\n",
       "    <tr style=\"text-align: right;\">\n",
       "      <th>style</th>\n",
       "      <th>US_Code_User</th>\n",
       "      <th>American Adjunct Lager</th>\n",
       "      <th>India Pale Ale (IPA)</th>\n",
       "      <th>Pale Lager</th>\n",
       "      <th>Stout</th>\n",
       "      <th>total</th>\n",
       "    </tr>\n",
       "  </thead>\n",
       "  <tbody>\n",
       "    <tr>\n",
       "      <th>0</th>\n",
       "      <td>AK</td>\n",
       "      <td>0.084052</td>\n",
       "      <td>0.316810</td>\n",
       "      <td>0.456897</td>\n",
       "      <td>0.142241</td>\n",
       "      <td>464</td>\n",
       "    </tr>\n",
       "    <tr>\n",
       "      <th>1</th>\n",
       "      <td>AL</td>\n",
       "      <td>0.043243</td>\n",
       "      <td>0.317117</td>\n",
       "      <td>0.542943</td>\n",
       "      <td>0.096697</td>\n",
       "      <td>1665</td>\n",
       "    </tr>\n",
       "    <tr>\n",
       "      <th>2</th>\n",
       "      <td>AR</td>\n",
       "      <td>0.095238</td>\n",
       "      <td>0.190476</td>\n",
       "      <td>0.601732</td>\n",
       "      <td>0.112554</td>\n",
       "      <td>462</td>\n",
       "    </tr>\n",
       "    <tr>\n",
       "      <th>3</th>\n",
       "      <td>AZ</td>\n",
       "      <td>0.052368</td>\n",
       "      <td>0.364225</td>\n",
       "      <td>0.465431</td>\n",
       "      <td>0.117976</td>\n",
       "      <td>3399</td>\n",
       "    </tr>\n",
       "    <tr>\n",
       "      <th>4</th>\n",
       "      <td>CA</td>\n",
       "      <td>0.067877</td>\n",
       "      <td>0.368663</td>\n",
       "      <td>0.454567</td>\n",
       "      <td>0.108893</td>\n",
       "      <td>16530</td>\n",
       "    </tr>\n",
       "    <tr>\n",
       "      <th>5</th>\n",
       "      <td>CO</td>\n",
       "      <td>0.068836</td>\n",
       "      <td>0.378807</td>\n",
       "      <td>0.432833</td>\n",
       "      <td>0.119524</td>\n",
       "      <td>4794</td>\n",
       "    </tr>\n",
       "    <tr>\n",
       "      <th>6</th>\n",
       "      <td>CT</td>\n",
       "      <td>0.127574</td>\n",
       "      <td>0.366705</td>\n",
       "      <td>0.407895</td>\n",
       "      <td>0.097826</td>\n",
       "      <td>1748</td>\n",
       "    </tr>\n",
       "    <tr>\n",
       "      <th>7</th>\n",
       "      <td>DE</td>\n",
       "      <td>0.027548</td>\n",
       "      <td>0.435262</td>\n",
       "      <td>0.426997</td>\n",
       "      <td>0.110193</td>\n",
       "      <td>726</td>\n",
       "    </tr>\n",
       "    <tr>\n",
       "      <th>8</th>\n",
       "      <td>FL</td>\n",
       "      <td>0.065786</td>\n",
       "      <td>0.302403</td>\n",
       "      <td>0.528313</td>\n",
       "      <td>0.103498</td>\n",
       "      <td>8406</td>\n",
       "    </tr>\n",
       "    <tr>\n",
       "      <th>9</th>\n",
       "      <td>GA</td>\n",
       "      <td>0.073776</td>\n",
       "      <td>0.358868</td>\n",
       "      <td>0.463983</td>\n",
       "      <td>0.103373</td>\n",
       "      <td>4595</td>\n",
       "    </tr>\n",
       "    <tr>\n",
       "      <th>10</th>\n",
       "      <td>HI</td>\n",
       "      <td>0.240566</td>\n",
       "      <td>0.207547</td>\n",
       "      <td>0.448113</td>\n",
       "      <td>0.103774</td>\n",
       "      <td>212</td>\n",
       "    </tr>\n",
       "    <tr>\n",
       "      <th>11</th>\n",
       "      <td>IA</td>\n",
       "      <td>0.090826</td>\n",
       "      <td>0.293119</td>\n",
       "      <td>0.495872</td>\n",
       "      <td>0.120183</td>\n",
       "      <td>2180</td>\n",
       "    </tr>\n",
       "    <tr>\n",
       "      <th>12</th>\n",
       "      <td>ID</td>\n",
       "      <td>0.032073</td>\n",
       "      <td>0.407789</td>\n",
       "      <td>0.426117</td>\n",
       "      <td>0.134021</td>\n",
       "      <td>1746</td>\n",
       "    </tr>\n",
       "    <tr>\n",
       "      <th>13</th>\n",
       "      <td>IL</td>\n",
       "      <td>0.080949</td>\n",
       "      <td>0.306484</td>\n",
       "      <td>0.519312</td>\n",
       "      <td>0.093256</td>\n",
       "      <td>9994</td>\n",
       "    </tr>\n",
       "    <tr>\n",
       "      <th>14</th>\n",
       "      <td>IN</td>\n",
       "      <td>0.071326</td>\n",
       "      <td>0.312920</td>\n",
       "      <td>0.512728</td>\n",
       "      <td>0.103026</td>\n",
       "      <td>4164</td>\n",
       "    </tr>\n",
       "    <tr>\n",
       "      <th>15</th>\n",
       "      <td>KS</td>\n",
       "      <td>0.064352</td>\n",
       "      <td>0.325148</td>\n",
       "      <td>0.500423</td>\n",
       "      <td>0.110076</td>\n",
       "      <td>1181</td>\n",
       "    </tr>\n",
       "    <tr>\n",
       "      <th>16</th>\n",
       "      <td>KY</td>\n",
       "      <td>0.121739</td>\n",
       "      <td>0.266221</td>\n",
       "      <td>0.509699</td>\n",
       "      <td>0.102341</td>\n",
       "      <td>1495</td>\n",
       "    </tr>\n",
       "    <tr>\n",
       "      <th>17</th>\n",
       "      <td>LA</td>\n",
       "      <td>0.179830</td>\n",
       "      <td>0.185905</td>\n",
       "      <td>0.568651</td>\n",
       "      <td>0.065614</td>\n",
       "      <td>823</td>\n",
       "    </tr>\n",
       "    <tr>\n",
       "      <th>18</th>\n",
       "      <td>MA</td>\n",
       "      <td>0.193817</td>\n",
       "      <td>0.313441</td>\n",
       "      <td>0.395161</td>\n",
       "      <td>0.097581</td>\n",
       "      <td>3720</td>\n",
       "    </tr>\n",
       "    <tr>\n",
       "      <th>19</th>\n",
       "      <td>MD</td>\n",
       "      <td>0.086046</td>\n",
       "      <td>0.377239</td>\n",
       "      <td>0.420893</td>\n",
       "      <td>0.115821</td>\n",
       "      <td>3963</td>\n",
       "    </tr>\n",
       "    <tr>\n",
       "      <th>20</th>\n",
       "      <td>ME</td>\n",
       "      <td>0.172619</td>\n",
       "      <td>0.257440</td>\n",
       "      <td>0.458333</td>\n",
       "      <td>0.111607</td>\n",
       "      <td>672</td>\n",
       "    </tr>\n",
       "    <tr>\n",
       "      <th>21</th>\n",
       "      <td>MI</td>\n",
       "      <td>0.114726</td>\n",
       "      <td>0.264531</td>\n",
       "      <td>0.520590</td>\n",
       "      <td>0.100153</td>\n",
       "      <td>5901</td>\n",
       "    </tr>\n",
       "    <tr>\n",
       "      <th>22</th>\n",
       "      <td>MN</td>\n",
       "      <td>0.097034</td>\n",
       "      <td>0.304173</td>\n",
       "      <td>0.506787</td>\n",
       "      <td>0.092006</td>\n",
       "      <td>5967</td>\n",
       "    </tr>\n",
       "    <tr>\n",
       "      <th>23</th>\n",
       "      <td>MO</td>\n",
       "      <td>0.115195</td>\n",
       "      <td>0.273626</td>\n",
       "      <td>0.516677</td>\n",
       "      <td>0.094503</td>\n",
       "      <td>3238</td>\n",
       "    </tr>\n",
       "    <tr>\n",
       "      <th>24</th>\n",
       "      <td>MS</td>\n",
       "      <td>0.126033</td>\n",
       "      <td>0.206612</td>\n",
       "      <td>0.586777</td>\n",
       "      <td>0.080579</td>\n",
       "      <td>484</td>\n",
       "    </tr>\n",
       "    <tr>\n",
       "      <th>25</th>\n",
       "      <td>MT</td>\n",
       "      <td>0.075688</td>\n",
       "      <td>0.369266</td>\n",
       "      <td>0.461009</td>\n",
       "      <td>0.094037</td>\n",
       "      <td>436</td>\n",
       "    </tr>\n",
       "    <tr>\n",
       "      <th>26</th>\n",
       "      <td>NC</td>\n",
       "      <td>0.084804</td>\n",
       "      <td>0.361386</td>\n",
       "      <td>0.449419</td>\n",
       "      <td>0.104391</td>\n",
       "      <td>4646</td>\n",
       "    </tr>\n",
       "    <tr>\n",
       "      <th>27</th>\n",
       "      <td>ND</td>\n",
       "      <td>0.030172</td>\n",
       "      <td>0.193966</td>\n",
       "      <td>0.681034</td>\n",
       "      <td>0.094828</td>\n",
       "      <td>232</td>\n",
       "    </tr>\n",
       "    <tr>\n",
       "      <th>28</th>\n",
       "      <td>NE</td>\n",
       "      <td>0.103324</td>\n",
       "      <td>0.214735</td>\n",
       "      <td>0.601977</td>\n",
       "      <td>0.079964</td>\n",
       "      <td>1113</td>\n",
       "    </tr>\n",
       "    <tr>\n",
       "      <th>29</th>\n",
       "      <td>NH</td>\n",
       "      <td>0.100715</td>\n",
       "      <td>0.311085</td>\n",
       "      <td>0.464243</td>\n",
       "      <td>0.123957</td>\n",
       "      <td>1678</td>\n",
       "    </tr>\n",
       "    <tr>\n",
       "      <th>30</th>\n",
       "      <td>NJ</td>\n",
       "      <td>0.071894</td>\n",
       "      <td>0.328787</td>\n",
       "      <td>0.494367</td>\n",
       "      <td>0.104951</td>\n",
       "      <td>6746</td>\n",
       "    </tr>\n",
       "    <tr>\n",
       "      <th>31</th>\n",
       "      <td>NM</td>\n",
       "      <td>0.122271</td>\n",
       "      <td>0.388646</td>\n",
       "      <td>0.375546</td>\n",
       "      <td>0.113537</td>\n",
       "      <td>458</td>\n",
       "    </tr>\n",
       "    <tr>\n",
       "      <th>32</th>\n",
       "      <td>NV</td>\n",
       "      <td>0.074074</td>\n",
       "      <td>0.281046</td>\n",
       "      <td>0.549020</td>\n",
       "      <td>0.095861</td>\n",
       "      <td>1377</td>\n",
       "    </tr>\n",
       "    <tr>\n",
       "      <th>33</th>\n",
       "      <td>NY</td>\n",
       "      <td>0.123772</td>\n",
       "      <td>0.309546</td>\n",
       "      <td>0.465138</td>\n",
       "      <td>0.101544</td>\n",
       "      <td>8548</td>\n",
       "    </tr>\n",
       "    <tr>\n",
       "      <th>34</th>\n",
       "      <td>OH</td>\n",
       "      <td>0.097921</td>\n",
       "      <td>0.321999</td>\n",
       "      <td>0.474108</td>\n",
       "      <td>0.105971</td>\n",
       "      <td>8323</td>\n",
       "    </tr>\n",
       "    <tr>\n",
       "      <th>35</th>\n",
       "      <td>OK</td>\n",
       "      <td>0.107482</td>\n",
       "      <td>0.259220</td>\n",
       "      <td>0.553214</td>\n",
       "      <td>0.080084</td>\n",
       "      <td>949</td>\n",
       "    </tr>\n",
       "    <tr>\n",
       "      <th>36</th>\n",
       "      <td>OR</td>\n",
       "      <td>0.066902</td>\n",
       "      <td>0.408485</td>\n",
       "      <td>0.420995</td>\n",
       "      <td>0.103617</td>\n",
       "      <td>3677</td>\n",
       "    </tr>\n",
       "    <tr>\n",
       "      <th>37</th>\n",
       "      <td>PA</td>\n",
       "      <td>0.095987</td>\n",
       "      <td>0.319124</td>\n",
       "      <td>0.492797</td>\n",
       "      <td>0.092092</td>\n",
       "      <td>13606</td>\n",
       "    </tr>\n",
       "    <tr>\n",
       "      <th>38</th>\n",
       "      <td>RI</td>\n",
       "      <td>0.288630</td>\n",
       "      <td>0.294461</td>\n",
       "      <td>0.320700</td>\n",
       "      <td>0.096210</td>\n",
       "      <td>343</td>\n",
       "    </tr>\n",
       "    <tr>\n",
       "      <th>39</th>\n",
       "      <td>SC</td>\n",
       "      <td>0.122624</td>\n",
       "      <td>0.290875</td>\n",
       "      <td>0.513308</td>\n",
       "      <td>0.073194</td>\n",
       "      <td>1052</td>\n",
       "    </tr>\n",
       "    <tr>\n",
       "      <th>40</th>\n",
       "      <td>SD</td>\n",
       "      <td>0.026820</td>\n",
       "      <td>0.068966</td>\n",
       "      <td>0.835249</td>\n",
       "      <td>0.068966</td>\n",
       "      <td>261</td>\n",
       "    </tr>\n",
       "    <tr>\n",
       "      <th>41</th>\n",
       "      <td>TN</td>\n",
       "      <td>0.047960</td>\n",
       "      <td>0.346932</td>\n",
       "      <td>0.511990</td>\n",
       "      <td>0.093117</td>\n",
       "      <td>3211</td>\n",
       "    </tr>\n",
       "    <tr>\n",
       "      <th>42</th>\n",
       "      <td>TX</td>\n",
       "      <td>0.087906</td>\n",
       "      <td>0.255716</td>\n",
       "      <td>0.552926</td>\n",
       "      <td>0.103452</td>\n",
       "      <td>8748</td>\n",
       "    </tr>\n",
       "    <tr>\n",
       "      <th>43</th>\n",
       "      <td>UT</td>\n",
       "      <td>0.044723</td>\n",
       "      <td>0.382826</td>\n",
       "      <td>0.472272</td>\n",
       "      <td>0.100179</td>\n",
       "      <td>559</td>\n",
       "    </tr>\n",
       "    <tr>\n",
       "      <th>44</th>\n",
       "      <td>VA</td>\n",
       "      <td>0.076818</td>\n",
       "      <td>0.346876</td>\n",
       "      <td>0.477979</td>\n",
       "      <td>0.098327</td>\n",
       "      <td>5858</td>\n",
       "    </tr>\n",
       "    <tr>\n",
       "      <th>45</th>\n",
       "      <td>VT</td>\n",
       "      <td>0.115160</td>\n",
       "      <td>0.393586</td>\n",
       "      <td>0.376093</td>\n",
       "      <td>0.115160</td>\n",
       "      <td>686</td>\n",
       "    </tr>\n",
       "    <tr>\n",
       "      <th>46</th>\n",
       "      <td>WA</td>\n",
       "      <td>0.054457</td>\n",
       "      <td>0.424181</td>\n",
       "      <td>0.414743</td>\n",
       "      <td>0.106619</td>\n",
       "      <td>7841</td>\n",
       "    </tr>\n",
       "    <tr>\n",
       "      <th>47</th>\n",
       "      <td>WI</td>\n",
       "      <td>0.060922</td>\n",
       "      <td>0.280209</td>\n",
       "      <td>0.546449</td>\n",
       "      <td>0.112420</td>\n",
       "      <td>5942</td>\n",
       "    </tr>\n",
       "    <tr>\n",
       "      <th>48</th>\n",
       "      <td>WV</td>\n",
       "      <td>0.134904</td>\n",
       "      <td>0.192719</td>\n",
       "      <td>0.605996</td>\n",
       "      <td>0.066381</td>\n",
       "      <td>467</td>\n",
       "    </tr>\n",
       "    <tr>\n",
       "      <th>49</th>\n",
       "      <td>WY</td>\n",
       "      <td>0.227273</td>\n",
       "      <td>0.109848</td>\n",
       "      <td>0.613636</td>\n",
       "      <td>0.049242</td>\n",
       "      <td>264</td>\n",
       "    </tr>\n",
       "  </tbody>\n",
       "</table>\n",
       "</div>"
      ],
      "text/plain": [
       "style US_Code_User  American Adjunct Lager  India Pale Ale (IPA)  Pale Lager  \\\n",
       "0               AK                0.084052              0.316810    0.456897   \n",
       "1               AL                0.043243              0.317117    0.542943   \n",
       "2               AR                0.095238              0.190476    0.601732   \n",
       "3               AZ                0.052368              0.364225    0.465431   \n",
       "4               CA                0.067877              0.368663    0.454567   \n",
       "5               CO                0.068836              0.378807    0.432833   \n",
       "6               CT                0.127574              0.366705    0.407895   \n",
       "7               DE                0.027548              0.435262    0.426997   \n",
       "8               FL                0.065786              0.302403    0.528313   \n",
       "9               GA                0.073776              0.358868    0.463983   \n",
       "10              HI                0.240566              0.207547    0.448113   \n",
       "11              IA                0.090826              0.293119    0.495872   \n",
       "12              ID                0.032073              0.407789    0.426117   \n",
       "13              IL                0.080949              0.306484    0.519312   \n",
       "14              IN                0.071326              0.312920    0.512728   \n",
       "15              KS                0.064352              0.325148    0.500423   \n",
       "16              KY                0.121739              0.266221    0.509699   \n",
       "17              LA                0.179830              0.185905    0.568651   \n",
       "18              MA                0.193817              0.313441    0.395161   \n",
       "19              MD                0.086046              0.377239    0.420893   \n",
       "20              ME                0.172619              0.257440    0.458333   \n",
       "21              MI                0.114726              0.264531    0.520590   \n",
       "22              MN                0.097034              0.304173    0.506787   \n",
       "23              MO                0.115195              0.273626    0.516677   \n",
       "24              MS                0.126033              0.206612    0.586777   \n",
       "25              MT                0.075688              0.369266    0.461009   \n",
       "26              NC                0.084804              0.361386    0.449419   \n",
       "27              ND                0.030172              0.193966    0.681034   \n",
       "28              NE                0.103324              0.214735    0.601977   \n",
       "29              NH                0.100715              0.311085    0.464243   \n",
       "30              NJ                0.071894              0.328787    0.494367   \n",
       "31              NM                0.122271              0.388646    0.375546   \n",
       "32              NV                0.074074              0.281046    0.549020   \n",
       "33              NY                0.123772              0.309546    0.465138   \n",
       "34              OH                0.097921              0.321999    0.474108   \n",
       "35              OK                0.107482              0.259220    0.553214   \n",
       "36              OR                0.066902              0.408485    0.420995   \n",
       "37              PA                0.095987              0.319124    0.492797   \n",
       "38              RI                0.288630              0.294461    0.320700   \n",
       "39              SC                0.122624              0.290875    0.513308   \n",
       "40              SD                0.026820              0.068966    0.835249   \n",
       "41              TN                0.047960              0.346932    0.511990   \n",
       "42              TX                0.087906              0.255716    0.552926   \n",
       "43              UT                0.044723              0.382826    0.472272   \n",
       "44              VA                0.076818              0.346876    0.477979   \n",
       "45              VT                0.115160              0.393586    0.376093   \n",
       "46              WA                0.054457              0.424181    0.414743   \n",
       "47              WI                0.060922              0.280209    0.546449   \n",
       "48              WV                0.134904              0.192719    0.605996   \n",
       "49              WY                0.227273              0.109848    0.613636   \n",
       "\n",
       "style     Stout  total  \n",
       "0      0.142241    464  \n",
       "1      0.096697   1665  \n",
       "2      0.112554    462  \n",
       "3      0.117976   3399  \n",
       "4      0.108893  16530  \n",
       "5      0.119524   4794  \n",
       "6      0.097826   1748  \n",
       "7      0.110193    726  \n",
       "8      0.103498   8406  \n",
       "9      0.103373   4595  \n",
       "10     0.103774    212  \n",
       "11     0.120183   2180  \n",
       "12     0.134021   1746  \n",
       "13     0.093256   9994  \n",
       "14     0.103026   4164  \n",
       "15     0.110076   1181  \n",
       "16     0.102341   1495  \n",
       "17     0.065614    823  \n",
       "18     0.097581   3720  \n",
       "19     0.115821   3963  \n",
       "20     0.111607    672  \n",
       "21     0.100153   5901  \n",
       "22     0.092006   5967  \n",
       "23     0.094503   3238  \n",
       "24     0.080579    484  \n",
       "25     0.094037    436  \n",
       "26     0.104391   4646  \n",
       "27     0.094828    232  \n",
       "28     0.079964   1113  \n",
       "29     0.123957   1678  \n",
       "30     0.104951   6746  \n",
       "31     0.113537    458  \n",
       "32     0.095861   1377  \n",
       "33     0.101544   8548  \n",
       "34     0.105971   8323  \n",
       "35     0.080084    949  \n",
       "36     0.103617   3677  \n",
       "37     0.092092  13606  \n",
       "38     0.096210    343  \n",
       "39     0.073194   1052  \n",
       "40     0.068966    261  \n",
       "41     0.093117   3211  \n",
       "42     0.103452   8748  \n",
       "43     0.100179    559  \n",
       "44     0.098327   5858  \n",
       "45     0.115160    686  \n",
       "46     0.106619   7841  \n",
       "47     0.112420   5942  \n",
       "48     0.066381    467  \n",
       "49     0.049242    264  "
      ]
     },
     "execution_count": 345,
     "metadata": {},
     "output_type": "execute_result"
    }
   ],
   "source": [
    "beerstyle_taste"
   ]
  },
  {
   "cell_type": "code",
   "execution_count": 346,
   "metadata": {},
   "outputs": [
    {
     "data": {
      "application/vnd.plotly.v1+json": {
       "config": {
        "plotlyServerURL": "https://plot.ly"
       },
       "data": [
        {
         "colorbar": {
          "title": {
           "text": "India Pale Ale (IPA)"
          }
         },
         "locationmode": "USA-states",
         "locations": [
          "AK",
          "AL",
          "AR",
          "AZ",
          "CA",
          "CO",
          "CT",
          "DE",
          "FL",
          "GA",
          "HI",
          "IA",
          "ID",
          "IL",
          "IN",
          "KS",
          "KY",
          "LA",
          "MA",
          "MD",
          "ME",
          "MI",
          "MN",
          "MO",
          "MS",
          "MT",
          "NC",
          "ND",
          "NE",
          "NH",
          "NJ",
          "NM",
          "NV",
          "NY",
          "OH",
          "OK",
          "OR",
          "PA",
          "RI",
          "SC",
          "SD",
          "TN",
          "TX",
          "UT",
          "VA",
          "VT",
          "WA",
          "WI",
          "WV",
          "WY"
         ],
         "type": "choropleth",
         "visible": true,
         "z": [
          0.3168103448275862,
          0.3171171171171171,
          0.19047619047619047,
          0.3642247719917623,
          0.3686630369026013,
          0.37880684188569047,
          0.36670480549199086,
          0.43526170798898073,
          0.30240304544373064,
          0.3588683351468988,
          0.20754716981132076,
          0.29311926605504585,
          0.40778923253150057,
          0.30648389033420054,
          0.31292026897214215,
          0.32514817950889074,
          0.2662207357859532,
          0.1859052247873633,
          0.31344086021505374,
          0.3772394650517285,
          0.25744047619047616,
          0.26453143534994067,
          0.30417295123177474,
          0.2736256948733786,
          0.2066115702479339,
          0.36926605504587157,
          0.3613861386138614,
          0.1939655172413793,
          0.21473495058400718,
          0.3110846245530393,
          0.32878742958790397,
          0.388646288209607,
          0.28104575163398693,
          0.3095460926532522,
          0.32199927910609155,
          0.25922023182297155,
          0.40848517813434865,
          0.3191239159194473,
          0.2944606413994169,
          0.2908745247148289,
          0.06896551724137931,
          0.34693241980691375,
          0.2557155921353452,
          0.3828264758497317,
          0.34687606691703654,
          0.3935860058309038,
          0.4241805892105599,
          0.28020868394479975,
          0.19271948608137046,
          0.10984848484848485
         ]
        },
        {
         "colorbar": {
          "title": {
           "text": "Stout"
          }
         },
         "locationmode": "USA-states",
         "locations": [
          "AK",
          "AL",
          "AR",
          "AZ",
          "CA",
          "CO",
          "CT",
          "DE",
          "FL",
          "GA",
          "HI",
          "IA",
          "ID",
          "IL",
          "IN",
          "KS",
          "KY",
          "LA",
          "MA",
          "MD",
          "ME",
          "MI",
          "MN",
          "MO",
          "MS",
          "MT",
          "NC",
          "ND",
          "NE",
          "NH",
          "NJ",
          "NM",
          "NV",
          "NY",
          "OH",
          "OK",
          "OR",
          "PA",
          "RI",
          "SC",
          "SD",
          "TN",
          "TX",
          "UT",
          "VA",
          "VT",
          "WA",
          "WI",
          "WV",
          "WY"
         ],
         "type": "choropleth",
         "visible": false,
         "z": [
          0.14224137931034483,
          0.0966966966966967,
          0.11255411255411256,
          0.11797587525742866,
          0.1088929219600726,
          0.1195244055068836,
          0.09782608695652174,
          0.11019283746556474,
          0.10349750178443969,
          0.10337323177366703,
          0.10377358490566038,
          0.12018348623853212,
          0.13402061855670103,
          0.09325595357214328,
          0.10302593659942363,
          0.1100762066045724,
          0.10234113712374582,
          0.06561360874848117,
          0.09758064516129032,
          0.11582134746404239,
          0.11160714285714286,
          0.10015251652262329,
          0.09200603318250378,
          0.09450277949351452,
          0.08057851239669421,
          0.09403669724770643,
          0.1043908738699957,
          0.09482758620689655,
          0.07996406109613657,
          0.12395709177592372,
          0.1049510821227394,
          0.11353711790393013,
          0.09586056644880174,
          0.10154422087037904,
          0.10597140454163162,
          0.08008429926238145,
          0.10361707914060375,
          0.09209172423930619,
          0.09620991253644315,
          0.07319391634980989,
          0.06896551724137931,
          0.0931174089068826,
          0.10345221764974852,
          0.1001788908765653,
          0.09832707408671902,
          0.1151603498542274,
          0.10661905369213111,
          0.1124200605856614,
          0.06638115631691649,
          0.04924242424242424
         ]
        },
        {
         "colorbar": {
          "title": {
           "text": "Pale Lager"
          }
         },
         "locationmode": "USA-states",
         "locations": [
          "AK",
          "AL",
          "AR",
          "AZ",
          "CA",
          "CO",
          "CT",
          "DE",
          "FL",
          "GA",
          "HI",
          "IA",
          "ID",
          "IL",
          "IN",
          "KS",
          "KY",
          "LA",
          "MA",
          "MD",
          "ME",
          "MI",
          "MN",
          "MO",
          "MS",
          "MT",
          "NC",
          "ND",
          "NE",
          "NH",
          "NJ",
          "NM",
          "NV",
          "NY",
          "OH",
          "OK",
          "OR",
          "PA",
          "RI",
          "SC",
          "SD",
          "TN",
          "TX",
          "UT",
          "VA",
          "VT",
          "WA",
          "WI",
          "WV",
          "WY"
         ],
         "type": "choropleth",
         "visible": false,
         "z": [
          0.45689655172413796,
          0.542942942942943,
          0.6017316017316018,
          0.46543100912032953,
          0.45456745311554747,
          0.43283270755110553,
          0.40789473684210525,
          0.42699724517906334,
          0.5283131096835594,
          0.46398258977149076,
          0.4481132075471698,
          0.49587155963302754,
          0.4261168384879725,
          0.5193115869521713,
          0.5127281460134486,
          0.5004233700254022,
          0.5096989966555184,
          0.56865127582017,
          0.3951612903225806,
          0.42089326267978805,
          0.4583333333333333,
          0.5205897305541434,
          0.5067873303167421,
          0.5166769610870908,
          0.5867768595041323,
          0.4610091743119266,
          0.44941885492897116,
          0.6810344827586207,
          0.6019766397124887,
          0.4642431466030989,
          0.4943670323154462,
          0.37554585152838427,
          0.5490196078431373,
          0.4651380439868975,
          0.4741078937882975,
          0.553213909378293,
          0.42099537666576015,
          0.4927972953108923,
          0.3206997084548105,
          0.5133079847908745,
          0.8352490421455939,
          0.5119900342572408,
          0.5529263831732968,
          0.47227191413237923,
          0.4779788323659952,
          0.3760932944606414,
          0.41474301747226117,
          0.5464490070683271,
          0.6059957173447538,
          0.6136363636363636
         ]
        },
        {
         "colorbar": {
          "title": {
           "text": "American Adjunct Lager"
          }
         },
         "locationmode": "USA-states",
         "locations": [
          "AK",
          "AL",
          "AR",
          "AZ",
          "CA",
          "CO",
          "CT",
          "DE",
          "FL",
          "GA",
          "HI",
          "IA",
          "ID",
          "IL",
          "IN",
          "KS",
          "KY",
          "LA",
          "MA",
          "MD",
          "ME",
          "MI",
          "MN",
          "MO",
          "MS",
          "MT",
          "NC",
          "ND",
          "NE",
          "NH",
          "NJ",
          "NM",
          "NV",
          "NY",
          "OH",
          "OK",
          "OR",
          "PA",
          "RI",
          "SC",
          "SD",
          "TN",
          "TX",
          "UT",
          "VA",
          "VT",
          "WA",
          "WI",
          "WV",
          "WY"
         ],
         "type": "choropleth",
         "visible": false,
         "z": [
          0.08405172413793104,
          0.043243243243243246,
          0.09523809523809523,
          0.052368343630479555,
          0.06787658802177858,
          0.0688360450563204,
          0.12757437070938216,
          0.027548209366391185,
          0.06578634308827028,
          0.07377584330794341,
          0.24056603773584906,
          0.0908256880733945,
          0.032073310423825885,
          0.08094856914148489,
          0.07132564841498559,
          0.06435224386113463,
          0.12173913043478261,
          0.1798298906439854,
          0.19381720430107527,
          0.08604592480444108,
          0.17261904761904762,
          0.11472631757329266,
          0.09703368526897939,
          0.11519456454601606,
          0.12603305785123967,
          0.07568807339449542,
          0.08480413258717176,
          0.03017241379310345,
          0.10332434860736747,
          0.10071513706793803,
          0.07189445597391046,
          0.1222707423580786,
          0.07407407407407407,
          0.12377164248947121,
          0.09792142256397933,
          0.10748155953635406,
          0.06690236605928747,
          0.09598706453035426,
          0.2886297376093295,
          0.12262357414448669,
          0.02681992337164751,
          0.04796013702896294,
          0.08790580704160951,
          0.044722719141323794,
          0.07681802663024923,
          0.1151603498542274,
          0.054457339625047826,
          0.060922248401211715,
          0.1349036402569593,
          0.22727272727272727
         ]
        }
       ],
       "layout": {
        "geo": {
         "projection": {
          "type": "albers usa"
         },
         "scope": "usa"
        },
        "template": {
         "data": {
          "bar": [
           {
            "error_x": {
             "color": "#2a3f5f"
            },
            "error_y": {
             "color": "#2a3f5f"
            },
            "marker": {
             "line": {
              "color": "#E5ECF6",
              "width": 0.5
             },
             "pattern": {
              "fillmode": "overlay",
              "size": 10,
              "solidity": 0.2
             }
            },
            "type": "bar"
           }
          ],
          "barpolar": [
           {
            "marker": {
             "line": {
              "color": "#E5ECF6",
              "width": 0.5
             },
             "pattern": {
              "fillmode": "overlay",
              "size": 10,
              "solidity": 0.2
             }
            },
            "type": "barpolar"
           }
          ],
          "carpet": [
           {
            "aaxis": {
             "endlinecolor": "#2a3f5f",
             "gridcolor": "white",
             "linecolor": "white",
             "minorgridcolor": "white",
             "startlinecolor": "#2a3f5f"
            },
            "baxis": {
             "endlinecolor": "#2a3f5f",
             "gridcolor": "white",
             "linecolor": "white",
             "minorgridcolor": "white",
             "startlinecolor": "#2a3f5f"
            },
            "type": "carpet"
           }
          ],
          "choropleth": [
           {
            "colorbar": {
             "outlinewidth": 0,
             "ticks": ""
            },
            "type": "choropleth"
           }
          ],
          "contour": [
           {
            "colorbar": {
             "outlinewidth": 0,
             "ticks": ""
            },
            "colorscale": [
             [
              0,
              "#0d0887"
             ],
             [
              0.1111111111111111,
              "#46039f"
             ],
             [
              0.2222222222222222,
              "#7201a8"
             ],
             [
              0.3333333333333333,
              "#9c179e"
             ],
             [
              0.4444444444444444,
              "#bd3786"
             ],
             [
              0.5555555555555556,
              "#d8576b"
             ],
             [
              0.6666666666666666,
              "#ed7953"
             ],
             [
              0.7777777777777778,
              "#fb9f3a"
             ],
             [
              0.8888888888888888,
              "#fdca26"
             ],
             [
              1,
              "#f0f921"
             ]
            ],
            "type": "contour"
           }
          ],
          "contourcarpet": [
           {
            "colorbar": {
             "outlinewidth": 0,
             "ticks": ""
            },
            "type": "contourcarpet"
           }
          ],
          "heatmap": [
           {
            "colorbar": {
             "outlinewidth": 0,
             "ticks": ""
            },
            "colorscale": [
             [
              0,
              "#0d0887"
             ],
             [
              0.1111111111111111,
              "#46039f"
             ],
             [
              0.2222222222222222,
              "#7201a8"
             ],
             [
              0.3333333333333333,
              "#9c179e"
             ],
             [
              0.4444444444444444,
              "#bd3786"
             ],
             [
              0.5555555555555556,
              "#d8576b"
             ],
             [
              0.6666666666666666,
              "#ed7953"
             ],
             [
              0.7777777777777778,
              "#fb9f3a"
             ],
             [
              0.8888888888888888,
              "#fdca26"
             ],
             [
              1,
              "#f0f921"
             ]
            ],
            "type": "heatmap"
           }
          ],
          "heatmapgl": [
           {
            "colorbar": {
             "outlinewidth": 0,
             "ticks": ""
            },
            "colorscale": [
             [
              0,
              "#0d0887"
             ],
             [
              0.1111111111111111,
              "#46039f"
             ],
             [
              0.2222222222222222,
              "#7201a8"
             ],
             [
              0.3333333333333333,
              "#9c179e"
             ],
             [
              0.4444444444444444,
              "#bd3786"
             ],
             [
              0.5555555555555556,
              "#d8576b"
             ],
             [
              0.6666666666666666,
              "#ed7953"
             ],
             [
              0.7777777777777778,
              "#fb9f3a"
             ],
             [
              0.8888888888888888,
              "#fdca26"
             ],
             [
              1,
              "#f0f921"
             ]
            ],
            "type": "heatmapgl"
           }
          ],
          "histogram": [
           {
            "marker": {
             "pattern": {
              "fillmode": "overlay",
              "size": 10,
              "solidity": 0.2
             }
            },
            "type": "histogram"
           }
          ],
          "histogram2d": [
           {
            "colorbar": {
             "outlinewidth": 0,
             "ticks": ""
            },
            "colorscale": [
             [
              0,
              "#0d0887"
             ],
             [
              0.1111111111111111,
              "#46039f"
             ],
             [
              0.2222222222222222,
              "#7201a8"
             ],
             [
              0.3333333333333333,
              "#9c179e"
             ],
             [
              0.4444444444444444,
              "#bd3786"
             ],
             [
              0.5555555555555556,
              "#d8576b"
             ],
             [
              0.6666666666666666,
              "#ed7953"
             ],
             [
              0.7777777777777778,
              "#fb9f3a"
             ],
             [
              0.8888888888888888,
              "#fdca26"
             ],
             [
              1,
              "#f0f921"
             ]
            ],
            "type": "histogram2d"
           }
          ],
          "histogram2dcontour": [
           {
            "colorbar": {
             "outlinewidth": 0,
             "ticks": ""
            },
            "colorscale": [
             [
              0,
              "#0d0887"
             ],
             [
              0.1111111111111111,
              "#46039f"
             ],
             [
              0.2222222222222222,
              "#7201a8"
             ],
             [
              0.3333333333333333,
              "#9c179e"
             ],
             [
              0.4444444444444444,
              "#bd3786"
             ],
             [
              0.5555555555555556,
              "#d8576b"
             ],
             [
              0.6666666666666666,
              "#ed7953"
             ],
             [
              0.7777777777777778,
              "#fb9f3a"
             ],
             [
              0.8888888888888888,
              "#fdca26"
             ],
             [
              1,
              "#f0f921"
             ]
            ],
            "type": "histogram2dcontour"
           }
          ],
          "mesh3d": [
           {
            "colorbar": {
             "outlinewidth": 0,
             "ticks": ""
            },
            "type": "mesh3d"
           }
          ],
          "parcoords": [
           {
            "line": {
             "colorbar": {
              "outlinewidth": 0,
              "ticks": ""
             }
            },
            "type": "parcoords"
           }
          ],
          "pie": [
           {
            "automargin": true,
            "type": "pie"
           }
          ],
          "scatter": [
           {
            "fillpattern": {
             "fillmode": "overlay",
             "size": 10,
             "solidity": 0.2
            },
            "type": "scatter"
           }
          ],
          "scatter3d": [
           {
            "line": {
             "colorbar": {
              "outlinewidth": 0,
              "ticks": ""
             }
            },
            "marker": {
             "colorbar": {
              "outlinewidth": 0,
              "ticks": ""
             }
            },
            "type": "scatter3d"
           }
          ],
          "scattercarpet": [
           {
            "marker": {
             "colorbar": {
              "outlinewidth": 0,
              "ticks": ""
             }
            },
            "type": "scattercarpet"
           }
          ],
          "scattergeo": [
           {
            "marker": {
             "colorbar": {
              "outlinewidth": 0,
              "ticks": ""
             }
            },
            "type": "scattergeo"
           }
          ],
          "scattergl": [
           {
            "marker": {
             "colorbar": {
              "outlinewidth": 0,
              "ticks": ""
             }
            },
            "type": "scattergl"
           }
          ],
          "scattermapbox": [
           {
            "marker": {
             "colorbar": {
              "outlinewidth": 0,
              "ticks": ""
             }
            },
            "type": "scattermapbox"
           }
          ],
          "scatterpolar": [
           {
            "marker": {
             "colorbar": {
              "outlinewidth": 0,
              "ticks": ""
             }
            },
            "type": "scatterpolar"
           }
          ],
          "scatterpolargl": [
           {
            "marker": {
             "colorbar": {
              "outlinewidth": 0,
              "ticks": ""
             }
            },
            "type": "scatterpolargl"
           }
          ],
          "scatterternary": [
           {
            "marker": {
             "colorbar": {
              "outlinewidth": 0,
              "ticks": ""
             }
            },
            "type": "scatterternary"
           }
          ],
          "surface": [
           {
            "colorbar": {
             "outlinewidth": 0,
             "ticks": ""
            },
            "colorscale": [
             [
              0,
              "#0d0887"
             ],
             [
              0.1111111111111111,
              "#46039f"
             ],
             [
              0.2222222222222222,
              "#7201a8"
             ],
             [
              0.3333333333333333,
              "#9c179e"
             ],
             [
              0.4444444444444444,
              "#bd3786"
             ],
             [
              0.5555555555555556,
              "#d8576b"
             ],
             [
              0.6666666666666666,
              "#ed7953"
             ],
             [
              0.7777777777777778,
              "#fb9f3a"
             ],
             [
              0.8888888888888888,
              "#fdca26"
             ],
             [
              1,
              "#f0f921"
             ]
            ],
            "type": "surface"
           }
          ],
          "table": [
           {
            "cells": {
             "fill": {
              "color": "#EBF0F8"
             },
             "line": {
              "color": "white"
             }
            },
            "header": {
             "fill": {
              "color": "#C8D4E3"
             },
             "line": {
              "color": "white"
             }
            },
            "type": "table"
           }
          ]
         },
         "layout": {
          "annotationdefaults": {
           "arrowcolor": "#2a3f5f",
           "arrowhead": 0,
           "arrowwidth": 1
          },
          "autotypenumbers": "strict",
          "coloraxis": {
           "colorbar": {
            "outlinewidth": 0,
            "ticks": ""
           }
          },
          "colorscale": {
           "diverging": [
            [
             0,
             "#8e0152"
            ],
            [
             0.1,
             "#c51b7d"
            ],
            [
             0.2,
             "#de77ae"
            ],
            [
             0.3,
             "#f1b6da"
            ],
            [
             0.4,
             "#fde0ef"
            ],
            [
             0.5,
             "#f7f7f7"
            ],
            [
             0.6,
             "#e6f5d0"
            ],
            [
             0.7,
             "#b8e186"
            ],
            [
             0.8,
             "#7fbc41"
            ],
            [
             0.9,
             "#4d9221"
            ],
            [
             1,
             "#276419"
            ]
           ],
           "sequential": [
            [
             0,
             "#0d0887"
            ],
            [
             0.1111111111111111,
             "#46039f"
            ],
            [
             0.2222222222222222,
             "#7201a8"
            ],
            [
             0.3333333333333333,
             "#9c179e"
            ],
            [
             0.4444444444444444,
             "#bd3786"
            ],
            [
             0.5555555555555556,
             "#d8576b"
            ],
            [
             0.6666666666666666,
             "#ed7953"
            ],
            [
             0.7777777777777778,
             "#fb9f3a"
            ],
            [
             0.8888888888888888,
             "#fdca26"
            ],
            [
             1,
             "#f0f921"
            ]
           ],
           "sequentialminus": [
            [
             0,
             "#0d0887"
            ],
            [
             0.1111111111111111,
             "#46039f"
            ],
            [
             0.2222222222222222,
             "#7201a8"
            ],
            [
             0.3333333333333333,
             "#9c179e"
            ],
            [
             0.4444444444444444,
             "#bd3786"
            ],
            [
             0.5555555555555556,
             "#d8576b"
            ],
            [
             0.6666666666666666,
             "#ed7953"
            ],
            [
             0.7777777777777778,
             "#fb9f3a"
            ],
            [
             0.8888888888888888,
             "#fdca26"
            ],
            [
             1,
             "#f0f921"
            ]
           ]
          },
          "colorway": [
           "#636efa",
           "#EF553B",
           "#00cc96",
           "#ab63fa",
           "#FFA15A",
           "#19d3f3",
           "#FF6692",
           "#B6E880",
           "#FF97FF",
           "#FECB52"
          ],
          "font": {
           "color": "#2a3f5f"
          },
          "geo": {
           "bgcolor": "white",
           "lakecolor": "white",
           "landcolor": "#E5ECF6",
           "showlakes": true,
           "showland": true,
           "subunitcolor": "white"
          },
          "hoverlabel": {
           "align": "left"
          },
          "hovermode": "closest",
          "mapbox": {
           "style": "light"
          },
          "paper_bgcolor": "white",
          "plot_bgcolor": "#E5ECF6",
          "polar": {
           "angularaxis": {
            "gridcolor": "white",
            "linecolor": "white",
            "ticks": ""
           },
           "bgcolor": "#E5ECF6",
           "radialaxis": {
            "gridcolor": "white",
            "linecolor": "white",
            "ticks": ""
           }
          },
          "scene": {
           "xaxis": {
            "backgroundcolor": "#E5ECF6",
            "gridcolor": "white",
            "gridwidth": 2,
            "linecolor": "white",
            "showbackground": true,
            "ticks": "",
            "zerolinecolor": "white"
           },
           "yaxis": {
            "backgroundcolor": "#E5ECF6",
            "gridcolor": "white",
            "gridwidth": 2,
            "linecolor": "white",
            "showbackground": true,
            "ticks": "",
            "zerolinecolor": "white"
           },
           "zaxis": {
            "backgroundcolor": "#E5ECF6",
            "gridcolor": "white",
            "gridwidth": 2,
            "linecolor": "white",
            "showbackground": true,
            "ticks": "",
            "zerolinecolor": "white"
           }
          },
          "shapedefaults": {
           "line": {
            "color": "#2a3f5f"
           }
          },
          "ternary": {
           "aaxis": {
            "gridcolor": "white",
            "linecolor": "white",
            "ticks": ""
           },
           "baxis": {
            "gridcolor": "white",
            "linecolor": "white",
            "ticks": ""
           },
           "bgcolor": "#E5ECF6",
           "caxis": {
            "gridcolor": "white",
            "linecolor": "white",
            "ticks": ""
           }
          },
          "title": {
           "x": 0.05
          },
          "xaxis": {
           "automargin": true,
           "gridcolor": "white",
           "linecolor": "white",
           "ticks": "",
           "title": {
            "standoff": 15
           },
           "zerolinecolor": "white",
           "zerolinewidth": 2
          },
          "yaxis": {
           "automargin": true,
           "gridcolor": "white",
           "linecolor": "white",
           "ticks": "",
           "title": {
            "standoff": 15
           },
           "zerolinecolor": "white",
           "zerolinewidth": 2
          }
         }
        },
        "title": {
         "text": "<b>India Pale Ale (IPA)</b>",
         "x": 0.5
        },
        "updatemenus": [
         {
          "active": 0,
          "buttons": [
           {
            "args": [
             {
              "visible": [
               true,
               false,
               false,
               false
              ]
             },
             {
              "title": "<b>India Pale Ale (IPA)</b>"
             }
            ],
            "label": "India Pale Ale (IPA)",
            "method": "update"
           },
           {
            "args": [
             {
              "visible": [
               false,
               true,
               false,
               false
              ]
             },
             {
              "title": "<b>Stout</b>"
             }
            ],
            "label": "Stout",
            "method": "update"
           },
           {
            "args": [
             {
              "visible": [
               false,
               false,
               true,
               false
              ]
             },
             {
              "title": "<b>Pale Lager</b>"
             }
            ],
            "label": "Pale Lager",
            "method": "update"
           },
           {
            "args": [
             {
              "visible": [
               false,
               false,
               false,
               true
              ]
             },
             {
              "title": "<b>American Adjunct Lager</b>"
             }
            ],
            "label": "American Adjunct Lager",
            "method": "update"
           }
          ]
         }
        ]
       }
      }
     },
     "metadata": {},
     "output_type": "display_data"
    }
   ],
   "source": [
    "visible = np.array(beerselection)\n",
    "traces = []\n",
    "buttons = []\n",
    "for value in beerselection:\n",
    "    traces.append(go.Choropleth(\n",
    "    locationmode='USA-states',\n",
    "    locations=beerstyle_taste['US_Code_User'],\n",
    "        z=beerstyle_taste[value],\n",
    "        colorbar_title=value,\n",
    "        visible= True if value==beerselection[0] else False))\n",
    "\n",
    "    buttons.append(dict(label=value,\n",
    "                        method=\"update\",\n",
    "                        args=[{\"visible\":list(visible==value)},\n",
    "                            {\"title\":f\"<b>{value}</b>\"}]))\n",
    "\n",
    "updatemenus = [{\"active\":0,\n",
    "                \"buttons\":buttons,}]\n",
    "\n",
    "\n",
    "# Show figure\n",
    "fig = go.Figure(data=traces,\n",
    "                layout=dict(updatemenus=updatemenus, geo=dict(scope='usa', projection_type='albers usa')))\n",
    "# This is in order to get the first title displayed correctly\n",
    "first_title = beerselection[0]\n",
    "fig.update_layout(title=f\"<b>{first_title}</b>\",title_x=0.5)\n",
    "fig.show()\n"
   ]
  },
  {
   "cell_type": "code",
   "execution_count": 314,
   "metadata": {},
   "outputs": [
    {
     "data": {
      "application/vnd.plotly.v1+json": {
       "config": {
        "plotlyServerURL": "https://plot.ly"
       },
       "data": [
        {
         "colorbar": {
          "title": {
           "text": "India Pale Ale (IPA)"
          }
         },
         "locationmode": "USA-states",
         "locations": [
          "AK",
          "AL",
          "AR",
          "AZ",
          "CA",
          "CO",
          "CT",
          "DE",
          "FL",
          "GA",
          "HI",
          "IA",
          "ID",
          "IL",
          "IN",
          "KS",
          "KY",
          "LA",
          "MA",
          "MD",
          "ME",
          "MI",
          "MN",
          "MO",
          "MS",
          "MT",
          "NC",
          "ND",
          "NE",
          "NH",
          "NJ",
          "NM",
          "NV",
          "NY",
          "OH",
          "OK",
          "OR",
          "PA",
          "RI",
          "SC",
          "SD",
          "TN",
          "TX",
          "UT",
          "VA",
          "VT",
          "WA",
          "WI",
          "WV",
          "WY"
         ],
         "type": "choropleth",
         "visible": true,
         "z": [
          0.40887323021734645,
          0.2159304540609592,
          0.41294975644761195,
          0.3909562806679129,
          0.3571007123487428,
          0.23115711265945044,
          0.3001648892691025,
          0.31377483034839104,
          0.2708916233579552,
          0.3089000306635419,
          0.4214194617703387,
          0.330886130824743,
          0.3073382542944146,
          0.261581097029207,
          0.20157956778557165,
          0.2541761949008256,
          0.3932914874259803,
          0.3051191941078582,
          0.267394436214674,
          0.28032606485129996,
          0.21363798500190145,
          0.3205486523658893,
          0.29283512355388625,
          0.30605132206859204,
          0.4130559658237795,
          0.2670093811618249,
          0.23384193083275057,
          0.2584871257729382,
          0.32098045709429884,
          0.19506712465878281,
          0.312120104258041,
          0.34703446747024813,
          0.3705794674702954,
          0.31035161888750473,
          0.3396949938442047,
          0.2580497409939182,
          0.34535391714203323,
          0.24529971662676825,
          0.3873600180546166,
          0.28693536071913933,
          0.19376352393975657,
          0.2868809016920509,
          0.19139081002426644,
          0.31889401327121797,
          0.27846639163919507,
          0.28982843557305393,
          0.3030742297816361,
          0.3306680149074338,
          0.14913814850515933,
          0.6446073803657183
         ]
        },
        {
         "colorbar": {
          "title": {
           "text": "Stout"
          }
         },
         "locationmode": "USA-states",
         "locations": [
          "AK",
          "AL",
          "AR",
          "AZ",
          "CA",
          "CO",
          "CT",
          "DE",
          "FL",
          "GA",
          "HI",
          "IA",
          "ID",
          "IL",
          "IN",
          "KS",
          "KY",
          "LA",
          "MA",
          "MD",
          "ME",
          "MI",
          "MN",
          "MO",
          "MS",
          "MT",
          "NC",
          "ND",
          "NE",
          "NH",
          "NJ",
          "NM",
          "NV",
          "NY",
          "OH",
          "OK",
          "OR",
          "PA",
          "RI",
          "SC",
          "SD",
          "TN",
          "TX",
          "UT",
          "VA",
          "VT",
          "WA",
          "WI",
          "WV",
          "WY"
         ],
         "type": "choropleth",
         "visible": false,
         "z": [
          0.38377675588630605,
          0.4083413656313797,
          0.6138107553752616,
          0.5452183800862012,
          0.5083346377118485,
          0.3126189648279145,
          0.42732707304238465,
          0.5003906639073804,
          0.4491792921349148,
          0.3925196309036021,
          0.5847040367851778,
          0.47006531308911975,
          0.3977675296436229,
          0.4574461020540281,
          0.47101931716549744,
          0.484581083530927,
          0.5123824890349231,
          0.5320049981182315,
          0.41082042333005536,
          0.46239255773366433,
          0.5422451426535835,
          0.4294669409714947,
          0.4904424923044572,
          0.4561920767440866,
          0.6529848107349588,
          0.4115265893809056,
          0.44793290441683453,
          0.3404506724425024,
          0.37764954029207265,
          0.47444448231349273,
          0.3898128235579267,
          0.5768755357848582,
          0.4148052392656458,
          0.4427475755472342,
          0.45339070549168065,
          0.516425589363236,
          0.5628552438593086,
          0.427471092911996,
          0.7949466609665283,
          0.42692024216757185,
          0.6049372750010593,
          0.5027253954405249,
          0.4315278762211022,
          0.562376974575722,
          0.41892761033546894,
          0.6245443309983328,
          0.4268286135925599,
          0.4302859865054459,
          0.3925245437847243,
          0.7607619955934689
         ]
        },
        {
         "colorbar": {
          "title": {
           "text": "Pale Lager"
          }
         },
         "locationmode": "USA-states",
         "locations": [
          "AK",
          "AL",
          "AR",
          "AZ",
          "CA",
          "CO",
          "CT",
          "DE",
          "FL",
          "GA",
          "HI",
          "IA",
          "ID",
          "IL",
          "IN",
          "KS",
          "KY",
          "LA",
          "MA",
          "MD",
          "ME",
          "MI",
          "MN",
          "MO",
          "MS",
          "MT",
          "NC",
          "ND",
          "NE",
          "NH",
          "NJ",
          "NM",
          "NV",
          "NY",
          "OH",
          "OK",
          "OR",
          "PA",
          "RI",
          "SC",
          "SD",
          "TN",
          "TX",
          "UT",
          "VA",
          "VT",
          "WA",
          "WI",
          "WV",
          "WY"
         ],
         "type": "choropleth",
         "visible": false,
         "z": [
          -1.3895385547904338,
          -1.6125601255604063,
          -1.4096255577468697,
          -1.6018789878198734,
          -1.5496012430765667,
          -1.6260700801067907,
          -1.3963258225406254,
          -1.7526976436291941,
          -1.594148546363909,
          -1.5188564273257414,
          -1.6907321027204174,
          -1.4232185996239084,
          -1.7606205760187617,
          -1.6259667985403776,
          -1.6126856027137875,
          -1.539396849912339,
          -1.6324179185339505,
          -0.967351063644306,
          -1.6232507524177229,
          -1.654478275268973,
          -1.761312712850018,
          -1.5526723745337003,
          -1.4702138191817888,
          -1.5051149596556317,
          -1.8177617118286922,
          -1.5922408843544966,
          -1.7190305149055465,
          -1.3701663069904897,
          -1.8044029186602417,
          -1.4093120804361143,
          -1.5829999233708185,
          -1.686253231861683,
          -1.7187731923991734,
          -1.5849823157813023,
          -1.5347531085498658,
          -1.6623974558110641,
          -1.6392739565198944,
          -1.6066586845937842,
          -1.827907752574286,
          -1.5861657466631058,
          -0.5272708229352003,
          -1.6580630955806661,
          -1.6520347092268524,
          -1.0078627720268751,
          -1.6686756342711004,
          -1.686396139404911,
          -1.5723574965944607,
          -1.4765432051293355,
          -1.615169307357064,
          -1.2273617366535057
         ]
        },
        {
         "colorbar": {
          "title": {
           "text": "American Adjunct Lager"
          }
         },
         "locationmode": "USA-states",
         "locations": [
          "AK",
          "AL",
          "AR",
          "AZ",
          "CA",
          "CO",
          "CT",
          "DE",
          "FL",
          "GA",
          "HI",
          "IA",
          "ID",
          "IL",
          "IN",
          "KS",
          "KY",
          "LA",
          "MA",
          "MD",
          "ME",
          "MI",
          "MN",
          "MO",
          "MS",
          "MT",
          "NC",
          "ND",
          "NE",
          "NH",
          "NJ",
          "NM",
          "NV",
          "NY",
          "OH",
          "OK",
          "OR",
          "PA",
          "RI",
          "SC",
          "SD",
          "TN",
          "TX",
          "UT",
          "VA",
          "VT",
          "WA",
          "WI",
          "WV",
          "WY"
         ],
         "type": "choropleth",
         "visible": false,
         "z": [
          -1.39877326935258,
          -1.7129072849263638,
          -1.0350891155077333,
          -1.7284598677015852,
          -1.691148272270847,
          -1.9060087061754059,
          -1.633838835104113,
          -1.1400468463283064,
          -1.8012768292971737,
          -1.7925423716288673,
          -1.9365946104495266,
          -1.6761730628650338,
          -2.3637909176245464,
          -1.796319988978044,
          -1.6162977041360307,
          -1.5426105847867375,
          -1.6886405994738107,
          -1.060840020007761,
          -1.5700557608828702,
          -1.6146354246668813,
          -1.5360550690594372,
          -1.7032508479977426,
          -1.712424441344649,
          -1.7923811748960157,
          -1.5085741647677096,
          -1.8344018719929165,
          -1.624314392359357,
          -1.6331587731178252,
          -1.5944789078565975,
          -1.6140064300914492,
          -1.8329004464566443,
          -1.7655148801140224,
          -1.599342768946251,
          -1.729178485585534,
          -1.7544426664695554,
          -1.365415026477306,
          -1.6656472053258695,
          -1.5808348607024099,
          -1.762388928060057,
          -1.9416625773065657,
          -1.1751587477114562,
          -1.5872679836706978,
          -1.555759257372863,
          -1.7775395914360135,
          -1.69126051593218,
          -1.7584857595584091,
          -1.7432524820732398,
          -1.5915878130050223,
          -1.8839351778743536,
          -1.7391683298093563
         ]
        }
       ],
       "layout": {
        "geo": {
         "projection": {
          "type": "albers usa"
         },
         "scope": "usa"
        },
        "template": {
         "data": {
          "bar": [
           {
            "error_x": {
             "color": "#2a3f5f"
            },
            "error_y": {
             "color": "#2a3f5f"
            },
            "marker": {
             "line": {
              "color": "#E5ECF6",
              "width": 0.5
             },
             "pattern": {
              "fillmode": "overlay",
              "size": 10,
              "solidity": 0.2
             }
            },
            "type": "bar"
           }
          ],
          "barpolar": [
           {
            "marker": {
             "line": {
              "color": "#E5ECF6",
              "width": 0.5
             },
             "pattern": {
              "fillmode": "overlay",
              "size": 10,
              "solidity": 0.2
             }
            },
            "type": "barpolar"
           }
          ],
          "carpet": [
           {
            "aaxis": {
             "endlinecolor": "#2a3f5f",
             "gridcolor": "white",
             "linecolor": "white",
             "minorgridcolor": "white",
             "startlinecolor": "#2a3f5f"
            },
            "baxis": {
             "endlinecolor": "#2a3f5f",
             "gridcolor": "white",
             "linecolor": "white",
             "minorgridcolor": "white",
             "startlinecolor": "#2a3f5f"
            },
            "type": "carpet"
           }
          ],
          "choropleth": [
           {
            "colorbar": {
             "outlinewidth": 0,
             "ticks": ""
            },
            "type": "choropleth"
           }
          ],
          "contour": [
           {
            "colorbar": {
             "outlinewidth": 0,
             "ticks": ""
            },
            "colorscale": [
             [
              0,
              "#0d0887"
             ],
             [
              0.1111111111111111,
              "#46039f"
             ],
             [
              0.2222222222222222,
              "#7201a8"
             ],
             [
              0.3333333333333333,
              "#9c179e"
             ],
             [
              0.4444444444444444,
              "#bd3786"
             ],
             [
              0.5555555555555556,
              "#d8576b"
             ],
             [
              0.6666666666666666,
              "#ed7953"
             ],
             [
              0.7777777777777778,
              "#fb9f3a"
             ],
             [
              0.8888888888888888,
              "#fdca26"
             ],
             [
              1,
              "#f0f921"
             ]
            ],
            "type": "contour"
           }
          ],
          "contourcarpet": [
           {
            "colorbar": {
             "outlinewidth": 0,
             "ticks": ""
            },
            "type": "contourcarpet"
           }
          ],
          "heatmap": [
           {
            "colorbar": {
             "outlinewidth": 0,
             "ticks": ""
            },
            "colorscale": [
             [
              0,
              "#0d0887"
             ],
             [
              0.1111111111111111,
              "#46039f"
             ],
             [
              0.2222222222222222,
              "#7201a8"
             ],
             [
              0.3333333333333333,
              "#9c179e"
             ],
             [
              0.4444444444444444,
              "#bd3786"
             ],
             [
              0.5555555555555556,
              "#d8576b"
             ],
             [
              0.6666666666666666,
              "#ed7953"
             ],
             [
              0.7777777777777778,
              "#fb9f3a"
             ],
             [
              0.8888888888888888,
              "#fdca26"
             ],
             [
              1,
              "#f0f921"
             ]
            ],
            "type": "heatmap"
           }
          ],
          "heatmapgl": [
           {
            "colorbar": {
             "outlinewidth": 0,
             "ticks": ""
            },
            "colorscale": [
             [
              0,
              "#0d0887"
             ],
             [
              0.1111111111111111,
              "#46039f"
             ],
             [
              0.2222222222222222,
              "#7201a8"
             ],
             [
              0.3333333333333333,
              "#9c179e"
             ],
             [
              0.4444444444444444,
              "#bd3786"
             ],
             [
              0.5555555555555556,
              "#d8576b"
             ],
             [
              0.6666666666666666,
              "#ed7953"
             ],
             [
              0.7777777777777778,
              "#fb9f3a"
             ],
             [
              0.8888888888888888,
              "#fdca26"
             ],
             [
              1,
              "#f0f921"
             ]
            ],
            "type": "heatmapgl"
           }
          ],
          "histogram": [
           {
            "marker": {
             "pattern": {
              "fillmode": "overlay",
              "size": 10,
              "solidity": 0.2
             }
            },
            "type": "histogram"
           }
          ],
          "histogram2d": [
           {
            "colorbar": {
             "outlinewidth": 0,
             "ticks": ""
            },
            "colorscale": [
             [
              0,
              "#0d0887"
             ],
             [
              0.1111111111111111,
              "#46039f"
             ],
             [
              0.2222222222222222,
              "#7201a8"
             ],
             [
              0.3333333333333333,
              "#9c179e"
             ],
             [
              0.4444444444444444,
              "#bd3786"
             ],
             [
              0.5555555555555556,
              "#d8576b"
             ],
             [
              0.6666666666666666,
              "#ed7953"
             ],
             [
              0.7777777777777778,
              "#fb9f3a"
             ],
             [
              0.8888888888888888,
              "#fdca26"
             ],
             [
              1,
              "#f0f921"
             ]
            ],
            "type": "histogram2d"
           }
          ],
          "histogram2dcontour": [
           {
            "colorbar": {
             "outlinewidth": 0,
             "ticks": ""
            },
            "colorscale": [
             [
              0,
              "#0d0887"
             ],
             [
              0.1111111111111111,
              "#46039f"
             ],
             [
              0.2222222222222222,
              "#7201a8"
             ],
             [
              0.3333333333333333,
              "#9c179e"
             ],
             [
              0.4444444444444444,
              "#bd3786"
             ],
             [
              0.5555555555555556,
              "#d8576b"
             ],
             [
              0.6666666666666666,
              "#ed7953"
             ],
             [
              0.7777777777777778,
              "#fb9f3a"
             ],
             [
              0.8888888888888888,
              "#fdca26"
             ],
             [
              1,
              "#f0f921"
             ]
            ],
            "type": "histogram2dcontour"
           }
          ],
          "mesh3d": [
           {
            "colorbar": {
             "outlinewidth": 0,
             "ticks": ""
            },
            "type": "mesh3d"
           }
          ],
          "parcoords": [
           {
            "line": {
             "colorbar": {
              "outlinewidth": 0,
              "ticks": ""
             }
            },
            "type": "parcoords"
           }
          ],
          "pie": [
           {
            "automargin": true,
            "type": "pie"
           }
          ],
          "scatter": [
           {
            "fillpattern": {
             "fillmode": "overlay",
             "size": 10,
             "solidity": 0.2
            },
            "type": "scatter"
           }
          ],
          "scatter3d": [
           {
            "line": {
             "colorbar": {
              "outlinewidth": 0,
              "ticks": ""
             }
            },
            "marker": {
             "colorbar": {
              "outlinewidth": 0,
              "ticks": ""
             }
            },
            "type": "scatter3d"
           }
          ],
          "scattercarpet": [
           {
            "marker": {
             "colorbar": {
              "outlinewidth": 0,
              "ticks": ""
             }
            },
            "type": "scattercarpet"
           }
          ],
          "scattergeo": [
           {
            "marker": {
             "colorbar": {
              "outlinewidth": 0,
              "ticks": ""
             }
            },
            "type": "scattergeo"
           }
          ],
          "scattergl": [
           {
            "marker": {
             "colorbar": {
              "outlinewidth": 0,
              "ticks": ""
             }
            },
            "type": "scattergl"
           }
          ],
          "scattermapbox": [
           {
            "marker": {
             "colorbar": {
              "outlinewidth": 0,
              "ticks": ""
             }
            },
            "type": "scattermapbox"
           }
          ],
          "scatterpolar": [
           {
            "marker": {
             "colorbar": {
              "outlinewidth": 0,
              "ticks": ""
             }
            },
            "type": "scatterpolar"
           }
          ],
          "scatterpolargl": [
           {
            "marker": {
             "colorbar": {
              "outlinewidth": 0,
              "ticks": ""
             }
            },
            "type": "scatterpolargl"
           }
          ],
          "scatterternary": [
           {
            "marker": {
             "colorbar": {
              "outlinewidth": 0,
              "ticks": ""
             }
            },
            "type": "scatterternary"
           }
          ],
          "surface": [
           {
            "colorbar": {
             "outlinewidth": 0,
             "ticks": ""
            },
            "colorscale": [
             [
              0,
              "#0d0887"
             ],
             [
              0.1111111111111111,
              "#46039f"
             ],
             [
              0.2222222222222222,
              "#7201a8"
             ],
             [
              0.3333333333333333,
              "#9c179e"
             ],
             [
              0.4444444444444444,
              "#bd3786"
             ],
             [
              0.5555555555555556,
              "#d8576b"
             ],
             [
              0.6666666666666666,
              "#ed7953"
             ],
             [
              0.7777777777777778,
              "#fb9f3a"
             ],
             [
              0.8888888888888888,
              "#fdca26"
             ],
             [
              1,
              "#f0f921"
             ]
            ],
            "type": "surface"
           }
          ],
          "table": [
           {
            "cells": {
             "fill": {
              "color": "#EBF0F8"
             },
             "line": {
              "color": "white"
             }
            },
            "header": {
             "fill": {
              "color": "#C8D4E3"
             },
             "line": {
              "color": "white"
             }
            },
            "type": "table"
           }
          ]
         },
         "layout": {
          "annotationdefaults": {
           "arrowcolor": "#2a3f5f",
           "arrowhead": 0,
           "arrowwidth": 1
          },
          "autotypenumbers": "strict",
          "coloraxis": {
           "colorbar": {
            "outlinewidth": 0,
            "ticks": ""
           }
          },
          "colorscale": {
           "diverging": [
            [
             0,
             "#8e0152"
            ],
            [
             0.1,
             "#c51b7d"
            ],
            [
             0.2,
             "#de77ae"
            ],
            [
             0.3,
             "#f1b6da"
            ],
            [
             0.4,
             "#fde0ef"
            ],
            [
             0.5,
             "#f7f7f7"
            ],
            [
             0.6,
             "#e6f5d0"
            ],
            [
             0.7,
             "#b8e186"
            ],
            [
             0.8,
             "#7fbc41"
            ],
            [
             0.9,
             "#4d9221"
            ],
            [
             1,
             "#276419"
            ]
           ],
           "sequential": [
            [
             0,
             "#0d0887"
            ],
            [
             0.1111111111111111,
             "#46039f"
            ],
            [
             0.2222222222222222,
             "#7201a8"
            ],
            [
             0.3333333333333333,
             "#9c179e"
            ],
            [
             0.4444444444444444,
             "#bd3786"
            ],
            [
             0.5555555555555556,
             "#d8576b"
            ],
            [
             0.6666666666666666,
             "#ed7953"
            ],
            [
             0.7777777777777778,
             "#fb9f3a"
            ],
            [
             0.8888888888888888,
             "#fdca26"
            ],
            [
             1,
             "#f0f921"
            ]
           ],
           "sequentialminus": [
            [
             0,
             "#0d0887"
            ],
            [
             0.1111111111111111,
             "#46039f"
            ],
            [
             0.2222222222222222,
             "#7201a8"
            ],
            [
             0.3333333333333333,
             "#9c179e"
            ],
            [
             0.4444444444444444,
             "#bd3786"
            ],
            [
             0.5555555555555556,
             "#d8576b"
            ],
            [
             0.6666666666666666,
             "#ed7953"
            ],
            [
             0.7777777777777778,
             "#fb9f3a"
            ],
            [
             0.8888888888888888,
             "#fdca26"
            ],
            [
             1,
             "#f0f921"
            ]
           ]
          },
          "colorway": [
           "#636efa",
           "#EF553B",
           "#00cc96",
           "#ab63fa",
           "#FFA15A",
           "#19d3f3",
           "#FF6692",
           "#B6E880",
           "#FF97FF",
           "#FECB52"
          ],
          "font": {
           "color": "#2a3f5f"
          },
          "geo": {
           "bgcolor": "white",
           "lakecolor": "white",
           "landcolor": "#E5ECF6",
           "showlakes": true,
           "showland": true,
           "subunitcolor": "white"
          },
          "hoverlabel": {
           "align": "left"
          },
          "hovermode": "closest",
          "mapbox": {
           "style": "light"
          },
          "paper_bgcolor": "white",
          "plot_bgcolor": "#E5ECF6",
          "polar": {
           "angularaxis": {
            "gridcolor": "white",
            "linecolor": "white",
            "ticks": ""
           },
           "bgcolor": "#E5ECF6",
           "radialaxis": {
            "gridcolor": "white",
            "linecolor": "white",
            "ticks": ""
           }
          },
          "scene": {
           "xaxis": {
            "backgroundcolor": "#E5ECF6",
            "gridcolor": "white",
            "gridwidth": 2,
            "linecolor": "white",
            "showbackground": true,
            "ticks": "",
            "zerolinecolor": "white"
           },
           "yaxis": {
            "backgroundcolor": "#E5ECF6",
            "gridcolor": "white",
            "gridwidth": 2,
            "linecolor": "white",
            "showbackground": true,
            "ticks": "",
            "zerolinecolor": "white"
           },
           "zaxis": {
            "backgroundcolor": "#E5ECF6",
            "gridcolor": "white",
            "gridwidth": 2,
            "linecolor": "white",
            "showbackground": true,
            "ticks": "",
            "zerolinecolor": "white"
           }
          },
          "shapedefaults": {
           "line": {
            "color": "#2a3f5f"
           }
          },
          "ternary": {
           "aaxis": {
            "gridcolor": "white",
            "linecolor": "white",
            "ticks": ""
           },
           "baxis": {
            "gridcolor": "white",
            "linecolor": "white",
            "ticks": ""
           },
           "bgcolor": "#E5ECF6",
           "caxis": {
            "gridcolor": "white",
            "linecolor": "white",
            "ticks": ""
           }
          },
          "title": {
           "x": 0.05
          },
          "xaxis": {
           "automargin": true,
           "gridcolor": "white",
           "linecolor": "white",
           "ticks": "",
           "title": {
            "standoff": 15
           },
           "zerolinecolor": "white",
           "zerolinewidth": 2
          },
          "yaxis": {
           "automargin": true,
           "gridcolor": "white",
           "linecolor": "white",
           "ticks": "",
           "title": {
            "standoff": 15
           },
           "zerolinecolor": "white",
           "zerolinewidth": 2
          }
         }
        },
        "title": {
         "text": "<b>India Pale Ale (IPA)</b>",
         "x": 0.5
        },
        "updatemenus": [
         {
          "active": 0,
          "buttons": [
           {
            "args": [
             {
              "visible": [
               true,
               false,
               false,
               false
              ]
             },
             {
              "title": "<b>India Pale Ale (IPA)</b>"
             }
            ],
            "label": "India Pale Ale (IPA)",
            "method": "update"
           },
           {
            "args": [
             {
              "visible": [
               false,
               true,
               false,
               false
              ]
             },
             {
              "title": "<b>Stout</b>"
             }
            ],
            "label": "Stout",
            "method": "update"
           },
           {
            "args": [
             {
              "visible": [
               false,
               false,
               true,
               false
              ]
             },
             {
              "title": "<b>Pale Lager</b>"
             }
            ],
            "label": "Pale Lager",
            "method": "update"
           },
           {
            "args": [
             {
              "visible": [
               false,
               false,
               false,
               true
              ]
             },
             {
              "title": "<b>American Adjunct Lager</b>"
             }
            ],
            "label": "American Adjunct Lager",
            "method": "update"
           }
          ]
         }
        ]
       }
      }
     },
     "metadata": {},
     "output_type": "display_data"
    }
   ],
   "source": [
    "beerstyle_taste_means = df_ratings[df_ratings['style'].isin(beerselection)].groupby(['style', 'US_Code_User']).mean().reset_index()\n",
    "beerstyle_taste_means.drop(['brewery_id', 'abv', 'appearance', 'aroma', 'overall', 'taste', 'year', 'beer_id', 'palate'], axis=1, inplace=True)\n",
    "beerstyle_taste_means.index = beerstyle_taste_means['US_Code_User']\n",
    "beerstyle_taste_means = beerstyle_taste_means.pivot(columns='style', values='rating')\n",
    "beerstyle_taste_means.reset_index(inplace=True)\n",
    "visible = np.array(beerselection)\n",
    "traces = []\n",
    "buttons = []\n",
    "for value in beerselection:\n",
    "    traces.append(go.Choropleth(\n",
    "    locationmode='USA-states',\n",
    "    locations=beerstyle_taste_means['US_Code_User'],\n",
    "        z=beerstyle_taste_means[value],\n",
    "        colorbar_title=value,\n",
    "        visible= True if value==beerselection[0] else False))\n",
    "\n",
    "    buttons.append(dict(label=value,\n",
    "                        method=\"update\",\n",
    "                        args=[{\"visible\":list(visible==value)},\n",
    "                            {\"title\":f\"<b>{value}</b>\"}]))\n",
    "\n",
    "updatemenus = [{\"active\":0,\n",
    "                \"buttons\":buttons,}]\n",
    "\n",
    "\n",
    "fig = go.Figure(data=traces,\n",
    "                layout=dict(updatemenus=updatemenus, geo=dict(scope='usa', projection_type='albers usa')))\n",
    "first_title = beerselection[0]\n",
    "fig.update_layout(title=f\"<b>{first_title}</b>\",title_x=0.5)\n",
    "fig.show()\n"
   ]
  }
 ],
 "metadata": {
  "kernelspec": {
   "display_name": "base",
   "language": "python",
   "name": "python3"
  },
  "language_info": {
   "codemirror_mode": {
    "name": "ipython",
    "version": 3
   },
   "file_extension": ".py",
   "mimetype": "text/x-python",
   "name": "python",
   "nbconvert_exporter": "python",
   "pygments_lexer": "ipython3",
   "version": "3.9.13"
  },
  "vscode": {
   "interpreter": {
    "hash": "aaee924d214cec0e0c23c8089fbfe4881daa1dd784967d94fcc7b5bc3d329bfa"
   }
  }
 },
 "nbformat": 4,
 "nbformat_minor": 2
}
