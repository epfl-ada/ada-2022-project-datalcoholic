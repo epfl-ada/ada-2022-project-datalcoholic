{
 "cells": [
  {
   "cell_type": "code",
   "execution_count": 1,
   "metadata": {},
   "outputs": [],
   "source": [
    "import pandas as pd\n",
    "import os\n",
    "import tarfile\n",
    "import gzip\n"
   ]
  },
  {
   "cell_type": "code",
   "execution_count": 2,
   "metadata": {},
   "outputs": [],
   "source": [
    "PATH_BA = '../Data/BeerAdvocate_CSV.tar.gz'\n",
    "PATH_RB = '../Data/RateBeer_CSV.tar.gz'\n",
    "folder_BA = tarfile.open(PATH_BA)\n",
    "folder_RB = tarfile.open(PATH_RB)"
   ]
  },
  {
   "cell_type": "markdown",
   "metadata": {},
   "source": [
    "For RateBeer and BeerAdvocate, we extracted each review and transformed it in a dataframe with all the reviews."
   ]
  },
  {
   "cell_type": "code",
   "execution_count": 3,
   "metadata": {},
   "outputs": [],
   "source": [
    "# Extracting the files for BeerAdvocate\n",
    "df_beers_BA = pd.read_csv(folder_BA.extractfile(folder_BA.getmember('../Data/BeerAdvocate/beers.csv')))\n",
    "df_users_BA = pd.read_csv(folder_BA.extractfile(folder_BA.getmember('../Data/BeerAdvocate/users.csv')))\n",
    "df_reviews_BA = pd.read_csv(folder_BA.extractfile(folder_BA.getmember('../Data/BeerAdvocate/reviews.csv')))\n",
    "df_breweries_BA = pd.read_csv(folder_BA.extractfile(folder_BA.getmember('../Data/BeerAdvocate/breweries.csv')))\n",
    "\n",
    "# Extracting the files for RateBeer\n",
    "df_beers_RB = pd.read_csv(folder_RB.extractfile(folder_RB.getmember('../Data/RateBeer/beers.csv')))\n",
    "df_users_RB = pd.read_csv(folder_RB.extractfile(folder_RB.getmember('../Data/RateBeer/users.csv')))\n",
    "df_reviews_RB = pd.read_csv(folder_RB.extractfile(folder_RB.getmember('../Data/RateBeer/reviews.csv')))\n",
    "df_breweries_RB = pd.read_csv(folder_RB.extractfile(folder_RB.getmember('../Data/RateBeer/breweries.csv')))"
   ]
  },
  {
   "cell_type": "code",
   "execution_count": 4,
   "metadata": {},
   "outputs": [],
   "source": [
    "#For RateBeer review, we added 2 columns in the dataframe with the nationality of the user and the location of the brewery. \n",
    "user_nat_RB=pd.DataFrame()\n",
    "user_nat_RB['user_name']=df_users_RB['user_name']\n",
    "user_nat_RB['location_user']=df_users_RB['location']\n",
    "new_reviews_RB=pd.merge(df_reviews_RB, user_nat_RB,  how='inner', on='user_name')\n",
    "\n",
    "beers_nat_RB=pd.DataFrame()\n",
    "beers_nat_RB['beer_id']=df_breweries_RB['id']\n",
    "beers_nat_RB['beers_location']=df_breweries_RB['location']\n",
    "new_reviews_RB['beer_id']=new_reviews_RB['beer_id'].apply(lambda x: int(x))\n",
    "df_RB= pd.merge(new_reviews_RB, beers_nat_RB, how='inner', on='beer_id')\n",
    "#df_RB=df_RB.dropna(subset=['appearance', 'aroma','palate', 'taste', 'overall', 'rating', 'location_user', 'beers_location'])"
   ]
  },
  {
   "cell_type": "code",
   "execution_count": 5,
   "metadata": {},
   "outputs": [],
   "source": [
    "#For  BeerAdvocate review, we added 2 columns in the dataframe with the nationality of the user and the location of the brewery. \n",
    "user_nat_BA=pd.DataFrame()\n",
    "user_nat_BA['user_name']=df_users_BA['user_name']\n",
    "user_nat_BA['location_user']=df_users_BA['location']\n",
    "new_reviews_BA=pd.merge(df_reviews_BA, user_nat_BA,  how='inner', on='user_name')\n",
    "\n",
    "beers_nat_BA=pd.DataFrame()\n",
    "beers_nat_BA['beer_id']=df_breweries_BA['id']\n",
    "beers_nat_BA['beers_location']=df_breweries_BA['location']\n",
    "new_reviews_BA['beer_id']=new_reviews_BA['beer_id'].apply(lambda x: int(x))\n",
    "df_BA = pd.merge(new_reviews_BA, beers_nat_BA, how='inner', on='beer_id')\n",
    "#df_BA=df_BA.dropna(subset=['appearance', 'aroma','palate', 'taste', 'overall', 'rating', 'location_user', 'beers_location'])"
   ]
  },
  {
   "cell_type": "code",
   "execution_count": 7,
   "metadata": {},
   "outputs": [
    {
     "data": {
      "text/html": [
       "<div>\n",
       "<style scoped>\n",
       "    .dataframe tbody tr th:only-of-type {\n",
       "        vertical-align: middle;\n",
       "    }\n",
       "\n",
       "    .dataframe tbody tr th {\n",
       "        vertical-align: top;\n",
       "    }\n",
       "\n",
       "    .dataframe thead th {\n",
       "        text-align: right;\n",
       "    }\n",
       "</style>\n",
       "<table border=\"1\" class=\"dataframe\">\n",
       "  <thead>\n",
       "    <tr style=\"text-align: right;\">\n",
       "      <th></th>\n",
       "      <th>US_Code_User</th>\n",
       "      <th>location_user</th>\n",
       "      <th>US_Code_Beer</th>\n",
       "      <th>beers_location</th>\n",
       "      <th>beer_name</th>\n",
       "      <th>beer_id</th>\n",
       "      <th>brewery_name</th>\n",
       "      <th>brewery_id</th>\n",
       "      <th>style</th>\n",
       "      <th>abv</th>\n",
       "      <th>date</th>\n",
       "      <th>user_name</th>\n",
       "      <th>user_id</th>\n",
       "      <th>appearance</th>\n",
       "      <th>aroma</th>\n",
       "      <th>palate</th>\n",
       "      <th>taste</th>\n",
       "      <th>overall</th>\n",
       "      <th>rating</th>\n",
       "      <th>text</th>\n",
       "    </tr>\n",
       "  </thead>\n",
       "  <tbody>\n",
       "    <tr>\n",
       "      <th>0</th>\n",
       "      <td>AL</td>\n",
       "      <td>United States</td>\n",
       "      <td>AL</td>\n",
       "      <td>United States</td>\n",
       "      <td>Tiger Beer</td>\n",
       "      <td>3126.0</td>\n",
       "      <td>Singapore Brewery (Asia Pacific Breweries-Hein...</td>\n",
       "      <td>547.0</td>\n",
       "      <td>Pale Lager</td>\n",
       "      <td>5.0</td>\n",
       "      <td>1.085652e+09</td>\n",
       "      <td>Jeppe</td>\n",
       "      <td>9058.0</td>\n",
       "      <td>2.0</td>\n",
       "      <td>2.0</td>\n",
       "      <td>2.0</td>\n",
       "      <td>3.0</td>\n",
       "      <td>4.0</td>\n",
       "      <td>1.3</td>\n",
       "      <td>Foamy though disappearing white head on a piss...</td>\n",
       "    </tr>\n",
       "    <tr>\n",
       "      <th>1</th>\n",
       "      <td>AL</td>\n",
       "      <td>United States</td>\n",
       "      <td>AL</td>\n",
       "      <td>United States</td>\n",
       "      <td>Tiger Beer</td>\n",
       "      <td>3126.0</td>\n",
       "      <td>Singapore Brewery (Asia Pacific Breweries-Hein...</td>\n",
       "      <td>547.0</td>\n",
       "      <td>Pale Lager</td>\n",
       "      <td>5.0</td>\n",
       "      <td>1.216030e+09</td>\n",
       "      <td>tangentrider</td>\n",
       "      <td>54911.0</td>\n",
       "      <td>3.0</td>\n",
       "      <td>2.0</td>\n",
       "      <td>4.0</td>\n",
       "      <td>6.0</td>\n",
       "      <td>10.0</td>\n",
       "      <td>2.5</td>\n",
       "      <td>Pale beer with a one inch disappearing head.  ...</td>\n",
       "    </tr>\n",
       "    <tr>\n",
       "      <th>2</th>\n",
       "      <td>AL</td>\n",
       "      <td>United States</td>\n",
       "      <td>AL</td>\n",
       "      <td>United States</td>\n",
       "      <td>Tiger Beer</td>\n",
       "      <td>3126.0</td>\n",
       "      <td>Singapore Brewery (Asia Pacific Breweries-Hein...</td>\n",
       "      <td>547.0</td>\n",
       "      <td>Pale Lager</td>\n",
       "      <td>5.0</td>\n",
       "      <td>1.211623e+09</td>\n",
       "      <td>posikyle</td>\n",
       "      <td>52600.0</td>\n",
       "      <td>3.0</td>\n",
       "      <td>2.0</td>\n",
       "      <td>3.0</td>\n",
       "      <td>7.0</td>\n",
       "      <td>12.0</td>\n",
       "      <td>2.7</td>\n",
       "      <td>Typical pale lager, but one of the best out th...</td>\n",
       "    </tr>\n",
       "    <tr>\n",
       "      <th>3</th>\n",
       "      <td>AL</td>\n",
       "      <td>United States</td>\n",
       "      <td>AL</td>\n",
       "      <td>United States</td>\n",
       "      <td>Tiger Beer</td>\n",
       "      <td>3126.0</td>\n",
       "      <td>Singapore Brewery (Asia Pacific Breweries-Hein...</td>\n",
       "      <td>547.0</td>\n",
       "      <td>Pale Lager</td>\n",
       "      <td>5.0</td>\n",
       "      <td>1.175594e+09</td>\n",
       "      <td>Rictus</td>\n",
       "      <td>43333.0</td>\n",
       "      <td>3.0</td>\n",
       "      <td>4.0</td>\n",
       "      <td>2.0</td>\n",
       "      <td>6.0</td>\n",
       "      <td>12.0</td>\n",
       "      <td>2.7</td>\n",
       "      <td>The aroma is alittle too light for my taste. U...</td>\n",
       "    </tr>\n",
       "    <tr>\n",
       "      <th>4</th>\n",
       "      <td>AL</td>\n",
       "      <td>United States</td>\n",
       "      <td>AL</td>\n",
       "      <td>United States</td>\n",
       "      <td>Tiger Beer</td>\n",
       "      <td>3126.0</td>\n",
       "      <td>Singapore Brewery (Asia Pacific Breweries-Hein...</td>\n",
       "      <td>547.0</td>\n",
       "      <td>Pale Lager</td>\n",
       "      <td>5.0</td>\n",
       "      <td>1.160042e+09</td>\n",
       "      <td>JonnyC22</td>\n",
       "      <td>42655.0</td>\n",
       "      <td>2.0</td>\n",
       "      <td>3.0</td>\n",
       "      <td>3.0</td>\n",
       "      <td>5.0</td>\n",
       "      <td>10.0</td>\n",
       "      <td>2.3</td>\n",
       "      <td>Bottle (6âer) bought at halftime of Fla. St....</td>\n",
       "    </tr>\n",
       "    <tr>\n",
       "      <th>...</th>\n",
       "      <td>...</td>\n",
       "      <td>...</td>\n",
       "      <td>...</td>\n",
       "      <td>...</td>\n",
       "      <td>...</td>\n",
       "      <td>...</td>\n",
       "      <td>...</td>\n",
       "      <td>...</td>\n",
       "      <td>...</td>\n",
       "      <td>...</td>\n",
       "      <td>...</td>\n",
       "      <td>...</td>\n",
       "      <td>...</td>\n",
       "      <td>...</td>\n",
       "      <td>...</td>\n",
       "      <td>...</td>\n",
       "      <td>...</td>\n",
       "      <td>...</td>\n",
       "      <td>...</td>\n",
       "      <td>...</td>\n",
       "    </tr>\n",
       "    <tr>\n",
       "      <th>1661198</th>\n",
       "      <td>NaN</td>\n",
       "      <td>Nicaragua</td>\n",
       "      <td>NaN</td>\n",
       "      <td>Switzerland</td>\n",
       "      <td>Cerveza Premium (Nicaragua)</td>\n",
       "      <td>26300.0</td>\n",
       "      <td>Compañía Cevercera de Nicaragua</td>\n",
       "      <td>3912.0</td>\n",
       "      <td>Pale Lager</td>\n",
       "      <td>4.0</td>\n",
       "      <td>1.218103e+09</td>\n",
       "      <td>Zavalas1</td>\n",
       "      <td>79805.0</td>\n",
       "      <td>5.0</td>\n",
       "      <td>10.0</td>\n",
       "      <td>5.0</td>\n",
       "      <td>10.0</td>\n",
       "      <td>20.0</td>\n",
       "      <td>5.0</td>\n",
       "      <td>I have Tried beers from all over the world, an...</td>\n",
       "    </tr>\n",
       "    <tr>\n",
       "      <th>1661199</th>\n",
       "      <td>NaN</td>\n",
       "      <td>Sint Maarten</td>\n",
       "      <td>NaN</td>\n",
       "      <td>France</td>\n",
       "      <td>Belzebuth 13°</td>\n",
       "      <td>4489.0</td>\n",
       "      <td>Grain dOrge (Brasseurs De Gayant)</td>\n",
       "      <td>759.0</td>\n",
       "      <td>Belgian Strong Ale</td>\n",
       "      <td>13.0</td>\n",
       "      <td>1.427195e+09</td>\n",
       "      <td>JBaggett2013</td>\n",
       "      <td>362979.0</td>\n",
       "      <td>5.0</td>\n",
       "      <td>6.0</td>\n",
       "      <td>5.0</td>\n",
       "      <td>7.0</td>\n",
       "      <td>20.0</td>\n",
       "      <td>4.3</td>\n",
       "      <td>caramel, roasty, resin, leather, alcohol, wood...</td>\n",
       "    </tr>\n",
       "    <tr>\n",
       "      <th>1661200</th>\n",
       "      <td>NaN</td>\n",
       "      <td>Haiti</td>\n",
       "      <td>NaN</td>\n",
       "      <td>Japan</td>\n",
       "      <td>Oakham Helter Skelter</td>\n",
       "      <td>6309.0</td>\n",
       "      <td>Oakham</td>\n",
       "      <td>1100.0</td>\n",
       "      <td>Premium Bitter/ESB</td>\n",
       "      <td>5.0</td>\n",
       "      <td>1.252231e+09</td>\n",
       "      <td>skipoffwork</td>\n",
       "      <td>95191.0</td>\n",
       "      <td>5.0</td>\n",
       "      <td>10.0</td>\n",
       "      <td>5.0</td>\n",
       "      <td>10.0</td>\n",
       "      <td>20.0</td>\n",
       "      <td>5.0</td>\n",
       "      <td>This is the best beer Iâve tasted in a long ...</td>\n",
       "    </tr>\n",
       "    <tr>\n",
       "      <th>1661201</th>\n",
       "      <td>NaN</td>\n",
       "      <td>Tibet</td>\n",
       "      <td>NaN</td>\n",
       "      <td>Lithuania</td>\n",
       "      <td>Westvleteren 12 (XII)</td>\n",
       "      <td>4934.0</td>\n",
       "      <td>Westvleteren Abdij St. Sixtus</td>\n",
       "      <td>623.0</td>\n",
       "      <td>Abt/Quadrupel</td>\n",
       "      <td>10.2</td>\n",
       "      <td>1.359889e+09</td>\n",
       "      <td>oooriii</td>\n",
       "      <td>228391.0</td>\n",
       "      <td>5.0</td>\n",
       "      <td>10.0</td>\n",
       "      <td>5.0</td>\n",
       "      <td>10.0</td>\n",
       "      <td>20.0</td>\n",
       "      <td>5.0</td>\n",
       "      <td>Perfect, complete and complex. Grape, fig and ...</td>\n",
       "    </tr>\n",
       "    <tr>\n",
       "      <th>1661202</th>\n",
       "      <td>NaN</td>\n",
       "      <td>Kosovo</td>\n",
       "      <td>NaN</td>\n",
       "      <td>Morocco</td>\n",
       "      <td>Schneider Weisse Original</td>\n",
       "      <td>1762.0</td>\n",
       "      <td>Schneider Weisse G. Schneider &amp; Sohn GmbH</td>\n",
       "      <td>313.0</td>\n",
       "      <td>German Hefeweizen</td>\n",
       "      <td>5.4</td>\n",
       "      <td>1.340359e+09</td>\n",
       "      <td>gezimpula</td>\n",
       "      <td>192438.0</td>\n",
       "      <td>5.0</td>\n",
       "      <td>10.0</td>\n",
       "      <td>5.0</td>\n",
       "      <td>10.0</td>\n",
       "      <td>20.0</td>\n",
       "      <td>5.0</td>\n",
       "      <td>great beer ......................................</td>\n",
       "    </tr>\n",
       "  </tbody>\n",
       "</table>\n",
       "<p>1661203 rows × 20 columns</p>\n",
       "</div>"
      ],
      "text/plain": [
       "        US_Code_User  location_user US_Code_Beer beers_location  \\\n",
       "0                 AL  United States           AL  United States   \n",
       "1                 AL  United States           AL  United States   \n",
       "2                 AL  United States           AL  United States   \n",
       "3                 AL  United States           AL  United States   \n",
       "4                 AL  United States           AL  United States   \n",
       "...              ...            ...          ...            ...   \n",
       "1661198          NaN      Nicaragua          NaN    Switzerland   \n",
       "1661199          NaN   Sint Maarten          NaN         France   \n",
       "1661200          NaN          Haiti          NaN          Japan   \n",
       "1661201          NaN          Tibet          NaN      Lithuania   \n",
       "1661202          NaN         Kosovo          NaN        Morocco   \n",
       "\n",
       "                           beer_name  beer_id  \\\n",
       "0                         Tiger Beer   3126.0   \n",
       "1                         Tiger Beer   3126.0   \n",
       "2                         Tiger Beer   3126.0   \n",
       "3                         Tiger Beer   3126.0   \n",
       "4                         Tiger Beer   3126.0   \n",
       "...                              ...      ...   \n",
       "1661198  Cerveza Premium (Nicaragua)  26300.0   \n",
       "1661199                Belzebuth 13°   4489.0   \n",
       "1661200        Oakham Helter Skelter   6309.0   \n",
       "1661201        Westvleteren 12 (XII)   4934.0   \n",
       "1661202    Schneider Weisse Original   1762.0   \n",
       "\n",
       "                                              brewery_name  brewery_id  \\\n",
       "0        Singapore Brewery (Asia Pacific Breweries-Hein...       547.0   \n",
       "1        Singapore Brewery (Asia Pacific Breweries-Hein...       547.0   \n",
       "2        Singapore Brewery (Asia Pacific Breweries-Hein...       547.0   \n",
       "3        Singapore Brewery (Asia Pacific Breweries-Hein...       547.0   \n",
       "4        Singapore Brewery (Asia Pacific Breweries-Hein...       547.0   \n",
       "...                                                    ...         ...   \n",
       "1661198                    Compañía Cevercera de Nicaragua      3912.0   \n",
       "1661199                 Grain dOrge (Brasseurs De Gayant)       759.0   \n",
       "1661200                                             Oakham      1100.0   \n",
       "1661201                      Westvleteren Abdij St. Sixtus       623.0   \n",
       "1661202          Schneider Weisse G. Schneider & Sohn GmbH       313.0   \n",
       "\n",
       "                      style   abv          date     user_name   user_id  \\\n",
       "0                Pale Lager   5.0  1.085652e+09         Jeppe    9058.0   \n",
       "1                Pale Lager   5.0  1.216030e+09  tangentrider   54911.0   \n",
       "2                Pale Lager   5.0  1.211623e+09      posikyle   52600.0   \n",
       "3                Pale Lager   5.0  1.175594e+09        Rictus   43333.0   \n",
       "4                Pale Lager   5.0  1.160042e+09      JonnyC22   42655.0   \n",
       "...                     ...   ...           ...           ...       ...   \n",
       "1661198          Pale Lager   4.0  1.218103e+09      Zavalas1   79805.0   \n",
       "1661199  Belgian Strong Ale  13.0  1.427195e+09  JBaggett2013  362979.0   \n",
       "1661200  Premium Bitter/ESB   5.0  1.252231e+09   skipoffwork   95191.0   \n",
       "1661201       Abt/Quadrupel  10.2  1.359889e+09       oooriii  228391.0   \n",
       "1661202   German Hefeweizen   5.4  1.340359e+09     gezimpula  192438.0   \n",
       "\n",
       "         appearance  aroma  palate  taste  overall  rating  \\\n",
       "0               2.0    2.0     2.0    3.0      4.0     1.3   \n",
       "1               3.0    2.0     4.0    6.0     10.0     2.5   \n",
       "2               3.0    2.0     3.0    7.0     12.0     2.7   \n",
       "3               3.0    4.0     2.0    6.0     12.0     2.7   \n",
       "4               2.0    3.0     3.0    5.0     10.0     2.3   \n",
       "...             ...    ...     ...    ...      ...     ...   \n",
       "1661198         5.0   10.0     5.0   10.0     20.0     5.0   \n",
       "1661199         5.0    6.0     5.0    7.0     20.0     4.3   \n",
       "1661200         5.0   10.0     5.0   10.0     20.0     5.0   \n",
       "1661201         5.0   10.0     5.0   10.0     20.0     5.0   \n",
       "1661202         5.0   10.0     5.0   10.0     20.0     5.0   \n",
       "\n",
       "                                                      text  \n",
       "0        Foamy though disappearing white head on a piss...  \n",
       "1        Pale beer with a one inch disappearing head.  ...  \n",
       "2        Typical pale lager, but one of the best out th...  \n",
       "3        The aroma is alittle too light for my taste. U...  \n",
       "4        Bottle (6âer) bought at halftime of Fla. St....  \n",
       "...                                                    ...  \n",
       "1661198  I have Tried beers from all over the world, an...  \n",
       "1661199  caramel, roasty, resin, leather, alcohol, wood...  \n",
       "1661200  This is the best beer Iâve tasted in a long ...  \n",
       "1661201  Perfect, complete and complex. Grape, fig and ...  \n",
       "1661202  great beer ......................................  \n",
       "\n",
       "[1661203 rows x 20 columns]"
      ]
     },
     "execution_count": 7,
     "metadata": {},
     "output_type": "execute_result"
    }
   ],
   "source": [
    "#Here we extracted from wikipedia a tab the list Us states abreviations.\n",
    "US_states = pd.read_html('https://en.wikipedia.org/wiki/ISO_3166-2:US')[0] \n",
    "US_states['Subdivision name (en)'] = US_states['Subdivision name (en)'].apply(lambda x: 'United States, ' + x) \n",
    "US_states['Code'] = US_states['Code'].apply(lambda x: x[3:]) \n",
    "US_states.drop(columns=['Subdivision category'], inplace=True) \n",
    " \n",
    "#For BA and RB we added 2 columns with the state of the user and the state of the brewery if they are from the US.\n",
    "US_states_user=US_states.rename(columns={'Subdivision name (en)':'location_user', 'Code':'US_Code_User'}) \n",
    "US_states_beer=US_states.rename(columns={'Subdivision name (en)':'beers_location', 'Code':'US_Code_Beer'}) \n",
    "US_states_beer \n",
    "df_BA=pd.merge(US_states_beer, df_BA, how='outer', on='beers_location') \n",
    "df_BA=pd.merge(US_states_user, df_BA, how='outer', on='location_user') \n",
    "\n",
    "df_RB=pd.merge(US_states_beer, df_RB, how='outer', on='beers_location')\n",
    "df_RB=pd.merge(US_states_user, df_RB, how='outer', on='location_user')\n",
    " \n",
    "def keep_United_States_if_in_the_string(x): \n",
    "    if 'United States' in x: \n",
    "        return 'United States' \n",
    "    else: \n",
    "        return x \n",
    " \n",
    "# for the location and nationalities we kept only 'United States' and removed the State name after the comma for ploting.\n",
    "\n",
    "df_BA['beers_location']=df_BA['beers_location'].apply(lambda x: str(x)) \n",
    "df_BA['beers_location']=df_BA['beers_location'].apply(lambda x: keep_United_States_if_in_the_string(x)) \n",
    "df_BA['location_user']=df_BA['location_user'].apply(lambda x: str(x)) \n",
    "df_BA['location_user']=df_BA['location_user'].apply(lambda x: keep_United_States_if_in_the_string(x)) \n",
    "\n",
    "df_RB['beers_location']=df_RB['beers_location'].apply(lambda x: str(x))\n",
    "df_RB['beers_location']=df_RB['beers_location'].apply(lambda x: keep_United_States_if_in_the_string(x))\n",
    "df_RB['location_user']=df_RB['location_user'].apply(lambda x: str(x))\n",
    "df_RB['location_user']=df_RB['location_user'].apply(lambda x: keep_United_States_if_in_the_string(x))\n",
    "\n",
    "df_RB"
   ]
  },
  {
   "cell_type": "markdown",
   "metadata": {},
   "source": [
    "Describing data Rendu 3"
   ]
  },
  {
   "cell_type": "code",
   "execution_count": 8,
   "metadata": {},
   "outputs": [
    {
     "data": {
      "text/html": [
       "<div>\n",
       "<style scoped>\n",
       "    .dataframe tbody tr th:only-of-type {\n",
       "        vertical-align: middle;\n",
       "    }\n",
       "\n",
       "    .dataframe tbody tr th {\n",
       "        vertical-align: top;\n",
       "    }\n",
       "\n",
       "    .dataframe thead th {\n",
       "        text-align: right;\n",
       "    }\n",
       "</style>\n",
       "<table border=\"1\" class=\"dataframe\">\n",
       "  <thead>\n",
       "    <tr style=\"text-align: right;\">\n",
       "      <th></th>\n",
       "      <th>beer_id</th>\n",
       "      <th>brewery_id</th>\n",
       "      <th>abv</th>\n",
       "      <th>date</th>\n",
       "      <th>user_id</th>\n",
       "      <th>appearance</th>\n",
       "      <th>aroma</th>\n",
       "      <th>palate</th>\n",
       "      <th>taste</th>\n",
       "      <th>overall</th>\n",
       "      <th>rating</th>\n",
       "    </tr>\n",
       "  </thead>\n",
       "  <tbody>\n",
       "    <tr>\n",
       "      <th>count</th>\n",
       "      <td>1.661189e+06</td>\n",
       "      <td>1.661189e+06</td>\n",
       "      <td>1.629168e+06</td>\n",
       "      <td>1.661189e+06</td>\n",
       "      <td>1.661189e+06</td>\n",
       "      <td>1.661189e+06</td>\n",
       "      <td>1.661189e+06</td>\n",
       "      <td>1.661189e+06</td>\n",
       "      <td>1.661189e+06</td>\n",
       "      <td>1.661189e+06</td>\n",
       "      <td>1.661189e+06</td>\n",
       "    </tr>\n",
       "    <tr>\n",
       "      <th>mean</th>\n",
       "      <td>8.914907e+03</td>\n",
       "      <td>1.352321e+03</td>\n",
       "      <td>6.108667e+00</td>\n",
       "      <td>1.246093e+09</td>\n",
       "      <td>7.751208e+04</td>\n",
       "      <td>3.381471e+00</td>\n",
       "      <td>6.071589e+00</td>\n",
       "      <td>3.185382e+00</td>\n",
       "      <td>6.225879e+00</td>\n",
       "      <td>1.266904e+01</td>\n",
       "      <td>3.153338e+00</td>\n",
       "    </tr>\n",
       "    <tr>\n",
       "      <th>std</th>\n",
       "      <td>8.907137e+03</td>\n",
       "      <td>2.899499e+03</td>\n",
       "      <td>1.925222e+00</td>\n",
       "      <td>1.285409e+08</td>\n",
       "      <td>9.533349e+04</td>\n",
       "      <td>8.610607e-01</td>\n",
       "      <td>1.766814e+00</td>\n",
       "      <td>8.736617e-01</td>\n",
       "      <td>1.742097e+00</td>\n",
       "      <td>3.623481e+00</td>\n",
       "      <td>7.978916e-01</td>\n",
       "    </tr>\n",
       "    <tr>\n",
       "      <th>min</th>\n",
       "      <td>1.000000e+00</td>\n",
       "      <td>1.000000e+00</td>\n",
       "      <td>1.000000e-02</td>\n",
       "      <td>9.555336e+08</td>\n",
       "      <td>2.000000e+00</td>\n",
       "      <td>1.000000e+00</td>\n",
       "      <td>1.000000e+00</td>\n",
       "      <td>1.000000e+00</td>\n",
       "      <td>1.000000e+00</td>\n",
       "      <td>1.000000e+00</td>\n",
       "      <td>5.000000e-01</td>\n",
       "    </tr>\n",
       "    <tr>\n",
       "      <th>25%</th>\n",
       "      <td>1.325000e+03</td>\n",
       "      <td>1.430000e+02</td>\n",
       "      <td>4.900000e+00</td>\n",
       "      <td>1.142852e+09</td>\n",
       "      <td>1.018500e+04</td>\n",
       "      <td>3.000000e+00</td>\n",
       "      <td>5.000000e+00</td>\n",
       "      <td>3.000000e+00</td>\n",
       "      <td>5.000000e+00</td>\n",
       "      <td>1.100000e+01</td>\n",
       "      <td>2.700000e+00</td>\n",
       "    </tr>\n",
       "    <tr>\n",
       "      <th>50%</th>\n",
       "      <td>5.719000e+03</td>\n",
       "      <td>5.350000e+02</td>\n",
       "      <td>5.500000e+00</td>\n",
       "      <td>1.235473e+09</td>\n",
       "      <td>3.905700e+04</td>\n",
       "      <td>3.000000e+00</td>\n",
       "      <td>6.000000e+00</td>\n",
       "      <td>3.000000e+00</td>\n",
       "      <td>6.000000e+00</td>\n",
       "      <td>1.300000e+01</td>\n",
       "      <td>3.300000e+00</td>\n",
       "    </tr>\n",
       "    <tr>\n",
       "      <th>75%</th>\n",
       "      <td>1.383800e+04</td>\n",
       "      <td>1.390000e+03</td>\n",
       "      <td>7.000000e+00</td>\n",
       "      <td>1.354014e+09</td>\n",
       "      <td>1.010440e+05</td>\n",
       "      <td>4.000000e+00</td>\n",
       "      <td>7.000000e+00</td>\n",
       "      <td>4.000000e+00</td>\n",
       "      <td>7.000000e+00</td>\n",
       "      <td>1.500000e+01</td>\n",
       "      <td>3.700000e+00</td>\n",
       "    </tr>\n",
       "    <tr>\n",
       "      <th>max</th>\n",
       "      <td>3.224600e+04</td>\n",
       "      <td>3.187200e+04</td>\n",
       "      <td>2.900000e+01</td>\n",
       "      <td>1.501495e+09</td>\n",
       "      <td>4.899080e+05</td>\n",
       "      <td>5.000000e+00</td>\n",
       "      <td>1.000000e+01</td>\n",
       "      <td>5.000000e+00</td>\n",
       "      <td>1.000000e+01</td>\n",
       "      <td>2.000000e+01</td>\n",
       "      <td>5.000000e+00</td>\n",
       "    </tr>\n",
       "  </tbody>\n",
       "</table>\n",
       "</div>"
      ],
      "text/plain": [
       "            beer_id    brewery_id           abv          date       user_id  \\\n",
       "count  1.661189e+06  1.661189e+06  1.629168e+06  1.661189e+06  1.661189e+06   \n",
       "mean   8.914907e+03  1.352321e+03  6.108667e+00  1.246093e+09  7.751208e+04   \n",
       "std    8.907137e+03  2.899499e+03  1.925222e+00  1.285409e+08  9.533349e+04   \n",
       "min    1.000000e+00  1.000000e+00  1.000000e-02  9.555336e+08  2.000000e+00   \n",
       "25%    1.325000e+03  1.430000e+02  4.900000e+00  1.142852e+09  1.018500e+04   \n",
       "50%    5.719000e+03  5.350000e+02  5.500000e+00  1.235473e+09  3.905700e+04   \n",
       "75%    1.383800e+04  1.390000e+03  7.000000e+00  1.354014e+09  1.010440e+05   \n",
       "max    3.224600e+04  3.187200e+04  2.900000e+01  1.501495e+09  4.899080e+05   \n",
       "\n",
       "         appearance         aroma        palate         taste       overall  \\\n",
       "count  1.661189e+06  1.661189e+06  1.661189e+06  1.661189e+06  1.661189e+06   \n",
       "mean   3.381471e+00  6.071589e+00  3.185382e+00  6.225879e+00  1.266904e+01   \n",
       "std    8.610607e-01  1.766814e+00  8.736617e-01  1.742097e+00  3.623481e+00   \n",
       "min    1.000000e+00  1.000000e+00  1.000000e+00  1.000000e+00  1.000000e+00   \n",
       "25%    3.000000e+00  5.000000e+00  3.000000e+00  5.000000e+00  1.100000e+01   \n",
       "50%    3.000000e+00  6.000000e+00  3.000000e+00  6.000000e+00  1.300000e+01   \n",
       "75%    4.000000e+00  7.000000e+00  4.000000e+00  7.000000e+00  1.500000e+01   \n",
       "max    5.000000e+00  1.000000e+01  5.000000e+00  1.000000e+01  2.000000e+01   \n",
       "\n",
       "             rating  \n",
       "count  1.661189e+06  \n",
       "mean   3.153338e+00  \n",
       "std    7.978916e-01  \n",
       "min    5.000000e-01  \n",
       "25%    2.700000e+00  \n",
       "50%    3.300000e+00  \n",
       "75%    3.700000e+00  \n",
       "max    5.000000e+00  "
      ]
     },
     "execution_count": 8,
     "metadata": {},
     "output_type": "execute_result"
    }
   ],
   "source": [
    "df_RB.describe()"
   ]
  },
  {
   "cell_type": "code",
   "execution_count": 9,
   "metadata": {},
   "outputs": [
    {
     "data": {
      "text/plain": [
       "US_Code_User       791225\n",
       "location_user           0\n",
       "US_Code_Beer      1176349\n",
       "beers_location          0\n",
       "beer_name              14\n",
       "beer_id                14\n",
       "brewery_name           14\n",
       "brewery_id             14\n",
       "style                  14\n",
       "abv                 32035\n",
       "date                   14\n",
       "user_name              14\n",
       "user_id                14\n",
       "appearance             14\n",
       "aroma                  14\n",
       "palate                 14\n",
       "taste                  14\n",
       "overall                14\n",
       "rating                 14\n",
       "text                  217\n",
       "dtype: int64"
      ]
     },
     "execution_count": 9,
     "metadata": {},
     "output_type": "execute_result"
    }
   ],
   "source": [
    "#count the nan value in the dataframe\n",
    "#finalement ya pas tant que ca je pense c'est exploitable on peu faire la prediction\n",
    "df_RB.isna().sum()"
   ]
  },
  {
   "cell_type": "code",
   "execution_count": 10,
   "metadata": {},
   "outputs": [
    {
     "data": {
      "text/plain": [
       "HI    831\n",
       "SD    787\n",
       "WY    736\n",
       "DC      1\n",
       "AS      1\n",
       "GU      1\n",
       "MP      1\n",
       "PR      1\n",
       "UM      1\n",
       "VI      1\n",
       "Name: US_Code_User, dtype: int64"
      ]
     },
     "execution_count": 10,
     "metadata": {},
     "output_type": "execute_result"
    }
   ],
   "source": [
    "#count the Us code users/ en gros le nombre de reviews par etat sur la nationalite de la personne qui a écrit la review\n",
    "df_RB['US_Code_User'].value_counts()\n",
    "\n",
    "#certains état ya trop peu de valeur pour être représentatif\n",
    "#find rows with less than 1000 reviews¨\n",
    "df_RB['US_Code_User'].value_counts()[df_RB['US_Code_User'].value_counts()<1000]\n",
    "\n",
    "#je pense qu'on pourra enlever ces states car c'est des iles mais faudrait faire un comparatif par rapport à la population\n"
   ]
  },
  {
   "cell_type": "code",
   "execution_count": 11,
   "metadata": {},
   "outputs": [
    {
     "data": {
      "text/plain": [
       "SD    899\n",
       "WV    878\n",
       "ND    459\n",
       "RI    337\n",
       "DC      1\n",
       "AS      1\n",
       "GU      1\n",
       "MP      1\n",
       "PR      1\n",
       "UM      1\n",
       "VI      1\n",
       "Name: US_Code_Beer, dtype: int64"
      ]
     },
     "execution_count": 11,
     "metadata": {},
     "output_type": "execute_result"
    }
   ],
   "source": [
    "#count the Us code beer/ en gros le nombre de reviews par etat sur la nationalite de la biere\n",
    "\n",
    "df_RB['US_Code_Beer'].value_counts()\n",
    "\n",
    "#find rows with less than 1000 reviews¨\n",
    "df_RB['US_Code_Beer'].value_counts()[df_RB['US_Code_Beer'].value_counts()<1000]\n"
   ]
  },
  {
   "cell_type": "code",
   "execution_count": 12,
   "metadata": {},
   "outputs": [
    {
     "data": {
      "text/plain": [
       "US_Code_Beer\n",
       "CA    685\n",
       "CO    306\n",
       "WA    306\n",
       "NY    274\n",
       "MI    244\n",
       "PA    230\n",
       "OR    198\n",
       "TX    190\n",
       "NC    186\n",
       "FL    181\n",
       "IL    178\n",
       "WI    177\n",
       "OH    176\n",
       "VA    154\n",
       "MN    146\n",
       "IN    126\n",
       "MA    114\n",
       "MO     93\n",
       "AZ     82\n",
       "NJ     80\n",
       "ME     76\n",
       "MD     74\n",
       "GA     70\n",
       "IA     70\n",
       "MT     67\n",
       "VT     66\n",
       "TN     63\n",
       "CT     54\n",
       "NM     53\n",
       "ID     49\n",
       "NH     49\n",
       "SC     45\n",
       "NV     44\n",
       "KY     42\n",
       "AL     36\n",
       "NE     34\n",
       "AK     28\n",
       "KS     28\n",
       "LA     26\n",
       "WY     25\n",
       "OK     24\n",
       "AR     23\n",
       "UT     21\n",
       "SD     19\n",
       "WV     19\n",
       "HI     18\n",
       "DE     17\n",
       "RI     15\n",
       "ND     13\n",
       "MS     13\n",
       "dtype: int64"
      ]
     },
     "execution_count": 12,
     "metadata": {},
     "output_type": "execute_result"
    }
   ],
   "source": [
    "#nombre de biere par state\n",
    "df_RB\n",
    "#Nombre de biere differentes produites par chauques etats\n",
    "df_RB_beer_per_state=df_RB.drop_duplicates(subset=['beer_id'])\n",
    "df_RB_beer_per_state.value_counts('US_Code_Beer')"
   ]
  },
  {
   "cell_type": "code",
   "execution_count": 13,
   "metadata": {},
   "outputs": [
    {
     "data": {
      "text/html": [
       "<div>\n",
       "<style scoped>\n",
       "    .dataframe tbody tr th:only-of-type {\n",
       "        vertical-align: middle;\n",
       "    }\n",
       "\n",
       "    .dataframe tbody tr th {\n",
       "        vertical-align: top;\n",
       "    }\n",
       "\n",
       "    .dataframe thead th {\n",
       "        text-align: right;\n",
       "    }\n",
       "</style>\n",
       "<table border=\"1\" class=\"dataframe\">\n",
       "  <thead>\n",
       "    <tr style=\"text-align: right;\">\n",
       "      <th></th>\n",
       "      <th>US_Code_Beer</th>\n",
       "      <th>beers_location</th>\n",
       "      <th>beer_name</th>\n",
       "      <th>beer_id</th>\n",
       "      <th>brewery_name</th>\n",
       "      <th>brewery_id</th>\n",
       "      <th>nb_reviews</th>\n",
       "    </tr>\n",
       "  </thead>\n",
       "  <tbody>\n",
       "    <tr>\n",
       "      <th>0</th>\n",
       "      <td>AL</td>\n",
       "      <td>United States</td>\n",
       "      <td>Tiger Beer</td>\n",
       "      <td>3126.0</td>\n",
       "      <td>Singapore Brewery (Asia Pacific Breweries-Hein...</td>\n",
       "      <td>547.0</td>\n",
       "      <td>1555</td>\n",
       "    </tr>\n",
       "    <tr>\n",
       "      <th>1555</th>\n",
       "      <td>AL</td>\n",
       "      <td>United States</td>\n",
       "      <td>Taj Mahal</td>\n",
       "      <td>4575.0</td>\n",
       "      <td>United Breweries Group</td>\n",
       "      <td>44.0</td>\n",
       "      <td>514</td>\n",
       "    </tr>\n",
       "    <tr>\n",
       "      <th>2069</th>\n",
       "      <td>AL</td>\n",
       "      <td>United States</td>\n",
       "      <td>Ulan Bator Baadog</td>\n",
       "      <td>24935.0</td>\n",
       "      <td>Ulan Bator Breweries</td>\n",
       "      <td>10819.0</td>\n",
       "      <td>79</td>\n",
       "    </tr>\n",
       "    <tr>\n",
       "      <th>2148</th>\n",
       "      <td>AL</td>\n",
       "      <td>United States</td>\n",
       "      <td>Red Brick Winter Brew (2003 and Earlier)</td>\n",
       "      <td>59.0</td>\n",
       "      <td>Red Brick Brewing Company</td>\n",
       "      <td>14.0</td>\n",
       "      <td>22</td>\n",
       "    </tr>\n",
       "    <tr>\n",
       "      <th>2170</th>\n",
       "      <td>AL</td>\n",
       "      <td>United States</td>\n",
       "      <td>Königsberg Premium</td>\n",
       "      <td>26641.0</td>\n",
       "      <td>Kompaniya PIT (Heineken)</td>\n",
       "      <td>2164.0</td>\n",
       "      <td>18</td>\n",
       "    </tr>\n",
       "    <tr>\n",
       "      <th>...</th>\n",
       "      <td>...</td>\n",
       "      <td>...</td>\n",
       "      <td>...</td>\n",
       "      <td>...</td>\n",
       "      <td>...</td>\n",
       "      <td>...</td>\n",
       "      <td>...</td>\n",
       "    </tr>\n",
       "    <tr>\n",
       "      <th>1661184</th>\n",
       "      <td>NaN</td>\n",
       "      <td>Norway</td>\n",
       "      <td>Volga Khmelnoe</td>\n",
       "      <td>25327.0</td>\n",
       "      <td>Baltika-Yaroslavl (Baltika - Baltic Beverages ...</td>\n",
       "      <td>3636.0</td>\n",
       "      <td>1</td>\n",
       "    </tr>\n",
       "    <tr>\n",
       "      <th>1661185</th>\n",
       "      <td>NaN</td>\n",
       "      <td>Norway</td>\n",
       "      <td>Volga Yachmennoe</td>\n",
       "      <td>25328.0</td>\n",
       "      <td>Baltika-Yaroslavl (Baltika - Baltic Beverages ...</td>\n",
       "      <td>3636.0</td>\n",
       "      <td>1</td>\n",
       "    </tr>\n",
       "    <tr>\n",
       "      <th>1661186</th>\n",
       "      <td>NaN</td>\n",
       "      <td>Ukraine</td>\n",
       "      <td>Badaevskoe Beer</td>\n",
       "      <td>26120.0</td>\n",
       "      <td>Badaevskiy Pivovarenny Zavod</td>\n",
       "      <td>3843.0</td>\n",
       "      <td>1</td>\n",
       "    </tr>\n",
       "    <tr>\n",
       "      <th>1661187</th>\n",
       "      <td>NaN</td>\n",
       "      <td>Ukraine</td>\n",
       "      <td>Companion Blondă</td>\n",
       "      <td>26097.0</td>\n",
       "      <td>Beermaster S.A.</td>\n",
       "      <td>3903.0</td>\n",
       "      <td>1</td>\n",
       "    </tr>\n",
       "    <tr>\n",
       "      <th>1661188</th>\n",
       "      <td>CA</td>\n",
       "      <td>United States</td>\n",
       "      <td>Nacional Andes</td>\n",
       "      <td>13586.0</td>\n",
       "      <td>Cervecera Nacional (InBev)</td>\n",
       "      <td>2507.0</td>\n",
       "      <td>1</td>\n",
       "    </tr>\n",
       "  </tbody>\n",
       "</table>\n",
       "<p>18781 rows × 7 columns</p>\n",
       "</div>"
      ],
      "text/plain": [
       "        US_Code_Beer beers_location                                 beer_name  \\\n",
       "0                 AL  United States                                Tiger Beer   \n",
       "1555              AL  United States                                 Taj Mahal   \n",
       "2069              AL  United States                         Ulan Bator Baadog   \n",
       "2148              AL  United States  Red Brick Winter Brew (2003 and Earlier)   \n",
       "2170              AL  United States                        Königsberg Premium   \n",
       "...              ...            ...                                       ...   \n",
       "1661184          NaN         Norway                            Volga Khmelnoe   \n",
       "1661185          NaN         Norway                          Volga Yachmennoe   \n",
       "1661186          NaN        Ukraine                           Badaevskoe Beer   \n",
       "1661187          NaN        Ukraine                          Companion Blondă   \n",
       "1661188           CA  United States                            Nacional Andes   \n",
       "\n",
       "         beer_id                                       brewery_name  \\\n",
       "0         3126.0  Singapore Brewery (Asia Pacific Breweries-Hein...   \n",
       "1555      4575.0                             United Breweries Group   \n",
       "2069     24935.0                               Ulan Bator Breweries   \n",
       "2148        59.0                          Red Brick Brewing Company   \n",
       "2170     26641.0                           Kompaniya PIT (Heineken)   \n",
       "...          ...                                                ...   \n",
       "1661184  25327.0  Baltika-Yaroslavl (Baltika - Baltic Beverages ...   \n",
       "1661185  25328.0  Baltika-Yaroslavl (Baltika - Baltic Beverages ...   \n",
       "1661186  26120.0                       Badaevskiy Pivovarenny Zavod   \n",
       "1661187  26097.0                                    Beermaster S.A.   \n",
       "1661188  13586.0                         Cervecera Nacional (InBev)   \n",
       "\n",
       "         brewery_id  nb_reviews  \n",
       "0             547.0        1555  \n",
       "1555           44.0         514  \n",
       "2069        10819.0          79  \n",
       "2148           14.0          22  \n",
       "2170         2164.0          18  \n",
       "...             ...         ...  \n",
       "1661184      3636.0           1  \n",
       "1661185      3636.0           1  \n",
       "1661186      3843.0           1  \n",
       "1661187      3903.0           1  \n",
       "1661188      2507.0           1  \n",
       "\n",
       "[18781 rows x 7 columns]"
      ]
     },
     "execution_count": 13,
     "metadata": {},
     "output_type": "execute_result"
    }
   ],
   "source": [
    "#nombre de reviews par biere:\n",
    "#a comparer avec le data de bieres\n",
    "\n",
    "#on transforme en dataframe, sinon le merge marche pas\n",
    "df_RB_reviews_per_beer=pd.DataFrame(df_RB['beer_id'].value_counts())\n",
    "#reset des index pour le merge\n",
    "df_RB_reviews_per_beer=df_RB_reviews_per_beer.reset_index().rename(columns={'beer_id':'nb_reviews', 'index':'beer_id'})\n",
    "df_RB_reviews_per_beer=pd.merge(df_RB, df_RB_reviews_per_beer, how='inner', on='beer_id').drop_duplicates(subset=['beer_id'])\n",
    "#on drop les colonnes inutiles\n",
    "\n",
    "df_RB_reviews_per_beer.drop(columns=['US_Code_User', 'location_user', 'style', 'abv',\n",
    "       'date', 'user_name', 'user_id', 'appearance', 'aroma', 'palate',\n",
    "       'taste', 'overall', 'rating', 'text'])\n",
    "\n",
    "\n"
   ]
  },
  {
   "cell_type": "code",
   "execution_count": 14,
   "metadata": {},
   "outputs": [
    {
     "data": {
      "application/vnd.plotly.v1+json": {
       "config": {
        "plotlyServerURL": "https://plot.ly"
       },
       "data": [
        {
         "coloraxis": "coloraxis",
         "geo": "geo",
         "hovertemplate": "location_user=%{location}<br>number_of_users=%{z}<extra></extra>",
         "locationmode": "country names",
         "locations": [
          "Abkhazia",
          "Afghanistan",
          "Albania",
          "Algeria",
          "American Samoa",
          "Andorra",
          "Argentina",
          "Ascension Island",
          "Australia",
          "Austria",
          "Azerbaijan",
          "Bahamas",
          "Bangladesh",
          "Barbados",
          "Belarus",
          "Belgium",
          "Belize",
          "Bermuda",
          "Bolivia",
          "Bosnia and Herzegovina",
          "Botswana",
          "Brazil",
          "Bulgaria",
          "Burkina Faso",
          "Burundi",
          "Cambodia",
          "Canada",
          "Cayman Islands",
          "Chile",
          "China",
          "Colombia",
          "Costa Rica",
          "Croatia",
          "Cyprus",
          "Czech Republic",
          "Denmark",
          "Dominican Republic",
          "East Timor",
          "Ecuador",
          "Egypt",
          "El Salvador",
          "England",
          "Estonia",
          "Faroe Islands",
          "Finland",
          "France",
          "Germany",
          "Ghana",
          "Greece",
          "Greenland",
          "Guam",
          "Guatemala",
          "Haiti",
          "Honduras",
          "Hong Kong",
          "Hungary",
          "Iceland",
          "India",
          "Indonesia",
          "Iraq",
          "Ireland",
          "Isle of Man",
          "Israel",
          "Italy",
          "Japan",
          "Jersey",
          "Jordan",
          "Kazakhstan",
          "Kenya",
          "Kosovo",
          "Laos",
          "Latvia",
          "Lebanon",
          "Liechtenstein",
          "Lithuania",
          "Luxembourg",
          "Macau",
          "Macedonia",
          "Malaysia",
          "Malta",
          "Marshall Islands",
          "Mauritius",
          "Mexico",
          "Moldova",
          "Monaco",
          "Montenegro",
          "Montserrat",
          "Mozambique",
          "Namibia",
          "Nepal",
          "Netherlands",
          "New Zealand",
          "Nicaragua",
          "Nigeria",
          "Norfolk Island",
          "North Korea",
          "Northern Ireland",
          "Norway",
          "Oman",
          "Pakistan",
          "Palestine",
          "Panama",
          "Paraguay",
          "Peru",
          "Philippines",
          "Poland",
          "Portugal",
          "Puerto Rico",
          "Romania",
          "Russia",
          "Saint Helena",
          "Saint Vincent and The Grenadines",
          "San Marino",
          "Saudi Arabia",
          "Scotland",
          "Serbia",
          "Singapore",
          "Sint Maarten",
          "Slovak Republic",
          "Slovakia",
          "Slovenia",
          "South Africa",
          "South Korea",
          "Spain",
          "Sudan",
          "Sweden",
          "Switzerland",
          "Syria",
          "Taiwan",
          "Tanzania",
          "Thailand",
          "Tibet",
          "Tunisia",
          "Turkey",
          "Uganda",
          "Ukraine",
          "United Arab Emirates",
          "United States",
          "Uruguay",
          "Uzbekistan",
          "Vanuatu",
          "Vatican City",
          "Venezuela",
          "Vietnam",
          "Virgin Islands (British)",
          "Virgin Islands (U.S.)",
          "Wales",
          "Zambia",
          "nan"
         ],
         "name": "",
         "type": "choropleth",
         "z": [
          2,
          8,
          2,
          16,
          1,
          84,
          205,
          202,
          29377,
          2407,
          2,
          4,
          6,
          1,
          978,
          25249,
          2,
          349,
          525,
          50,
          4,
          4593,
          122,
          2,
          1,
          582,
          120387,
          18,
          1271,
          437,
          138,
          17,
          7414,
          689,
          5899,
          103847,
          518,
          2,
          124,
          2,
          1446,
          80513,
          7641,
          2112,
          34911,
          8092,
          44950,
          2,
          2095,
          43,
          181,
          39,
          1,
          9,
          738,
          6538,
          1054,
          624,
          177,
          4,
          3163,
          24,
          4953,
          12815,
          4846,
          36,
          1,
          12,
          5,
          1,
          6,
          1246,
          14,
          4,
          658,
          921,
          1,
          17,
          802,
          5,
          346,
          10,
          2740,
          1315,
          2,
          8,
          4,
          569,
          12,
          6,
          45931,
          5774,
          2,
          3,
          4,
          217,
          456,
          35593,
          4,
          17,
          5,
          221,
          25,
          94,
          193,
          16078,
          2225,
          88,
          796,
          1468,
          30,
          1,
          3,
          16,
          12936,
          725,
          225,
          1,
          3769,
          25,
          2525,
          1142,
          273,
          11496,
          3,
          48720,
          7434,
          3,
          956,
          14,
          1729,
          1,
          4,
          879,
          2,
          756,
          3,
          869971,
          80,
          2,
          2,
          2,
          761,
          6,
          1,
          19,
          359,
          1,
          55871
         ]
        }
       ],
       "layout": {
        "coloraxis": {
         "colorbar": {
          "title": {
           "text": "number_of_users"
          }
         },
         "colorscale": [
          [
           0,
           "#0d0887"
          ],
          [
           0.1111111111111111,
           "#46039f"
          ],
          [
           0.2222222222222222,
           "#7201a8"
          ],
          [
           0.3333333333333333,
           "#9c179e"
          ],
          [
           0.4444444444444444,
           "#bd3786"
          ],
          [
           0.5555555555555556,
           "#d8576b"
          ],
          [
           0.6666666666666666,
           "#ed7953"
          ],
          [
           0.7777777777777778,
           "#fb9f3a"
          ],
          [
           0.8888888888888888,
           "#fdca26"
          ],
          [
           1,
           "#f0f921"
          ]
         ]
        },
        "geo": {
         "center": {},
         "domain": {
          "x": [
           0,
           1
          ],
          "y": [
           0,
           1
          ]
         },
         "scope": "world"
        },
        "legend": {
         "tracegroupgap": 0
        },
        "margin": {
         "t": 60
        },
        "template": {
         "data": {
          "bar": [
           {
            "error_x": {
             "color": "#2a3f5f"
            },
            "error_y": {
             "color": "#2a3f5f"
            },
            "marker": {
             "line": {
              "color": "#E5ECF6",
              "width": 0.5
             }
            },
            "type": "bar"
           }
          ],
          "barpolar": [
           {
            "marker": {
             "line": {
              "color": "#E5ECF6",
              "width": 0.5
             }
            },
            "type": "barpolar"
           }
          ],
          "carpet": [
           {
            "aaxis": {
             "endlinecolor": "#2a3f5f",
             "gridcolor": "white",
             "linecolor": "white",
             "minorgridcolor": "white",
             "startlinecolor": "#2a3f5f"
            },
            "baxis": {
             "endlinecolor": "#2a3f5f",
             "gridcolor": "white",
             "linecolor": "white",
             "minorgridcolor": "white",
             "startlinecolor": "#2a3f5f"
            },
            "type": "carpet"
           }
          ],
          "choropleth": [
           {
            "colorbar": {
             "outlinewidth": 0,
             "ticks": ""
            },
            "type": "choropleth"
           }
          ],
          "contour": [
           {
            "colorbar": {
             "outlinewidth": 0,
             "ticks": ""
            },
            "colorscale": [
             [
              0,
              "#0d0887"
             ],
             [
              0.1111111111111111,
              "#46039f"
             ],
             [
              0.2222222222222222,
              "#7201a8"
             ],
             [
              0.3333333333333333,
              "#9c179e"
             ],
             [
              0.4444444444444444,
              "#bd3786"
             ],
             [
              0.5555555555555556,
              "#d8576b"
             ],
             [
              0.6666666666666666,
              "#ed7953"
             ],
             [
              0.7777777777777778,
              "#fb9f3a"
             ],
             [
              0.8888888888888888,
              "#fdca26"
             ],
             [
              1,
              "#f0f921"
             ]
            ],
            "type": "contour"
           }
          ],
          "contourcarpet": [
           {
            "colorbar": {
             "outlinewidth": 0,
             "ticks": ""
            },
            "type": "contourcarpet"
           }
          ],
          "heatmap": [
           {
            "colorbar": {
             "outlinewidth": 0,
             "ticks": ""
            },
            "colorscale": [
             [
              0,
              "#0d0887"
             ],
             [
              0.1111111111111111,
              "#46039f"
             ],
             [
              0.2222222222222222,
              "#7201a8"
             ],
             [
              0.3333333333333333,
              "#9c179e"
             ],
             [
              0.4444444444444444,
              "#bd3786"
             ],
             [
              0.5555555555555556,
              "#d8576b"
             ],
             [
              0.6666666666666666,
              "#ed7953"
             ],
             [
              0.7777777777777778,
              "#fb9f3a"
             ],
             [
              0.8888888888888888,
              "#fdca26"
             ],
             [
              1,
              "#f0f921"
             ]
            ],
            "type": "heatmap"
           }
          ],
          "heatmapgl": [
           {
            "colorbar": {
             "outlinewidth": 0,
             "ticks": ""
            },
            "colorscale": [
             [
              0,
              "#0d0887"
             ],
             [
              0.1111111111111111,
              "#46039f"
             ],
             [
              0.2222222222222222,
              "#7201a8"
             ],
             [
              0.3333333333333333,
              "#9c179e"
             ],
             [
              0.4444444444444444,
              "#bd3786"
             ],
             [
              0.5555555555555556,
              "#d8576b"
             ],
             [
              0.6666666666666666,
              "#ed7953"
             ],
             [
              0.7777777777777778,
              "#fb9f3a"
             ],
             [
              0.8888888888888888,
              "#fdca26"
             ],
             [
              1,
              "#f0f921"
             ]
            ],
            "type": "heatmapgl"
           }
          ],
          "histogram": [
           {
            "marker": {
             "colorbar": {
              "outlinewidth": 0,
              "ticks": ""
             }
            },
            "type": "histogram"
           }
          ],
          "histogram2d": [
           {
            "colorbar": {
             "outlinewidth": 0,
             "ticks": ""
            },
            "colorscale": [
             [
              0,
              "#0d0887"
             ],
             [
              0.1111111111111111,
              "#46039f"
             ],
             [
              0.2222222222222222,
              "#7201a8"
             ],
             [
              0.3333333333333333,
              "#9c179e"
             ],
             [
              0.4444444444444444,
              "#bd3786"
             ],
             [
              0.5555555555555556,
              "#d8576b"
             ],
             [
              0.6666666666666666,
              "#ed7953"
             ],
             [
              0.7777777777777778,
              "#fb9f3a"
             ],
             [
              0.8888888888888888,
              "#fdca26"
             ],
             [
              1,
              "#f0f921"
             ]
            ],
            "type": "histogram2d"
           }
          ],
          "histogram2dcontour": [
           {
            "colorbar": {
             "outlinewidth": 0,
             "ticks": ""
            },
            "colorscale": [
             [
              0,
              "#0d0887"
             ],
             [
              0.1111111111111111,
              "#46039f"
             ],
             [
              0.2222222222222222,
              "#7201a8"
             ],
             [
              0.3333333333333333,
              "#9c179e"
             ],
             [
              0.4444444444444444,
              "#bd3786"
             ],
             [
              0.5555555555555556,
              "#d8576b"
             ],
             [
              0.6666666666666666,
              "#ed7953"
             ],
             [
              0.7777777777777778,
              "#fb9f3a"
             ],
             [
              0.8888888888888888,
              "#fdca26"
             ],
             [
              1,
              "#f0f921"
             ]
            ],
            "type": "histogram2dcontour"
           }
          ],
          "mesh3d": [
           {
            "colorbar": {
             "outlinewidth": 0,
             "ticks": ""
            },
            "type": "mesh3d"
           }
          ],
          "parcoords": [
           {
            "line": {
             "colorbar": {
              "outlinewidth": 0,
              "ticks": ""
             }
            },
            "type": "parcoords"
           }
          ],
          "pie": [
           {
            "automargin": true,
            "type": "pie"
           }
          ],
          "scatter": [
           {
            "marker": {
             "colorbar": {
              "outlinewidth": 0,
              "ticks": ""
             }
            },
            "type": "scatter"
           }
          ],
          "scatter3d": [
           {
            "line": {
             "colorbar": {
              "outlinewidth": 0,
              "ticks": ""
             }
            },
            "marker": {
             "colorbar": {
              "outlinewidth": 0,
              "ticks": ""
             }
            },
            "type": "scatter3d"
           }
          ],
          "scattercarpet": [
           {
            "marker": {
             "colorbar": {
              "outlinewidth": 0,
              "ticks": ""
             }
            },
            "type": "scattercarpet"
           }
          ],
          "scattergeo": [
           {
            "marker": {
             "colorbar": {
              "outlinewidth": 0,
              "ticks": ""
             }
            },
            "type": "scattergeo"
           }
          ],
          "scattergl": [
           {
            "marker": {
             "colorbar": {
              "outlinewidth": 0,
              "ticks": ""
             }
            },
            "type": "scattergl"
           }
          ],
          "scattermapbox": [
           {
            "marker": {
             "colorbar": {
              "outlinewidth": 0,
              "ticks": ""
             }
            },
            "type": "scattermapbox"
           }
          ],
          "scatterpolar": [
           {
            "marker": {
             "colorbar": {
              "outlinewidth": 0,
              "ticks": ""
             }
            },
            "type": "scatterpolar"
           }
          ],
          "scatterpolargl": [
           {
            "marker": {
             "colorbar": {
              "outlinewidth": 0,
              "ticks": ""
             }
            },
            "type": "scatterpolargl"
           }
          ],
          "scatterternary": [
           {
            "marker": {
             "colorbar": {
              "outlinewidth": 0,
              "ticks": ""
             }
            },
            "type": "scatterternary"
           }
          ],
          "surface": [
           {
            "colorbar": {
             "outlinewidth": 0,
             "ticks": ""
            },
            "colorscale": [
             [
              0,
              "#0d0887"
             ],
             [
              0.1111111111111111,
              "#46039f"
             ],
             [
              0.2222222222222222,
              "#7201a8"
             ],
             [
              0.3333333333333333,
              "#9c179e"
             ],
             [
              0.4444444444444444,
              "#bd3786"
             ],
             [
              0.5555555555555556,
              "#d8576b"
             ],
             [
              0.6666666666666666,
              "#ed7953"
             ],
             [
              0.7777777777777778,
              "#fb9f3a"
             ],
             [
              0.8888888888888888,
              "#fdca26"
             ],
             [
              1,
              "#f0f921"
             ]
            ],
            "type": "surface"
           }
          ],
          "table": [
           {
            "cells": {
             "fill": {
              "color": "#EBF0F8"
             },
             "line": {
              "color": "white"
             }
            },
            "header": {
             "fill": {
              "color": "#C8D4E3"
             },
             "line": {
              "color": "white"
             }
            },
            "type": "table"
           }
          ]
         },
         "layout": {
          "annotationdefaults": {
           "arrowcolor": "#2a3f5f",
           "arrowhead": 0,
           "arrowwidth": 1
          },
          "autotypenumbers": "strict",
          "coloraxis": {
           "colorbar": {
            "outlinewidth": 0,
            "ticks": ""
           }
          },
          "colorscale": {
           "diverging": [
            [
             0,
             "#8e0152"
            ],
            [
             0.1,
             "#c51b7d"
            ],
            [
             0.2,
             "#de77ae"
            ],
            [
             0.3,
             "#f1b6da"
            ],
            [
             0.4,
             "#fde0ef"
            ],
            [
             0.5,
             "#f7f7f7"
            ],
            [
             0.6,
             "#e6f5d0"
            ],
            [
             0.7,
             "#b8e186"
            ],
            [
             0.8,
             "#7fbc41"
            ],
            [
             0.9,
             "#4d9221"
            ],
            [
             1,
             "#276419"
            ]
           ],
           "sequential": [
            [
             0,
             "#0d0887"
            ],
            [
             0.1111111111111111,
             "#46039f"
            ],
            [
             0.2222222222222222,
             "#7201a8"
            ],
            [
             0.3333333333333333,
             "#9c179e"
            ],
            [
             0.4444444444444444,
             "#bd3786"
            ],
            [
             0.5555555555555556,
             "#d8576b"
            ],
            [
             0.6666666666666666,
             "#ed7953"
            ],
            [
             0.7777777777777778,
             "#fb9f3a"
            ],
            [
             0.8888888888888888,
             "#fdca26"
            ],
            [
             1,
             "#f0f921"
            ]
           ],
           "sequentialminus": [
            [
             0,
             "#0d0887"
            ],
            [
             0.1111111111111111,
             "#46039f"
            ],
            [
             0.2222222222222222,
             "#7201a8"
            ],
            [
             0.3333333333333333,
             "#9c179e"
            ],
            [
             0.4444444444444444,
             "#bd3786"
            ],
            [
             0.5555555555555556,
             "#d8576b"
            ],
            [
             0.6666666666666666,
             "#ed7953"
            ],
            [
             0.7777777777777778,
             "#fb9f3a"
            ],
            [
             0.8888888888888888,
             "#fdca26"
            ],
            [
             1,
             "#f0f921"
            ]
           ]
          },
          "colorway": [
           "#636efa",
           "#EF553B",
           "#00cc96",
           "#ab63fa",
           "#FFA15A",
           "#19d3f3",
           "#FF6692",
           "#B6E880",
           "#FF97FF",
           "#FECB52"
          ],
          "font": {
           "color": "#2a3f5f"
          },
          "geo": {
           "bgcolor": "white",
           "lakecolor": "white",
           "landcolor": "#E5ECF6",
           "showlakes": true,
           "showland": true,
           "subunitcolor": "white"
          },
          "hoverlabel": {
           "align": "left"
          },
          "hovermode": "closest",
          "mapbox": {
           "style": "light"
          },
          "paper_bgcolor": "white",
          "plot_bgcolor": "#E5ECF6",
          "polar": {
           "angularaxis": {
            "gridcolor": "white",
            "linecolor": "white",
            "ticks": ""
           },
           "bgcolor": "#E5ECF6",
           "radialaxis": {
            "gridcolor": "white",
            "linecolor": "white",
            "ticks": ""
           }
          },
          "scene": {
           "xaxis": {
            "backgroundcolor": "#E5ECF6",
            "gridcolor": "white",
            "gridwidth": 2,
            "linecolor": "white",
            "showbackground": true,
            "ticks": "",
            "zerolinecolor": "white"
           },
           "yaxis": {
            "backgroundcolor": "#E5ECF6",
            "gridcolor": "white",
            "gridwidth": 2,
            "linecolor": "white",
            "showbackground": true,
            "ticks": "",
            "zerolinecolor": "white"
           },
           "zaxis": {
            "backgroundcolor": "#E5ECF6",
            "gridcolor": "white",
            "gridwidth": 2,
            "linecolor": "white",
            "showbackground": true,
            "ticks": "",
            "zerolinecolor": "white"
           }
          },
          "shapedefaults": {
           "line": {
            "color": "#2a3f5f"
           }
          },
          "ternary": {
           "aaxis": {
            "gridcolor": "white",
            "linecolor": "white",
            "ticks": ""
           },
           "baxis": {
            "gridcolor": "white",
            "linecolor": "white",
            "ticks": ""
           },
           "bgcolor": "#E5ECF6",
           "caxis": {
            "gridcolor": "white",
            "linecolor": "white",
            "ticks": ""
           }
          },
          "title": {
           "x": 0.05
          },
          "xaxis": {
           "automargin": true,
           "gridcolor": "white",
           "linecolor": "white",
           "ticks": "",
           "title": {
            "standoff": 15
           },
           "zerolinecolor": "white",
           "zerolinewidth": 2
          },
          "yaxis": {
           "automargin": true,
           "gridcolor": "white",
           "linecolor": "white",
           "ticks": "",
           "title": {
            "standoff": 15
           },
           "zerolinecolor": "white",
           "zerolinewidth": 2
          }
         }
        }
       }
      }
     },
     "metadata": {},
     "output_type": "display_data"
    }
   ],
   "source": [
    "#here we plot the number of reviews per contry depending on the nationality of the user.\n",
    "count_contry_users_RB=df_RB.groupby(['location_user']).count()['beer_name'].to_frame() \n",
    "count_contry_users_RB.rename(columns={'beer_name':'number_of_users'}, inplace=True)\n",
    "count_contry_users_RB.reset_index(inplace=True) \n",
    "\n",
    "\n",
    "import plotly.express as px \n",
    " \n",
    "fig = px.choropleth(count_contry_users_RB, \n",
    "                    locations='location_user',  \n",
    "                    locationmode='country names',  \n",
    "                    scope=\"world\", \n",
    "                    color='number_of_users',  \n",
    "                     \n",
    "                    ) \n",
    "fig.show()\n",
    "# Since the plots don't appear on GitHub we print screenshots for now "
   ]
  },
  {
   "cell_type": "code",
   "execution_count": null,
   "metadata": {},
   "outputs": [],
   "source": []
  },
  {
   "cell_type": "markdown",
   "metadata": {},
   "source": [
    "For BA and RB the majority of reviews come from the US(869k). It seems more interesting to focus on this region, it also easier for a political trend analysis."
   ]
  },
  {
   "cell_type": "code",
   "execution_count": 15,
   "metadata": {},
   "outputs": [
    {
     "data": {
      "application/vnd.plotly.v1+json": {
       "config": {
        "plotlyServerURL": "https://plot.ly"
       },
       "data": [
        {
         "coloraxis": "coloraxis",
         "geo": "geo",
         "hovertemplate": "US_Code_User=%{location}<br>number_of_users=%{z}<extra></extra>",
         "locationmode": "USA-states",
         "locations": [
          "AK",
          "AL",
          "AR",
          "AS",
          "AZ",
          "CA",
          "CO",
          "CT",
          "DC",
          "DE",
          "FL",
          "GA",
          "GU",
          "HI",
          "IA",
          "ID",
          "IL",
          "IN",
          "KS",
          "KY",
          "LA",
          "MA",
          "MD",
          "ME",
          "MI",
          "MN",
          "MO",
          "MP",
          "MS",
          "MT",
          "NC",
          "ND",
          "NE",
          "NH",
          "NJ",
          "NM",
          "NV",
          "NY",
          "OH",
          "OK",
          "OR",
          "PA",
          "PR",
          "RI",
          "SC",
          "SD",
          "TN",
          "TX",
          "UM",
          "UT",
          "VA",
          "VI",
          "VT",
          "WA",
          "WI",
          "WV",
          "WY"
         ],
         "name": "",
         "type": "choropleth",
         "z": [
          2779,
          8668,
          2228,
          0,
          18416,
          86476,
          26009,
          8803,
          0,
          4050,
          42987,
          23031,
          0,
          831,
          11023,
          8840,
          47356,
          22506,
          6966,
          7163,
          3347,
          15515,
          22247,
          2975,
          24860,
          29867,
          15645,
          0,
          2050,
          2003,
          22352,
          1032,
          5030,
          8575,
          35894,
          2240,
          6660,
          40498,
          40399,
          4317,
          17167,
          65264,
          0,
          1515,
          4477,
          787,
          16070,
          43264,
          0,
          2651,
          29467,
          0,
          3442,
          40033,
          29601,
          1859,
          736
         ]
        }
       ],
       "layout": {
        "coloraxis": {
         "colorbar": {
          "title": {
           "text": "number_of_users"
          }
         },
         "colorscale": [
          [
           0,
           "#0d0887"
          ],
          [
           0.1111111111111111,
           "#46039f"
          ],
          [
           0.2222222222222222,
           "#7201a8"
          ],
          [
           0.3333333333333333,
           "#9c179e"
          ],
          [
           0.4444444444444444,
           "#bd3786"
          ],
          [
           0.5555555555555556,
           "#d8576b"
          ],
          [
           0.6666666666666666,
           "#ed7953"
          ],
          [
           0.7777777777777778,
           "#fb9f3a"
          ],
          [
           0.8888888888888888,
           "#fdca26"
          ],
          [
           1,
           "#f0f921"
          ]
         ]
        },
        "geo": {
         "center": {},
         "domain": {
          "x": [
           0,
           1
          ],
          "y": [
           0,
           1
          ]
         },
         "scope": "usa"
        },
        "legend": {
         "tracegroupgap": 0
        },
        "margin": {
         "t": 60
        },
        "template": {
         "data": {
          "bar": [
           {
            "error_x": {
             "color": "#2a3f5f"
            },
            "error_y": {
             "color": "#2a3f5f"
            },
            "marker": {
             "line": {
              "color": "#E5ECF6",
              "width": 0.5
             }
            },
            "type": "bar"
           }
          ],
          "barpolar": [
           {
            "marker": {
             "line": {
              "color": "#E5ECF6",
              "width": 0.5
             }
            },
            "type": "barpolar"
           }
          ],
          "carpet": [
           {
            "aaxis": {
             "endlinecolor": "#2a3f5f",
             "gridcolor": "white",
             "linecolor": "white",
             "minorgridcolor": "white",
             "startlinecolor": "#2a3f5f"
            },
            "baxis": {
             "endlinecolor": "#2a3f5f",
             "gridcolor": "white",
             "linecolor": "white",
             "minorgridcolor": "white",
             "startlinecolor": "#2a3f5f"
            },
            "type": "carpet"
           }
          ],
          "choropleth": [
           {
            "colorbar": {
             "outlinewidth": 0,
             "ticks": ""
            },
            "type": "choropleth"
           }
          ],
          "contour": [
           {
            "colorbar": {
             "outlinewidth": 0,
             "ticks": ""
            },
            "colorscale": [
             [
              0,
              "#0d0887"
             ],
             [
              0.1111111111111111,
              "#46039f"
             ],
             [
              0.2222222222222222,
              "#7201a8"
             ],
             [
              0.3333333333333333,
              "#9c179e"
             ],
             [
              0.4444444444444444,
              "#bd3786"
             ],
             [
              0.5555555555555556,
              "#d8576b"
             ],
             [
              0.6666666666666666,
              "#ed7953"
             ],
             [
              0.7777777777777778,
              "#fb9f3a"
             ],
             [
              0.8888888888888888,
              "#fdca26"
             ],
             [
              1,
              "#f0f921"
             ]
            ],
            "type": "contour"
           }
          ],
          "contourcarpet": [
           {
            "colorbar": {
             "outlinewidth": 0,
             "ticks": ""
            },
            "type": "contourcarpet"
           }
          ],
          "heatmap": [
           {
            "colorbar": {
             "outlinewidth": 0,
             "ticks": ""
            },
            "colorscale": [
             [
              0,
              "#0d0887"
             ],
             [
              0.1111111111111111,
              "#46039f"
             ],
             [
              0.2222222222222222,
              "#7201a8"
             ],
             [
              0.3333333333333333,
              "#9c179e"
             ],
             [
              0.4444444444444444,
              "#bd3786"
             ],
             [
              0.5555555555555556,
              "#d8576b"
             ],
             [
              0.6666666666666666,
              "#ed7953"
             ],
             [
              0.7777777777777778,
              "#fb9f3a"
             ],
             [
              0.8888888888888888,
              "#fdca26"
             ],
             [
              1,
              "#f0f921"
             ]
            ],
            "type": "heatmap"
           }
          ],
          "heatmapgl": [
           {
            "colorbar": {
             "outlinewidth": 0,
             "ticks": ""
            },
            "colorscale": [
             [
              0,
              "#0d0887"
             ],
             [
              0.1111111111111111,
              "#46039f"
             ],
             [
              0.2222222222222222,
              "#7201a8"
             ],
             [
              0.3333333333333333,
              "#9c179e"
             ],
             [
              0.4444444444444444,
              "#bd3786"
             ],
             [
              0.5555555555555556,
              "#d8576b"
             ],
             [
              0.6666666666666666,
              "#ed7953"
             ],
             [
              0.7777777777777778,
              "#fb9f3a"
             ],
             [
              0.8888888888888888,
              "#fdca26"
             ],
             [
              1,
              "#f0f921"
             ]
            ],
            "type": "heatmapgl"
           }
          ],
          "histogram": [
           {
            "marker": {
             "colorbar": {
              "outlinewidth": 0,
              "ticks": ""
             }
            },
            "type": "histogram"
           }
          ],
          "histogram2d": [
           {
            "colorbar": {
             "outlinewidth": 0,
             "ticks": ""
            },
            "colorscale": [
             [
              0,
              "#0d0887"
             ],
             [
              0.1111111111111111,
              "#46039f"
             ],
             [
              0.2222222222222222,
              "#7201a8"
             ],
             [
              0.3333333333333333,
              "#9c179e"
             ],
             [
              0.4444444444444444,
              "#bd3786"
             ],
             [
              0.5555555555555556,
              "#d8576b"
             ],
             [
              0.6666666666666666,
              "#ed7953"
             ],
             [
              0.7777777777777778,
              "#fb9f3a"
             ],
             [
              0.8888888888888888,
              "#fdca26"
             ],
             [
              1,
              "#f0f921"
             ]
            ],
            "type": "histogram2d"
           }
          ],
          "histogram2dcontour": [
           {
            "colorbar": {
             "outlinewidth": 0,
             "ticks": ""
            },
            "colorscale": [
             [
              0,
              "#0d0887"
             ],
             [
              0.1111111111111111,
              "#46039f"
             ],
             [
              0.2222222222222222,
              "#7201a8"
             ],
             [
              0.3333333333333333,
              "#9c179e"
             ],
             [
              0.4444444444444444,
              "#bd3786"
             ],
             [
              0.5555555555555556,
              "#d8576b"
             ],
             [
              0.6666666666666666,
              "#ed7953"
             ],
             [
              0.7777777777777778,
              "#fb9f3a"
             ],
             [
              0.8888888888888888,
              "#fdca26"
             ],
             [
              1,
              "#f0f921"
             ]
            ],
            "type": "histogram2dcontour"
           }
          ],
          "mesh3d": [
           {
            "colorbar": {
             "outlinewidth": 0,
             "ticks": ""
            },
            "type": "mesh3d"
           }
          ],
          "parcoords": [
           {
            "line": {
             "colorbar": {
              "outlinewidth": 0,
              "ticks": ""
             }
            },
            "type": "parcoords"
           }
          ],
          "pie": [
           {
            "automargin": true,
            "type": "pie"
           }
          ],
          "scatter": [
           {
            "marker": {
             "colorbar": {
              "outlinewidth": 0,
              "ticks": ""
             }
            },
            "type": "scatter"
           }
          ],
          "scatter3d": [
           {
            "line": {
             "colorbar": {
              "outlinewidth": 0,
              "ticks": ""
             }
            },
            "marker": {
             "colorbar": {
              "outlinewidth": 0,
              "ticks": ""
             }
            },
            "type": "scatter3d"
           }
          ],
          "scattercarpet": [
           {
            "marker": {
             "colorbar": {
              "outlinewidth": 0,
              "ticks": ""
             }
            },
            "type": "scattercarpet"
           }
          ],
          "scattergeo": [
           {
            "marker": {
             "colorbar": {
              "outlinewidth": 0,
              "ticks": ""
             }
            },
            "type": "scattergeo"
           }
          ],
          "scattergl": [
           {
            "marker": {
             "colorbar": {
              "outlinewidth": 0,
              "ticks": ""
             }
            },
            "type": "scattergl"
           }
          ],
          "scattermapbox": [
           {
            "marker": {
             "colorbar": {
              "outlinewidth": 0,
              "ticks": ""
             }
            },
            "type": "scattermapbox"
           }
          ],
          "scatterpolar": [
           {
            "marker": {
             "colorbar": {
              "outlinewidth": 0,
              "ticks": ""
             }
            },
            "type": "scatterpolar"
           }
          ],
          "scatterpolargl": [
           {
            "marker": {
             "colorbar": {
              "outlinewidth": 0,
              "ticks": ""
             }
            },
            "type": "scatterpolargl"
           }
          ],
          "scatterternary": [
           {
            "marker": {
             "colorbar": {
              "outlinewidth": 0,
              "ticks": ""
             }
            },
            "type": "scatterternary"
           }
          ],
          "surface": [
           {
            "colorbar": {
             "outlinewidth": 0,
             "ticks": ""
            },
            "colorscale": [
             [
              0,
              "#0d0887"
             ],
             [
              0.1111111111111111,
              "#46039f"
             ],
             [
              0.2222222222222222,
              "#7201a8"
             ],
             [
              0.3333333333333333,
              "#9c179e"
             ],
             [
              0.4444444444444444,
              "#bd3786"
             ],
             [
              0.5555555555555556,
              "#d8576b"
             ],
             [
              0.6666666666666666,
              "#ed7953"
             ],
             [
              0.7777777777777778,
              "#fb9f3a"
             ],
             [
              0.8888888888888888,
              "#fdca26"
             ],
             [
              1,
              "#f0f921"
             ]
            ],
            "type": "surface"
           }
          ],
          "table": [
           {
            "cells": {
             "fill": {
              "color": "#EBF0F8"
             },
             "line": {
              "color": "white"
             }
            },
            "header": {
             "fill": {
              "color": "#C8D4E3"
             },
             "line": {
              "color": "white"
             }
            },
            "type": "table"
           }
          ]
         },
         "layout": {
          "annotationdefaults": {
           "arrowcolor": "#2a3f5f",
           "arrowhead": 0,
           "arrowwidth": 1
          },
          "autotypenumbers": "strict",
          "coloraxis": {
           "colorbar": {
            "outlinewidth": 0,
            "ticks": ""
           }
          },
          "colorscale": {
           "diverging": [
            [
             0,
             "#8e0152"
            ],
            [
             0.1,
             "#c51b7d"
            ],
            [
             0.2,
             "#de77ae"
            ],
            [
             0.3,
             "#f1b6da"
            ],
            [
             0.4,
             "#fde0ef"
            ],
            [
             0.5,
             "#f7f7f7"
            ],
            [
             0.6,
             "#e6f5d0"
            ],
            [
             0.7,
             "#b8e186"
            ],
            [
             0.8,
             "#7fbc41"
            ],
            [
             0.9,
             "#4d9221"
            ],
            [
             1,
             "#276419"
            ]
           ],
           "sequential": [
            [
             0,
             "#0d0887"
            ],
            [
             0.1111111111111111,
             "#46039f"
            ],
            [
             0.2222222222222222,
             "#7201a8"
            ],
            [
             0.3333333333333333,
             "#9c179e"
            ],
            [
             0.4444444444444444,
             "#bd3786"
            ],
            [
             0.5555555555555556,
             "#d8576b"
            ],
            [
             0.6666666666666666,
             "#ed7953"
            ],
            [
             0.7777777777777778,
             "#fb9f3a"
            ],
            [
             0.8888888888888888,
             "#fdca26"
            ],
            [
             1,
             "#f0f921"
            ]
           ],
           "sequentialminus": [
            [
             0,
             "#0d0887"
            ],
            [
             0.1111111111111111,
             "#46039f"
            ],
            [
             0.2222222222222222,
             "#7201a8"
            ],
            [
             0.3333333333333333,
             "#9c179e"
            ],
            [
             0.4444444444444444,
             "#bd3786"
            ],
            [
             0.5555555555555556,
             "#d8576b"
            ],
            [
             0.6666666666666666,
             "#ed7953"
            ],
            [
             0.7777777777777778,
             "#fb9f3a"
            ],
            [
             0.8888888888888888,
             "#fdca26"
            ],
            [
             1,
             "#f0f921"
            ]
           ]
          },
          "colorway": [
           "#636efa",
           "#EF553B",
           "#00cc96",
           "#ab63fa",
           "#FFA15A",
           "#19d3f3",
           "#FF6692",
           "#B6E880",
           "#FF97FF",
           "#FECB52"
          ],
          "font": {
           "color": "#2a3f5f"
          },
          "geo": {
           "bgcolor": "white",
           "lakecolor": "white",
           "landcolor": "#E5ECF6",
           "showlakes": true,
           "showland": true,
           "subunitcolor": "white"
          },
          "hoverlabel": {
           "align": "left"
          },
          "hovermode": "closest",
          "mapbox": {
           "style": "light"
          },
          "paper_bgcolor": "white",
          "plot_bgcolor": "#E5ECF6",
          "polar": {
           "angularaxis": {
            "gridcolor": "white",
            "linecolor": "white",
            "ticks": ""
           },
           "bgcolor": "#E5ECF6",
           "radialaxis": {
            "gridcolor": "white",
            "linecolor": "white",
            "ticks": ""
           }
          },
          "scene": {
           "xaxis": {
            "backgroundcolor": "#E5ECF6",
            "gridcolor": "white",
            "gridwidth": 2,
            "linecolor": "white",
            "showbackground": true,
            "ticks": "",
            "zerolinecolor": "white"
           },
           "yaxis": {
            "backgroundcolor": "#E5ECF6",
            "gridcolor": "white",
            "gridwidth": 2,
            "linecolor": "white",
            "showbackground": true,
            "ticks": "",
            "zerolinecolor": "white"
           },
           "zaxis": {
            "backgroundcolor": "#E5ECF6",
            "gridcolor": "white",
            "gridwidth": 2,
            "linecolor": "white",
            "showbackground": true,
            "ticks": "",
            "zerolinecolor": "white"
           }
          },
          "shapedefaults": {
           "line": {
            "color": "#2a3f5f"
           }
          },
          "ternary": {
           "aaxis": {
            "gridcolor": "white",
            "linecolor": "white",
            "ticks": ""
           },
           "baxis": {
            "gridcolor": "white",
            "linecolor": "white",
            "ticks": ""
           },
           "bgcolor": "#E5ECF6",
           "caxis": {
            "gridcolor": "white",
            "linecolor": "white",
            "ticks": ""
           }
          },
          "title": {
           "x": 0.05
          },
          "xaxis": {
           "automargin": true,
           "gridcolor": "white",
           "linecolor": "white",
           "ticks": "",
           "title": {
            "standoff": 15
           },
           "zerolinecolor": "white",
           "zerolinewidth": 2
          },
          "yaxis": {
           "automargin": true,
           "gridcolor": "white",
           "linecolor": "white",
           "ticks": "",
           "title": {
            "standoff": 15
           },
           "zerolinecolor": "white",
           "zerolinewidth": 2
          }
         }
        }
       }
      }
     },
     "metadata": {},
     "output_type": "display_data"
    }
   ],
   "source": [
    "#For RB we plot the number of reviews per state depending on the nationality of the user.\n",
    "count_contry_users_RB=df_RB.groupby(['US_Code_User']).count()['beer_name'].to_frame() \n",
    "count_contry_users_RB.rename(columns={'beer_name':'number_of_users'}, inplace=True)\n",
    "count_contry_users_RB.reset_index(inplace=True) \n",
    "count_contry_users_RB\n",
    "\n",
    "fig = px.choropleth(count_contry_users_RB,  \n",
    "                    locations='US_Code_User', \n",
    "                    locationmode=\"USA-states\", \n",
    "                    scope=\"usa\",\n",
    "                    color='number_of_users'\n",
    "                    ) \n",
    "fig.show()\n",
    "\n"
   ]
  },
  {
   "cell_type": "code",
   "execution_count": 16,
   "metadata": {},
   "outputs": [
    {
     "data": {
      "application/vnd.plotly.v1+json": {
       "config": {
        "plotlyServerURL": "https://plot.ly"
       },
       "data": [
        {
         "coloraxis": "coloraxis",
         "geo": "geo",
         "hovertemplate": "US_Code_User=%{location}<br>number_of_users=%{z}<extra></extra>",
         "locationmode": "USA-states",
         "locations": [
          "AK",
          "AL",
          "AR",
          "AS",
          "AZ",
          "CA",
          "CO",
          "CT",
          "DC",
          "DE",
          "FL",
          "GA",
          "GU",
          "HI",
          "IA",
          "ID",
          "IL",
          "IN",
          "KS",
          "KY",
          "LA",
          "MA",
          "MD",
          "ME",
          "MI",
          "MN",
          "MO",
          "MP",
          "MS",
          "MT",
          "NC",
          "ND",
          "NE",
          "NH",
          "NJ",
          "NM",
          "NV",
          "NY",
          "OH",
          "OK",
          "OR",
          "PA",
          "PR",
          "RI",
          "SC",
          "SD",
          "TN",
          "TX",
          "UM",
          "UT",
          "VA",
          "VI",
          "VT",
          "WA",
          "WI",
          "WV",
          "WY"
         ],
         "name": "",
         "type": "choropleth",
         "z": [
          1794,
          3539,
          2175,
          0,
          8536,
          54819,
          17044,
          13634,
          0,
          1497,
          19618,
          15888,
          0,
          1124,
          7023,
          2204,
          35639,
          11089,
          2937,
          9415,
          4450,
          37775,
          15391,
          6214,
          20090,
          22761,
          12108,
          0,
          1977,
          896,
          20307,
          456,
          3200,
          7995,
          24695,
          1816,
          2781,
          45059,
          33429,
          3348,
          13131,
          61180,
          0,
          4955,
          7195,
          261,
          5643,
          26346,
          0,
          570,
          22341,
          0,
          4015,
          19453,
          14815,
          3056,
          1034
         ]
        }
       ],
       "layout": {
        "coloraxis": {
         "colorbar": {
          "title": {
           "text": "number_of_users"
          }
         },
         "colorscale": [
          [
           0,
           "#0d0887"
          ],
          [
           0.1111111111111111,
           "#46039f"
          ],
          [
           0.2222222222222222,
           "#7201a8"
          ],
          [
           0.3333333333333333,
           "#9c179e"
          ],
          [
           0.4444444444444444,
           "#bd3786"
          ],
          [
           0.5555555555555556,
           "#d8576b"
          ],
          [
           0.6666666666666666,
           "#ed7953"
          ],
          [
           0.7777777777777778,
           "#fb9f3a"
          ],
          [
           0.8888888888888888,
           "#fdca26"
          ],
          [
           1,
           "#f0f921"
          ]
         ]
        },
        "geo": {
         "center": {},
         "domain": {
          "x": [
           0,
           1
          ],
          "y": [
           0,
           1
          ]
         },
         "scope": "usa"
        },
        "legend": {
         "tracegroupgap": 0
        },
        "margin": {
         "t": 60
        },
        "template": {
         "data": {
          "bar": [
           {
            "error_x": {
             "color": "#2a3f5f"
            },
            "error_y": {
             "color": "#2a3f5f"
            },
            "marker": {
             "line": {
              "color": "#E5ECF6",
              "width": 0.5
             }
            },
            "type": "bar"
           }
          ],
          "barpolar": [
           {
            "marker": {
             "line": {
              "color": "#E5ECF6",
              "width": 0.5
             }
            },
            "type": "barpolar"
           }
          ],
          "carpet": [
           {
            "aaxis": {
             "endlinecolor": "#2a3f5f",
             "gridcolor": "white",
             "linecolor": "white",
             "minorgridcolor": "white",
             "startlinecolor": "#2a3f5f"
            },
            "baxis": {
             "endlinecolor": "#2a3f5f",
             "gridcolor": "white",
             "linecolor": "white",
             "minorgridcolor": "white",
             "startlinecolor": "#2a3f5f"
            },
            "type": "carpet"
           }
          ],
          "choropleth": [
           {
            "colorbar": {
             "outlinewidth": 0,
             "ticks": ""
            },
            "type": "choropleth"
           }
          ],
          "contour": [
           {
            "colorbar": {
             "outlinewidth": 0,
             "ticks": ""
            },
            "colorscale": [
             [
              0,
              "#0d0887"
             ],
             [
              0.1111111111111111,
              "#46039f"
             ],
             [
              0.2222222222222222,
              "#7201a8"
             ],
             [
              0.3333333333333333,
              "#9c179e"
             ],
             [
              0.4444444444444444,
              "#bd3786"
             ],
             [
              0.5555555555555556,
              "#d8576b"
             ],
             [
              0.6666666666666666,
              "#ed7953"
             ],
             [
              0.7777777777777778,
              "#fb9f3a"
             ],
             [
              0.8888888888888888,
              "#fdca26"
             ],
             [
              1,
              "#f0f921"
             ]
            ],
            "type": "contour"
           }
          ],
          "contourcarpet": [
           {
            "colorbar": {
             "outlinewidth": 0,
             "ticks": ""
            },
            "type": "contourcarpet"
           }
          ],
          "heatmap": [
           {
            "colorbar": {
             "outlinewidth": 0,
             "ticks": ""
            },
            "colorscale": [
             [
              0,
              "#0d0887"
             ],
             [
              0.1111111111111111,
              "#46039f"
             ],
             [
              0.2222222222222222,
              "#7201a8"
             ],
             [
              0.3333333333333333,
              "#9c179e"
             ],
             [
              0.4444444444444444,
              "#bd3786"
             ],
             [
              0.5555555555555556,
              "#d8576b"
             ],
             [
              0.6666666666666666,
              "#ed7953"
             ],
             [
              0.7777777777777778,
              "#fb9f3a"
             ],
             [
              0.8888888888888888,
              "#fdca26"
             ],
             [
              1,
              "#f0f921"
             ]
            ],
            "type": "heatmap"
           }
          ],
          "heatmapgl": [
           {
            "colorbar": {
             "outlinewidth": 0,
             "ticks": ""
            },
            "colorscale": [
             [
              0,
              "#0d0887"
             ],
             [
              0.1111111111111111,
              "#46039f"
             ],
             [
              0.2222222222222222,
              "#7201a8"
             ],
             [
              0.3333333333333333,
              "#9c179e"
             ],
             [
              0.4444444444444444,
              "#bd3786"
             ],
             [
              0.5555555555555556,
              "#d8576b"
             ],
             [
              0.6666666666666666,
              "#ed7953"
             ],
             [
              0.7777777777777778,
              "#fb9f3a"
             ],
             [
              0.8888888888888888,
              "#fdca26"
             ],
             [
              1,
              "#f0f921"
             ]
            ],
            "type": "heatmapgl"
           }
          ],
          "histogram": [
           {
            "marker": {
             "colorbar": {
              "outlinewidth": 0,
              "ticks": ""
             }
            },
            "type": "histogram"
           }
          ],
          "histogram2d": [
           {
            "colorbar": {
             "outlinewidth": 0,
             "ticks": ""
            },
            "colorscale": [
             [
              0,
              "#0d0887"
             ],
             [
              0.1111111111111111,
              "#46039f"
             ],
             [
              0.2222222222222222,
              "#7201a8"
             ],
             [
              0.3333333333333333,
              "#9c179e"
             ],
             [
              0.4444444444444444,
              "#bd3786"
             ],
             [
              0.5555555555555556,
              "#d8576b"
             ],
             [
              0.6666666666666666,
              "#ed7953"
             ],
             [
              0.7777777777777778,
              "#fb9f3a"
             ],
             [
              0.8888888888888888,
              "#fdca26"
             ],
             [
              1,
              "#f0f921"
             ]
            ],
            "type": "histogram2d"
           }
          ],
          "histogram2dcontour": [
           {
            "colorbar": {
             "outlinewidth": 0,
             "ticks": ""
            },
            "colorscale": [
             [
              0,
              "#0d0887"
             ],
             [
              0.1111111111111111,
              "#46039f"
             ],
             [
              0.2222222222222222,
              "#7201a8"
             ],
             [
              0.3333333333333333,
              "#9c179e"
             ],
             [
              0.4444444444444444,
              "#bd3786"
             ],
             [
              0.5555555555555556,
              "#d8576b"
             ],
             [
              0.6666666666666666,
              "#ed7953"
             ],
             [
              0.7777777777777778,
              "#fb9f3a"
             ],
             [
              0.8888888888888888,
              "#fdca26"
             ],
             [
              1,
              "#f0f921"
             ]
            ],
            "type": "histogram2dcontour"
           }
          ],
          "mesh3d": [
           {
            "colorbar": {
             "outlinewidth": 0,
             "ticks": ""
            },
            "type": "mesh3d"
           }
          ],
          "parcoords": [
           {
            "line": {
             "colorbar": {
              "outlinewidth": 0,
              "ticks": ""
             }
            },
            "type": "parcoords"
           }
          ],
          "pie": [
           {
            "automargin": true,
            "type": "pie"
           }
          ],
          "scatter": [
           {
            "marker": {
             "colorbar": {
              "outlinewidth": 0,
              "ticks": ""
             }
            },
            "type": "scatter"
           }
          ],
          "scatter3d": [
           {
            "line": {
             "colorbar": {
              "outlinewidth": 0,
              "ticks": ""
             }
            },
            "marker": {
             "colorbar": {
              "outlinewidth": 0,
              "ticks": ""
             }
            },
            "type": "scatter3d"
           }
          ],
          "scattercarpet": [
           {
            "marker": {
             "colorbar": {
              "outlinewidth": 0,
              "ticks": ""
             }
            },
            "type": "scattercarpet"
           }
          ],
          "scattergeo": [
           {
            "marker": {
             "colorbar": {
              "outlinewidth": 0,
              "ticks": ""
             }
            },
            "type": "scattergeo"
           }
          ],
          "scattergl": [
           {
            "marker": {
             "colorbar": {
              "outlinewidth": 0,
              "ticks": ""
             }
            },
            "type": "scattergl"
           }
          ],
          "scattermapbox": [
           {
            "marker": {
             "colorbar": {
              "outlinewidth": 0,
              "ticks": ""
             }
            },
            "type": "scattermapbox"
           }
          ],
          "scatterpolar": [
           {
            "marker": {
             "colorbar": {
              "outlinewidth": 0,
              "ticks": ""
             }
            },
            "type": "scatterpolar"
           }
          ],
          "scatterpolargl": [
           {
            "marker": {
             "colorbar": {
              "outlinewidth": 0,
              "ticks": ""
             }
            },
            "type": "scatterpolargl"
           }
          ],
          "scatterternary": [
           {
            "marker": {
             "colorbar": {
              "outlinewidth": 0,
              "ticks": ""
             }
            },
            "type": "scatterternary"
           }
          ],
          "surface": [
           {
            "colorbar": {
             "outlinewidth": 0,
             "ticks": ""
            },
            "colorscale": [
             [
              0,
              "#0d0887"
             ],
             [
              0.1111111111111111,
              "#46039f"
             ],
             [
              0.2222222222222222,
              "#7201a8"
             ],
             [
              0.3333333333333333,
              "#9c179e"
             ],
             [
              0.4444444444444444,
              "#bd3786"
             ],
             [
              0.5555555555555556,
              "#d8576b"
             ],
             [
              0.6666666666666666,
              "#ed7953"
             ],
             [
              0.7777777777777778,
              "#fb9f3a"
             ],
             [
              0.8888888888888888,
              "#fdca26"
             ],
             [
              1,
              "#f0f921"
             ]
            ],
            "type": "surface"
           }
          ],
          "table": [
           {
            "cells": {
             "fill": {
              "color": "#EBF0F8"
             },
             "line": {
              "color": "white"
             }
            },
            "header": {
             "fill": {
              "color": "#C8D4E3"
             },
             "line": {
              "color": "white"
             }
            },
            "type": "table"
           }
          ]
         },
         "layout": {
          "annotationdefaults": {
           "arrowcolor": "#2a3f5f",
           "arrowhead": 0,
           "arrowwidth": 1
          },
          "autotypenumbers": "strict",
          "coloraxis": {
           "colorbar": {
            "outlinewidth": 0,
            "ticks": ""
           }
          },
          "colorscale": {
           "diverging": [
            [
             0,
             "#8e0152"
            ],
            [
             0.1,
             "#c51b7d"
            ],
            [
             0.2,
             "#de77ae"
            ],
            [
             0.3,
             "#f1b6da"
            ],
            [
             0.4,
             "#fde0ef"
            ],
            [
             0.5,
             "#f7f7f7"
            ],
            [
             0.6,
             "#e6f5d0"
            ],
            [
             0.7,
             "#b8e186"
            ],
            [
             0.8,
             "#7fbc41"
            ],
            [
             0.9,
             "#4d9221"
            ],
            [
             1,
             "#276419"
            ]
           ],
           "sequential": [
            [
             0,
             "#0d0887"
            ],
            [
             0.1111111111111111,
             "#46039f"
            ],
            [
             0.2222222222222222,
             "#7201a8"
            ],
            [
             0.3333333333333333,
             "#9c179e"
            ],
            [
             0.4444444444444444,
             "#bd3786"
            ],
            [
             0.5555555555555556,
             "#d8576b"
            ],
            [
             0.6666666666666666,
             "#ed7953"
            ],
            [
             0.7777777777777778,
             "#fb9f3a"
            ],
            [
             0.8888888888888888,
             "#fdca26"
            ],
            [
             1,
             "#f0f921"
            ]
           ],
           "sequentialminus": [
            [
             0,
             "#0d0887"
            ],
            [
             0.1111111111111111,
             "#46039f"
            ],
            [
             0.2222222222222222,
             "#7201a8"
            ],
            [
             0.3333333333333333,
             "#9c179e"
            ],
            [
             0.4444444444444444,
             "#bd3786"
            ],
            [
             0.5555555555555556,
             "#d8576b"
            ],
            [
             0.6666666666666666,
             "#ed7953"
            ],
            [
             0.7777777777777778,
             "#fb9f3a"
            ],
            [
             0.8888888888888888,
             "#fdca26"
            ],
            [
             1,
             "#f0f921"
            ]
           ]
          },
          "colorway": [
           "#636efa",
           "#EF553B",
           "#00cc96",
           "#ab63fa",
           "#FFA15A",
           "#19d3f3",
           "#FF6692",
           "#B6E880",
           "#FF97FF",
           "#FECB52"
          ],
          "font": {
           "color": "#2a3f5f"
          },
          "geo": {
           "bgcolor": "white",
           "lakecolor": "white",
           "landcolor": "#E5ECF6",
           "showlakes": true,
           "showland": true,
           "subunitcolor": "white"
          },
          "hoverlabel": {
           "align": "left"
          },
          "hovermode": "closest",
          "mapbox": {
           "style": "light"
          },
          "paper_bgcolor": "white",
          "plot_bgcolor": "#E5ECF6",
          "polar": {
           "angularaxis": {
            "gridcolor": "white",
            "linecolor": "white",
            "ticks": ""
           },
           "bgcolor": "#E5ECF6",
           "radialaxis": {
            "gridcolor": "white",
            "linecolor": "white",
            "ticks": ""
           }
          },
          "scene": {
           "xaxis": {
            "backgroundcolor": "#E5ECF6",
            "gridcolor": "white",
            "gridwidth": 2,
            "linecolor": "white",
            "showbackground": true,
            "ticks": "",
            "zerolinecolor": "white"
           },
           "yaxis": {
            "backgroundcolor": "#E5ECF6",
            "gridcolor": "white",
            "gridwidth": 2,
            "linecolor": "white",
            "showbackground": true,
            "ticks": "",
            "zerolinecolor": "white"
           },
           "zaxis": {
            "backgroundcolor": "#E5ECF6",
            "gridcolor": "white",
            "gridwidth": 2,
            "linecolor": "white",
            "showbackground": true,
            "ticks": "",
            "zerolinecolor": "white"
           }
          },
          "shapedefaults": {
           "line": {
            "color": "#2a3f5f"
           }
          },
          "ternary": {
           "aaxis": {
            "gridcolor": "white",
            "linecolor": "white",
            "ticks": ""
           },
           "baxis": {
            "gridcolor": "white",
            "linecolor": "white",
            "ticks": ""
           },
           "bgcolor": "#E5ECF6",
           "caxis": {
            "gridcolor": "white",
            "linecolor": "white",
            "ticks": ""
           }
          },
          "title": {
           "x": 0.05
          },
          "xaxis": {
           "automargin": true,
           "gridcolor": "white",
           "linecolor": "white",
           "ticks": "",
           "title": {
            "standoff": 15
           },
           "zerolinecolor": "white",
           "zerolinewidth": 2
          },
          "yaxis": {
           "automargin": true,
           "gridcolor": "white",
           "linecolor": "white",
           "ticks": "",
           "title": {
            "standoff": 15
           },
           "zerolinecolor": "white",
           "zerolinewidth": 2
          }
         }
        }
       }
      }
     },
     "metadata": {},
     "output_type": "display_data"
    }
   ],
   "source": [
    "#For BA we plot the number of reviews per state depending on the nationality of the user.\n",
    "count_contry_users_BA=df_BA.groupby(['US_Code_User']).count()['beer_name'].to_frame() \n",
    "count_contry_users_BA.rename(columns={'beer_name':'number_of_users'}, inplace=True)\n",
    "count_contry_users_BA.reset_index(inplace=True) \n",
    "count_contry_users_BA\n",
    "\n",
    "fig = px.choropleth(count_contry_users_BA,  \n",
    "                    locations='US_Code_User', \n",
    "                    locationmode=\"USA-states\", \n",
    "                    scope=\"usa\",\n",
    "                    color='number_of_users'\n",
    "                    ) \n",
    "fig.show()\n"
   ]
  },
  {
   "cell_type": "markdown",
   "metadata": {},
   "source": [
    "For BA and RB, the data is not equally distributed between each state. We have to take into consideration that some states have a larger population and a higher beer consumption than others (we found 2 datasets). Using a scoring system, we will be able to determine if our analysis for a region is representative of its population. This criterion will be important for knowing if we keep or not a state for the analysis:(political trend)<->(beer consumption)?"
   ]
  },
  {
   "cell_type": "markdown",
   "metadata": {},
   "source": []
  },
  {
   "cell_type": "code",
   "execution_count": 17,
   "metadata": {},
   "outputs": [],
   "source": [
    "#merge Rb and BA in a function\n",
    "def merge_RB_BA(df_RB, df_BA):\n",
    "    df_RB['source']='RB'\n",
    "    df_BA['source']='BA'\n",
    "    df_RB_BA=pd.concat([df_RB, df_BA], axis=0)\n",
    "    return df_RB_BA\n",
    "\n",
    "    "
   ]
  },
  {
   "cell_type": "code",
   "execution_count": 18,
   "metadata": {},
   "outputs": [],
   "source": [
    "#create a function "
   ]
  },
  {
   "attachments": {},
   "cell_type": "markdown",
   "metadata": {},
   "source": [
    "Test preferences without taking Politics."
   ]
  },
  {
   "cell_type": "code",
   "execution_count": 19,
   "metadata": {},
   "outputs": [
    {
     "data": {
      "text/html": [
       "<div>\n",
       "<style scoped>\n",
       "    .dataframe tbody tr th:only-of-type {\n",
       "        vertical-align: middle;\n",
       "    }\n",
       "\n",
       "    .dataframe tbody tr th {\n",
       "        vertical-align: top;\n",
       "    }\n",
       "\n",
       "    .dataframe thead th {\n",
       "        text-align: right;\n",
       "    }\n",
       "</style>\n",
       "<table border=\"1\" class=\"dataframe\">\n",
       "  <thead>\n",
       "    <tr style=\"text-align: right;\">\n",
       "      <th></th>\n",
       "      <th>US_Code_User</th>\n",
       "      <th>location_user</th>\n",
       "      <th>US_Code_Beer</th>\n",
       "      <th>beers_location</th>\n",
       "      <th>beer_name</th>\n",
       "      <th>beer_id</th>\n",
       "      <th>brewery_name</th>\n",
       "      <th>brewery_id</th>\n",
       "      <th>style</th>\n",
       "      <th>abv</th>\n",
       "      <th>date</th>\n",
       "      <th>user_name</th>\n",
       "      <th>user_id</th>\n",
       "      <th>appearance</th>\n",
       "      <th>aroma</th>\n",
       "      <th>palate</th>\n",
       "      <th>taste</th>\n",
       "      <th>overall</th>\n",
       "      <th>rating</th>\n",
       "      <th>text</th>\n",
       "    </tr>\n",
       "  </thead>\n",
       "  <tbody>\n",
       "    <tr>\n",
       "      <th>0</th>\n",
       "      <td>AL</td>\n",
       "      <td>United States</td>\n",
       "      <td>AL</td>\n",
       "      <td>United States</td>\n",
       "      <td>Tiger Beer</td>\n",
       "      <td>3126.0</td>\n",
       "      <td>Singapore Brewery (Asia Pacific Breweries-Hein...</td>\n",
       "      <td>547.0</td>\n",
       "      <td>Pale Lager</td>\n",
       "      <td>5.0</td>\n",
       "      <td>1.085652e+09</td>\n",
       "      <td>Jeppe</td>\n",
       "      <td>9058.0</td>\n",
       "      <td>2.0</td>\n",
       "      <td>2.0</td>\n",
       "      <td>2.0</td>\n",
       "      <td>3.0</td>\n",
       "      <td>4.0</td>\n",
       "      <td>1.3</td>\n",
       "      <td>Foamy though disappearing white head on a piss...</td>\n",
       "    </tr>\n",
       "    <tr>\n",
       "      <th>1</th>\n",
       "      <td>AL</td>\n",
       "      <td>United States</td>\n",
       "      <td>AL</td>\n",
       "      <td>United States</td>\n",
       "      <td>Tiger Beer</td>\n",
       "      <td>3126.0</td>\n",
       "      <td>Singapore Brewery (Asia Pacific Breweries-Hein...</td>\n",
       "      <td>547.0</td>\n",
       "      <td>Pale Lager</td>\n",
       "      <td>5.0</td>\n",
       "      <td>1.216030e+09</td>\n",
       "      <td>tangentrider</td>\n",
       "      <td>54911.0</td>\n",
       "      <td>3.0</td>\n",
       "      <td>2.0</td>\n",
       "      <td>4.0</td>\n",
       "      <td>6.0</td>\n",
       "      <td>10.0</td>\n",
       "      <td>2.5</td>\n",
       "      <td>Pale beer with a one inch disappearing head.  ...</td>\n",
       "    </tr>\n",
       "    <tr>\n",
       "      <th>2</th>\n",
       "      <td>AL</td>\n",
       "      <td>United States</td>\n",
       "      <td>AL</td>\n",
       "      <td>United States</td>\n",
       "      <td>Tiger Beer</td>\n",
       "      <td>3126.0</td>\n",
       "      <td>Singapore Brewery (Asia Pacific Breweries-Hein...</td>\n",
       "      <td>547.0</td>\n",
       "      <td>Pale Lager</td>\n",
       "      <td>5.0</td>\n",
       "      <td>1.211623e+09</td>\n",
       "      <td>posikyle</td>\n",
       "      <td>52600.0</td>\n",
       "      <td>3.0</td>\n",
       "      <td>2.0</td>\n",
       "      <td>3.0</td>\n",
       "      <td>7.0</td>\n",
       "      <td>12.0</td>\n",
       "      <td>2.7</td>\n",
       "      <td>Typical pale lager, but one of the best out th...</td>\n",
       "    </tr>\n",
       "    <tr>\n",
       "      <th>3</th>\n",
       "      <td>AL</td>\n",
       "      <td>United States</td>\n",
       "      <td>AL</td>\n",
       "      <td>United States</td>\n",
       "      <td>Tiger Beer</td>\n",
       "      <td>3126.0</td>\n",
       "      <td>Singapore Brewery (Asia Pacific Breweries-Hein...</td>\n",
       "      <td>547.0</td>\n",
       "      <td>Pale Lager</td>\n",
       "      <td>5.0</td>\n",
       "      <td>1.175594e+09</td>\n",
       "      <td>Rictus</td>\n",
       "      <td>43333.0</td>\n",
       "      <td>3.0</td>\n",
       "      <td>4.0</td>\n",
       "      <td>2.0</td>\n",
       "      <td>6.0</td>\n",
       "      <td>12.0</td>\n",
       "      <td>2.7</td>\n",
       "      <td>The aroma is alittle too light for my taste. U...</td>\n",
       "    </tr>\n",
       "    <tr>\n",
       "      <th>4</th>\n",
       "      <td>AL</td>\n",
       "      <td>United States</td>\n",
       "      <td>AL</td>\n",
       "      <td>United States</td>\n",
       "      <td>Tiger Beer</td>\n",
       "      <td>3126.0</td>\n",
       "      <td>Singapore Brewery (Asia Pacific Breweries-Hein...</td>\n",
       "      <td>547.0</td>\n",
       "      <td>Pale Lager</td>\n",
       "      <td>5.0</td>\n",
       "      <td>1.160042e+09</td>\n",
       "      <td>JonnyC22</td>\n",
       "      <td>42655.0</td>\n",
       "      <td>2.0</td>\n",
       "      <td>3.0</td>\n",
       "      <td>3.0</td>\n",
       "      <td>5.0</td>\n",
       "      <td>10.0</td>\n",
       "      <td>2.3</td>\n",
       "      <td>Bottle (6âer) bought at halftime of Fla. St....</td>\n",
       "    </tr>\n",
       "    <tr>\n",
       "      <th>...</th>\n",
       "      <td>...</td>\n",
       "      <td>...</td>\n",
       "      <td>...</td>\n",
       "      <td>...</td>\n",
       "      <td>...</td>\n",
       "      <td>...</td>\n",
       "      <td>...</td>\n",
       "      <td>...</td>\n",
       "      <td>...</td>\n",
       "      <td>...</td>\n",
       "      <td>...</td>\n",
       "      <td>...</td>\n",
       "      <td>...</td>\n",
       "      <td>...</td>\n",
       "      <td>...</td>\n",
       "      <td>...</td>\n",
       "      <td>...</td>\n",
       "      <td>...</td>\n",
       "      <td>...</td>\n",
       "      <td>...</td>\n",
       "    </tr>\n",
       "    <tr>\n",
       "      <th>1661198</th>\n",
       "      <td>NaN</td>\n",
       "      <td>Nicaragua</td>\n",
       "      <td>NaN</td>\n",
       "      <td>Switzerland</td>\n",
       "      <td>Cerveza Premium (Nicaragua)</td>\n",
       "      <td>26300.0</td>\n",
       "      <td>Compañía Cevercera de Nicaragua</td>\n",
       "      <td>3912.0</td>\n",
       "      <td>Pale Lager</td>\n",
       "      <td>4.0</td>\n",
       "      <td>1.218103e+09</td>\n",
       "      <td>Zavalas1</td>\n",
       "      <td>79805.0</td>\n",
       "      <td>5.0</td>\n",
       "      <td>10.0</td>\n",
       "      <td>5.0</td>\n",
       "      <td>10.0</td>\n",
       "      <td>20.0</td>\n",
       "      <td>5.0</td>\n",
       "      <td>I have Tried beers from all over the world, an...</td>\n",
       "    </tr>\n",
       "    <tr>\n",
       "      <th>1661199</th>\n",
       "      <td>NaN</td>\n",
       "      <td>Sint Maarten</td>\n",
       "      <td>NaN</td>\n",
       "      <td>France</td>\n",
       "      <td>Belzebuth 13°</td>\n",
       "      <td>4489.0</td>\n",
       "      <td>Grain dOrge (Brasseurs De Gayant)</td>\n",
       "      <td>759.0</td>\n",
       "      <td>Belgian Strong Ale</td>\n",
       "      <td>13.0</td>\n",
       "      <td>1.427195e+09</td>\n",
       "      <td>JBaggett2013</td>\n",
       "      <td>362979.0</td>\n",
       "      <td>5.0</td>\n",
       "      <td>6.0</td>\n",
       "      <td>5.0</td>\n",
       "      <td>7.0</td>\n",
       "      <td>20.0</td>\n",
       "      <td>4.3</td>\n",
       "      <td>caramel, roasty, resin, leather, alcohol, wood...</td>\n",
       "    </tr>\n",
       "    <tr>\n",
       "      <th>1661200</th>\n",
       "      <td>NaN</td>\n",
       "      <td>Haiti</td>\n",
       "      <td>NaN</td>\n",
       "      <td>Japan</td>\n",
       "      <td>Oakham Helter Skelter</td>\n",
       "      <td>6309.0</td>\n",
       "      <td>Oakham</td>\n",
       "      <td>1100.0</td>\n",
       "      <td>Premium Bitter/ESB</td>\n",
       "      <td>5.0</td>\n",
       "      <td>1.252231e+09</td>\n",
       "      <td>skipoffwork</td>\n",
       "      <td>95191.0</td>\n",
       "      <td>5.0</td>\n",
       "      <td>10.0</td>\n",
       "      <td>5.0</td>\n",
       "      <td>10.0</td>\n",
       "      <td>20.0</td>\n",
       "      <td>5.0</td>\n",
       "      <td>This is the best beer Iâve tasted in a long ...</td>\n",
       "    </tr>\n",
       "    <tr>\n",
       "      <th>1661201</th>\n",
       "      <td>NaN</td>\n",
       "      <td>Tibet</td>\n",
       "      <td>NaN</td>\n",
       "      <td>Lithuania</td>\n",
       "      <td>Westvleteren 12 (XII)</td>\n",
       "      <td>4934.0</td>\n",
       "      <td>Westvleteren Abdij St. Sixtus</td>\n",
       "      <td>623.0</td>\n",
       "      <td>Abt/Quadrupel</td>\n",
       "      <td>10.2</td>\n",
       "      <td>1.359889e+09</td>\n",
       "      <td>oooriii</td>\n",
       "      <td>228391.0</td>\n",
       "      <td>5.0</td>\n",
       "      <td>10.0</td>\n",
       "      <td>5.0</td>\n",
       "      <td>10.0</td>\n",
       "      <td>20.0</td>\n",
       "      <td>5.0</td>\n",
       "      <td>Perfect, complete and complex. Grape, fig and ...</td>\n",
       "    </tr>\n",
       "    <tr>\n",
       "      <th>1661202</th>\n",
       "      <td>NaN</td>\n",
       "      <td>Kosovo</td>\n",
       "      <td>NaN</td>\n",
       "      <td>Morocco</td>\n",
       "      <td>Schneider Weisse Original</td>\n",
       "      <td>1762.0</td>\n",
       "      <td>Schneider Weisse G. Schneider &amp; Sohn GmbH</td>\n",
       "      <td>313.0</td>\n",
       "      <td>German Hefeweizen</td>\n",
       "      <td>5.4</td>\n",
       "      <td>1.340359e+09</td>\n",
       "      <td>gezimpula</td>\n",
       "      <td>192438.0</td>\n",
       "      <td>5.0</td>\n",
       "      <td>10.0</td>\n",
       "      <td>5.0</td>\n",
       "      <td>10.0</td>\n",
       "      <td>20.0</td>\n",
       "      <td>5.0</td>\n",
       "      <td>great beer ......................................</td>\n",
       "    </tr>\n",
       "  </tbody>\n",
       "</table>\n",
       "<p>1661203 rows × 20 columns</p>\n",
       "</div>"
      ],
      "text/plain": [
       "        US_Code_User  location_user US_Code_Beer beers_location  \\\n",
       "0                 AL  United States           AL  United States   \n",
       "1                 AL  United States           AL  United States   \n",
       "2                 AL  United States           AL  United States   \n",
       "3                 AL  United States           AL  United States   \n",
       "4                 AL  United States           AL  United States   \n",
       "...              ...            ...          ...            ...   \n",
       "1661198          NaN      Nicaragua          NaN    Switzerland   \n",
       "1661199          NaN   Sint Maarten          NaN         France   \n",
       "1661200          NaN          Haiti          NaN          Japan   \n",
       "1661201          NaN          Tibet          NaN      Lithuania   \n",
       "1661202          NaN         Kosovo          NaN        Morocco   \n",
       "\n",
       "                           beer_name  beer_id  \\\n",
       "0                         Tiger Beer   3126.0   \n",
       "1                         Tiger Beer   3126.0   \n",
       "2                         Tiger Beer   3126.0   \n",
       "3                         Tiger Beer   3126.0   \n",
       "4                         Tiger Beer   3126.0   \n",
       "...                              ...      ...   \n",
       "1661198  Cerveza Premium (Nicaragua)  26300.0   \n",
       "1661199                Belzebuth 13°   4489.0   \n",
       "1661200        Oakham Helter Skelter   6309.0   \n",
       "1661201        Westvleteren 12 (XII)   4934.0   \n",
       "1661202    Schneider Weisse Original   1762.0   \n",
       "\n",
       "                                              brewery_name  brewery_id  \\\n",
       "0        Singapore Brewery (Asia Pacific Breweries-Hein...       547.0   \n",
       "1        Singapore Brewery (Asia Pacific Breweries-Hein...       547.0   \n",
       "2        Singapore Brewery (Asia Pacific Breweries-Hein...       547.0   \n",
       "3        Singapore Brewery (Asia Pacific Breweries-Hein...       547.0   \n",
       "4        Singapore Brewery (Asia Pacific Breweries-Hein...       547.0   \n",
       "...                                                    ...         ...   \n",
       "1661198                    Compañía Cevercera de Nicaragua      3912.0   \n",
       "1661199                 Grain dOrge (Brasseurs De Gayant)       759.0   \n",
       "1661200                                             Oakham      1100.0   \n",
       "1661201                      Westvleteren Abdij St. Sixtus       623.0   \n",
       "1661202          Schneider Weisse G. Schneider & Sohn GmbH       313.0   \n",
       "\n",
       "                      style   abv          date     user_name   user_id  \\\n",
       "0                Pale Lager   5.0  1.085652e+09         Jeppe    9058.0   \n",
       "1                Pale Lager   5.0  1.216030e+09  tangentrider   54911.0   \n",
       "2                Pale Lager   5.0  1.211623e+09      posikyle   52600.0   \n",
       "3                Pale Lager   5.0  1.175594e+09        Rictus   43333.0   \n",
       "4                Pale Lager   5.0  1.160042e+09      JonnyC22   42655.0   \n",
       "...                     ...   ...           ...           ...       ...   \n",
       "1661198          Pale Lager   4.0  1.218103e+09      Zavalas1   79805.0   \n",
       "1661199  Belgian Strong Ale  13.0  1.427195e+09  JBaggett2013  362979.0   \n",
       "1661200  Premium Bitter/ESB   5.0  1.252231e+09   skipoffwork   95191.0   \n",
       "1661201       Abt/Quadrupel  10.2  1.359889e+09       oooriii  228391.0   \n",
       "1661202   German Hefeweizen   5.4  1.340359e+09     gezimpula  192438.0   \n",
       "\n",
       "         appearance  aroma  palate  taste  overall  rating  \\\n",
       "0               2.0    2.0     2.0    3.0      4.0     1.3   \n",
       "1               3.0    2.0     4.0    6.0     10.0     2.5   \n",
       "2               3.0    2.0     3.0    7.0     12.0     2.7   \n",
       "3               3.0    4.0     2.0    6.0     12.0     2.7   \n",
       "4               2.0    3.0     3.0    5.0     10.0     2.3   \n",
       "...             ...    ...     ...    ...      ...     ...   \n",
       "1661198         5.0   10.0     5.0   10.0     20.0     5.0   \n",
       "1661199         5.0    6.0     5.0    7.0     20.0     4.3   \n",
       "1661200         5.0   10.0     5.0   10.0     20.0     5.0   \n",
       "1661201         5.0   10.0     5.0   10.0     20.0     5.0   \n",
       "1661202         5.0   10.0     5.0   10.0     20.0     5.0   \n",
       "\n",
       "                                                      text  \n",
       "0        Foamy though disappearing white head on a piss...  \n",
       "1        Pale beer with a one inch disappearing head.  ...  \n",
       "2        Typical pale lager, but one of the best out th...  \n",
       "3        The aroma is alittle too light for my taste. U...  \n",
       "4        Bottle (6âer) bought at halftime of Fla. St....  \n",
       "...                                                    ...  \n",
       "1661198  I have Tried beers from all over the world, an...  \n",
       "1661199  caramel, roasty, resin, leather, alcohol, wood...  \n",
       "1661200  This is the best beer Iâve tasted in a long ...  \n",
       "1661201  Perfect, complete and complex. Grape, fig and ...  \n",
       "1661202  great beer ......................................  \n",
       "\n",
       "[1661203 rows x 20 columns]"
      ]
     },
     "execution_count": 19,
     "metadata": {},
     "output_type": "execute_result"
    }
   ],
   "source": [
    "df_RB"
   ]
  },
  {
   "attachments": {},
   "cell_type": "markdown",
   "metadata": {},
   "source": [
    "C'est à partir de la poulpe.\n"
   ]
  },
  {
   "attachments": {},
   "cell_type": "markdown",
   "metadata": {},
   "source": [
    "One of the first questions we want to answer is: Do Americans prefer American beers over foreign ones?\n",
    "\n",
    "In a first step we will determine if there is an effect in general. We will keep only the reviews written by Americans.\n",
    "Then we will divide the dataset in 2:\n",
    "The first dataset is composed of American reviews on american beers and the next one of American reviews on foreign beers.\n",
    "\n",
    "Our strategy is to compare the 2 datasets and to apply different statistical tests on them.\n",
    "The H_0 hypothesis of these tests is that both distributions come from the same probability distribution. If the p_value is less than 0.05, then the 2 distributions do not come from the same law and therefore there is an effect: That is to say that the Americans rate better or worse the American beers.\n",
    "\n",
    "In a second part, we will have to determine where this effect comes from, if it exists. Maybe American beers are just better than foreign beers or maybe there is a patriotic effect on the rating of beers. \n",
    "::::we will also try to dig deeper to see if there is an effect related to every beer aspect?::::\n",
    "::::::thibaut:::::\n",
    "\n",
    "\n",
    "\n",
    "Translated with www.DeepL.com/Translator (free version)"
   ]
  },
  {
   "cell_type": "code",
   "execution_count": 63,
   "metadata": {},
   "outputs": [
    {
     "name": "stdout",
     "output_type": "stream",
     "text": [
      "The number of rows of the US beers dataset is 265280\n",
      "The number of rows of the Foreign beers dataset is 604698\n"
     ]
    }
   ],
   "source": [
    "\n",
    "\n",
    "df_RB_US=df_RB[(df_RB['beers_location']=='United States')  & (df_RB['location_user']=='United States')]\n",
    "df_RB_Foreign=df_RB[(df_RB['beers_location']!='United States')  & (df_RB['location_user']=='United States')]\n",
    "\n",
    "print('The number of rows of the US beers dataset is', df_RB_US.shape[0])\n",
    "print('The number of rows of the Foreign beers dataset is', df_RB_Foreign.shape[0])\n",
    "\n",
    "\n"
   ]
  },
  {
   "attachments": {},
   "cell_type": "markdown",
   "metadata": {},
   "source": [
    "First let's take a look at the distributions and see if we can observe an effect. Since the size of the datasets is not the same, we scale each dataset to obtain samples of the same size"
   ]
  },
  {
   "cell_type": "code",
   "execution_count": 66,
   "metadata": {},
   "outputs": [
    {
     "name": "stdout",
     "output_type": "stream",
     "text": [
      "(10000, 20) (10000, 20)\n"
     ]
    }
   ],
   "source": [
    "import numpy as np\n",
    "import pandas as pd\n",
    "\n",
    "\n",
    "def sample_rows(df, size_draw):\n",
    "    \"\"\"\"\"\n",
    "    this function takes a dataframe and return a random sample of the dataframe with the size_draw specified\n",
    "    \"\"\"\"\"\n",
    "    df_sampled=pd.DataFrame()\n",
    "    indices = np.random.randint(0, len(df), size_draw)\n",
    "    df_tmp = df.iloc[indices]\n",
    "    df_sampled=pd.concat([df_sampled, df_tmp], axis=0)\n",
    "    return df_sampled\n",
    "\n",
    "df_RB_US_sample=sample_rows(df_RB_US, 10000)\n",
    "df_RB_Foreign_sample=sample_rows(df_RB_Foreign, 10000)\n",
    "print(df_RB_US_boot.shape, df_RB_Foreign_boot.shape)"
   ]
  },
  {
   "cell_type": "code",
   "execution_count": 25,
   "metadata": {},
   "outputs": [
    {
     "data": {
      "text/plain": [
       "Text(0.5, 1.0, 'Rating')"
      ]
     },
     "execution_count": 25,
     "metadata": {},
     "output_type": "execute_result"
    },
    {
     "data": {
      "image/png": "[encoded data removed]",
      "text/plain": [
       "<Figure size 720x720 with 6 Axes>"
      ]
     },
     "metadata": {
      "needs_background": "light"
     },
     "output_type": "display_data"
    }
   ],
   "source": [
    "\n",
    "import matplotlib.pyplot as plt\n",
    "fig, axs = plt.subplots(2, 3, figsize=(10, 10))\n",
    "axs[0, 0].hist(df_RB_Foreign_sample['aroma'], bins= 21, alpha=0.9, edgecolor='blue', label = \"Winner\")\n",
    "axs[0, 0].hist(df_RB_US_sample['aroma'], bins= 21, alpha= 0.7, edgecolor='red', label= \"Loser\")\n",
    "axs[0, 0].set_title('Aroma')\n",
    "axs[0, 1].hist(df_RB_Foreign_sample['appearance'], bins= 21, alpha=0.9, edgecolor='blue', label = \"Winner\")\n",
    "axs[0, 1].hist(df_RB_US_sample['appearance'], bins= 21, alpha= 0.7, edgecolor='red', label= \"Loser\")\n",
    "axs[0, 1].set_title('Appearance')\n",
    "axs[0, 2].hist(df_RB_Foreign_sample['palate'], bins= 21, alpha=0.9, edgecolor='blue', label = \"Winner\")\n",
    "axs[0, 2].hist(df_RB_US_sample['palate'], bins= 21, alpha= 0.7, edgecolor='red', label= \"Loser\")\n",
    "axs[0, 2].set_title('Palate')\n",
    "axs[1, 0].hist(df_RB_Foreign_sample['taste'], bins= 21, alpha=0.9, edgecolor='blue', label = \"Winner\")\n",
    "axs[1, 0].hist(df_RB_US_sample['taste'], bins= 21, alpha= 0.7, edgecolor='red', label= \"Loser\")\n",
    "axs[1, 0].set_title('Taste')\n",
    "axs[1, 1].hist(df_RB_Foreign_sample['overall'], bins= 21, alpha=0.9, edgecolor='blue', label = \"Winner\")\n",
    "axs[1, 1].hist(df_RB_US_sample['overall'], bins= 21, alpha= 0.7, edgecolor='red', label= \"Loser\")\n",
    "axs[1, 1].set_title('Overall')\n",
    "axs[1, 2].hist(df_RB_Foreign_sample['rating'], bins= 21, alpha=0.9, edgecolor='blue', label = \"Winner\")\n",
    "axs[1, 2].hist(df_RB_US_sample['rating'], bins= 21, alpha= 0.7, edgecolor='red', label= \"Loser\")\n",
    "axs[1, 2].set_title('Rating')\n",
    "\n"
   ]
  },
  {
   "attachments": {},
   "cell_type": "markdown",
   "metadata": {},
   "source": [
    "\n",
    "Here we plotted the number of reviews per grade for each beer aspect for both datasets: \n",
    "- blue: Foreign bee\n",
    "- red: Us beers\n",
    "\n",
    "It seems that the distrubtions are identical. However, one or more statistical tests are necessary to be sure. It should also be noted that the distributions are approximately Gaussian, so we can use a t_test"
   ]
  },
  {
   "cell_type": "code",
   "execution_count": 74,
   "metadata": {},
   "outputs": [],
   "source": [
    "def sample_rows(df, size_draw):\n",
    "    \"\"\"\"\"\n",
    "    this function takes a dataframe and return a random sample of the dataframe with the size_draw specified\n",
    "    \"\"\"\"\"\n",
    "    df_sampled=pd.DataFrame()\n",
    "    indices = np.random.randint(0, len(df), size_draw)\n",
    "    df_tmp = df.iloc[indices]\n",
    "    df_sampled=pd.concat([df_sampled, df_tmp], axis=0)\n",
    "    return df_sampled\n",
    "\n",
    "\n",
    "def do_a_test(n_boot, size_draw, df1, df2, type_test ='t_test'):\n",
    "    test_list_dataframe=[]\n",
    "    \"\"\"\"\"\n",
    "    this function takes two dataframes, the number of bootstrapping and the size of the sample in the orginal dataframes\n",
    "    It return a list of dataframes with the results of the test choosen for each beer aspect.\n",
    "\n",
    "    \"\"\"\"\"\n",
    "\n",
    "    for i in range (n_boot):\n",
    "        test_list_dataframe.append(pd.DataFrame(columns=['t_test_stat', 't_test_p', 't_test_diff_mean']))\n",
    "\n",
    "    for i in range(n_boot):\n",
    "        df1_boot=sample_rows(df1, size_draw)\n",
    "        df2_boot=sample_rows(df2, size_draw)\n",
    "        for columns in ['aroma', 'appearance', 'palate', 'taste', 'overall', 'rating']:\n",
    "            if type_test=='t_test':\n",
    "                tmp = stats.ttest_ind(df1_boot[columns],  df2_boot[columns], equal_var=False)\n",
    "                concat_df=pd.DataFrame({\"t_test_stat\" : [tmp.statistic] , \"t_test_p\" : [tmp.pvalue], \"t_test_diff_mean\" : [df1_boot[columns].mean() - df2_boot[columns].mean()]}, index = [columns])\n",
    "                test_list_dataframe[i]=pd.concat([test_list_dataframe[i], concat_df], axis=0)\n",
    "            if type_test=='ks_test':\n",
    "                tmp = stats.ks_2samp(df1_boot[columns],  df2_boot[columns])\n",
    "                concat_df=pd.DataFrame({\"ks_test_stat\" : [tmp.statistic] , \"ks_test_p\" : [tmp.pvalue]}, index = [columns])\n",
    "                test_list_dataframe[i]=pd.concat([test_list_dataframe[i], concat_df], axis=0)\n",
    "            if type_test=='Wicoxon_test':\n",
    "                tmp = stats.wilcoxon(df1_boot[columns],  df2_boot[columns])\n",
    "                concat_df=pd.DataFrame({\"Wicoxon_test_stat\" : [tmp.statistic] , \"Wicoxon_test_p\" : [tmp.pvalue]}, index = [columns])\n",
    "                test_list_dataframe[i]=pd.concat([test_list_dataframe[i], concat_df], axis=0)\n",
    "        if i%1000==0:\n",
    "            print('number of boot' , i)\n",
    "    return test_list_dataframe\n",
    "    \n",
    "\n",
    "def do_a_mean_test(test_list_dataframe, n_boot, type_test='t_test'):\n",
    "    \"\"\"\"\"\n",
    "    This function takes the list of dataframes with the results of the test choosen and return a dataframe with mean p-values for each beer aspect\n",
    "    \"\"\"\"\"\n",
    "    mean_dataframe=pd.DataFrame(columns=['aroma', 'appearance', 'palate', 'taste', 'overall', 'rating'])\n",
    "    for i in range(n_boot):\n",
    "        if type_test=='t_test':\n",
    "            concat_dataframe=pd.DataFrame({\"aroma\" : test_list_dataframe[i]['t_test_p'].loc['aroma'], \n",
    "            \"appearance\" : test_list_dataframe[i]['t_test_p'].loc['appearance'], \n",
    "            \"palate\" : test_list_dataframe[i]['t_test_p'].loc['palate'], \"taste\" : test_list_dataframe[i]['t_test_p'].loc['taste'], \n",
    "            \"overall\" : test_list_dataframe[i]['t_test_p'].loc['overall'], \"rating\" : test_list_dataframe[i]['t_test_p'].loc['rating']}, index = [i])\n",
    "            mean_dataframe=pd.concat([mean_dataframe, concat_dataframe], axis=0)\n",
    "        if type_test=='ks_test':\n",
    "            concat_dataframe=pd.DataFrame({\"aroma\" : test_list_dataframe[i]['ks_test_p'].loc['aroma'], \n",
    "            \"appearance\" : test_list_dataframe[i]['ks_test_p'].loc['appearance'], \n",
    "            \"palate\" : test_list_dataframe[i]['ks_test_p'].loc['palate'], \"taste\" : test_list_dataframe[i]['ks_test_p'].loc['taste'], \n",
    "            \"overall\" : test_list_dataframe[i]['ks_test_p'].loc['overall'], \"rating\" : test_list_dataframe[i]['ks_test_p'].loc['rating']}, index = [i])\n",
    "            mean_dataframe=pd.concat([mean_dataframe, concat_dataframe], axis=0)\n",
    "        if type_test=='Wicoxon_test':\n",
    "            concat_dataframe=pd.DataFrame({\"aroma\" : test_list_dataframe[i]['Wicoxon_test_p'].loc['aroma'], \n",
    "            \"appearance\" : test_list_dataframe[i]['Wicoxon_test_p'].loc['appearance'], \n",
    "            \"palate\" : test_list_dataframe[i]['Wicoxon_test_p'].loc['palate'], \"taste\" : test_list_dataframe[i]['Wicoxon_test_p'].loc['taste'], \n",
    "            \"overall\" : test_list_dataframe[i]['Wicoxon_test_p'].loc['overall'], \"rating\" : test_list_dataframe[i]['Wicoxon_test_p'].loc['rating']}, index = [i])\n",
    "            mean_dataframe=pd.concat([mean_dataframe, concat_dataframe], axis=0)\n",
    " \n",
    "    for columns in ['aroma', 'appearance', 'palate', 'taste', 'overall', 'rating']:\n",
    "        print(columns,  \"number of nan\" , mean_dataframe[columns].isna().sum())\n",
    "\n",
    "    mean_dataframe=mean_dataframe.mean()\n",
    "    return mean_dataframe\n",
    "\n",
    "\n"
   ]
  },
  {
   "cell_type": "code",
   "execution_count": 71,
   "metadata": {},
   "outputs": [
    {
     "name": "stdout",
     "output_type": "stream",
     "text": [
      "number of boot 0\n",
      "aroma number of nan 101\n",
      "appearance number of nan 101\n",
      "palate number of nan 101\n",
      "taste number of nan 101\n",
      "overall number of nan 101\n",
      "rating number of nan 101\n"
     ]
    },
    {
     "data": {
      "text/plain": [
       "aroma         0.497032\n",
       "appearance    0.342713\n",
       "palate        0.484191\n",
       "taste         0.438958\n",
       "overall       0.430347\n",
       "rating        0.440488\n",
       "dtype: float64"
      ]
     },
     "execution_count": 71,
     "metadata": {},
     "output_type": "execute_result"
    }
   ],
   "source": [
    "t_test_list = do_a_test(type_test ='t_test', n_boot=1000, size_draw=10000, df1=df_RB_US, df2=df_RB_Foreign)\n",
    "t_test_p_val = do_a_mean_test(t_test_list, n_boot=1000, type_test='t_test')\n",
    "t_test_p_val.view()\n",
    "        "
   ]
  },
  {
   "cell_type": "code",
   "execution_count": 72,
   "metadata": {},
   "outputs": [
    {
     "name": "stdout",
     "output_type": "stream",
     "text": [
      "number of boot 0\n"
     ]
    },
    {
     "name": "stderr",
     "output_type": "stream",
     "text": [
      "C:\\Users\\Achra\\AppData\\Local\\Temp/ipykernel_21840/1290646537.py:24: RuntimeWarning:\n",
      "\n",
      "ks_2samp: Exact calculation unsuccessful. Switching to method=asymp.\n",
      "\n",
      "C:\\Users\\Achra\\AppData\\Local\\Temp/ipykernel_21840/1290646537.py:24: RuntimeWarning:\n",
      "\n",
      "ks_2samp: Exact calculation unsuccessful. Switching to method=asymp.\n",
      "\n",
      "C:\\Users\\Achra\\AppData\\Local\\Temp/ipykernel_21840/1290646537.py:24: RuntimeWarning:\n",
      "\n",
      "ks_2samp: Exact calculation unsuccessful. Switching to method=asymp.\n",
      "\n",
      "C:\\Users\\Achra\\AppData\\Local\\Temp/ipykernel_21840/1290646537.py:24: RuntimeWarning:\n",
      "\n",
      "ks_2samp: Exact calculation unsuccessful. Switching to method=asymp.\n",
      "\n",
      "C:\\Users\\Achra\\AppData\\Local\\Temp/ipykernel_21840/1290646537.py:24: RuntimeWarning:\n",
      "\n",
      "ks_2samp: Exact calculation unsuccessful. Switching to method=asymp.\n",
      "\n",
      "C:\\Users\\Achra\\AppData\\Local\\Temp/ipykernel_21840/1290646537.py:24: RuntimeWarning:\n",
      "\n",
      "ks_2samp: Exact calculation unsuccessful. Switching to method=asymp.\n",
      "\n",
      "C:\\Users\\Achra\\AppData\\Local\\Temp/ipykernel_21840/1290646537.py:24: RuntimeWarning:\n",
      "\n",
      "ks_2samp: Exact calculation unsuccessful. Switching to method=asymp.\n",
      "\n",
      "C:\\Users\\Achra\\AppData\\Local\\Temp/ipykernel_21840/1290646537.py:24: RuntimeWarning:\n",
      "\n",
      "ks_2samp: Exact calculation unsuccessful. Switching to method=asymp.\n",
      "\n",
      "C:\\Users\\Achra\\AppData\\Local\\Temp/ipykernel_21840/1290646537.py:24: RuntimeWarning:\n",
      "\n",
      "ks_2samp: Exact calculation unsuccessful. Switching to method=asymp.\n",
      "\n",
      "C:\\Users\\Achra\\AppData\\Local\\Temp/ipykernel_21840/1290646537.py:24: RuntimeWarning:\n",
      "\n",
      "ks_2samp: Exact calculation unsuccessful. Switching to method=asymp.\n",
      "\n",
      "C:\\Users\\Achra\\AppData\\Local\\Temp/ipykernel_21840/1290646537.py:24: RuntimeWarning:\n",
      "\n",
      "ks_2samp: Exact calculation unsuccessful. Switching to method=asymp.\n",
      "\n",
      "C:\\Users\\Achra\\AppData\\Local\\Temp/ipykernel_21840/1290646537.py:24: RuntimeWarning:\n",
      "\n",
      "ks_2samp: Exact calculation unsuccessful. Switching to method=asymp.\n",
      "\n",
      "C:\\Users\\Achra\\AppData\\Local\\Temp/ipykernel_21840/1290646537.py:24: RuntimeWarning:\n",
      "\n",
      "ks_2samp: Exact calculation unsuccessful. Switching to method=asymp.\n",
      "\n",
      "C:\\Users\\Achra\\AppData\\Local\\Temp/ipykernel_21840/1290646537.py:24: RuntimeWarning:\n",
      "\n",
      "ks_2samp: Exact calculation unsuccessful. Switching to method=asymp.\n",
      "\n",
      "C:\\Users\\Achra\\AppData\\Local\\Temp/ipykernel_21840/1290646537.py:24: RuntimeWarning:\n",
      "\n",
      "ks_2samp: Exact calculation unsuccessful. Switching to method=asymp.\n",
      "\n",
      "C:\\Users\\Achra\\AppData\\Local\\Temp/ipykernel_21840/1290646537.py:24: RuntimeWarning:\n",
      "\n",
      "ks_2samp: Exact calculation unsuccessful. Switching to method=asymp.\n",
      "\n",
      "C:\\Users\\Achra\\AppData\\Local\\Temp/ipykernel_21840/1290646537.py:24: RuntimeWarning:\n",
      "\n",
      "ks_2samp: Exact calculation unsuccessful. Switching to method=asymp.\n",
      "\n",
      "C:\\Users\\Achra\\AppData\\Local\\Temp/ipykernel_21840/1290646537.py:24: RuntimeWarning:\n",
      "\n",
      "ks_2samp: Exact calculation unsuccessful. Switching to method=asymp.\n",
      "\n",
      "C:\\Users\\Achra\\AppData\\Local\\Temp/ipykernel_21840/1290646537.py:24: RuntimeWarning:\n",
      "\n",
      "ks_2samp: Exact calculation unsuccessful. Switching to method=asymp.\n",
      "\n",
      "C:\\Users\\Achra\\AppData\\Local\\Temp/ipykernel_21840/1290646537.py:24: RuntimeWarning:\n",
      "\n",
      "ks_2samp: Exact calculation unsuccessful. Switching to method=asymp.\n",
      "\n",
      "C:\\Users\\Achra\\AppData\\Local\\Temp/ipykernel_21840/1290646537.py:24: RuntimeWarning:\n",
      "\n",
      "ks_2samp: Exact calculation unsuccessful. Switching to method=asymp.\n",
      "\n",
      "C:\\Users\\Achra\\AppData\\Local\\Temp/ipykernel_21840/1290646537.py:24: RuntimeWarning:\n",
      "\n",
      "ks_2samp: Exact calculation unsuccessful. Switching to method=asymp.\n",
      "\n",
      "C:\\Users\\Achra\\AppData\\Local\\Temp/ipykernel_21840/1290646537.py:24: RuntimeWarning:\n",
      "\n",
      "ks_2samp: Exact calculation unsuccessful. Switching to method=asymp.\n",
      "\n",
      "C:\\Users\\Achra\\AppData\\Local\\Temp/ipykernel_21840/1290646537.py:24: RuntimeWarning:\n",
      "\n",
      "ks_2samp: Exact calculation unsuccessful. Switching to method=asymp.\n",
      "\n",
      "C:\\Users\\Achra\\AppData\\Local\\Temp/ipykernel_21840/1290646537.py:24: RuntimeWarning:\n",
      "\n",
      "ks_2samp: Exact calculation unsuccessful. Switching to method=asymp.\n",
      "\n",
      "C:\\Users\\Achra\\AppData\\Local\\Temp/ipykernel_21840/1290646537.py:24: RuntimeWarning:\n",
      "\n",
      "ks_2samp: Exact calculation unsuccessful. Switching to method=asymp.\n",
      "\n",
      "C:\\Users\\Achra\\AppData\\Local\\Temp/ipykernel_21840/1290646537.py:24: RuntimeWarning:\n",
      "\n",
      "ks_2samp: Exact calculation unsuccessful. Switching to method=asymp.\n",
      "\n",
      "C:\\Users\\Achra\\AppData\\Local\\Temp/ipykernel_21840/1290646537.py:24: RuntimeWarning:\n",
      "\n",
      "ks_2samp: Exact calculation unsuccessful. Switching to method=asymp.\n",
      "\n",
      "C:\\Users\\Achra\\AppData\\Local\\Temp/ipykernel_21840/1290646537.py:24: RuntimeWarning:\n",
      "\n",
      "ks_2samp: Exact calculation unsuccessful. Switching to method=asymp.\n",
      "\n",
      "C:\\Users\\Achra\\AppData\\Local\\Temp/ipykernel_21840/1290646537.py:24: RuntimeWarning:\n",
      "\n",
      "ks_2samp: Exact calculation unsuccessful. Switching to method=asymp.\n",
      "\n",
      "C:\\Users\\Achra\\AppData\\Local\\Temp/ipykernel_21840/1290646537.py:24: RuntimeWarning:\n",
      "\n",
      "ks_2samp: Exact calculation unsuccessful. Switching to method=asymp.\n",
      "\n",
      "C:\\Users\\Achra\\AppData\\Local\\Temp/ipykernel_21840/1290646537.py:24: RuntimeWarning:\n",
      "\n",
      "ks_2samp: Exact calculation unsuccessful. Switching to method=asymp.\n",
      "\n",
      "C:\\Users\\Achra\\AppData\\Local\\Temp/ipykernel_21840/1290646537.py:24: RuntimeWarning:\n",
      "\n",
      "ks_2samp: Exact calculation unsuccessful. Switching to method=asymp.\n",
      "\n",
      "C:\\Users\\Achra\\AppData\\Local\\Temp/ipykernel_21840/1290646537.py:24: RuntimeWarning:\n",
      "\n",
      "ks_2samp: Exact calculation unsuccessful. Switching to method=asymp.\n",
      "\n",
      "C:\\Users\\Achra\\AppData\\Local\\Temp/ipykernel_21840/1290646537.py:24: RuntimeWarning:\n",
      "\n",
      "ks_2samp: Exact calculation unsuccessful. Switching to method=asymp.\n",
      "\n",
      "C:\\Users\\Achra\\AppData\\Local\\Temp/ipykernel_21840/1290646537.py:24: RuntimeWarning:\n",
      "\n",
      "ks_2samp: Exact calculation unsuccessful. Switching to method=asymp.\n",
      "\n",
      "C:\\Users\\Achra\\AppData\\Local\\Temp/ipykernel_21840/1290646537.py:24: RuntimeWarning:\n",
      "\n",
      "ks_2samp: Exact calculation unsuccessful. Switching to method=asymp.\n",
      "\n",
      "C:\\Users\\Achra\\AppData\\Local\\Temp/ipykernel_21840/1290646537.py:24: RuntimeWarning:\n",
      "\n",
      "ks_2samp: Exact calculation unsuccessful. Switching to method=asymp.\n",
      "\n",
      "C:\\Users\\Achra\\AppData\\Local\\Temp/ipykernel_21840/1290646537.py:24: RuntimeWarning:\n",
      "\n",
      "ks_2samp: Exact calculation unsuccessful. Switching to method=asymp.\n",
      "\n",
      "C:\\Users\\Achra\\AppData\\Local\\Temp/ipykernel_21840/1290646537.py:24: RuntimeWarning:\n",
      "\n",
      "ks_2samp: Exact calculation unsuccessful. Switching to method=asymp.\n",
      "\n",
      "C:\\Users\\Achra\\AppData\\Local\\Temp/ipykernel_21840/1290646537.py:24: RuntimeWarning:\n",
      "\n",
      "ks_2samp: Exact calculation unsuccessful. Switching to method=asymp.\n",
      "\n",
      "C:\\Users\\Achra\\AppData\\Local\\Temp/ipykernel_21840/1290646537.py:24: RuntimeWarning:\n",
      "\n",
      "ks_2samp: Exact calculation unsuccessful. Switching to method=asymp.\n",
      "\n",
      "C:\\Users\\Achra\\AppData\\Local\\Temp/ipykernel_21840/1290646537.py:24: RuntimeWarning:\n",
      "\n",
      "ks_2samp: Exact calculation unsuccessful. Switching to method=asymp.\n",
      "\n",
      "C:\\Users\\Achra\\AppData\\Local\\Temp/ipykernel_21840/1290646537.py:24: RuntimeWarning:\n",
      "\n",
      "ks_2samp: Exact calculation unsuccessful. Switching to method=asymp.\n",
      "\n",
      "C:\\Users\\Achra\\AppData\\Local\\Temp/ipykernel_21840/1290646537.py:24: RuntimeWarning:\n",
      "\n",
      "ks_2samp: Exact calculation unsuccessful. Switching to method=asymp.\n",
      "\n",
      "C:\\Users\\Achra\\AppData\\Local\\Temp/ipykernel_21840/1290646537.py:24: RuntimeWarning:\n",
      "\n",
      "ks_2samp: Exact calculation unsuccessful. Switching to method=asymp.\n",
      "\n",
      "C:\\Users\\Achra\\AppData\\Local\\Temp/ipykernel_21840/1290646537.py:24: RuntimeWarning:\n",
      "\n",
      "ks_2samp: Exact calculation unsuccessful. Switching to method=asymp.\n",
      "\n",
      "C:\\Users\\Achra\\AppData\\Local\\Temp/ipykernel_21840/1290646537.py:24: RuntimeWarning:\n",
      "\n",
      "ks_2samp: Exact calculation unsuccessful. Switching to method=asymp.\n",
      "\n",
      "C:\\Users\\Achra\\AppData\\Local\\Temp/ipykernel_21840/1290646537.py:24: RuntimeWarning:\n",
      "\n",
      "ks_2samp: Exact calculation unsuccessful. Switching to method=asymp.\n",
      "\n",
      "C:\\Users\\Achra\\AppData\\Local\\Temp/ipykernel_21840/1290646537.py:24: RuntimeWarning:\n",
      "\n",
      "ks_2samp: Exact calculation unsuccessful. Switching to method=asymp.\n",
      "\n",
      "C:\\Users\\Achra\\AppData\\Local\\Temp/ipykernel_21840/1290646537.py:24: RuntimeWarning:\n",
      "\n",
      "ks_2samp: Exact calculation unsuccessful. Switching to method=asymp.\n",
      "\n",
      "C:\\Users\\Achra\\AppData\\Local\\Temp/ipykernel_21840/1290646537.py:24: RuntimeWarning:\n",
      "\n",
      "ks_2samp: Exact calculation unsuccessful. Switching to method=asymp.\n",
      "\n",
      "C:\\Users\\Achra\\AppData\\Local\\Temp/ipykernel_21840/1290646537.py:24: RuntimeWarning:\n",
      "\n",
      "ks_2samp: Exact calculation unsuccessful. Switching to method=asymp.\n",
      "\n",
      "C:\\Users\\Achra\\AppData\\Local\\Temp/ipykernel_21840/1290646537.py:24: RuntimeWarning:\n",
      "\n",
      "ks_2samp: Exact calculation unsuccessful. Switching to method=asymp.\n",
      "\n",
      "C:\\Users\\Achra\\AppData\\Local\\Temp/ipykernel_21840/1290646537.py:24: RuntimeWarning:\n",
      "\n",
      "ks_2samp: Exact calculation unsuccessful. Switching to method=asymp.\n",
      "\n"
     ]
    },
    {
     "name": "stdout",
     "output_type": "stream",
     "text": [
      "aroma number of nan 0\n",
      "appearance number of nan 0\n",
      "palate number of nan 0\n",
      "taste number of nan 0\n",
      "overall number of nan 0\n",
      "rating number of nan 0\n"
     ]
    },
    {
     "data": {
      "text/plain": [
       "aroma         0.676608\n",
       "appearance    0.686574\n",
       "palate        0.833130\n",
       "taste         0.680668\n",
       "overall       0.553013\n",
       "rating        0.433080\n",
       "dtype: float64"
      ]
     },
     "execution_count": 72,
     "metadata": {},
     "output_type": "execute_result"
    }
   ],
   "source": [
    "ks_test_list = do_a_test(type_test ='ks_test', n_boot=1000, size_draw=10000, df1=df_RB_US, df2=df_RB_Foreign)\n",
    "ks_test_p_val = do_a_mean_test(ks_test_list, n_boot=1000, type_test='ks_test')\n",
    "ks_test_p_val.view()"
   ]
  },
  {
   "cell_type": "code",
   "execution_count": 73,
   "metadata": {},
   "outputs": [
    {
     "name": "stdout",
     "output_type": "stream",
     "text": [
      "number of boot 0\n",
      "aroma number of nan 109\n",
      "appearance number of nan 109\n",
      "palate number of nan 109\n",
      "taste number of nan 109\n",
      "overall number of nan 109\n",
      "rating number of nan 109\n"
     ]
    },
    {
     "data": {
      "text/plain": [
       "aroma         0.492160\n",
       "appearance    0.343942\n",
       "palate        0.495256\n",
       "taste         0.457069\n",
       "overall       0.421073\n",
       "rating        0.427708\n",
       "dtype: float64"
      ]
     },
     "execution_count": 73,
     "metadata": {},
     "output_type": "execute_result"
    }
   ],
   "source": [
    "wilcoxon_test_list = do_a_test(type_test ='Wicoxon_test', n_boot=1000, size_draw=10000, df1=df_RB_US, df2=df_RB_Foreign)\n",
    "wilcoxon_test_p_val = do_a_mean_test(wilcoxon_test_list, n_boot=1000, type_test='Wicoxon_test')\n",
    "wilcoxon_test_p_val.view()\n"
   ]
  },
  {
   "attachments": {},
   "cell_type": "markdown",
   "metadata": {},
   "source": [
    "It seems that whatever the test chosen, the p_value is greater than 0.05. We cannot refute the null hypothesis, and therefore these two samples could come from the same probability law. Americans do not give better ratings to their local beers overall.\n"
   ]
  },
  {
   "cell_type": "code",
   "execution_count": null,
   "metadata": {},
   "outputs": [],
   "source": []
  },
  {
   "cell_type": "markdown",
   "metadata": {},
   "source": []
  }
 ],
 "metadata": {
  "kernelspec": {
   "display_name": "Python 3.9.2 64-bit",
   "language": "python",
   "name": "python3"
  },
  "language_info": {
   "codemirror_mode": {
    "name": "ipython",
    "version": 3
   },
   "file_extension": ".py",
   "mimetype": "text/x-python",
   "name": "python",
   "nbconvert_exporter": "python",
   "pygments_lexer": "ipython3",
   "version": "3.9.2"
  },
  "vscode": {
   "interpreter": {
    "hash": "25163beb79e3f635dff1ff2fdbc1d86bb1b6b95364fa865aa09559f0e73c3073"
   }
  }
 },
 "nbformat": 4,
 "nbformat_minor": 2
}
